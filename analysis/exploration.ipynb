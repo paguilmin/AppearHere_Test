{
 "cells": [
  {
   "cell_type": "markdown",
   "metadata": {},
   "source": [
    "# Appear Here Test\n",
    "\n",
    "Pauline Guilmin\n",
    "\n",
    "January 2019"
   ]
  },
  {
   "cell_type": "markdown",
   "metadata": {},
   "source": [
    "# import libraries"
   ]
  },
  {
   "cell_type": "code",
   "execution_count": 5,
   "metadata": {},
   "outputs": [],
   "source": [
    "import numpy as np \n",
    "import pandas as pd\n",
    "pd.options.display.max_colwidth = 500\n",
    "import matplotlib.pyplot as plt\n",
    "import seaborn as sns"
   ]
  },
  {
   "cell_type": "code",
   "execution_count": 6,
   "metadata": {},
   "outputs": [
    {
     "name": "stdout",
     "output_type": "stream",
     "text": [
      "/Users/paguilmin/Documents/AppearHere_Test/analysis\n"
     ]
    }
   ],
   "source": [
    "!pwd"
   ]
  },
  {
   "cell_type": "markdown",
   "metadata": {},
   "source": [
    "# Charge data"
   ]
  },
  {
   "cell_type": "code",
   "execution_count": 7,
   "metadata": {},
   "outputs": [],
   "source": [
    "path = '../data/'\n",
    "ideas = pd.read_csv(path+'ideas.csv',sep=',')\n",
    "transitions = pd.read_csv(path+'transitions.csv',sep=',')"
   ]
  },
  {
   "cell_type": "markdown",
   "metadata": {},
   "source": [
    "## cleaning"
   ]
  },
  {
   "cell_type": "code",
   "execution_count": 8,
   "metadata": {},
   "outputs": [],
   "source": [
    "ideas = ideas.drop(['Unnamed: 0'],axis=1)\n",
    "transitions.columns\n",
    "transitions = transitions.drop(['Unnamed: 0'],axis=1)"
   ]
  },
  {
   "cell_type": "code",
   "execution_count": 9,
   "metadata": {},
   "outputs": [],
   "source": [
    "# some dates are not rigth written : 0019 instead of 2019 and 0020 instead of 2020\n",
    "transitions.loc[transitions['start_on'].str.startswith('2')==False,'start_on'] = \\\n",
    "transitions.loc[transitions['start_on'].str.startswith('2')==False,'start_on'].str.replace('0019','2019')\n",
    "transitions.loc[transitions['end_on'].str.startswith('2')==False,'end_on'] = \\\n",
    "transitions.loc[transitions['end_on'].str.startswith('2')==False,'end_on'].str.replace('0020','2020')\n",
    "transitions.loc[transitions['end_on'].str.startswith('2')==False,'end_on'] = \\\n",
    "transitions.loc[transitions['end_on'].str.startswith('2')==False,'end_on'].str.replace('0019','2019')"
   ]
  },
  {
   "cell_type": "markdown",
   "metadata": {},
   "source": [
    "## datetimes"
   ]
  },
  {
   "cell_type": "code",
   "execution_count": 10,
   "metadata": {},
   "outputs": [],
   "source": [
    "transitions.loc[:,'transition_ts'] = pd.to_datetime(transitions.loc[:,'transition_ts'])\n",
    "transitions.loc[:,'start_on'] = pd.to_datetime(transitions.loc[:,'start_on'])\n",
    "transitions.loc[:,'end_on'] = pd.to_datetime(transitions.loc[:,'end_on'])\n",
    "\n",
    "ideas.loc[:,'created_at'] = pd.to_datetime(ideas.loc[:,'created_at'])"
   ]
  },
  {
   "cell_type": "markdown",
   "metadata": {},
   "source": [
    "## sort"
   ]
  },
  {
   "cell_type": "code",
   "execution_count": 11,
   "metadata": {},
   "outputs": [],
   "source": [
    "transitions = transitions.sort_values(['idea_id','space_id','transition_ts'])"
   ]
  },
  {
   "cell_type": "markdown",
   "metadata": {},
   "source": [
    "# useful fonctions"
   ]
  },
  {
   "cell_type": "code",
   "execution_count": 12,
   "metadata": {},
   "outputs": [],
   "source": [
    "def top_champ(df,feature,number) :\n",
    "    df_ok = df.copy()\n",
    "    df_ok[feature] = df_ok[feature].fillna('unknown')\n",
    "    top_10 = df_ok.groupby(feature).agg('size').sort_values(ascending=False).to_frame().reset_index()\n",
    "    top_10.columns=[str(x) for x in feature]+['nb_records']\n",
    "    top_10['percentage']=(100.* (top_10['nb_records'] / top_10['nb_records'].sum())).round(2)\n",
    "    print('%0.0f distinct values for the feature %s' %(top_10.shape[0],feature))\n",
    "    return top_10.head(number)"
   ]
  },
  {
   "cell_type": "markdown",
   "metadata": {},
   "source": [
    "# ideas exploration"
   ]
  },
  {
   "cell_type": "code",
   "execution_count": 13,
   "metadata": {},
   "outputs": [
    {
     "name": "stdout",
     "output_type": "stream",
     "text": [
      "ideas csv contains 4000 rows and 3 columns\n"
     ]
    },
    {
     "data": {
      "text/plain": [
       "created_at    4000\n",
       "category         6\n",
       "idea_id       4000\n",
       "dtype: int64"
      ]
     },
     "execution_count": 13,
     "metadata": {},
     "output_type": "execute_result"
    }
   ],
   "source": [
    "print('ideas csv contains %0.0f rows and %0.0f columns' %(ideas.shape[0],ideas.shape[1]))\n",
    "ideas.nunique()"
   ]
  },
  {
   "cell_type": "code",
   "execution_count": 14,
   "metadata": {},
   "outputs": [
    {
     "name": "stdout",
     "output_type": "stream",
     "text": [
      "6 distinct values for the feature ['category']\n"
     ]
    },
    {
     "data": {
      "text/html": [
       "<div>\n",
       "<style scoped>\n",
       "    .dataframe tbody tr th:only-of-type {\n",
       "        vertical-align: middle;\n",
       "    }\n",
       "\n",
       "    .dataframe tbody tr th {\n",
       "        vertical-align: top;\n",
       "    }\n",
       "\n",
       "    .dataframe thead th {\n",
       "        text-align: right;\n",
       "    }\n",
       "</style>\n",
       "<table border=\"1\" class=\"dataframe\">\n",
       "  <thead>\n",
       "    <tr style=\"text-align: right;\">\n",
       "      <th></th>\n",
       "      <th>category</th>\n",
       "      <th>nb_records</th>\n",
       "      <th>percentage</th>\n",
       "    </tr>\n",
       "  </thead>\n",
       "  <tbody>\n",
       "    <tr>\n",
       "      <th>0</th>\n",
       "      <td>popup_shop</td>\n",
       "      <td>2174</td>\n",
       "      <td>54.35</td>\n",
       "    </tr>\n",
       "    <tr>\n",
       "      <th>1</th>\n",
       "      <td>private_event</td>\n",
       "      <td>546</td>\n",
       "      <td>13.65</td>\n",
       "    </tr>\n",
       "    <tr>\n",
       "      <th>2</th>\n",
       "      <td>popup_bar</td>\n",
       "      <td>533</td>\n",
       "      <td>13.32</td>\n",
       "    </tr>\n",
       "    <tr>\n",
       "      <th>3</th>\n",
       "      <td>unique</td>\n",
       "      <td>398</td>\n",
       "      <td>9.95</td>\n",
       "    </tr>\n",
       "    <tr>\n",
       "      <th>4</th>\n",
       "      <td>gallery</td>\n",
       "      <td>282</td>\n",
       "      <td>7.05</td>\n",
       "    </tr>\n",
       "    <tr>\n",
       "      <th>5</th>\n",
       "      <td>sample_sale</td>\n",
       "      <td>67</td>\n",
       "      <td>1.68</td>\n",
       "    </tr>\n",
       "  </tbody>\n",
       "</table>\n",
       "</div>"
      ],
      "text/plain": [
       "        category  nb_records  percentage\n",
       "0     popup_shop        2174       54.35\n",
       "1  private_event         546       13.65\n",
       "2      popup_bar         533       13.32\n",
       "3         unique         398        9.95\n",
       "4        gallery         282        7.05\n",
       "5    sample_sale          67        1.68"
      ]
     },
     "execution_count": 14,
     "metadata": {},
     "output_type": "execute_result"
    }
   ],
   "source": [
    "top_champ(ideas,['category'],10)"
   ]
  },
  {
   "cell_type": "code",
   "execution_count": 15,
   "metadata": {},
   "outputs": [
    {
     "name": "stdout",
     "output_type": "stream",
     "text": [
      "Ideas have been created from 2018-01-01 17:01:01.489000 to 2019-01-21 10:19:35.205000\n"
     ]
    }
   ],
   "source": [
    "min_created = min(ideas['created_at'])\n",
    "max_created = max(ideas['created_at'])\n",
    "print('Ideas have been created from %s to %s' %(min_created, max_created))"
   ]
  },
  {
   "cell_type": "markdown",
   "metadata": {},
   "source": [
    "# transitions exploration"
   ]
  },
  {
   "cell_type": "code",
   "execution_count": 16,
   "metadata": {},
   "outputs": [
    {
     "name": "stdout",
     "output_type": "stream",
     "text": [
      "transitions csv contains 21062 rows and 14 columns\n"
     ]
    },
    {
     "data": {
      "text/plain": [
       "transition_ts         21062\n",
       "category                  6\n",
       "idea_id                2677\n",
       "booking_request_id     9942\n",
       "to_state                  4\n",
       "space_id               2065\n",
       "country                   3\n",
       "city                    110\n",
       "portfolio_type            9\n",
       "floor_size              548\n",
       "floor_size_unit           2\n",
       "start_on                503\n",
       "end_on                  618\n",
       "price                  3593\n",
       "dtype: int64"
      ]
     },
     "execution_count": 16,
     "metadata": {},
     "output_type": "execute_result"
    }
   ],
   "source": [
    "print('transitions csv contains %0.0f rows and %0.0f columns' %(transitions.shape[0],transitions.shape[1]))\n",
    "transitions.nunique()"
   ]
  },
  {
   "cell_type": "code",
   "execution_count": 17,
   "metadata": {},
   "outputs": [],
   "source": [
    "transitions['to_state_bf']= transitions['to_state'].shift(1)\n",
    "transitions['to_state_af']= transitions['to_state'].shift(-1)\n",
    "transitions['time_booked'] = transitions.loc[:,'end_on']- transitions.loc[:,'start_on']\n",
    "transitions.loc[:,'time_booked'] = transitions.loc[:,'time_booked']/ np.timedelta64(1, 'D')"
   ]
  },
  {
   "cell_type": "code",
   "execution_count": 18,
   "metadata": {},
   "outputs": [],
   "source": [
    "id_bk_notime = transitions.loc[transitions['time_booked']==0,'booking_request_id'].unique()"
   ]
  },
  {
   "cell_type": "code",
   "execution_count": 19,
   "metadata": {},
   "outputs": [
    {
     "name": "stdout",
     "output_type": "stream",
     "text": [
      "Above 4000 ideas 328 ideas have been booked at least one time\n"
     ]
    }
   ],
   "source": [
    "states_ideas = transitions.groupby(['idea_id','to_state']).agg('size').to_frame().reset_index()\n",
    "idea_id_booked = states_ideas.loc[states_ideas['to_state']=='booked','idea_id'].unique()\n",
    "print('Above 4000 ideas %0.0f ideas have been booked at least one time' %len(idea_id_booked))\n",
    "#states_ideas[states_ideas['idea_id'].isin(idea_id_booked)]\n"
   ]
  },
  {
   "cell_type": "code",
   "execution_count": 20,
   "metadata": {},
   "outputs": [
    {
     "name": "stdout",
     "output_type": "stream",
     "text": [
      "4 distinct values for the feature ['to_state_af']\n"
     ]
    },
    {
     "data": {
      "text/html": [
       "<div>\n",
       "<style scoped>\n",
       "    .dataframe tbody tr th:only-of-type {\n",
       "        vertical-align: middle;\n",
       "    }\n",
       "\n",
       "    .dataframe tbody tr th {\n",
       "        vertical-align: top;\n",
       "    }\n",
       "\n",
       "    .dataframe thead th {\n",
       "        text-align: right;\n",
       "    }\n",
       "</style>\n",
       "<table border=\"1\" class=\"dataframe\">\n",
       "  <thead>\n",
       "    <tr style=\"text-align: right;\">\n",
       "      <th></th>\n",
       "      <th>to_state_af</th>\n",
       "      <th>nb_records</th>\n",
       "      <th>percentage</th>\n",
       "    </tr>\n",
       "  </thead>\n",
       "  <tbody>\n",
       "    <tr>\n",
       "      <th>0</th>\n",
       "      <td>declined</td>\n",
       "      <td>2125</td>\n",
       "      <td>78.88</td>\n",
       "    </tr>\n",
       "    <tr>\n",
       "      <th>1</th>\n",
       "      <td>booked</td>\n",
       "      <td>388</td>\n",
       "      <td>14.40</td>\n",
       "    </tr>\n",
       "    <tr>\n",
       "      <th>2</th>\n",
       "      <td>submitted</td>\n",
       "      <td>117</td>\n",
       "      <td>4.34</td>\n",
       "    </tr>\n",
       "    <tr>\n",
       "      <th>3</th>\n",
       "      <td>matched</td>\n",
       "      <td>64</td>\n",
       "      <td>2.38</td>\n",
       "    </tr>\n",
       "  </tbody>\n",
       "</table>\n",
       "</div>"
      ],
      "text/plain": [
       "  to_state_af  nb_records  percentage\n",
       "0    declined        2125       78.88\n",
       "1      booked         388       14.40\n",
       "2   submitted         117        4.34\n",
       "3     matched          64        2.38"
      ]
     },
     "execution_count": 20,
     "metadata": {},
     "output_type": "execute_result"
    }
   ],
   "source": [
    "top_champ(transitions[transitions['to_state']=='matched'],['to_state_af'],10)"
   ]
  },
  {
   "cell_type": "code",
   "execution_count": 21,
   "metadata": {},
   "outputs": [
    {
     "data": {
      "text/plain": [
       "array([ 105,  230,  245,  323,  430,  449,  451,  834,  902,  917, 1094,\n",
       "       1154, 1335, 1535, 1692, 1698, 1794, 1919, 2161, 2214, 2789, 2846,\n",
       "       3034, 3183, 3329, 3510, 3791, 3861, 3896, 3926])"
      ]
     },
     "execution_count": 21,
     "metadata": {},
     "output_type": "execute_result"
    }
   ],
   "source": [
    "transitions.loc[(transitions['to_state']=='booked') &\n",
    "           (transitions['to_state_bf']=='declined'),'idea_id'].unique()"
   ]
  },
  {
   "cell_type": "code",
   "execution_count": 22,
   "metadata": {},
   "outputs": [],
   "source": [
    "#transitions[transitions['space_id']==6735]\n",
    "#transitions[transitions['idea_id']==105]"
   ]
  },
  {
   "cell_type": "markdown",
   "metadata": {},
   "source": [
    "## floor size"
   ]
  },
  {
   "cell_type": "code",
   "execution_count": 23,
   "metadata": {},
   "outputs": [
    {
     "name": "stdout",
     "output_type": "stream",
     "text": [
      "Floor size unit : 0\n",
      "count    15269.000000\n",
      "mean      1477.198572\n",
      "std       2955.878932\n",
      "min          1.000000\n",
      "25%        300.000000\n",
      "50%        750.000000\n",
      "75%       1700.000000\n",
      "max      50000.000000\n",
      "Name: floor_size, dtype: float64\n",
      "Floor size unit : 1\n",
      "\n",
      "count    5793.000000\n",
      "mean      109.032971\n",
      "std       218.851472\n",
      "min         2.000000\n",
      "25%        33.000000\n",
      "50%        55.000000\n",
      "75%       110.000000\n",
      "max      4700.000000\n",
      "Name: floor_size, dtype: float64\n",
      "\n",
      "Boxplot depending floor size unit\n",
      "\n",
      "It seems to be 0 for sq feets and 1 for sq meters as  : 1 feet^2 = 0.09 m^2\n"
     ]
    },
    {
     "data": {
      "image/png": "[encoded data removed]",
      "text/plain": [
       "<Figure size 432x288 with 1 Axes>"
      ]
     },
     "metadata": {
      "needs_background": "light"
     },
     "output_type": "display_data"
    }
   ],
   "source": [
    "# Let's check the difference between floor size unit 0 and 1 \n",
    "print('Floor size unit : 0')\n",
    "print(transitions.loc[transitions['floor_size_unit']==0,'floor_size'].describe())\n",
    "print('Floor size unit : 1\\n')\n",
    "print(transitions.loc[transitions['floor_size_unit']==1,'floor_size'].describe())\n",
    "\n",
    "print('\\nBoxplot depending floor size unit')\n",
    "sns.boxplot(x=transitions.floor_size, y=transitions.floor_size_unit,orient=\"h\")\n",
    "print('\\nIt seems to be 0 for sq feets and 1 for sq meters as  : 1 feet^2 = 0.09 m^2')"
   ]
  },
  {
   "cell_type": "code",
   "execution_count": 24,
   "metadata": {},
   "outputs": [
    {
     "data": {
      "text/plain": [
       "country  floor_size_unit\n",
       "FR       1                   5787\n",
       "GB       0                  11664\n",
       "         1                      6\n",
       "US       0                   3605\n",
       "dtype: int64"
      ]
     },
     "execution_count": 24,
     "metadata": {},
     "output_type": "execute_result"
    }
   ],
   "source": [
    "#verification ok \n",
    "transitions.groupby(['country','floor_size_unit']).agg('size')"
   ]
  },
  {
   "cell_type": "code",
   "execution_count": 25,
   "metadata": {},
   "outputs": [
    {
     "name": "stdout",
     "output_type": "stream",
     "text": [
      "count    21062.000000\n",
      "mean      1100.891321\n",
      "std       2592.375283\n",
      "min          1.000000\n",
      "25%         65.000000\n",
      "50%        400.000000\n",
      "75%       1175.000000\n",
      "max      50000.000000\n",
      "Name: floor_size_m, dtype: float64\n",
      "count    21062.000000\n",
      "mean       126.362928\n",
      "std        254.152606\n",
      "min          0.000000\n",
      "25%         29.000000\n",
      "50%         63.000000\n",
      "75%        140.000000\n",
      "max       4700.000000\n",
      "Name: floor_size_m, dtype: float64\n"
     ]
    }
   ],
   "source": [
    "# put all in sq meters \n",
    "transitions.loc[:,'floor_size_m']=transitions.loc[:,'floor_size']\n",
    "print(transitions.loc[:,'floor_size_m'].describe())\n",
    "transitions.loc[transitions['floor_size_unit']==0,'floor_size_m']=round(transitions.loc[:,'floor_size_m']*0.09)\n",
    "print(transitions.loc[:,'floor_size_m'].describe())\n",
    "#anomaly sq meters below 1 \n",
    "transitions = transitions.loc[transitions['floor_size_m']>1]"
   ]
  },
  {
   "cell_type": "code",
   "execution_count": 26,
   "metadata": {},
   "outputs": [],
   "source": [
    "transitions.loc[transitions['floor_size_m']>   200,'floor_size_cat'] = 'sup_200'\n",
    "transitions.loc[transitions['floor_size_m']<=  200,'floor_size_cat'] = '100_200'\n",
    "transitions.loc[transitions['floor_size_m']<   100,'floor_size_cat'] = '80_100'\n",
    "transitions.loc[transitions['floor_size_m']<    80,'floor_size_cat'] = '60_80'\n",
    "transitions.loc[transitions['floor_size_m']<    60,'floor_size_cat'] = '40_60'\n",
    "transitions.loc[transitions['floor_size_m']<    40,'floor_size_cat'] = '20_40'\n",
    "transitions.loc[transitions['floor_size_m']<    20,'floor_size_cat'] = 'inf_20'"
   ]
  },
  {
   "cell_type": "code",
   "execution_count": 27,
   "metadata": {},
   "outputs": [
    {
     "name": "stdout",
     "output_type": "stream",
     "text": [
      "7 distinct values for the feature ['floor_size_cat']\n"
     ]
    },
    {
     "data": {
      "text/html": [
       "<div>\n",
       "<style scoped>\n",
       "    .dataframe tbody tr th:only-of-type {\n",
       "        vertical-align: middle;\n",
       "    }\n",
       "\n",
       "    .dataframe tbody tr th {\n",
       "        vertical-align: top;\n",
       "    }\n",
       "\n",
       "    .dataframe thead th {\n",
       "        text-align: right;\n",
       "    }\n",
       "</style>\n",
       "<table border=\"1\" class=\"dataframe\">\n",
       "  <thead>\n",
       "    <tr style=\"text-align: right;\">\n",
       "      <th></th>\n",
       "      <th>floor_size_cat</th>\n",
       "      <th>nb_records</th>\n",
       "      <th>percentage</th>\n",
       "    </tr>\n",
       "  </thead>\n",
       "  <tbody>\n",
       "    <tr>\n",
       "      <th>0</th>\n",
       "      <td>100_200</td>\n",
       "      <td>3711</td>\n",
       "      <td>18.11</td>\n",
       "    </tr>\n",
       "    <tr>\n",
       "      <th>1</th>\n",
       "      <td>20_40</td>\n",
       "      <td>3659</td>\n",
       "      <td>17.86</td>\n",
       "    </tr>\n",
       "    <tr>\n",
       "      <th>2</th>\n",
       "      <td>sup_200</td>\n",
       "      <td>3256</td>\n",
       "      <td>15.89</td>\n",
       "    </tr>\n",
       "    <tr>\n",
       "      <th>3</th>\n",
       "      <td>40_60</td>\n",
       "      <td>3049</td>\n",
       "      <td>14.88</td>\n",
       "    </tr>\n",
       "    <tr>\n",
       "      <th>4</th>\n",
       "      <td>inf_20</td>\n",
       "      <td>2814</td>\n",
       "      <td>13.73</td>\n",
       "    </tr>\n",
       "    <tr>\n",
       "      <th>5</th>\n",
       "      <td>60_80</td>\n",
       "      <td>2156</td>\n",
       "      <td>10.52</td>\n",
       "    </tr>\n",
       "    <tr>\n",
       "      <th>6</th>\n",
       "      <td>80_100</td>\n",
       "      <td>1847</td>\n",
       "      <td>9.01</td>\n",
       "    </tr>\n",
       "  </tbody>\n",
       "</table>\n",
       "</div>"
      ],
      "text/plain": [
       "  floor_size_cat  nb_records  percentage\n",
       "0        100_200        3711       18.11\n",
       "1          20_40        3659       17.86\n",
       "2        sup_200        3256       15.89\n",
       "3          40_60        3049       14.88\n",
       "4         inf_20        2814       13.73\n",
       "5          60_80        2156       10.52\n",
       "6         80_100        1847        9.01"
      ]
     },
     "execution_count": 27,
     "metadata": {},
     "output_type": "execute_result"
    }
   ],
   "source": [
    "top_champ(transitions,['floor_size_cat'],10)"
   ]
  },
  {
   "cell_type": "markdown",
   "metadata": {},
   "source": [
    "## prices"
   ]
  },
  {
   "cell_type": "code",
   "execution_count": 28,
   "metadata": {},
   "outputs": [
    {
     "name": "stdout",
     "output_type": "stream",
     "text": [
      "different prices for each space which means : each price depends also from other parameters such as       the time booked and floor size\n"
     ]
    },
    {
     "name": "stderr",
     "output_type": "stream",
     "text": [
      "/anaconda/envs/ah_test_env/lib/python3.6/site-packages/scipy/stats/stats.py:1713: FutureWarning: Using a non-tuple sequence for multidimensional indexing is deprecated; use `arr[tuple(seq)]` instead of `arr[seq]`. In the future this will be interpreted as an array index, `arr[np.array(seq)]`, which will result either in an error or a different result.\n",
      "  return np.add.reduce(sorted[indexer] * weights, axis=axis) / sumval\n"
     ]
    },
    {
     "data": {
      "text/plain": [
       "<matplotlib.axes._subplots.AxesSubplot at 0x1a222cf828>"
      ]
     },
     "execution_count": 28,
     "metadata": {},
     "output_type": "execute_result"
    },
    {
     "data": {
      "image/png": "[encoded data removed]",
      "text/plain": [
       "<Figure size 432x288 with 2 Axes>"
      ]
     },
     "metadata": {
      "needs_background": "light"
     },
     "output_type": "display_data"
    }
   ],
   "source": [
    "transitions.groupby(['space_id','price']).agg('size').to_frame().reset_index()\n",
    "print('different prices for each space which means : each price depends also from other parameters such as \\\n",
    "      the time booked and floor size')\n",
    "f, (ax1, ax2) = plt.subplots(2, 1)\n",
    "sns.regplot(x='time_booked', y=\"price\", data=transitions,ax=ax1)\n",
    "sns.regplot(x='floor_size', y=\"price\", data=transitions,ax=ax2)"
   ]
  },
  {
   "cell_type": "code",
   "execution_count": 29,
   "metadata": {},
   "outputs": [
    {
     "name": "stdout",
     "output_type": "stream",
     "text": [
      "count    2.049200e+04\n",
      "mean     1.858296e+06\n",
      "std      1.058641e+07\n",
      "min      0.000000e+00\n",
      "25%      9.000000e+04\n",
      "50%      2.800000e+05\n",
      "75%      9.121248e+05\n",
      "max      4.386000e+08\n",
      "Name: price, dtype: float64\n"
     ]
    },
    {
     "data": {
      "image/png": "[encoded data removed]",
      "text/plain": [
       "<Figure size 432x288 with 1 Axes>"
      ]
     },
     "metadata": {
      "needs_background": "light"
     },
     "output_type": "display_data"
    }
   ],
   "source": [
    "# Let's check the difference between floor size unit 0 and 1 \n",
    "print(transitions.price.describe())\n",
    "sns.boxplot(x=transitions.price)\n",
    "# It seems to be 0 for sq meters and 1 for sq feets as  : 1 feet^2 = 0.09 m^2\n",
    "#anomaly price equals 0\n",
    "transitions = transitions[transitions['price']!=0]\n",
    "transitions.loc[transitions['price']>   5000000,'price_category'] = 'sup_5millions'\n",
    "transitions.loc[transitions['price']<=  5000000,'price_category'] = '1_5millions'\n",
    "transitions.loc[transitions['price']<   1000000,'price_category'] = '500k_1millions'\n",
    "transitions.loc[transitions['price']<    500000,'price_category'] = '200k_500k'\n",
    "transitions.loc[transitions['price']<    300000,'price_category'] = '100k_200k'\n",
    "transitions.loc[transitions['price']<    100000,'price_category'] = '50k_100k'\n",
    "transitions.loc[transitions['price']<     50000,'price_category'] = '10k_50k'\n",
    "transitions.loc[transitions['price']<     10000,'price_category'] = 'inf_10k'"
   ]
  },
  {
   "cell_type": "code",
   "execution_count": 30,
   "metadata": {},
   "outputs": [
    {
     "name": "stdout",
     "output_type": "stream",
     "text": [
      "8 distinct values for the feature ['price_category']\n"
     ]
    },
    {
     "data": {
      "text/html": [
       "<div>\n",
       "<style scoped>\n",
       "    .dataframe tbody tr th:only-of-type {\n",
       "        vertical-align: middle;\n",
       "    }\n",
       "\n",
       "    .dataframe tbody tr th {\n",
       "        vertical-align: top;\n",
       "    }\n",
       "\n",
       "    .dataframe thead th {\n",
       "        text-align: right;\n",
       "    }\n",
       "</style>\n",
       "<table border=\"1\" class=\"dataframe\">\n",
       "  <thead>\n",
       "    <tr style=\"text-align: right;\">\n",
       "      <th></th>\n",
       "      <th>price_category</th>\n",
       "      <th>nb_records</th>\n",
       "      <th>percentage</th>\n",
       "    </tr>\n",
       "  </thead>\n",
       "  <tbody>\n",
       "    <tr>\n",
       "      <th>0</th>\n",
       "      <td>100k_200k</td>\n",
       "      <td>5085</td>\n",
       "      <td>24.84</td>\n",
       "    </tr>\n",
       "    <tr>\n",
       "      <th>1</th>\n",
       "      <td>1_5millions</td>\n",
       "      <td>3685</td>\n",
       "      <td>18.00</td>\n",
       "    </tr>\n",
       "    <tr>\n",
       "      <th>2</th>\n",
       "      <td>500k_1millions</td>\n",
       "      <td>2674</td>\n",
       "      <td>13.06</td>\n",
       "    </tr>\n",
       "    <tr>\n",
       "      <th>3</th>\n",
       "      <td>10k_50k</td>\n",
       "      <td>2651</td>\n",
       "      <td>12.95</td>\n",
       "    </tr>\n",
       "    <tr>\n",
       "      <th>4</th>\n",
       "      <td>200k_500k</td>\n",
       "      <td>2365</td>\n",
       "      <td>11.55</td>\n",
       "    </tr>\n",
       "    <tr>\n",
       "      <th>5</th>\n",
       "      <td>50k_100k</td>\n",
       "      <td>2253</td>\n",
       "      <td>11.00</td>\n",
       "    </tr>\n",
       "    <tr>\n",
       "      <th>6</th>\n",
       "      <td>sup_5millions</td>\n",
       "      <td>1230</td>\n",
       "      <td>6.01</td>\n",
       "    </tr>\n",
       "    <tr>\n",
       "      <th>7</th>\n",
       "      <td>inf_10k</td>\n",
       "      <td>532</td>\n",
       "      <td>2.60</td>\n",
       "    </tr>\n",
       "  </tbody>\n",
       "</table>\n",
       "</div>"
      ],
      "text/plain": [
       "   price_category  nb_records  percentage\n",
       "0       100k_200k        5085       24.84\n",
       "1     1_5millions        3685       18.00\n",
       "2  500k_1millions        2674       13.06\n",
       "3         10k_50k        2651       12.95\n",
       "4       200k_500k        2365       11.55\n",
       "5        50k_100k        2253       11.00\n",
       "6   sup_5millions        1230        6.01\n",
       "7         inf_10k         532        2.60"
      ]
     },
     "execution_count": 30,
     "metadata": {},
     "output_type": "execute_result"
    }
   ],
   "source": [
    "top_champ(transitions,['price_category'],10)"
   ]
  },
  {
   "cell_type": "markdown",
   "metadata": {},
   "source": [
    "## city"
   ]
  },
  {
   "cell_type": "code",
   "execution_count": 31,
   "metadata": {},
   "outputs": [],
   "source": [
    "import re\n",
    "transitions.loc[:,'city_ok'] = transitions.loc[:,'city']\\\n",
    ".apply(lambda x : re.sub(\"\\W\", \" \",x))"
   ]
  },
  {
   "cell_type": "code",
   "execution_count": 32,
   "metadata": {},
   "outputs": [],
   "source": [
    "transitions.loc[:,'city_ok'] = transitions.loc[:,'city_ok'].str.lower().str.strip()\n",
    "\n",
    "transitions.loc[transitions['city_ok']\\\n",
    "               .isin(['new york','nyc','new york city']),'city_ok']\\\n",
    "                     = 'new york'\n",
    "transitions.loc[transitions['city_ok']\\\n",
    "               .str.startswith('paris'),'city_ok']\\\n",
    "                     = 'paris'"
   ]
  },
  {
   "cell_type": "code",
   "execution_count": 33,
   "metadata": {},
   "outputs": [],
   "source": [
    "transitions.loc[:,'capitale']= 'no'\n",
    "transitions.loc[transitions['city_ok']\\\n",
    "               .isin(['paris','new york','london']),'capitale']\\\n",
    "                     = 'yes'"
   ]
  },
  {
   "cell_type": "code",
   "execution_count": 34,
   "metadata": {},
   "outputs": [
    {
     "name": "stdout",
     "output_type": "stream",
     "text": [
      "3 distinct values for the feature ['country']\n"
     ]
    },
    {
     "data": {
      "text/html": [
       "<div>\n",
       "<style scoped>\n",
       "    .dataframe tbody tr th:only-of-type {\n",
       "        vertical-align: middle;\n",
       "    }\n",
       "\n",
       "    .dataframe tbody tr th {\n",
       "        vertical-align: top;\n",
       "    }\n",
       "\n",
       "    .dataframe thead th {\n",
       "        text-align: right;\n",
       "    }\n",
       "</style>\n",
       "<table border=\"1\" class=\"dataframe\">\n",
       "  <thead>\n",
       "    <tr style=\"text-align: right;\">\n",
       "      <th></th>\n",
       "      <th>country</th>\n",
       "      <th>nb_records</th>\n",
       "      <th>percentage</th>\n",
       "    </tr>\n",
       "  </thead>\n",
       "  <tbody>\n",
       "    <tr>\n",
       "      <th>0</th>\n",
       "      <td>GB</td>\n",
       "      <td>11085</td>\n",
       "      <td>54.14</td>\n",
       "    </tr>\n",
       "    <tr>\n",
       "      <th>1</th>\n",
       "      <td>FR</td>\n",
       "      <td>5787</td>\n",
       "      <td>28.26</td>\n",
       "    </tr>\n",
       "    <tr>\n",
       "      <th>2</th>\n",
       "      <td>US</td>\n",
       "      <td>3603</td>\n",
       "      <td>17.60</td>\n",
       "    </tr>\n",
       "  </tbody>\n",
       "</table>\n",
       "</div>"
      ],
      "text/plain": [
       "  country  nb_records  percentage\n",
       "0      GB       11085       54.14\n",
       "1      FR        5787       28.26\n",
       "2      US        3603       17.60"
      ]
     },
     "execution_count": 34,
     "metadata": {},
     "output_type": "execute_result"
    }
   ],
   "source": [
    "top_champ(transitions,['country'],100)"
   ]
  },
  {
   "cell_type": "markdown",
   "metadata": {},
   "source": [
    "# total exploration"
   ]
  },
  {
   "cell_type": "code",
   "execution_count": 35,
   "metadata": {},
   "outputs": [],
   "source": [
    "total = pd.merge(ideas, transitions, how='left', left_on='idea_id',right_on='idea_id')"
   ]
  },
  {
   "cell_type": "code",
   "execution_count": 36,
   "metadata": {},
   "outputs": [
    {
     "name": "stdout",
     "output_type": "stream",
     "text": [
      "4 distinct values for the feature ['to_state']\n"
     ]
    },
    {
     "data": {
      "text/html": [
       "<div>\n",
       "<style scoped>\n",
       "    .dataframe tbody tr th:only-of-type {\n",
       "        vertical-align: middle;\n",
       "    }\n",
       "\n",
       "    .dataframe tbody tr th {\n",
       "        vertical-align: top;\n",
       "    }\n",
       "\n",
       "    .dataframe thead th {\n",
       "        text-align: right;\n",
       "    }\n",
       "</style>\n",
       "<table border=\"1\" class=\"dataframe\">\n",
       "  <thead>\n",
       "    <tr style=\"text-align: right;\">\n",
       "      <th></th>\n",
       "      <th>to_state</th>\n",
       "      <th>nb_records</th>\n",
       "      <th>percentage</th>\n",
       "    </tr>\n",
       "  </thead>\n",
       "  <tbody>\n",
       "    <tr>\n",
       "      <th>0</th>\n",
       "      <td>submitted</td>\n",
       "      <td>2324</td>\n",
       "      <td>58.10</td>\n",
       "    </tr>\n",
       "    <tr>\n",
       "      <th>1</th>\n",
       "      <td>unknown</td>\n",
       "      <td>1379</td>\n",
       "      <td>34.48</td>\n",
       "    </tr>\n",
       "    <tr>\n",
       "      <th>2</th>\n",
       "      <td>declined</td>\n",
       "      <td>296</td>\n",
       "      <td>7.40</td>\n",
       "    </tr>\n",
       "    <tr>\n",
       "      <th>3</th>\n",
       "      <td>booked</td>\n",
       "      <td>1</td>\n",
       "      <td>0.02</td>\n",
       "    </tr>\n",
       "  </tbody>\n",
       "</table>\n",
       "</div>"
      ],
      "text/plain": [
       "    to_state  nb_records  percentage\n",
       "0  submitted        2324       58.10\n",
       "1    unknown        1379       34.48\n",
       "2   declined         296        7.40\n",
       "3     booked           1        0.02"
      ]
     },
     "execution_count": 36,
     "metadata": {},
     "output_type": "execute_result"
    }
   ],
   "source": [
    "total.loc[:,'time_after_creation'] = total.loc[:,'transition_ts']- total.loc[:,'created_at']\n",
    "total.loc[:,'time_after_creation'] = total.loc[:,'time_after_creation']/ np.timedelta64(1, 'D')\n",
    "total_first = total.drop_duplicates('idea_id')\n",
    "top_champ(total_first,['to_state'],10)"
   ]
  },
  {
   "cell_type": "code",
   "execution_count": 37,
   "metadata": {},
   "outputs": [
    {
     "name": "stdout",
     "output_type": "stream",
     "text": [
      "(1379, 25)\n",
      "(1379, 25)\n"
     ]
    }
   ],
   "source": [
    "total_first.loc[:,'time_after_creation'].describe()\n",
    "print(total[total['category_x']!=total['category_y']].shape)\n",
    "print(total[total['category_y'].isnull()].shape)\n",
    "#idem\n",
    "# 1323 ideas without "
   ]
  },
  {
   "cell_type": "code",
   "execution_count": 38,
   "metadata": {},
   "outputs": [
    {
     "name": "stdout",
     "output_type": "stream",
     "text": [
      "There are 1379 ideas unknown\n",
      "Ideas unknown have been created from 2018-01-01 17:01:01.489000 to 2019-01-21 10:19:35.205000\n",
      "There are 2621 ideas with at least one request submitted\n",
      "Ideas with requests have been created from 2018-01-02 15:21:32.044000 to 2019-01-15 14:54:49.719000\n"
     ]
    }
   ],
   "source": [
    "idea_id_unknown = total.loc[total['category_y'].isnull(),'idea_id'].unique()\n",
    "min_created_ukn = min(ideas.loc[ideas['idea_id'].isin(idea_id_unknown),'created_at'])\n",
    "max_created_ukn = max(ideas.loc[ideas['idea_id'].isin(idea_id_unknown),'created_at'])\n",
    "print('There are %0.0f ideas unknown' %len(idea_id_unknown))\n",
    "print('Ideas unknown have been created from %s to %s' %(min_created_ukn, max_created_ukn))\n",
    "idea_id_known = total.loc[total['category_y'].notnull(),'idea_id'].unique()\n",
    "min_created_ukn = min(ideas.loc[ideas['idea_id'].isin(idea_id_known),'created_at'])\n",
    "max_created_ukn = max(ideas.loc[ideas['idea_id'].isin(idea_id_known),'created_at'])\n",
    "print('There are %0.0f ideas with at least one request submitted' %(len(idea_id_known)))\n",
    "print('Ideas with requests have been created from %s to %s' %(min_created_ukn, max_created_ukn))"
   ]
  },
  {
   "cell_type": "code",
   "execution_count": 39,
   "metadata": {},
   "outputs": [
    {
     "name": "stdout",
     "output_type": "stream",
     "text": [
      "6 distinct values for the feature ['category']\n"
     ]
    },
    {
     "data": {
      "text/html": [
       "<div>\n",
       "<style scoped>\n",
       "    .dataframe tbody tr th:only-of-type {\n",
       "        vertical-align: middle;\n",
       "    }\n",
       "\n",
       "    .dataframe tbody tr th {\n",
       "        vertical-align: top;\n",
       "    }\n",
       "\n",
       "    .dataframe thead th {\n",
       "        text-align: right;\n",
       "    }\n",
       "</style>\n",
       "<table border=\"1\" class=\"dataframe\">\n",
       "  <thead>\n",
       "    <tr style=\"text-align: right;\">\n",
       "      <th></th>\n",
       "      <th>category</th>\n",
       "      <th>nb_records</th>\n",
       "      <th>percentage</th>\n",
       "    </tr>\n",
       "  </thead>\n",
       "  <tbody>\n",
       "    <tr>\n",
       "      <th>0</th>\n",
       "      <td>popup_shop</td>\n",
       "      <td>760</td>\n",
       "      <td>55.11</td>\n",
       "    </tr>\n",
       "    <tr>\n",
       "      <th>1</th>\n",
       "      <td>popup_bar</td>\n",
       "      <td>240</td>\n",
       "      <td>17.40</td>\n",
       "    </tr>\n",
       "    <tr>\n",
       "      <th>2</th>\n",
       "      <td>unique</td>\n",
       "      <td>145</td>\n",
       "      <td>10.51</td>\n",
       "    </tr>\n",
       "    <tr>\n",
       "      <th>3</th>\n",
       "      <td>private_event</td>\n",
       "      <td>134</td>\n",
       "      <td>9.72</td>\n",
       "    </tr>\n",
       "    <tr>\n",
       "      <th>4</th>\n",
       "      <td>gallery</td>\n",
       "      <td>78</td>\n",
       "      <td>5.66</td>\n",
       "    </tr>\n",
       "    <tr>\n",
       "      <th>5</th>\n",
       "      <td>sample_sale</td>\n",
       "      <td>22</td>\n",
       "      <td>1.60</td>\n",
       "    </tr>\n",
       "  </tbody>\n",
       "</table>\n",
       "</div>"
      ],
      "text/plain": [
       "        category  nb_records  percentage\n",
       "0     popup_shop         760       55.11\n",
       "1      popup_bar         240       17.40\n",
       "2         unique         145       10.51\n",
       "3  private_event         134        9.72\n",
       "4        gallery          78        5.66\n",
       "5    sample_sale          22        1.60"
      ]
     },
     "execution_count": 39,
     "metadata": {},
     "output_type": "execute_result"
    }
   ],
   "source": [
    "top_champ(ideas[ideas['idea_id'].isin(idea_id_unknown)],['category'],10)"
   ]
  },
  {
   "cell_type": "code",
   "execution_count": 40,
   "metadata": {},
   "outputs": [
    {
     "name": "stdout",
     "output_type": "stream",
     "text": [
      "6 distinct values for the feature ['category']\n"
     ]
    },
    {
     "data": {
      "text/html": [
       "<div>\n",
       "<style scoped>\n",
       "    .dataframe tbody tr th:only-of-type {\n",
       "        vertical-align: middle;\n",
       "    }\n",
       "\n",
       "    .dataframe tbody tr th {\n",
       "        vertical-align: top;\n",
       "    }\n",
       "\n",
       "    .dataframe thead th {\n",
       "        text-align: right;\n",
       "    }\n",
       "</style>\n",
       "<table border=\"1\" class=\"dataframe\">\n",
       "  <thead>\n",
       "    <tr style=\"text-align: right;\">\n",
       "      <th></th>\n",
       "      <th>category</th>\n",
       "      <th>nb_records</th>\n",
       "      <th>percentage</th>\n",
       "    </tr>\n",
       "  </thead>\n",
       "  <tbody>\n",
       "    <tr>\n",
       "      <th>0</th>\n",
       "      <td>popup_shop</td>\n",
       "      <td>1414</td>\n",
       "      <td>53.95</td>\n",
       "    </tr>\n",
       "    <tr>\n",
       "      <th>1</th>\n",
       "      <td>private_event</td>\n",
       "      <td>412</td>\n",
       "      <td>15.72</td>\n",
       "    </tr>\n",
       "    <tr>\n",
       "      <th>2</th>\n",
       "      <td>popup_bar</td>\n",
       "      <td>293</td>\n",
       "      <td>11.18</td>\n",
       "    </tr>\n",
       "    <tr>\n",
       "      <th>3</th>\n",
       "      <td>unique</td>\n",
       "      <td>253</td>\n",
       "      <td>9.65</td>\n",
       "    </tr>\n",
       "    <tr>\n",
       "      <th>4</th>\n",
       "      <td>gallery</td>\n",
       "      <td>204</td>\n",
       "      <td>7.78</td>\n",
       "    </tr>\n",
       "    <tr>\n",
       "      <th>5</th>\n",
       "      <td>sample_sale</td>\n",
       "      <td>45</td>\n",
       "      <td>1.72</td>\n",
       "    </tr>\n",
       "  </tbody>\n",
       "</table>\n",
       "</div>"
      ],
      "text/plain": [
       "        category  nb_records  percentage\n",
       "0     popup_shop        1414       53.95\n",
       "1  private_event         412       15.72\n",
       "2      popup_bar         293       11.18\n",
       "3         unique         253        9.65\n",
       "4        gallery         204        7.78\n",
       "5    sample_sale          45        1.72"
      ]
     },
     "execution_count": 40,
     "metadata": {},
     "output_type": "execute_result"
    }
   ],
   "source": [
    "top_champ(ideas[ideas['idea_id'].isin(idea_id_known)],['category'],10)"
   ]
  },
  {
   "cell_type": "code",
   "execution_count": 41,
   "metadata": {},
   "outputs": [],
   "source": [
    "total_ok = total.loc[total['idea_id'].isin(idea_id_known)]"
   ]
  },
  {
   "cell_type": "code",
   "execution_count": 42,
   "metadata": {},
   "outputs": [
    {
     "data": {
      "text/plain": [
       "count    2.047500e+04\n",
       "mean     2.350080e+01\n",
       "std      4.889505e+01\n",
       "min      6.250000e-07\n",
       "25%      1.153481e-01\n",
       "50%      4.062131e+00\n",
       "75%      2.003718e+01\n",
       "max      3.599833e+02\n",
       "Name: time_after_creation, dtype: float64"
      ]
     },
     "execution_count": 42,
     "metadata": {},
     "output_type": "execute_result"
    }
   ],
   "source": [
    "total_ok['time_after_creation'].describe()"
   ]
  },
  {
   "cell_type": "code",
   "execution_count": 43,
   "metadata": {},
   "outputs": [
    {
     "name": "stderr",
     "output_type": "stream",
     "text": [
      "/anaconda/envs/ah_test_env/lib/python3.6/site-packages/pandas/core/indexing.py:362: SettingWithCopyWarning: \n",
      "A value is trying to be set on a copy of a slice from a DataFrame.\n",
      "Try using .loc[row_indexer,col_indexer] = value instead\n",
      "\n",
      "See the caveats in the documentation: http://pandas.pydata.org/pandas-docs/stable/indexing.html#indexing-view-versus-copy\n",
      "  self.obj[key] = _infer_fill_value(value)\n",
      "/anaconda/envs/ah_test_env/lib/python3.6/site-packages/pandas/core/indexing.py:543: SettingWithCopyWarning: \n",
      "A value is trying to be set on a copy of a slice from a DataFrame.\n",
      "Try using .loc[row_indexer,col_indexer] = value instead\n",
      "\n",
      "See the caveats in the documentation: http://pandas.pydata.org/pandas-docs/stable/indexing.html#indexing-view-versus-copy\n",
      "  self.obj[item] = s\n"
     ]
    }
   ],
   "source": [
    "total_ok.loc[total_ok['time_after_creation']>15,'after_creation']='sup_15j'\n",
    "total_ok.loc[total_ok['time_after_creation']<=15,'after_creation']='3j_15j'\n",
    "total_ok.loc[total_ok['time_after_creation']<3,'after_creation']='1j_3j'\n",
    "total_ok.loc[total_ok['time_after_creation']<1,'after_creation']='1h_1j'\n",
    "total_ok.loc[total_ok['time_after_creation']<0.04,'after_creation']='10s_1h'\n",
    "total_ok.loc[total_ok['time_after_creation']<0.0001,'after_creation']='less_10s'"
   ]
  },
  {
   "cell_type": "code",
   "execution_count": 44,
   "metadata": {},
   "outputs": [
    {
     "name": "stdout",
     "output_type": "stream",
     "text": [
      "6 distinct values for the feature ['after_creation']\n"
     ]
    },
    {
     "data": {
      "text/html": [
       "<div>\n",
       "<style scoped>\n",
       "    .dataframe tbody tr th:only-of-type {\n",
       "        vertical-align: middle;\n",
       "    }\n",
       "\n",
       "    .dataframe tbody tr th {\n",
       "        vertical-align: top;\n",
       "    }\n",
       "\n",
       "    .dataframe thead th {\n",
       "        text-align: right;\n",
       "    }\n",
       "</style>\n",
       "<table border=\"1\" class=\"dataframe\">\n",
       "  <thead>\n",
       "    <tr style=\"text-align: right;\">\n",
       "      <th></th>\n",
       "      <th>after_creation</th>\n",
       "      <th>nb_records</th>\n",
       "      <th>percentage</th>\n",
       "    </tr>\n",
       "  </thead>\n",
       "  <tbody>\n",
       "    <tr>\n",
       "      <th>0</th>\n",
       "      <td>less_10s</td>\n",
       "      <td>1521</td>\n",
       "      <td>58.03</td>\n",
       "    </tr>\n",
       "    <tr>\n",
       "      <th>1</th>\n",
       "      <td>sup_15j</td>\n",
       "      <td>282</td>\n",
       "      <td>10.76</td>\n",
       "    </tr>\n",
       "    <tr>\n",
       "      <th>2</th>\n",
       "      <td>3j_15j</td>\n",
       "      <td>274</td>\n",
       "      <td>10.45</td>\n",
       "    </tr>\n",
       "    <tr>\n",
       "      <th>3</th>\n",
       "      <td>10s_1h</td>\n",
       "      <td>231</td>\n",
       "      <td>8.81</td>\n",
       "    </tr>\n",
       "    <tr>\n",
       "      <th>4</th>\n",
       "      <td>1h_1j</td>\n",
       "      <td>200</td>\n",
       "      <td>7.63</td>\n",
       "    </tr>\n",
       "    <tr>\n",
       "      <th>5</th>\n",
       "      <td>1j_3j</td>\n",
       "      <td>113</td>\n",
       "      <td>4.31</td>\n",
       "    </tr>\n",
       "  </tbody>\n",
       "</table>\n",
       "</div>"
      ],
      "text/plain": [
       "  after_creation  nb_records  percentage\n",
       "0       less_10s        1521       58.03\n",
       "1        sup_15j         282       10.76\n",
       "2         3j_15j         274       10.45\n",
       "3         10s_1h         231        8.81\n",
       "4          1h_1j         200        7.63\n",
       "5          1j_3j         113        4.31"
      ]
     },
     "execution_count": 44,
     "metadata": {},
     "output_type": "execute_result"
    }
   ],
   "source": [
    "top_champ(total_ok.drop_duplicates('idea_id'),['after_creation'],10)\n",
    "# More than an half of the ideas transforms in a request in less than 10 seconds"
   ]
  },
  {
   "cell_type": "code",
   "execution_count": 45,
   "metadata": {},
   "outputs": [
    {
     "data": {
      "text/html": [
       "<div>\n",
       "<style scoped>\n",
       "    .dataframe tbody tr th:only-of-type {\n",
       "        vertical-align: middle;\n",
       "    }\n",
       "\n",
       "    .dataframe tbody tr th {\n",
       "        vertical-align: top;\n",
       "    }\n",
       "\n",
       "    .dataframe thead th {\n",
       "        text-align: right;\n",
       "    }\n",
       "</style>\n",
       "<table border=\"1\" class=\"dataframe\">\n",
       "  <thead>\n",
       "    <tr style=\"text-align: right;\">\n",
       "      <th></th>\n",
       "      <th>transition_ts</th>\n",
       "      <th>idea_id</th>\n",
       "      <th>space_id</th>\n",
       "      <th>to_state</th>\n",
       "    </tr>\n",
       "  </thead>\n",
       "  <tbody>\n",
       "    <tr>\n",
       "      <th>2</th>\n",
       "      <td>2018-10-08 19:38:18.153</td>\n",
       "      <td>2</td>\n",
       "      <td>366.0</td>\n",
       "      <td>submitted</td>\n",
       "    </tr>\n",
       "    <tr>\n",
       "      <th>3</th>\n",
       "      <td>2018-10-10 12:19:26.197</td>\n",
       "      <td>2</td>\n",
       "      <td>366.0</td>\n",
       "      <td>declined</td>\n",
       "    </tr>\n",
       "    <tr>\n",
       "      <th>5</th>\n",
       "      <td>2018-06-10 16:05:47.226</td>\n",
       "      <td>4</td>\n",
       "      <td>5844.0</td>\n",
       "      <td>submitted</td>\n",
       "    </tr>\n",
       "    <tr>\n",
       "      <th>6</th>\n",
       "      <td>2018-06-26 15:55:27.471</td>\n",
       "      <td>4</td>\n",
       "      <td>5844.0</td>\n",
       "      <td>declined</td>\n",
       "    </tr>\n",
       "    <tr>\n",
       "      <th>7</th>\n",
       "      <td>2018-11-27 17:06:18.287</td>\n",
       "      <td>5</td>\n",
       "      <td>5241.0</td>\n",
       "      <td>submitted</td>\n",
       "    </tr>\n",
       "    <tr>\n",
       "      <th>8</th>\n",
       "      <td>2018-11-28 16:46:10.694</td>\n",
       "      <td>5</td>\n",
       "      <td>5241.0</td>\n",
       "      <td>matched</td>\n",
       "    </tr>\n",
       "    <tr>\n",
       "      <th>9</th>\n",
       "      <td>2018-12-01 01:03:33.476</td>\n",
       "      <td>5</td>\n",
       "      <td>5241.0</td>\n",
       "      <td>booked</td>\n",
       "    </tr>\n",
       "    <tr>\n",
       "      <th>10</th>\n",
       "      <td>2018-03-27 14:46:16.156</td>\n",
       "      <td>6</td>\n",
       "      <td>4035.0</td>\n",
       "      <td>submitted</td>\n",
       "    </tr>\n",
       "    <tr>\n",
       "      <th>11</th>\n",
       "      <td>2018-04-10 17:27:06.135</td>\n",
       "      <td>6</td>\n",
       "      <td>4035.0</td>\n",
       "      <td>declined</td>\n",
       "    </tr>\n",
       "    <tr>\n",
       "      <th>12</th>\n",
       "      <td>2018-03-27 14:46:16.313</td>\n",
       "      <td>6</td>\n",
       "      <td>5438.0</td>\n",
       "      <td>submitted</td>\n",
       "    </tr>\n",
       "  </tbody>\n",
       "</table>\n",
       "</div>"
      ],
      "text/plain": [
       "             transition_ts  idea_id  space_id   to_state\n",
       "2  2018-10-08 19:38:18.153        2     366.0  submitted\n",
       "3  2018-10-10 12:19:26.197        2     366.0   declined\n",
       "5  2018-06-10 16:05:47.226        4    5844.0  submitted\n",
       "6  2018-06-26 15:55:27.471        4    5844.0   declined\n",
       "7  2018-11-27 17:06:18.287        5    5241.0  submitted\n",
       "8  2018-11-28 16:46:10.694        5    5241.0    matched\n",
       "9  2018-12-01 01:03:33.476        5    5241.0     booked\n",
       "10 2018-03-27 14:46:16.156        6    4035.0  submitted\n",
       "11 2018-04-10 17:27:06.135        6    4035.0   declined\n",
       "12 2018-03-27 14:46:16.313        6    5438.0  submitted"
      ]
     },
     "execution_count": 45,
     "metadata": {},
     "output_type": "execute_result"
    }
   ],
   "source": [
    "total_ok[['transition_ts','idea_id','space_id','to_state']][0:10]"
   ]
  },
  {
   "cell_type": "code",
   "execution_count": 46,
   "metadata": {},
   "outputs": [],
   "source": [
    "conversion = total_ok.groupby(['idea_id','space_id','booking_request_id'])['to_state'].\\\n",
    "apply(lambda x: \"%s\" % ' / '.join(x)).to_frame().reset_index()\n",
    "#conversion\n",
    "#top_champ(conversion,['to_state'],10)\n",
    "conversion.loc[:,'ending_stage'] = conversion.loc[:,'to_state'].apply(lambda x : x.split(' ')[-1])\n",
    "\n",
    "conversion_2 = conversion\\\n",
    ".join(conversion['to_state'].str.split(' / s', expand=True)\\\n",
    "      .stack().reset_index(level=1, drop=True).rename('to_state_2'))\n",
    "conversion_2.loc[:,'to_state_2'] = conversion_2['to_state_2'].str.replace('ubmitted','submitted')\n",
    "conversion_2.loc[:,'to_state_2'] = conversion_2['to_state_2'].str.replace('ssubmitted','submitted')\n",
    "conversion_2.loc[:,'ending_stage_2'] = conversion_2.loc[:,'to_state_2'].apply(lambda x : x.split(' ')[-1])\n",
    "\n"
   ]
  },
  {
   "cell_type": "code",
   "execution_count": 71,
   "metadata": {},
   "outputs": [
    {
     "name": "stdout",
     "output_type": "stream",
     "text": [
      "2998 distinct values for the feature ['idea_id', 'ending_stage']\n"
     ]
    },
    {
     "data": {
      "text/html": [
       "<div>\n",
       "<style scoped>\n",
       "    .dataframe tbody tr th:only-of-type {\n",
       "        vertical-align: middle;\n",
       "    }\n",
       "\n",
       "    .dataframe tbody tr th {\n",
       "        vertical-align: top;\n",
       "    }\n",
       "\n",
       "    .dataframe thead th {\n",
       "        text-align: right;\n",
       "    }\n",
       "</style>\n",
       "<table border=\"1\" class=\"dataframe\">\n",
       "  <thead>\n",
       "    <tr style=\"text-align: right;\">\n",
       "      <th></th>\n",
       "      <th>idea_id</th>\n",
       "      <th>ending_stage</th>\n",
       "      <th>nb_records</th>\n",
       "      <th>percentage</th>\n",
       "    </tr>\n",
       "  </thead>\n",
       "  <tbody>\n",
       "    <tr>\n",
       "      <th>1442</th>\n",
       "      <td>135</td>\n",
       "      <td>booked</td>\n",
       "      <td>1</td>\n",
       "      <td>0.01</td>\n",
       "    </tr>\n",
       "    <tr>\n",
       "      <th>1443</th>\n",
       "      <td>1212</td>\n",
       "      <td>booked</td>\n",
       "      <td>1</td>\n",
       "      <td>0.01</td>\n",
       "    </tr>\n",
       "    <tr>\n",
       "      <th>1445</th>\n",
       "      <td>275</td>\n",
       "      <td>booked</td>\n",
       "      <td>1</td>\n",
       "      <td>0.01</td>\n",
       "    </tr>\n",
       "    <tr>\n",
       "      <th>1450</th>\n",
       "      <td>1370</td>\n",
       "      <td>booked</td>\n",
       "      <td>1</td>\n",
       "      <td>0.01</td>\n",
       "    </tr>\n",
       "    <tr>\n",
       "      <th>1451</th>\n",
       "      <td>68</td>\n",
       "      <td>booked</td>\n",
       "      <td>1</td>\n",
       "      <td>0.01</td>\n",
       "    </tr>\n",
       "    <tr>\n",
       "      <th>1452</th>\n",
       "      <td>245</td>\n",
       "      <td>booked</td>\n",
       "      <td>1</td>\n",
       "      <td>0.01</td>\n",
       "    </tr>\n",
       "    <tr>\n",
       "      <th>1453</th>\n",
       "      <td>247</td>\n",
       "      <td>booked</td>\n",
       "      <td>1</td>\n",
       "      <td>0.01</td>\n",
       "    </tr>\n",
       "    <tr>\n",
       "      <th>1459</th>\n",
       "      <td>1225</td>\n",
       "      <td>booked</td>\n",
       "      <td>1</td>\n",
       "      <td>0.01</td>\n",
       "    </tr>\n",
       "    <tr>\n",
       "      <th>1463</th>\n",
       "      <td>1222</td>\n",
       "      <td>booked</td>\n",
       "      <td>1</td>\n",
       "      <td>0.01</td>\n",
       "    </tr>\n",
       "    <tr>\n",
       "      <th>1467</th>\n",
       "      <td>62</td>\n",
       "      <td>booked</td>\n",
       "      <td>1</td>\n",
       "      <td>0.01</td>\n",
       "    </tr>\n",
       "    <tr>\n",
       "      <th>1469</th>\n",
       "      <td>61</td>\n",
       "      <td>booked</td>\n",
       "      <td>1</td>\n",
       "      <td>0.01</td>\n",
       "    </tr>\n",
       "    <tr>\n",
       "      <th>1480</th>\n",
       "      <td>35</td>\n",
       "      <td>booked</td>\n",
       "      <td>1</td>\n",
       "      <td>0.01</td>\n",
       "    </tr>\n",
       "    <tr>\n",
       "      <th>1486</th>\n",
       "      <td>1387</td>\n",
       "      <td>booked</td>\n",
       "      <td>1</td>\n",
       "      <td>0.01</td>\n",
       "    </tr>\n",
       "    <tr>\n",
       "      <th>1488</th>\n",
       "      <td>21</td>\n",
       "      <td>booked</td>\n",
       "      <td>1</td>\n",
       "      <td>0.01</td>\n",
       "    </tr>\n",
       "    <tr>\n",
       "      <th>1494</th>\n",
       "      <td>5</td>\n",
       "      <td>booked</td>\n",
       "      <td>1</td>\n",
       "      <td>0.01</td>\n",
       "    </tr>\n",
       "    <tr>\n",
       "      <th>1516</th>\n",
       "      <td>1202</td>\n",
       "      <td>booked</td>\n",
       "      <td>1</td>\n",
       "      <td>0.01</td>\n",
       "    </tr>\n",
       "    <tr>\n",
       "      <th>1518</th>\n",
       "      <td>52</td>\n",
       "      <td>booked</td>\n",
       "      <td>1</td>\n",
       "      <td>0.01</td>\n",
       "    </tr>\n",
       "    <tr>\n",
       "      <th>1524</th>\n",
       "      <td>297</td>\n",
       "      <td>booked</td>\n",
       "      <td>1</td>\n",
       "      <td>0.01</td>\n",
       "    </tr>\n",
       "    <tr>\n",
       "      <th>1526</th>\n",
       "      <td>230</td>\n",
       "      <td>booked</td>\n",
       "      <td>1</td>\n",
       "      <td>0.01</td>\n",
       "    </tr>\n",
       "    <tr>\n",
       "      <th>1531</th>\n",
       "      <td>1302</td>\n",
       "      <td>booked</td>\n",
       "      <td>1</td>\n",
       "      <td>0.01</td>\n",
       "    </tr>\n",
       "    <tr>\n",
       "      <th>1535</th>\n",
       "      <td>1293</td>\n",
       "      <td>booked</td>\n",
       "      <td>1</td>\n",
       "      <td>0.01</td>\n",
       "    </tr>\n",
       "    <tr>\n",
       "      <th>1547</th>\n",
       "      <td>113</td>\n",
       "      <td>booked</td>\n",
       "      <td>1</td>\n",
       "      <td>0.01</td>\n",
       "    </tr>\n",
       "    <tr>\n",
       "      <th>1554</th>\n",
       "      <td>1283</td>\n",
       "      <td>booked</td>\n",
       "      <td>1</td>\n",
       "      <td>0.01</td>\n",
       "    </tr>\n",
       "    <tr>\n",
       "      <th>1561</th>\n",
       "      <td>1327</td>\n",
       "      <td>booked</td>\n",
       "      <td>1</td>\n",
       "      <td>0.01</td>\n",
       "    </tr>\n",
       "    <tr>\n",
       "      <th>1562</th>\n",
       "      <td>1325</td>\n",
       "      <td>booked</td>\n",
       "      <td>1</td>\n",
       "      <td>0.01</td>\n",
       "    </tr>\n",
       "    <tr>\n",
       "      <th>1565</th>\n",
       "      <td>139</td>\n",
       "      <td>booked</td>\n",
       "      <td>1</td>\n",
       "      <td>0.01</td>\n",
       "    </tr>\n",
       "    <tr>\n",
       "      <th>1576</th>\n",
       "      <td>1335</td>\n",
       "      <td>booked</td>\n",
       "      <td>1</td>\n",
       "      <td>0.01</td>\n",
       "    </tr>\n",
       "    <tr>\n",
       "      <th>1579</th>\n",
       "      <td>126</td>\n",
       "      <td>booked</td>\n",
       "      <td>1</td>\n",
       "      <td>0.01</td>\n",
       "    </tr>\n",
       "    <tr>\n",
       "      <th>1580</th>\n",
       "      <td>163</td>\n",
       "      <td>booked</td>\n",
       "      <td>1</td>\n",
       "      <td>0.01</td>\n",
       "    </tr>\n",
       "    <tr>\n",
       "      <th>1593</th>\n",
       "      <td>221</td>\n",
       "      <td>booked</td>\n",
       "      <td>1</td>\n",
       "      <td>0.01</td>\n",
       "    </tr>\n",
       "    <tr>\n",
       "      <th>...</th>\n",
       "      <td>...</td>\n",
       "      <td>...</td>\n",
       "      <td>...</td>\n",
       "      <td>...</td>\n",
       "    </tr>\n",
       "    <tr>\n",
       "      <th>1390</th>\n",
       "      <td>2489</td>\n",
       "      <td>submitted</td>\n",
       "      <td>2</td>\n",
       "      <td>0.02</td>\n",
       "    </tr>\n",
       "    <tr>\n",
       "      <th>1416</th>\n",
       "      <td>3997</td>\n",
       "      <td>submitted</td>\n",
       "      <td>2</td>\n",
       "      <td>0.02</td>\n",
       "    </tr>\n",
       "    <tr>\n",
       "      <th>1422</th>\n",
       "      <td>2656</td>\n",
       "      <td>submitted</td>\n",
       "      <td>2</td>\n",
       "      <td>0.02</td>\n",
       "    </tr>\n",
       "    <tr>\n",
       "      <th>1438</th>\n",
       "      <td>2647</td>\n",
       "      <td>submitted</td>\n",
       "      <td>2</td>\n",
       "      <td>0.02</td>\n",
       "    </tr>\n",
       "    <tr>\n",
       "      <th>1439</th>\n",
       "      <td>649</td>\n",
       "      <td>submitted</td>\n",
       "      <td>2</td>\n",
       "      <td>0.02</td>\n",
       "    </tr>\n",
       "    <tr>\n",
       "      <th>779</th>\n",
       "      <td>1520</td>\n",
       "      <td>submitted</td>\n",
       "      <td>3</td>\n",
       "      <td>0.03</td>\n",
       "    </tr>\n",
       "    <tr>\n",
       "      <th>802</th>\n",
       "      <td>3780</td>\n",
       "      <td>submitted</td>\n",
       "      <td>3</td>\n",
       "      <td>0.03</td>\n",
       "    </tr>\n",
       "    <tr>\n",
       "      <th>805</th>\n",
       "      <td>3730</td>\n",
       "      <td>submitted</td>\n",
       "      <td>3</td>\n",
       "      <td>0.03</td>\n",
       "    </tr>\n",
       "    <tr>\n",
       "      <th>808</th>\n",
       "      <td>140</td>\n",
       "      <td>submitted</td>\n",
       "      <td>3</td>\n",
       "      <td>0.03</td>\n",
       "    </tr>\n",
       "    <tr>\n",
       "      <th>836</th>\n",
       "      <td>917</td>\n",
       "      <td>submitted</td>\n",
       "      <td>3</td>\n",
       "      <td>0.03</td>\n",
       "    </tr>\n",
       "    <tr>\n",
       "      <th>878</th>\n",
       "      <td>3325</td>\n",
       "      <td>submitted</td>\n",
       "      <td>3</td>\n",
       "      <td>0.03</td>\n",
       "    </tr>\n",
       "    <tr>\n",
       "      <th>926</th>\n",
       "      <td>750</td>\n",
       "      <td>submitted</td>\n",
       "      <td>3</td>\n",
       "      <td>0.03</td>\n",
       "    </tr>\n",
       "    <tr>\n",
       "      <th>937</th>\n",
       "      <td>3606</td>\n",
       "      <td>submitted</td>\n",
       "      <td>3</td>\n",
       "      <td>0.03</td>\n",
       "    </tr>\n",
       "    <tr>\n",
       "      <th>955</th>\n",
       "      <td>2145</td>\n",
       "      <td>submitted</td>\n",
       "      <td>3</td>\n",
       "      <td>0.03</td>\n",
       "    </tr>\n",
       "    <tr>\n",
       "      <th>983</th>\n",
       "      <td>2930</td>\n",
       "      <td>submitted</td>\n",
       "      <td>3</td>\n",
       "      <td>0.03</td>\n",
       "    </tr>\n",
       "    <tr>\n",
       "      <th>1025</th>\n",
       "      <td>1941</td>\n",
       "      <td>submitted</td>\n",
       "      <td>3</td>\n",
       "      <td>0.03</td>\n",
       "    </tr>\n",
       "    <tr>\n",
       "      <th>618</th>\n",
       "      <td>2065</td>\n",
       "      <td>submitted</td>\n",
       "      <td>4</td>\n",
       "      <td>0.04</td>\n",
       "    </tr>\n",
       "    <tr>\n",
       "      <th>676</th>\n",
       "      <td>2443</td>\n",
       "      <td>submitted</td>\n",
       "      <td>4</td>\n",
       "      <td>0.04</td>\n",
       "    </tr>\n",
       "    <tr>\n",
       "      <th>703</th>\n",
       "      <td>631</td>\n",
       "      <td>submitted</td>\n",
       "      <td>4</td>\n",
       "      <td>0.04</td>\n",
       "    </tr>\n",
       "    <tr>\n",
       "      <th>746</th>\n",
       "      <td>270</td>\n",
       "      <td>submitted</td>\n",
       "      <td>4</td>\n",
       "      <td>0.04</td>\n",
       "    </tr>\n",
       "    <tr>\n",
       "      <th>765</th>\n",
       "      <td>3162</td>\n",
       "      <td>submitted</td>\n",
       "      <td>4</td>\n",
       "      <td>0.04</td>\n",
       "    </tr>\n",
       "    <tr>\n",
       "      <th>511</th>\n",
       "      <td>479</td>\n",
       "      <td>submitted</td>\n",
       "      <td>5</td>\n",
       "      <td>0.05</td>\n",
       "    </tr>\n",
       "    <tr>\n",
       "      <th>535</th>\n",
       "      <td>2744</td>\n",
       "      <td>submitted</td>\n",
       "      <td>5</td>\n",
       "      <td>0.05</td>\n",
       "    </tr>\n",
       "    <tr>\n",
       "      <th>540</th>\n",
       "      <td>3561</td>\n",
       "      <td>submitted</td>\n",
       "      <td>5</td>\n",
       "      <td>0.05</td>\n",
       "    </tr>\n",
       "    <tr>\n",
       "      <th>554</th>\n",
       "      <td>1255</td>\n",
       "      <td>submitted</td>\n",
       "      <td>5</td>\n",
       "      <td>0.05</td>\n",
       "    </tr>\n",
       "    <tr>\n",
       "      <th>595</th>\n",
       "      <td>3530</td>\n",
       "      <td>submitted</td>\n",
       "      <td>5</td>\n",
       "      <td>0.05</td>\n",
       "    </tr>\n",
       "    <tr>\n",
       "      <th>328</th>\n",
       "      <td>920</td>\n",
       "      <td>submitted</td>\n",
       "      <td>7</td>\n",
       "      <td>0.07</td>\n",
       "    </tr>\n",
       "    <tr>\n",
       "      <th>373</th>\n",
       "      <td>3650</td>\n",
       "      <td>submitted</td>\n",
       "      <td>7</td>\n",
       "      <td>0.07</td>\n",
       "    </tr>\n",
       "    <tr>\n",
       "      <th>238</th>\n",
       "      <td>2687</td>\n",
       "      <td>submitted</td>\n",
       "      <td>9</td>\n",
       "      <td>0.09</td>\n",
       "    </tr>\n",
       "    <tr>\n",
       "      <th>245</th>\n",
       "      <td>3498</td>\n",
       "      <td>submitted</td>\n",
       "      <td>9</td>\n",
       "      <td>0.09</td>\n",
       "    </tr>\n",
       "  </tbody>\n",
       "</table>\n",
       "<p>2998 rows × 4 columns</p>\n",
       "</div>"
      ],
      "text/plain": [
       "      idea_id ending_stage  nb_records  percentage\n",
       "1442      135       booked           1        0.01\n",
       "1443     1212       booked           1        0.01\n",
       "1445      275       booked           1        0.01\n",
       "1450     1370       booked           1        0.01\n",
       "1451       68       booked           1        0.01\n",
       "1452      245       booked           1        0.01\n",
       "1453      247       booked           1        0.01\n",
       "1459     1225       booked           1        0.01\n",
       "1463     1222       booked           1        0.01\n",
       "1467       62       booked           1        0.01\n",
       "1469       61       booked           1        0.01\n",
       "1480       35       booked           1        0.01\n",
       "1486     1387       booked           1        0.01\n",
       "1488       21       booked           1        0.01\n",
       "1494        5       booked           1        0.01\n",
       "1516     1202       booked           1        0.01\n",
       "1518       52       booked           1        0.01\n",
       "1524      297       booked           1        0.01\n",
       "1526      230       booked           1        0.01\n",
       "1531     1302       booked           1        0.01\n",
       "1535     1293       booked           1        0.01\n",
       "1547      113       booked           1        0.01\n",
       "1554     1283       booked           1        0.01\n",
       "1561     1327       booked           1        0.01\n",
       "1562     1325       booked           1        0.01\n",
       "1565      139       booked           1        0.01\n",
       "1576     1335       booked           1        0.01\n",
       "1579      126       booked           1        0.01\n",
       "1580      163       booked           1        0.01\n",
       "1593      221       booked           1        0.01\n",
       "...       ...          ...         ...         ...\n",
       "1390     2489    submitted           2        0.02\n",
       "1416     3997    submitted           2        0.02\n",
       "1422     2656    submitted           2        0.02\n",
       "1438     2647    submitted           2        0.02\n",
       "1439      649    submitted           2        0.02\n",
       "779      1520    submitted           3        0.03\n",
       "802      3780    submitted           3        0.03\n",
       "805      3730    submitted           3        0.03\n",
       "808       140    submitted           3        0.03\n",
       "836       917    submitted           3        0.03\n",
       "878      3325    submitted           3        0.03\n",
       "926       750    submitted           3        0.03\n",
       "937      3606    submitted           3        0.03\n",
       "955      2145    submitted           3        0.03\n",
       "983      2930    submitted           3        0.03\n",
       "1025     1941    submitted           3        0.03\n",
       "618      2065    submitted           4        0.04\n",
       "676      2443    submitted           4        0.04\n",
       "703       631    submitted           4        0.04\n",
       "746       270    submitted           4        0.04\n",
       "765      3162    submitted           4        0.04\n",
       "511       479    submitted           5        0.05\n",
       "535      2744    submitted           5        0.05\n",
       "540      3561    submitted           5        0.05\n",
       "554      1255    submitted           5        0.05\n",
       "595      3530    submitted           5        0.05\n",
       "328       920    submitted           7        0.07\n",
       "373      3650    submitted           7        0.07\n",
       "238      2687    submitted           9        0.09\n",
       "245      3498    submitted           9        0.09\n",
       "\n",
       "[2998 rows x 4 columns]"
      ]
     },
     "execution_count": 71,
     "metadata": {},
     "output_type": "execute_result"
    }
   ],
   "source": [
    "top_champ(conversion,['idea_id','ending_stage'],3000)\\\n",
    ".sort_values(['ending_stage','nb_records'],ascending=True)\n",
    "#conversion"
   ]
  },
  {
   "cell_type": "code",
   "execution_count": 48,
   "metadata": {},
   "outputs": [],
   "source": [
    "#conversion['to_state_simpl'] = conversion['to_state'].str.split(' / ').apply(lambda x : list(map(itemgetter(0), groupby(x))))\n",
    "#conversion['to_state_simpl']"
   ]
  },
  {
   "cell_type": "code",
   "execution_count": 49,
   "metadata": {},
   "outputs": [
    {
     "name": "stdout",
     "output_type": "stream",
     "text": [
      "4 distinct values for the feature ['to_state']\n"
     ]
    },
    {
     "data": {
      "text/html": [
       "<div>\n",
       "<style scoped>\n",
       "    .dataframe tbody tr th:only-of-type {\n",
       "        vertical-align: middle;\n",
       "    }\n",
       "\n",
       "    .dataframe tbody tr th {\n",
       "        vertical-align: top;\n",
       "    }\n",
       "\n",
       "    .dataframe thead th {\n",
       "        text-align: right;\n",
       "    }\n",
       "</style>\n",
       "<table border=\"1\" class=\"dataframe\">\n",
       "  <thead>\n",
       "    <tr style=\"text-align: right;\">\n",
       "      <th></th>\n",
       "      <th>to_state</th>\n",
       "      <th>nb_records</th>\n",
       "      <th>percentage</th>\n",
       "    </tr>\n",
       "  </thead>\n",
       "  <tbody>\n",
       "    <tr>\n",
       "      <th>0</th>\n",
       "      <td>submitted</td>\n",
       "      <td>303</td>\n",
       "      <td>95.58</td>\n",
       "    </tr>\n",
       "    <tr>\n",
       "      <th>1</th>\n",
       "      <td>submitted / submitted</td>\n",
       "      <td>8</td>\n",
       "      <td>2.52</td>\n",
       "    </tr>\n",
       "    <tr>\n",
       "      <th>2</th>\n",
       "      <td>submitted / declined / submitted</td>\n",
       "      <td>5</td>\n",
       "      <td>1.58</td>\n",
       "    </tr>\n",
       "    <tr>\n",
       "      <th>3</th>\n",
       "      <td>submitted / submitted / submitted</td>\n",
       "      <td>1</td>\n",
       "      <td>0.32</td>\n",
       "    </tr>\n",
       "  </tbody>\n",
       "</table>\n",
       "</div>"
      ],
      "text/plain": [
       "                            to_state  nb_records  percentage\n",
       "0                          submitted         303       95.58\n",
       "1              submitted / submitted           8        2.52\n",
       "2   submitted / declined / submitted           5        1.58\n",
       "3  submitted / submitted / submitted           1        0.32"
      ]
     },
     "execution_count": 49,
     "metadata": {},
     "output_type": "execute_result"
    }
   ],
   "source": [
    "top_champ(conversion[conversion.ending_stage=='submitted'],['to_state'],100)"
   ]
  },
  {
   "cell_type": "code",
   "execution_count": 50,
   "metadata": {},
   "outputs": [],
   "source": [
    "#conversion[(conversion['to_state']=='submitted / declined / submitted / declined')]\n",
    "#conversion[conversion['idea_id']==30]"
   ]
  },
  {
   "cell_type": "code",
   "execution_count": 51,
   "metadata": {},
   "outputs": [
    {
     "name": "stdout",
     "output_type": "stream",
     "text": [
      "59 distinct values for the feature ['to_state']\n"
     ]
    },
    {
     "data": {
      "text/html": [
       "<div>\n",
       "<style scoped>\n",
       "    .dataframe tbody tr th:only-of-type {\n",
       "        vertical-align: middle;\n",
       "    }\n",
       "\n",
       "    .dataframe tbody tr th {\n",
       "        vertical-align: top;\n",
       "    }\n",
       "\n",
       "    .dataframe thead th {\n",
       "        text-align: right;\n",
       "    }\n",
       "</style>\n",
       "<table border=\"1\" class=\"dataframe\">\n",
       "  <thead>\n",
       "    <tr style=\"text-align: right;\">\n",
       "      <th></th>\n",
       "      <th>to_state</th>\n",
       "      <th>nb_records</th>\n",
       "      <th>percentage</th>\n",
       "    </tr>\n",
       "  </thead>\n",
       "  <tbody>\n",
       "    <tr>\n",
       "      <th>0</th>\n",
       "      <td>submitted / declined</td>\n",
       "      <td>4780</td>\n",
       "      <td>47.07</td>\n",
       "    </tr>\n",
       "    <tr>\n",
       "      <th>1</th>\n",
       "      <td>declined</td>\n",
       "      <td>1827</td>\n",
       "      <td>17.99</td>\n",
       "    </tr>\n",
       "    <tr>\n",
       "      <th>2</th>\n",
       "      <td>submitted / matched / declined</td>\n",
       "      <td>1753</td>\n",
       "      <td>17.26</td>\n",
       "    </tr>\n",
       "    <tr>\n",
       "      <th>3</th>\n",
       "      <td>submitted</td>\n",
       "      <td>303</td>\n",
       "      <td>2.98</td>\n",
       "    </tr>\n",
       "    <tr>\n",
       "      <th>4</th>\n",
       "      <td>submitted / matched / booked</td>\n",
       "      <td>297</td>\n",
       "      <td>2.92</td>\n",
       "    </tr>\n",
       "    <tr>\n",
       "      <th>5</th>\n",
       "      <td>submitted / submitted / declined</td>\n",
       "      <td>284</td>\n",
       "      <td>2.80</td>\n",
       "    </tr>\n",
       "    <tr>\n",
       "      <th>6</th>\n",
       "      <td>submitted / submitted / matched / declined</td>\n",
       "      <td>238</td>\n",
       "      <td>2.34</td>\n",
       "    </tr>\n",
       "    <tr>\n",
       "      <th>7</th>\n",
       "      <td>submitted / declined / submitted / declined</td>\n",
       "      <td>128</td>\n",
       "      <td>1.26</td>\n",
       "    </tr>\n",
       "    <tr>\n",
       "      <th>8</th>\n",
       "      <td>submitted / declined / submitted / matched / declined</td>\n",
       "      <td>68</td>\n",
       "      <td>0.67</td>\n",
       "    </tr>\n",
       "    <tr>\n",
       "      <th>9</th>\n",
       "      <td>submitted / matched</td>\n",
       "      <td>67</td>\n",
       "      <td>0.66</td>\n",
       "    </tr>\n",
       "    <tr>\n",
       "      <th>10</th>\n",
       "      <td>submitted / submitted / matched / booked</td>\n",
       "      <td>44</td>\n",
       "      <td>0.43</td>\n",
       "    </tr>\n",
       "    <tr>\n",
       "      <th>11</th>\n",
       "      <td>submitted / matched / matched / declined</td>\n",
       "      <td>36</td>\n",
       "      <td>0.35</td>\n",
       "    </tr>\n",
       "    <tr>\n",
       "      <th>12</th>\n",
       "      <td>submitted / declined / matched / declined</td>\n",
       "      <td>29</td>\n",
       "      <td>0.29</td>\n",
       "    </tr>\n",
       "    <tr>\n",
       "      <th>13</th>\n",
       "      <td>submitted / submitted / submitted / declined</td>\n",
       "      <td>27</td>\n",
       "      <td>0.27</td>\n",
       "    </tr>\n",
       "    <tr>\n",
       "      <th>14</th>\n",
       "      <td>submitted / matched / declined / matched / declined</td>\n",
       "      <td>24</td>\n",
       "      <td>0.24</td>\n",
       "    </tr>\n",
       "    <tr>\n",
       "      <th>15</th>\n",
       "      <td>submitted / matched / declined / declined</td>\n",
       "      <td>23</td>\n",
       "      <td>0.23</td>\n",
       "    </tr>\n",
       "    <tr>\n",
       "      <th>16</th>\n",
       "      <td>submitted / declined / declined</td>\n",
       "      <td>21</td>\n",
       "      <td>0.21</td>\n",
       "    </tr>\n",
       "    <tr>\n",
       "      <th>17</th>\n",
       "      <td>declined / submitted / declined</td>\n",
       "      <td>20</td>\n",
       "      <td>0.20</td>\n",
       "    </tr>\n",
       "    <tr>\n",
       "      <th>18</th>\n",
       "      <td>submitted / submitted / matched</td>\n",
       "      <td>18</td>\n",
       "      <td>0.18</td>\n",
       "    </tr>\n",
       "    <tr>\n",
       "      <th>19</th>\n",
       "      <td>submitted / declined / submitted / matched / booked</td>\n",
       "      <td>18</td>\n",
       "      <td>0.18</td>\n",
       "    </tr>\n",
       "    <tr>\n",
       "      <th>20</th>\n",
       "      <td>submitted / submitted</td>\n",
       "      <td>16</td>\n",
       "      <td>0.16</td>\n",
       "    </tr>\n",
       "    <tr>\n",
       "      <th>21</th>\n",
       "      <td>declined / submitted / matched / declined</td>\n",
       "      <td>12</td>\n",
       "      <td>0.12</td>\n",
       "    </tr>\n",
       "    <tr>\n",
       "      <th>22</th>\n",
       "      <td>submitted / matched / declined / booked</td>\n",
       "      <td>10</td>\n",
       "      <td>0.10</td>\n",
       "    </tr>\n",
       "    <tr>\n",
       "      <th>23</th>\n",
       "      <td>submitted / declined / submitted</td>\n",
       "      <td>10</td>\n",
       "      <td>0.10</td>\n",
       "    </tr>\n",
       "    <tr>\n",
       "      <th>24</th>\n",
       "      <td>submitted / submitted / declined / declined</td>\n",
       "      <td>8</td>\n",
       "      <td>0.08</td>\n",
       "    </tr>\n",
       "    <tr>\n",
       "      <th>25</th>\n",
       "      <td>submitted / matched / declined / matched / booked</td>\n",
       "      <td>7</td>\n",
       "      <td>0.07</td>\n",
       "    </tr>\n",
       "    <tr>\n",
       "      <th>26</th>\n",
       "      <td>submitted / declined / submitted / submitted / declined</td>\n",
       "      <td>6</td>\n",
       "      <td>0.06</td>\n",
       "    </tr>\n",
       "    <tr>\n",
       "      <th>27</th>\n",
       "      <td>submitted / submitted / declined / matched / declined</td>\n",
       "      <td>6</td>\n",
       "      <td>0.06</td>\n",
       "    </tr>\n",
       "    <tr>\n",
       "      <th>28</th>\n",
       "      <td>submitted / declined / matched / booked</td>\n",
       "      <td>6</td>\n",
       "      <td>0.06</td>\n",
       "    </tr>\n",
       "    <tr>\n",
       "      <th>29</th>\n",
       "      <td>submitted / submitted / submitted / matched / declined</td>\n",
       "      <td>6</td>\n",
       "      <td>0.06</td>\n",
       "    </tr>\n",
       "    <tr>\n",
       "      <th>30</th>\n",
       "      <td>booked</td>\n",
       "      <td>5</td>\n",
       "      <td>0.05</td>\n",
       "    </tr>\n",
       "    <tr>\n",
       "      <th>31</th>\n",
       "      <td>submitted / matched / matched / booked</td>\n",
       "      <td>5</td>\n",
       "      <td>0.05</td>\n",
       "    </tr>\n",
       "    <tr>\n",
       "      <th>32</th>\n",
       "      <td>submitted / submitted / matched / matched / declined</td>\n",
       "      <td>4</td>\n",
       "      <td>0.04</td>\n",
       "    </tr>\n",
       "    <tr>\n",
       "      <th>33</th>\n",
       "      <td>submitted / submitted / matched / matched / booked</td>\n",
       "      <td>4</td>\n",
       "      <td>0.04</td>\n",
       "    </tr>\n",
       "    <tr>\n",
       "      <th>34</th>\n",
       "      <td>submitted / submitted / matched / declined / matched / booked</td>\n",
       "      <td>4</td>\n",
       "      <td>0.04</td>\n",
       "    </tr>\n",
       "    <tr>\n",
       "      <th>35</th>\n",
       "      <td>submitted / submitted / matched / declined / booked</td>\n",
       "      <td>4</td>\n",
       "      <td>0.04</td>\n",
       "    </tr>\n",
       "    <tr>\n",
       "      <th>36</th>\n",
       "      <td>submitted / submitted / submitted / matched</td>\n",
       "      <td>3</td>\n",
       "      <td>0.03</td>\n",
       "    </tr>\n",
       "    <tr>\n",
       "      <th>37</th>\n",
       "      <td>submitted / submitted / submitted</td>\n",
       "      <td>3</td>\n",
       "      <td>0.03</td>\n",
       "    </tr>\n",
       "    <tr>\n",
       "      <th>38</th>\n",
       "      <td>declined / submitted / matched / booked</td>\n",
       "      <td>2</td>\n",
       "      <td>0.02</td>\n",
       "    </tr>\n",
       "    <tr>\n",
       "      <th>39</th>\n",
       "      <td>submitted / submitted / matched / declined / matched / declined</td>\n",
       "      <td>2</td>\n",
       "      <td>0.02</td>\n",
       "    </tr>\n",
       "    <tr>\n",
       "      <th>40</th>\n",
       "      <td>submitted / submitted / matched / declined / declined</td>\n",
       "      <td>2</td>\n",
       "      <td>0.02</td>\n",
       "    </tr>\n",
       "    <tr>\n",
       "      <th>41</th>\n",
       "      <td>submitted / declined / declined / declined</td>\n",
       "      <td>2</td>\n",
       "      <td>0.02</td>\n",
       "    </tr>\n",
       "    <tr>\n",
       "      <th>42</th>\n",
       "      <td>submitted / matched / declined / declined / declined</td>\n",
       "      <td>2</td>\n",
       "      <td>0.02</td>\n",
       "    </tr>\n",
       "    <tr>\n",
       "      <th>43</th>\n",
       "      <td>submitted / declined / submitted / declined / matched / declined</td>\n",
       "      <td>2</td>\n",
       "      <td>0.02</td>\n",
       "    </tr>\n",
       "    <tr>\n",
       "      <th>44</th>\n",
       "      <td>submitted / declined / submitted / matched</td>\n",
       "      <td>2</td>\n",
       "      <td>0.02</td>\n",
       "    </tr>\n",
       "    <tr>\n",
       "      <th>45</th>\n",
       "      <td>submitted / matched / declined / matched / matched / booked</td>\n",
       "      <td>2</td>\n",
       "      <td>0.02</td>\n",
       "    </tr>\n",
       "    <tr>\n",
       "      <th>46</th>\n",
       "      <td>submitted / declined / submitted / matched / declined / matched / declined</td>\n",
       "      <td>2</td>\n",
       "      <td>0.02</td>\n",
       "    </tr>\n",
       "    <tr>\n",
       "      <th>47</th>\n",
       "      <td>submitted / declined / submitted / matched / matched / booked</td>\n",
       "      <td>2</td>\n",
       "      <td>0.02</td>\n",
       "    </tr>\n",
       "    <tr>\n",
       "      <th>48</th>\n",
       "      <td>submitted / matched / declined / matched / declined / matched / booked</td>\n",
       "      <td>2</td>\n",
       "      <td>0.02</td>\n",
       "    </tr>\n",
       "    <tr>\n",
       "      <th>49</th>\n",
       "      <td>submitted / matched / matched / declined / booked</td>\n",
       "      <td>1</td>\n",
       "      <td>0.01</td>\n",
       "    </tr>\n",
       "    <tr>\n",
       "      <th>50</th>\n",
       "      <td>submitted / declined / matched / matched / declined</td>\n",
       "      <td>1</td>\n",
       "      <td>0.01</td>\n",
       "    </tr>\n",
       "    <tr>\n",
       "      <th>51</th>\n",
       "      <td>submitted / matched / declined / declined / declined / booked</td>\n",
       "      <td>1</td>\n",
       "      <td>0.01</td>\n",
       "    </tr>\n",
       "    <tr>\n",
       "      <th>52</th>\n",
       "      <td>submitted / matched / matched / declined / matched / declined</td>\n",
       "      <td>1</td>\n",
       "      <td>0.01</td>\n",
       "    </tr>\n",
       "    <tr>\n",
       "      <th>53</th>\n",
       "      <td>submitted / declined / declined / matched / declined</td>\n",
       "      <td>1</td>\n",
       "      <td>0.01</td>\n",
       "    </tr>\n",
       "    <tr>\n",
       "      <th>54</th>\n",
       "      <td>submitted / matched / declined / matched / matched / declined</td>\n",
       "      <td>1</td>\n",
       "      <td>0.01</td>\n",
       "    </tr>\n",
       "    <tr>\n",
       "      <th>55</th>\n",
       "      <td>submitted / matched / declined / matched / declined / matched / declined</td>\n",
       "      <td>1</td>\n",
       "      <td>0.01</td>\n",
       "    </tr>\n",
       "    <tr>\n",
       "      <th>56</th>\n",
       "      <td>declined / declined</td>\n",
       "      <td>1</td>\n",
       "      <td>0.01</td>\n",
       "    </tr>\n",
       "    <tr>\n",
       "      <th>57</th>\n",
       "      <td>submitted / matched / declined / matched</td>\n",
       "      <td>1</td>\n",
       "      <td>0.01</td>\n",
       "    </tr>\n",
       "    <tr>\n",
       "      <th>58</th>\n",
       "      <td>submitted / declined / matched / declined / declined</td>\n",
       "      <td>1</td>\n",
       "      <td>0.01</td>\n",
       "    </tr>\n",
       "  </tbody>\n",
       "</table>\n",
       "</div>"
      ],
      "text/plain": [
       "                                                                      to_state  \\\n",
       "0                                                         submitted / declined   \n",
       "1                                                                     declined   \n",
       "2                                               submitted / matched / declined   \n",
       "3                                                                    submitted   \n",
       "4                                                 submitted / matched / booked   \n",
       "5                                             submitted / submitted / declined   \n",
       "6                                   submitted / submitted / matched / declined   \n",
       "7                                  submitted / declined / submitted / declined   \n",
       "8                        submitted / declined / submitted / matched / declined   \n",
       "9                                                          submitted / matched   \n",
       "10                                    submitted / submitted / matched / booked   \n",
       "11                                    submitted / matched / matched / declined   \n",
       "12                                   submitted / declined / matched / declined   \n",
       "13                                submitted / submitted / submitted / declined   \n",
       "14                         submitted / matched / declined / matched / declined   \n",
       "15                                   submitted / matched / declined / declined   \n",
       "16                                             submitted / declined / declined   \n",
       "17                                             declined / submitted / declined   \n",
       "18                                             submitted / submitted / matched   \n",
       "19                         submitted / declined / submitted / matched / booked   \n",
       "20                                                       submitted / submitted   \n",
       "21                                   declined / submitted / matched / declined   \n",
       "22                                     submitted / matched / declined / booked   \n",
       "23                                            submitted / declined / submitted   \n",
       "24                                 submitted / submitted / declined / declined   \n",
       "25                           submitted / matched / declined / matched / booked   \n",
       "26                     submitted / declined / submitted / submitted / declined   \n",
       "27                       submitted / submitted / declined / matched / declined   \n",
       "28                                     submitted / declined / matched / booked   \n",
       "29                      submitted / submitted / submitted / matched / declined   \n",
       "30                                                                      booked   \n",
       "31                                      submitted / matched / matched / booked   \n",
       "32                        submitted / submitted / matched / matched / declined   \n",
       "33                          submitted / submitted / matched / matched / booked   \n",
       "34               submitted / submitted / matched / declined / matched / booked   \n",
       "35                         submitted / submitted / matched / declined / booked   \n",
       "36                                 submitted / submitted / submitted / matched   \n",
       "37                                           submitted / submitted / submitted   \n",
       "38                                     declined / submitted / matched / booked   \n",
       "39             submitted / submitted / matched / declined / matched / declined   \n",
       "40                       submitted / submitted / matched / declined / declined   \n",
       "41                                  submitted / declined / declined / declined   \n",
       "42                        submitted / matched / declined / declined / declined   \n",
       "43            submitted / declined / submitted / declined / matched / declined   \n",
       "44                                  submitted / declined / submitted / matched   \n",
       "45                 submitted / matched / declined / matched / matched / booked   \n",
       "46  submitted / declined / submitted / matched / declined / matched / declined   \n",
       "47               submitted / declined / submitted / matched / matched / booked   \n",
       "48      submitted / matched / declined / matched / declined / matched / booked   \n",
       "49                           submitted / matched / matched / declined / booked   \n",
       "50                         submitted / declined / matched / matched / declined   \n",
       "51               submitted / matched / declined / declined / declined / booked   \n",
       "52               submitted / matched / matched / declined / matched / declined   \n",
       "53                        submitted / declined / declined / matched / declined   \n",
       "54               submitted / matched / declined / matched / matched / declined   \n",
       "55    submitted / matched / declined / matched / declined / matched / declined   \n",
       "56                                                         declined / declined   \n",
       "57                                    submitted / matched / declined / matched   \n",
       "58                        submitted / declined / matched / declined / declined   \n",
       "\n",
       "    nb_records  percentage  \n",
       "0         4780       47.07  \n",
       "1         1827       17.99  \n",
       "2         1753       17.26  \n",
       "3          303        2.98  \n",
       "4          297        2.92  \n",
       "5          284        2.80  \n",
       "6          238        2.34  \n",
       "7          128        1.26  \n",
       "8           68        0.67  \n",
       "9           67        0.66  \n",
       "10          44        0.43  \n",
       "11          36        0.35  \n",
       "12          29        0.29  \n",
       "13          27        0.27  \n",
       "14          24        0.24  \n",
       "15          23        0.23  \n",
       "16          21        0.21  \n",
       "17          20        0.20  \n",
       "18          18        0.18  \n",
       "19          18        0.18  \n",
       "20          16        0.16  \n",
       "21          12        0.12  \n",
       "22          10        0.10  \n",
       "23          10        0.10  \n",
       "24           8        0.08  \n",
       "25           7        0.07  \n",
       "26           6        0.06  \n",
       "27           6        0.06  \n",
       "28           6        0.06  \n",
       "29           6        0.06  \n",
       "30           5        0.05  \n",
       "31           5        0.05  \n",
       "32           4        0.04  \n",
       "33           4        0.04  \n",
       "34           4        0.04  \n",
       "35           4        0.04  \n",
       "36           3        0.03  \n",
       "37           3        0.03  \n",
       "38           2        0.02  \n",
       "39           2        0.02  \n",
       "40           2        0.02  \n",
       "41           2        0.02  \n",
       "42           2        0.02  \n",
       "43           2        0.02  \n",
       "44           2        0.02  \n",
       "45           2        0.02  \n",
       "46           2        0.02  \n",
       "47           2        0.02  \n",
       "48           2        0.02  \n",
       "49           1        0.01  \n",
       "50           1        0.01  \n",
       "51           1        0.01  \n",
       "52           1        0.01  \n",
       "53           1        0.01  \n",
       "54           1        0.01  \n",
       "55           1        0.01  \n",
       "56           1        0.01  \n",
       "57           1        0.01  \n",
       "58           1        0.01  "
      ]
     },
     "execution_count": 51,
     "metadata": {},
     "output_type": "execute_result"
    }
   ],
   "source": [
    "top_champ(conversion_2,['to_state'],100)"
   ]
  },
  {
   "cell_type": "code",
   "execution_count": 52,
   "metadata": {},
   "outputs": [
    {
     "name": "stdout",
     "output_type": "stream",
     "text": [
      "(9676, 22)\n"
     ]
    },
    {
     "data": {
      "text/plain": [
       "(9676, 22)"
      ]
     },
     "execution_count": 52,
     "metadata": {},
     "output_type": "execute_result"
    }
   ],
   "source": [
    "print(transitions.drop_duplicates(['booking_request_id','city','space_id']).shape)\n",
    "transitions.drop_duplicates(['booking_request_id']).shape"
   ]
  },
  {
   "cell_type": "code",
   "execution_count": 53,
   "metadata": {},
   "outputs": [
    {
     "data": {
      "text/html": [
       "<div>\n",
       "<style scoped>\n",
       "    .dataframe tbody tr th:only-of-type {\n",
       "        vertical-align: middle;\n",
       "    }\n",
       "\n",
       "    .dataframe tbody tr th {\n",
       "        vertical-align: top;\n",
       "    }\n",
       "\n",
       "    .dataframe thead th {\n",
       "        text-align: right;\n",
       "    }\n",
       "</style>\n",
       "<table border=\"1\" class=\"dataframe\">\n",
       "  <thead>\n",
       "    <tr style=\"text-align: right;\">\n",
       "      <th></th>\n",
       "      <th>portfolio_type</th>\n",
       "      <th>floor_size</th>\n",
       "      <th>floor_size_unit</th>\n",
       "      <th>start_on</th>\n",
       "      <th>end_on</th>\n",
       "      <th>price</th>\n",
       "      <th>to_state_bf</th>\n",
       "      <th>to_state_af</th>\n",
       "      <th>time_booked</th>\n",
       "      <th>floor_size_m</th>\n",
       "    </tr>\n",
       "  </thead>\n",
       "  <tbody>\n",
       "    <tr>\n",
       "      <th>230</th>\n",
       "      <td>3.0</td>\n",
       "      <td>1000.0</td>\n",
       "      <td>0.0</td>\n",
       "      <td>2018-06-11</td>\n",
       "      <td>2018-06-17</td>\n",
       "      <td>500000.0</td>\n",
       "      <td>declined</td>\n",
       "      <td>declined</td>\n",
       "      <td>6.0</td>\n",
       "      <td>90.0</td>\n",
       "    </tr>\n",
       "    <tr>\n",
       "      <th>231</th>\n",
       "      <td>3.0</td>\n",
       "      <td>1000.0</td>\n",
       "      <td>0.0</td>\n",
       "      <td>2018-06-11</td>\n",
       "      <td>2018-06-17</td>\n",
       "      <td>500000.0</td>\n",
       "      <td>submitted</td>\n",
       "      <td>submitted</td>\n",
       "      <td>6.0</td>\n",
       "      <td>90.0</td>\n",
       "    </tr>\n",
       "    <tr>\n",
       "      <th>232</th>\n",
       "      <td>3.0</td>\n",
       "      <td>1000.0</td>\n",
       "      <td>0.0</td>\n",
       "      <td>2018-06-11</td>\n",
       "      <td>2018-06-17</td>\n",
       "      <td>500000.0</td>\n",
       "      <td>declined</td>\n",
       "      <td>declined</td>\n",
       "      <td>6.0</td>\n",
       "      <td>90.0</td>\n",
       "    </tr>\n",
       "    <tr>\n",
       "      <th>233</th>\n",
       "      <td>3.0</td>\n",
       "      <td>1000.0</td>\n",
       "      <td>0.0</td>\n",
       "      <td>2018-06-11</td>\n",
       "      <td>2018-06-17</td>\n",
       "      <td>500000.0</td>\n",
       "      <td>submitted</td>\n",
       "      <td>declined</td>\n",
       "      <td>6.0</td>\n",
       "      <td>90.0</td>\n",
       "    </tr>\n",
       "  </tbody>\n",
       "</table>\n",
       "</div>"
      ],
      "text/plain": [
       "     portfolio_type  floor_size  floor_size_unit   start_on     end_on  \\\n",
       "230             3.0      1000.0              0.0 2018-06-11 2018-06-17   \n",
       "231             3.0      1000.0              0.0 2018-06-11 2018-06-17   \n",
       "232             3.0      1000.0              0.0 2018-06-11 2018-06-17   \n",
       "233             3.0      1000.0              0.0 2018-06-11 2018-06-17   \n",
       "\n",
       "        price to_state_bf to_state_af  time_booked  floor_size_m  \n",
       "230  500000.0    declined    declined          6.0          90.0  \n",
       "231  500000.0   submitted   submitted          6.0          90.0  \n",
       "232  500000.0    declined    declined          6.0          90.0  \n",
       "233  500000.0   submitted    declined          6.0          90.0  "
      ]
     },
     "execution_count": 53,
     "metadata": {},
     "output_type": "execute_result"
    }
   ],
   "source": [
    "test = total_ok[(total_ok['booking_request_id']==114598.0)]\n",
    "test.iloc[:,10:20]\\\n",
    "#[['created_at','transition_ts','booking_request_id','space_id','to_state','start_on','end_on','time_booked']]"
   ]
  },
  {
   "cell_type": "markdown",
   "metadata": {},
   "source": [
    "# studies of bookings ok"
   ]
  },
  {
   "cell_type": "code",
   "execution_count": 55,
   "metadata": {},
   "outputs": [],
   "source": [
    "bookings_ok = pd.merge(conversion[['booking_request_id','to_state','ending_stage']],\n",
    "                      total_ok.drop_duplicates('booking_request_id')\\\n",
    "                       [['idea_id','booking_request_id',\n",
    "                         'space_id','country', 'city','city_ok','capitale',\n",
    "       'portfolio_type', 'floor_size', 'floor_size_unit','floor_size_cat',\n",
    "                         'price','price_category',\n",
    "       'time_booked', 'time_after_creation', 'after_creation']],\\\n",
    "                       how='inner', on = 'booking_request_id')"
   ]
  },
  {
   "cell_type": "code",
   "execution_count": 56,
   "metadata": {},
   "outputs": [],
   "source": [
    "# reservation more than 1 day (without bug)\n",
    "bookings_ok =bookings_ok[bookings_ok['time_booked']>0]"
   ]
  },
  {
   "cell_type": "code",
   "execution_count": 57,
   "metadata": {},
   "outputs": [
    {
     "data": {
      "text/plain": [
       "count    7841.000000\n",
       "mean       54.971815\n",
       "std       192.477730\n",
       "min         1.000000\n",
       "25%         4.000000\n",
       "50%         8.000000\n",
       "75%        30.000000\n",
       "max      8115.000000\n",
       "Name: time_booked, dtype: float64"
      ]
     },
     "execution_count": 57,
     "metadata": {},
     "output_type": "execute_result"
    }
   ],
   "source": [
    "bookings_ok['time_booked'].describe()"
   ]
  },
  {
   "cell_type": "code",
   "execution_count": 58,
   "metadata": {},
   "outputs": [],
   "source": [
    "bookings_ok.loc[bookings_ok['time_booked']> 30,'times_booked_cat'] = 'sup_30'\n",
    "bookings_ok.loc[bookings_ok['time_booked']<=30,'times_booked_cat'] = '15_30'\n",
    "bookings_ok.loc[bookings_ok['time_booked']< 15,'times_booked_cat'] = '10_15'\n",
    "bookings_ok.loc[bookings_ok['time_booked']< 10,'times_booked_cat'] = '7_10'\n",
    "bookings_ok.loc[bookings_ok['time_booked']< 7,'times_booked_cat'] = '5_7'\n",
    "bookings_ok.loc[bookings_ok['time_booked']< 5,'times_booked_cat'] = '3_5'\n",
    "bookings_ok.loc[bookings_ok['time_booked']< 3,'times_booked_cat'] = 'inf_3'"
   ]
  },
  {
   "cell_type": "code",
   "execution_count": 59,
   "metadata": {},
   "outputs": [
    {
     "name": "stdout",
     "output_type": "stream",
     "text": [
      "7 distinct values for the feature ['times_booked_cat']\n"
     ]
    },
    {
     "data": {
      "text/html": [
       "<div>\n",
       "<style scoped>\n",
       "    .dataframe tbody tr th:only-of-type {\n",
       "        vertical-align: middle;\n",
       "    }\n",
       "\n",
       "    .dataframe tbody tr th {\n",
       "        vertical-align: top;\n",
       "    }\n",
       "\n",
       "    .dataframe thead th {\n",
       "        text-align: right;\n",
       "    }\n",
       "</style>\n",
       "<table border=\"1\" class=\"dataframe\">\n",
       "  <thead>\n",
       "    <tr style=\"text-align: right;\">\n",
       "      <th></th>\n",
       "      <th>times_booked_cat</th>\n",
       "      <th>nb_records</th>\n",
       "      <th>percentage</th>\n",
       "    </tr>\n",
       "  </thead>\n",
       "  <tbody>\n",
       "    <tr>\n",
       "      <th>0</th>\n",
       "      <td>sup_30</td>\n",
       "      <td>1699</td>\n",
       "      <td>21.67</td>\n",
       "    </tr>\n",
       "    <tr>\n",
       "      <th>1</th>\n",
       "      <td>inf_3</td>\n",
       "      <td>1548</td>\n",
       "      <td>19.74</td>\n",
       "    </tr>\n",
       "    <tr>\n",
       "      <th>2</th>\n",
       "      <td>5_7</td>\n",
       "      <td>1269</td>\n",
       "      <td>16.18</td>\n",
       "    </tr>\n",
       "    <tr>\n",
       "      <th>3</th>\n",
       "      <td>15_30</td>\n",
       "      <td>1139</td>\n",
       "      <td>14.53</td>\n",
       "    </tr>\n",
       "    <tr>\n",
       "      <th>4</th>\n",
       "      <td>10_15</td>\n",
       "      <td>867</td>\n",
       "      <td>11.06</td>\n",
       "    </tr>\n",
       "    <tr>\n",
       "      <th>5</th>\n",
       "      <td>3_5</td>\n",
       "      <td>671</td>\n",
       "      <td>8.56</td>\n",
       "    </tr>\n",
       "    <tr>\n",
       "      <th>6</th>\n",
       "      <td>7_10</td>\n",
       "      <td>648</td>\n",
       "      <td>8.26</td>\n",
       "    </tr>\n",
       "  </tbody>\n",
       "</table>\n",
       "</div>"
      ],
      "text/plain": [
       "  times_booked_cat  nb_records  percentage\n",
       "0           sup_30        1699       21.67\n",
       "1            inf_3        1548       19.74\n",
       "2              5_7        1269       16.18\n",
       "3            15_30        1139       14.53\n",
       "4            10_15         867       11.06\n",
       "5              3_5         671        8.56\n",
       "6             7_10         648        8.26"
      ]
     },
     "execution_count": 59,
     "metadata": {},
     "output_type": "execute_result"
    }
   ],
   "source": [
    "top_champ(bookings_ok,['times_booked_cat'],100)"
   ]
  },
  {
   "cell_type": "code",
   "execution_count": 654,
   "metadata": {},
   "outputs": [],
   "source": [
    "bookings_ok.to_csv('bookings_ok.csv') "
   ]
  },
  {
   "cell_type": "code",
   "execution_count": 526,
   "metadata": {},
   "outputs": [],
   "source": [
    "# finished bookings : either declined or booking\n",
    "bookings_ok = bookings_ok[bookings_ok['ending_stage'].isin(['declined','booked'])]"
   ]
  },
  {
   "cell_type": "code",
   "execution_count": 527,
   "metadata": {},
   "outputs": [
    {
     "name": "stdout",
     "output_type": "stream",
     "text": [
      "2 distinct values for the feature ['ending_stage']\n"
     ]
    },
    {
     "data": {
      "text/html": [
       "<div>\n",
       "<style scoped>\n",
       "    .dataframe tbody tr th:only-of-type {\n",
       "        vertical-align: middle;\n",
       "    }\n",
       "\n",
       "    .dataframe tbody tr th {\n",
       "        vertical-align: top;\n",
       "    }\n",
       "\n",
       "    .dataframe thead th {\n",
       "        text-align: right;\n",
       "    }\n",
       "</style>\n",
       "<table border=\"1\" class=\"dataframe\">\n",
       "  <thead>\n",
       "    <tr style=\"text-align: right;\">\n",
       "      <th></th>\n",
       "      <th>ending_stage</th>\n",
       "      <th>nb_records</th>\n",
       "      <th>percentage</th>\n",
       "    </tr>\n",
       "  </thead>\n",
       "  <tbody>\n",
       "    <tr>\n",
       "      <th>0</th>\n",
       "      <td>declined</td>\n",
       "      <td>7354</td>\n",
       "      <td>95.79</td>\n",
       "    </tr>\n",
       "    <tr>\n",
       "      <th>1</th>\n",
       "      <td>booked</td>\n",
       "      <td>323</td>\n",
       "      <td>4.21</td>\n",
       "    </tr>\n",
       "  </tbody>\n",
       "</table>\n",
       "</div>"
      ],
      "text/plain": [
       "  ending_stage  nb_records  percentage\n",
       "0     declined        7354       95.79\n",
       "1       booked         323        4.21"
      ]
     },
     "execution_count": 527,
     "metadata": {},
     "output_type": "execute_result"
    }
   ],
   "source": [
    "top_champ(bookings_ok,['ending_stage'],100)"
   ]
  },
  {
   "cell_type": "code",
   "execution_count": 533,
   "metadata": {},
   "outputs": [
    {
     "data": {
      "text/plain": [
       "count    2397.000000\n",
       "mean      102.333333\n",
       "std       198.349074\n",
       "min         2.000000\n",
       "25%        31.000000\n",
       "50%        50.000000\n",
       "75%       108.000000\n",
       "max      4700.000000\n",
       "Name: floor_size, dtype: float64"
      ]
     },
     "execution_count": 533,
     "metadata": {},
     "output_type": "execute_result"
    }
   ],
   "source": [
    "bookings_ok = bookings_ok[['ending_stage','country','city','portfolio_type','floor_size','floor_size_unit','time_booked','after_creation']]\n",
    "\n",
    "bookings_ok.loc[bookings_ok['floor_size_unit']==1,'floor_size'].describe()\n",
    "#bookings_ok.loc[bookings_ok['floor_size']>1000,'floor_size_ok'] = \n",
    "\n"
   ]
  },
  {
   "cell_type": "code",
   "execution_count": 529,
   "metadata": {},
   "outputs": [
    {
     "data": {
      "text/plain": [
       "Index(['booking_request_id', 'to_state', 'ending_stage', 'idea_id', 'space_id',\n",
       "       'country', 'city', 'portfolio_type', 'floor_size', 'floor_size_unit',\n",
       "       'time_booked', 'price', 'time_after_creation', 'after_creation'],\n",
       "      dtype='object')"
      ]
     },
     "execution_count": 529,
     "metadata": {},
     "output_type": "execute_result"
    }
   ],
   "source": [
    "bookings_ok.columns"
   ]
  },
  {
   "cell_type": "code",
   "execution_count": 515,
   "metadata": {},
   "outputs": [
    {
     "name": "stdout",
     "output_type": "stream",
     "text": [
      "9 distinct values for the feature ['portfolio_type']\n"
     ]
    },
    {
     "data": {
      "text/html": [
       "<div>\n",
       "<style scoped>\n",
       "    .dataframe tbody tr th:only-of-type {\n",
       "        vertical-align: middle;\n",
       "    }\n",
       "\n",
       "    .dataframe tbody tr th {\n",
       "        vertical-align: top;\n",
       "    }\n",
       "\n",
       "    .dataframe thead th {\n",
       "        text-align: right;\n",
       "    }\n",
       "</style>\n",
       "<table border=\"1\" class=\"dataframe\">\n",
       "  <thead>\n",
       "    <tr style=\"text-align: right;\">\n",
       "      <th></th>\n",
       "      <th>portfolio_type</th>\n",
       "      <th>nb_records</th>\n",
       "      <th>percentage</th>\n",
       "    </tr>\n",
       "  </thead>\n",
       "  <tbody>\n",
       "    <tr>\n",
       "      <th>0</th>\n",
       "      <td>3.0</td>\n",
       "      <td>4254</td>\n",
       "      <td>55.41</td>\n",
       "    </tr>\n",
       "    <tr>\n",
       "      <th>1</th>\n",
       "      <td>8.0</td>\n",
       "      <td>1517</td>\n",
       "      <td>19.76</td>\n",
       "    </tr>\n",
       "    <tr>\n",
       "      <th>2</th>\n",
       "      <td>7.0</td>\n",
       "      <td>479</td>\n",
       "      <td>6.24</td>\n",
       "    </tr>\n",
       "    <tr>\n",
       "      <th>3</th>\n",
       "      <td>4.0</td>\n",
       "      <td>328</td>\n",
       "      <td>4.27</td>\n",
       "    </tr>\n",
       "    <tr>\n",
       "      <th>4</th>\n",
       "      <td>5.0</td>\n",
       "      <td>320</td>\n",
       "      <td>4.17</td>\n",
       "    </tr>\n",
       "    <tr>\n",
       "      <th>5</th>\n",
       "      <td>1.0</td>\n",
       "      <td>270</td>\n",
       "      <td>3.52</td>\n",
       "    </tr>\n",
       "    <tr>\n",
       "      <th>6</th>\n",
       "      <td>6.0</td>\n",
       "      <td>243</td>\n",
       "      <td>3.17</td>\n",
       "    </tr>\n",
       "    <tr>\n",
       "      <th>7</th>\n",
       "      <td>2.0</td>\n",
       "      <td>162</td>\n",
       "      <td>2.11</td>\n",
       "    </tr>\n",
       "    <tr>\n",
       "      <th>8</th>\n",
       "      <td>0.0</td>\n",
       "      <td>104</td>\n",
       "      <td>1.35</td>\n",
       "    </tr>\n",
       "  </tbody>\n",
       "</table>\n",
       "</div>"
      ],
      "text/plain": [
       "   portfolio_type  nb_records  percentage\n",
       "0             3.0        4254       55.41\n",
       "1             8.0        1517       19.76\n",
       "2             7.0         479        6.24\n",
       "3             4.0         328        4.27\n",
       "4             5.0         320        4.17\n",
       "5             1.0         270        3.52\n",
       "6             6.0         243        3.17\n",
       "7             2.0         162        2.11\n",
       "8             0.0         104        1.35"
      ]
     },
     "execution_count": 515,
     "metadata": {},
     "output_type": "execute_result"
    }
   ],
   "source": [
    "top_champ(bookings_ok,['portfolio_type'],10)"
   ]
  },
  {
   "cell_type": "markdown",
   "metadata": {},
   "source": [
    "# ML "
   ]
  },
  {
   "cell_type": "code",
   "execution_count": 63,
   "metadata": {},
   "outputs": [
    {
     "data": {
      "text/plain": [
       "Index(['created_at', 'category_x', 'idea_id', 'transition_ts', 'category_y',\n",
       "       'booking_request_id', 'to_state', 'space_id', 'country', 'city',\n",
       "       'portfolio_type', 'floor_size', 'floor_size_unit', 'start_on', 'end_on',\n",
       "       'price', 'to_state_bf', 'to_state_af', 'time_booked', 'floor_size_m',\n",
       "       'floor_size_cat', 'price_category', 'city_ok', 'capitale',\n",
       "       'time_after_creation', 'after_creation'],\n",
       "      dtype='object')"
      ]
     },
     "execution_count": 63,
     "metadata": {},
     "output_type": "execute_result"
    }
   ],
   "source": [
    "total_ok.columns"
   ]
  },
  {
   "cell_type": "code",
   "execution_count": 65,
   "metadata": {},
   "outputs": [
    {
     "data": {
      "text/plain": [
       "Text(0.5, 1.0, 'Represents the correlations betweeen features')"
      ]
     },
     "execution_count": 65,
     "metadata": {},
     "output_type": "execute_result"
    },
    {
     "data": {
      "image/png": "[encoded data removed]",
      "text/plain": [
       "<Figure size 1296x1296 with 2 Axes>"
      ]
     },
     "metadata": {
      "needs_background": "light"
     },
     "output_type": "display_data"
    }
   ],
   "source": [
    "tab_corr = total_ok.corr()\n",
    "plt.figure(figsize=(18, 18))\n",
    "sns.heatmap(tab_corr, vmax=1, square=True,annot=True,cmap='viridis')\n",
    "plt.title('Represents the correlations betweeen features')"
   ]
  },
  {
   "cell_type": "code",
   "execution_count": null,
   "metadata": {},
   "outputs": [],
   "source": [
    "from sklearn.ensemble import RandomForestClassifier\n",
    "from sklearn.datasets import make_classification"
   ]
  },
  {
   "cell_type": "code",
   "execution_count": null,
   "metadata": {},
   "outputs": [],
   "source": []
  },
  {
   "cell_type": "code",
   "execution_count": null,
   "metadata": {},
   "outputs": [],
   "source": []
  },
  {
   "cell_type": "code",
   "execution_count": null,
   "metadata": {},
   "outputs": [],
   "source": []
  },
  {
   "cell_type": "code",
   "execution_count": null,
   "metadata": {},
   "outputs": [],
   "source": []
  },
  {
   "cell_type": "code",
   "execution_count": null,
   "metadata": {},
   "outputs": [],
   "source": []
  },
  {
   "cell_type": "code",
   "execution_count": null,
   "metadata": {},
   "outputs": [],
   "source": [
    "from sklearn.decomposition import PCA\n",
    "from sklearn.decomposition import FactorAnalysis\n",
    "\n",
    "pca = PCA(n_components=2)\n",
    "principalComponents = pca.fit_transform(x)\n",
    "principalDf = pd.DataFrame(data = principalComponents\n",
    "             , columns = ['principal component 1', 'principal component 2'])"
   ]
  },
  {
   "cell_type": "code",
   "execution_count": null,
   "metadata": {},
   "outputs": [],
   "source": [
    "X = bookings.iloc[:,0:4].values\n",
    "y = df.iloc[:,4].values"
   ]
  },
  {
   "cell_type": "code",
   "execution_count": null,
   "metadata": {},
   "outputs": [],
   "source": []
  }
 ],
 "metadata": {
  "kernelspec": {
   "display_name": "Python 3",
   "language": "python",
   "name": "python3"
  },
  "language_info": {
   "codemirror_mode": {
    "name": "ipython",
    "version": 3
   },
   "file_extension": ".py",
   "mimetype": "text/x-python",
   "name": "python",
   "nbconvert_exporter": "python",
   "pygments_lexer": "ipython3",
   "version": "3.6.6"
  },
  "toc-autonumbering": true
 },
 "nbformat": 4,
 "nbformat_minor": 2
}
