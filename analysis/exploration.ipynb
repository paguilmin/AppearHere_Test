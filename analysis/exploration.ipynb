{
 "cells": [
  {
   "cell_type": "markdown",
   "metadata": {},
   "source": [
    "# Appear Here Test\n",
    "Goal : Answer to the two parts of appear here take home test\n",
    "- part 1 : REDSHIFT SQL only writting to answer the three questions\n",
    "- part 2 : ML solutions to improve booking patterns of appear here clients\n",
    "\n",
    "Author : Pauline Guilmin\n",
    "\n",
    "Created: **24/01/19**\n",
    "Modifié le : **25/01/19**\n",
    "\n",
    "\n",
    "Données utilisées : \n",
    "- ideas.csv: \n",
    "    - creation date \n",
    "    - space category\n",
    "    - id\n",
    "- transitions.csv\n",
    "    - transition time\n",
    "    - booking id\n",
    "    - informations about space (id, city, country, category, floor_size, ...)\n",
    "    - information about booking proposition (price, check-in,check-out, state ...)\n",
    "\n",
    "Etapes utilisées :\n",
    "- PART I : SQL \n",
    "    - 1st question\n",
    "    - 2nd question\n",
    "    - 3d question\n",
    "- PART 2 : ML \n",
    "- import librairies\n",
    "- charge datasets : \n",
    "    - import \n",
    "    - cleaning and add features\n",
    "    - sort and drop duplicates\n",
    "- explore **ideas**\n",
    "- explore **transitions**\n",
    "    - add some features : to_state_af, to_state_bf, capital, time_booked\n",
    "- merge ideas and transitions : explore **total**\n",
    "    - add features : time_to_booking, time_to_check_in\n",
    "- suppress ideas without transitions : explore **total_ok**\n",
    "- create table **conversion** \n",
    "    - pattern for each booking id\n",
    "    - pattern for each new submission (submitted state)\n",
    "- create table for MCA on R **booking_acm**\n",
    "- ML table **booking_ml**\n",
    "    - adapt features and create new \n",
    "    - correlation between features\n",
    "    - deal with imbalanced data\n",
    "    - Random forest \n",
    "    - Logistic regression\n"
   ]
  },
  {
   "cell_type": "markdown",
   "metadata": {},
   "source": [
    "# import libraries"
   ]
  },
  {
   "cell_type": "code",
   "execution_count": 1,
   "metadata": {},
   "outputs": [],
   "source": [
    "import numpy as np \n",
    "import pandas as pd\n",
    "pd.options.display.max_colwidth = 500\n",
    "import matplotlib.pyplot as plt\n",
    "import seaborn as sns\n",
    "import datetime"
   ]
  },
  {
   "cell_type": "code",
   "execution_count": 2,
   "metadata": {},
   "outputs": [
    {
     "name": "stdout",
     "output_type": "stream",
     "text": [
      "/Users/paguilmin/Documents/AppearHere_Test/analysis\n"
     ]
    }
   ],
   "source": [
    "!pwd"
   ]
  },
  {
   "cell_type": "markdown",
   "metadata": {},
   "source": [
    "# useful fonctions"
   ]
  },
  {
   "cell_type": "code",
   "execution_count": 18,
   "metadata": {},
   "outputs": [],
   "source": [
    "def top_champ(df,feature,number) :\n",
    "    df_ok = df.copy()\n",
    "    df_ok[feature] = df_ok[feature].fillna('unknown')\n",
    "    top_10 = df_ok.groupby(feature).agg('size').sort_values(ascending=False).to_frame().reset_index()\n",
    "    top_10.columns=[str(x) for x in feature]+['nb_records']\n",
    "    top_10['percentage']=(100.* (top_10['nb_records'] / top_10['nb_records'].sum())).round(2)\n",
    "    print('%0.0f distinct values for the feature %s' %(top_10.shape[0],feature))\n",
    "    return top_10.head(number)"
   ]
  },
  {
   "cell_type": "markdown",
   "metadata": {},
   "source": [
    "# Charge datasets"
   ]
  },
  {
   "cell_type": "markdown",
   "metadata": {},
   "source": [
    "## import csv"
   ]
  },
  {
   "cell_type": "code",
   "execution_count": 3,
   "metadata": {},
   "outputs": [],
   "source": [
    "path = '../data/'\n",
    "ideas = pd.read_csv(path+'ideas.csv',sep=',')\n",
    "transitions = pd.read_csv(path+'transitions.csv',sep=',')"
   ]
  },
  {
   "cell_type": "markdown",
   "metadata": {
    "toc-hr-collapsed": true
   },
   "source": [
    "## cleaning"
   ]
  },
  {
   "cell_type": "markdown",
   "metadata": {},
   "source": [
    "### supress first column unuseful"
   ]
  },
  {
   "cell_type": "code",
   "execution_count": 4,
   "metadata": {},
   "outputs": [],
   "source": [
    "ideas = ideas.drop(['Unnamed: 0'],axis=1)\n",
    "transitions.columns\n",
    "transitions = transitions.drop(['Unnamed: 0'],axis=1)"
   ]
  },
  {
   "cell_type": "code",
   "execution_count": 5,
   "metadata": {},
   "outputs": [],
   "source": [
    "# some dates are not well written : 0019 instead of 2019 and 0020 instead of 2020\n",
    "transitions.loc[transitions['start_on'].str.startswith('2')==False,'start_on'] = \\\n",
    "transitions.loc[transitions['start_on'].str.startswith('2')==False,'start_on'].str.replace('0019','2019')\n",
    "transitions.loc[transitions['end_on'].str.startswith('2')==False,'end_on'] = \\\n",
    "transitions.loc[transitions['end_on'].str.startswith('2')==False,'end_on'].str.replace('0020','2020')\n",
    "transitions.loc[transitions['end_on'].str.startswith('2')==False,'end_on'] = \\\n",
    "transitions.loc[transitions['end_on'].str.startswith('2')==False,'end_on'].str.replace('0019','2019')"
   ]
  },
  {
   "cell_type": "markdown",
   "metadata": {},
   "source": [
    "### check nan"
   ]
  },
  {
   "cell_type": "code",
   "execution_count": 13,
   "metadata": {},
   "outputs": [],
   "source": [
    "for i in range(3) : \n",
    "    sum_na_1 = ideas.iloc[:,i].isnull().sum()#.sum()\n",
    "    if sum_na_1 !=0 : print('ideas number of colonne containing nan %0.0f' %(i))\n",
    "for i in range(14) : \n",
    "    sum_na_2 = transitions.iloc[:,i].isnull().sum()#.sum()\n",
    "    if sum_na_2 !=0 : print('transitions number of colonne containing nan %0.0f' %(i))"
   ]
  },
  {
   "cell_type": "markdown",
   "metadata": {},
   "source": [
    "### manage datetimes"
   ]
  },
  {
   "cell_type": "code",
   "execution_count": 14,
   "metadata": {},
   "outputs": [],
   "source": [
    "###TRANSITIONS###\n",
    "#time of booking\n",
    "transitions.loc[:,'transition_ts'] = pd.to_datetime(transitions.loc[:,'transition_ts'])\n",
    "transitions.loc[:,'transition_ts_year'] = transitions.loc[:,'transition_ts'].dt.year\n",
    "transitions.loc[:,'transition_ts_mth'] = transitions.loc[:,'transition_ts'].dt.month\n",
    "\n",
    "#check-in \n",
    "transitions.loc[:,'start_on'] = pd.to_datetime(transitions.loc[:,'start_on'])\n",
    "transitions.loc[:,'start_on_year'] = transitions.loc[:,'start_on'].dt.year\n",
    "transitions.loc[:,'start_on_mth'] = transitions.loc[:,'start_on'].dt.month\n",
    "\n",
    "#check-out\n",
    "transitions.loc[:,'end_on'] = pd.to_datetime(transitions.loc[:,'end_on'])\n",
    "transitions.loc[:,'end_on_year'] = transitions.loc[:,'start_on'].dt.year\n",
    "transitions.loc[:,'end_on_month'] = transitions.loc[:,'start_on'].dt.month\n",
    "\n",
    "# time-booking\n",
    "transitions['time_booked'] = transitions.loc[:,'end_on']- transitions.loc[:,'start_on']\n",
    "transitions.loc[:,'time_booked'] = transitions.loc[:,'time_booked']/ np.timedelta64(1, 'D')"
   ]
  },
  {
   "cell_type": "code",
   "execution_count": 15,
   "metadata": {},
   "outputs": [],
   "source": [
    "###IDEAS###\n",
    "#time of creation\n",
    "ideas.loc[:,'created_at'] = pd.to_datetime(ideas.loc[:,'created_at'])\n",
    "ideas.loc[:,'created_at_year'] = ideas.loc[:,'created_at'].dt.year\n",
    "ideas.loc[:,'created_at_mth'] = ideas.loc[:,'created_at'].dt.month"
   ]
  },
  {
   "cell_type": "markdown",
   "metadata": {},
   "source": [
    "### add columns"
   ]
  },
  {
   "cell_type": "code",
   "execution_count": 16,
   "metadata": {},
   "outputs": [],
   "source": [
    "# state before \n",
    "transitions['to_state_bf']= transitions['to_state'].shift(1)\n",
    "# state after : unuseful \n",
    "transitions['to_state_af']= transitions['to_state'].shift(-1)"
   ]
  },
  {
   "cell_type": "markdown",
   "metadata": {},
   "source": [
    "## sort and drop duplicates"
   ]
  },
  {
   "cell_type": "code",
   "execution_count": 17,
   "metadata": {},
   "outputs": [
    {
     "name": "stdout",
     "output_type": "stream",
     "text": [
      "transitions : Nb records before drop_duplicates 21062 :\n",
      "transitions :Nb records before drop_duplicates 21062 :\n",
      "ideas : Nb records before drop_duplicates 4000 :\n",
      "ideas : Nb records before drop_duplicates 4000 :\n",
      "There is no perfect duplicates\n"
     ]
    }
   ],
   "source": [
    "transitions = transitions.sort_values(['idea_id','space_id','transition_ts'])\n",
    "print('transitions : Nb records before drop_duplicates %0.0f :' %(transitions.shape[0]))\n",
    "transitions = transitions.drop_duplicates()\n",
    "print('transitions :Nb records before drop_duplicates %0.0f :' %(transitions.shape[0]))\n",
    "\n",
    "print('ideas : Nb records before drop_duplicates %0.0f :' %(ideas.shape[0]))\n",
    "ideas = ideas.drop_duplicates()\n",
    "print('ideas : Nb records before drop_duplicates %0.0f :' %(ideas.shape[0]))\n",
    "print('There is no perfect duplicates')"
   ]
  },
  {
   "cell_type": "markdown",
   "metadata": {},
   "source": [
    "# ideas exploration"
   ]
  },
  {
   "cell_type": "markdown",
   "metadata": {},
   "source": [
    "## structure"
   ]
  },
  {
   "cell_type": "code",
   "execution_count": 19,
   "metadata": {},
   "outputs": [
    {
     "name": "stdout",
     "output_type": "stream",
     "text": [
      "ideas csv contains 4000 rows and 5 columns\n"
     ]
    },
    {
     "data": {
      "text/plain": [
       "created_at         4000\n",
       "category              6\n",
       "idea_id            4000\n",
       "created_at_year       2\n",
       "created_at_mth       12\n",
       "dtype: int64"
      ]
     },
     "execution_count": 19,
     "metadata": {},
     "output_type": "execute_result"
    }
   ],
   "source": [
    "print('ideas csv contains %0.0f rows and %0.0f columns' %(ideas.shape[0],ideas.shape[1]))\n",
    "ideas.nunique()"
   ]
  },
  {
   "cell_type": "markdown",
   "metadata": {},
   "source": [
    "## explore some features"
   ]
  },
  {
   "cell_type": "markdown",
   "metadata": {},
   "source": [
    "### space category"
   ]
  },
  {
   "cell_type": "code",
   "execution_count": 20,
   "metadata": {},
   "outputs": [
    {
     "name": "stdout",
     "output_type": "stream",
     "text": [
      "6 distinct values for the feature ['category']\n"
     ]
    },
    {
     "data": {
      "text/html": [
       "<div>\n",
       "<style scoped>\n",
       "    .dataframe tbody tr th:only-of-type {\n",
       "        vertical-align: middle;\n",
       "    }\n",
       "\n",
       "    .dataframe tbody tr th {\n",
       "        vertical-align: top;\n",
       "    }\n",
       "\n",
       "    .dataframe thead th {\n",
       "        text-align: right;\n",
       "    }\n",
       "</style>\n",
       "<table border=\"1\" class=\"dataframe\">\n",
       "  <thead>\n",
       "    <tr style=\"text-align: right;\">\n",
       "      <th></th>\n",
       "      <th>category</th>\n",
       "      <th>nb_records</th>\n",
       "      <th>percentage</th>\n",
       "    </tr>\n",
       "  </thead>\n",
       "  <tbody>\n",
       "    <tr>\n",
       "      <th>0</th>\n",
       "      <td>popup_shop</td>\n",
       "      <td>2174</td>\n",
       "      <td>54.35</td>\n",
       "    </tr>\n",
       "    <tr>\n",
       "      <th>1</th>\n",
       "      <td>private_event</td>\n",
       "      <td>546</td>\n",
       "      <td>13.65</td>\n",
       "    </tr>\n",
       "    <tr>\n",
       "      <th>2</th>\n",
       "      <td>popup_bar</td>\n",
       "      <td>533</td>\n",
       "      <td>13.32</td>\n",
       "    </tr>\n",
       "    <tr>\n",
       "      <th>3</th>\n",
       "      <td>unique</td>\n",
       "      <td>398</td>\n",
       "      <td>9.95</td>\n",
       "    </tr>\n",
       "    <tr>\n",
       "      <th>4</th>\n",
       "      <td>gallery</td>\n",
       "      <td>282</td>\n",
       "      <td>7.05</td>\n",
       "    </tr>\n",
       "    <tr>\n",
       "      <th>5</th>\n",
       "      <td>sample_sale</td>\n",
       "      <td>67</td>\n",
       "      <td>1.68</td>\n",
       "    </tr>\n",
       "  </tbody>\n",
       "</table>\n",
       "</div>"
      ],
      "text/plain": [
       "        category  nb_records  percentage\n",
       "0     popup_shop        2174       54.35\n",
       "1  private_event         546       13.65\n",
       "2      popup_bar         533       13.32\n",
       "3         unique         398        9.95\n",
       "4        gallery         282        7.05\n",
       "5    sample_sale          67        1.68"
      ]
     },
     "execution_count": 20,
     "metadata": {},
     "output_type": "execute_result"
    }
   ],
   "source": [
    "top_champ(ideas,['category'],10)"
   ]
  },
  {
   "cell_type": "markdown",
   "metadata": {},
   "source": [
    "### creation times"
   ]
  },
  {
   "cell_type": "code",
   "execution_count": 21,
   "metadata": {},
   "outputs": [
    {
     "name": "stdout",
     "output_type": "stream",
     "text": [
      "Ideas have been created from 2018-01-01 17:01:01.489000 to 2019-01-21 10:19:35.205000\n"
     ]
    }
   ],
   "source": [
    "min_created = min(ideas['created_at'])\n",
    "max_created = max(ideas['created_at'])\n",
    "print('Ideas have been created from %s to %s' %(min_created, max_created))"
   ]
  },
  {
   "cell_type": "markdown",
   "metadata": {},
   "source": [
    "# transitions exploration"
   ]
  },
  {
   "cell_type": "markdown",
   "metadata": {},
   "source": [
    "## structure"
   ]
  },
  {
   "cell_type": "code",
   "execution_count": 22,
   "metadata": {},
   "outputs": [
    {
     "name": "stdout",
     "output_type": "stream",
     "text": [
      "transitions csv contains 21062 rows and 23 columns\n"
     ]
    },
    {
     "data": {
      "text/plain": [
       "transition_ts         21062\n",
       "category                  6\n",
       "idea_id                2677\n",
       "booking_request_id     9942\n",
       "to_state                  4\n",
       "space_id               2065\n",
       "country                   3\n",
       "city                    110\n",
       "portfolio_type            9\n",
       "floor_size              548\n",
       "floor_size_unit           2\n",
       "start_on                503\n",
       "end_on                  618\n",
       "price                  3593\n",
       "transition_ts_year        2\n",
       "transition_ts_mth        12\n",
       "start_on_year             3\n",
       "start_on_mth             12\n",
       "end_on_year               3\n",
       "end_on_month             12\n",
       "time_booked             279\n",
       "to_state_bf               4\n",
       "to_state_af               4\n",
       "dtype: int64"
      ]
     },
     "execution_count": 22,
     "metadata": {},
     "output_type": "execute_result"
    }
   ],
   "source": [
    "print('transitions csv contains %0.0f rows and %0.0f columns' %(transitions.shape[0],transitions.shape[1]))\n",
    "transitions.nunique()"
   ]
  },
  {
   "cell_type": "markdown",
   "metadata": {},
   "source": [
    "## explore some features"
   ]
  },
  {
   "cell_type": "markdown",
   "metadata": {},
   "source": [
    "### time_booked"
   ]
  },
  {
   "cell_type": "code",
   "execution_count": 23,
   "metadata": {},
   "outputs": [
    {
     "name": "stdout",
     "output_type": "stream",
     "text": [
      "count    21062.000000\n",
      "mean        41.054268\n",
      "std        172.739001\n",
      "min          0.000000\n",
      "25%          1.000000\n",
      "50%          6.000000\n",
      "75%         22.000000\n",
      "max       8115.000000\n",
      "Name: time_booked, dtype: float64\n",
      "\n",
      "0 days booked seem to be an error\n"
     ]
    }
   ],
   "source": [
    "print(transitions['time_booked'].describe())\n",
    "print('\\n0 days booked seem to be an error')\n",
    "#id_bk_notime = transitions.loc[transitions['time_booked']==0,'booking_request_id'].unique()"
   ]
  },
  {
   "cell_type": "markdown",
   "metadata": {},
   "source": [
    "### to_state"
   ]
  },
  {
   "cell_type": "markdown",
   "metadata": {},
   "source": [
    "#### ideas ended by a booking"
   ]
  },
  {
   "cell_type": "code",
   "execution_count": 24,
   "metadata": {},
   "outputs": [
    {
     "name": "stdout",
     "output_type": "stream",
     "text": [
      "Above 4000 ideas 328 ideas have been booked at least one time\n"
     ]
    }
   ],
   "source": [
    "states_ideas = transitions.groupby(['idea_id','to_state']).agg('size').to_frame().reset_index()\n",
    "idea_id_booked = states_ideas.loc[states_ideas['to_state']=='booked','idea_id'].unique()\n",
    "print('Above 4000 ideas %0.0f ideas have been booked at least one time' %len(idea_id_booked))\n",
    "#states_ideas[states_ideas['idea_id'].isin(idea_id_booked)]\n",
    "#I could have calculate it more simply but I wanted to explore other informations when I wrote that"
   ]
  },
  {
   "cell_type": "markdown",
   "metadata": {},
   "source": [
    "#### to_state_af"
   ]
  },
  {
   "cell_type": "code",
   "execution_count": 25,
   "metadata": {},
   "outputs": [
    {
     "name": "stdout",
     "output_type": "stream",
     "text": [
      "4 distinct values for the feature ['to_state_af']\n"
     ]
    },
    {
     "data": {
      "text/html": [
       "<div>\n",
       "<style scoped>\n",
       "    .dataframe tbody tr th:only-of-type {\n",
       "        vertical-align: middle;\n",
       "    }\n",
       "\n",
       "    .dataframe tbody tr th {\n",
       "        vertical-align: top;\n",
       "    }\n",
       "\n",
       "    .dataframe thead th {\n",
       "        text-align: right;\n",
       "    }\n",
       "</style>\n",
       "<table border=\"1\" class=\"dataframe\">\n",
       "  <thead>\n",
       "    <tr style=\"text-align: right;\">\n",
       "      <th></th>\n",
       "      <th>to_state_af</th>\n",
       "      <th>nb_records</th>\n",
       "      <th>percentage</th>\n",
       "    </tr>\n",
       "  </thead>\n",
       "  <tbody>\n",
       "    <tr>\n",
       "      <th>0</th>\n",
       "      <td>declined</td>\n",
       "      <td>1438</td>\n",
       "      <td>53.38</td>\n",
       "    </tr>\n",
       "    <tr>\n",
       "      <th>1</th>\n",
       "      <td>submitted</td>\n",
       "      <td>891</td>\n",
       "      <td>33.07</td>\n",
       "    </tr>\n",
       "    <tr>\n",
       "      <th>2</th>\n",
       "      <td>booked</td>\n",
       "      <td>256</td>\n",
       "      <td>9.50</td>\n",
       "    </tr>\n",
       "    <tr>\n",
       "      <th>3</th>\n",
       "      <td>matched</td>\n",
       "      <td>109</td>\n",
       "      <td>4.05</td>\n",
       "    </tr>\n",
       "  </tbody>\n",
       "</table>\n",
       "</div>"
      ],
      "text/plain": [
       "  to_state_af  nb_records  percentage\n",
       "0    declined        1438       53.38\n",
       "1   submitted         891       33.07\n",
       "2      booked         256        9.50\n",
       "3     matched         109        4.05"
      ]
     },
     "execution_count": 25,
     "metadata": {},
     "output_type": "execute_result"
    }
   ],
   "source": [
    "top_champ(transitions[transitions['to_state']=='matched'],['to_state_af'],10)"
   ]
  },
  {
   "cell_type": "markdown",
   "metadata": {},
   "source": [
    "#### to_state_bf"
   ]
  },
  {
   "cell_type": "code",
   "execution_count": 26,
   "metadata": {},
   "outputs": [
    {
     "name": "stdout",
     "output_type": "stream",
     "text": [
      "4 distinct values for the feature ['to_state_bf']\n",
      "  to_state_bf  nb_records  percentage\n",
      "0     matched         256       56.14\n",
      "1   submitted         145       31.80\n",
      "2    declined          33        7.24\n",
      "3      booked          22        4.82\n"
     ]
    },
    {
     "data": {
      "text/plain": [
       "array([  81,  105,  215,  230,  323,  430,  498, 1065, 1094, 1154, 1302,\n",
       "       1335, 1698, 1774, 1789, 1859, 1919, 2005, 2009, 2161, 2172, 2214,\n",
       "       2326, 2426, 2516, 2679, 2743, 2789, 3132, 3896])"
      ]
     },
     "execution_count": 26,
     "metadata": {},
     "output_type": "execute_result"
    }
   ],
   "source": [
    "print(top_champ(transitions[transitions['to_state']=='booked'],['to_state_bf'],10))\n",
    "transitions.loc[(transitions['to_state']=='booked') &\n",
    "           (transitions['to_state_bf']=='declined'),'idea_id'].unique()"
   ]
  },
  {
   "cell_type": "markdown",
   "metadata": {},
   "source": [
    "## floor size"
   ]
  },
  {
   "cell_type": "code",
   "execution_count": 27,
   "metadata": {},
   "outputs": [
    {
     "name": "stdout",
     "output_type": "stream",
     "text": [
      "Floor size unit : 0\n",
      "count    15269.000000\n",
      "mean      1477.198572\n",
      "std       2955.878932\n",
      "min          1.000000\n",
      "25%        300.000000\n",
      "50%        750.000000\n",
      "75%       1700.000000\n",
      "max      50000.000000\n",
      "Name: floor_size, dtype: float64\n",
      "Floor size unit : 1\n",
      "\n",
      "count    5793.000000\n",
      "mean      109.032971\n",
      "std       218.851472\n",
      "min         2.000000\n",
      "25%        33.000000\n",
      "50%        55.000000\n",
      "75%       110.000000\n",
      "max      4700.000000\n",
      "Name: floor_size, dtype: float64\n",
      "\n",
      "Boxplot depending floor size unit\n",
      "\n",
      "It seems to be 0 for sq feets and 1 for sq meters as  : 1 feet^2 = 0.09 m^2\n"
     ]
    },
    {
     "data": {
      "image/png": "[encoded data removed]",
      "text/plain": [
       "<Figure size 432x288 with 1 Axes>"
      ]
     },
     "metadata": {
      "needs_background": "light"
     },
     "output_type": "display_data"
    }
   ],
   "source": [
    "# Let's check the difference between floor size unit 0 and 1 \n",
    "print('Floor size unit : 0')\n",
    "print(transitions.loc[transitions['floor_size_unit']==0,'floor_size'].describe())\n",
    "print('Floor size unit : 1\\n')\n",
    "print(transitions.loc[transitions['floor_size_unit']==1,'floor_size'].describe())\n",
    "\n",
    "print('\\nBoxplot depending floor size unit')\n",
    "sns.boxplot(x=transitions.floor_size, y=transitions.floor_size_unit,orient=\"h\")\n",
    "print('\\nIt seems to be 0 for sq feets and 1 for sq meters as  : 1 feet^2 = 0.09 m^2')"
   ]
  },
  {
   "cell_type": "code",
   "execution_count": 28,
   "metadata": {},
   "outputs": [
    {
     "data": {
      "text/plain": [
       "country  floor_size_unit\n",
       "FR       1                   5787\n",
       "GB       0                  11664\n",
       "         1                      6\n",
       "US       0                   3605\n",
       "dtype: int64"
      ]
     },
     "execution_count": 28,
     "metadata": {},
     "output_type": "execute_result"
    }
   ],
   "source": [
    "#verification ok \n",
    "transitions.groupby(['country','floor_size_unit']).agg('size')"
   ]
  },
  {
   "cell_type": "code",
   "execution_count": 29,
   "metadata": {},
   "outputs": [
    {
     "name": "stdout",
     "output_type": "stream",
     "text": [
      "count    21062.000000\n",
      "mean      1100.891321\n",
      "std       2592.375283\n",
      "min          1.000000\n",
      "25%         65.000000\n",
      "50%        400.000000\n",
      "75%       1175.000000\n",
      "max      50000.000000\n",
      "Name: floor_size_m, dtype: float64\n",
      "count    21062.000000\n",
      "mean       126.362928\n",
      "std        254.152606\n",
      "min          0.000000\n",
      "25%         29.000000\n",
      "50%         63.000000\n",
      "75%        140.000000\n",
      "max       4700.000000\n",
      "Name: floor_size_m, dtype: float64\n"
     ]
    }
   ],
   "source": [
    "# put all in sq meters \n",
    "transitions.loc[:,'floor_size_m']=transitions.loc[:,'floor_size']\n",
    "print(transitions.loc[:,'floor_size_m'].describe())\n",
    "transitions.loc[transitions['floor_size_unit']==0,'floor_size_m']=round(transitions.loc[:,'floor_size_m']*0.09)\n",
    "print(transitions.loc[:,'floor_size_m'].describe())\n",
    "#anomaly sq meters below 1 \n",
    "transitions = transitions.loc[transitions['floor_size_m']>1]"
   ]
  },
  {
   "cell_type": "markdown",
   "metadata": {},
   "source": [
    "## prices"
   ]
  },
  {
   "cell_type": "code",
   "execution_count": 30,
   "metadata": {},
   "outputs": [
    {
     "name": "stdout",
     "output_type": "stream",
     "text": [
      "different prices for each space which means : each price depends also from other parameters such as       the time booked and floor size\n"
     ]
    },
    {
     "name": "stderr",
     "output_type": "stream",
     "text": [
      "/anaconda/envs/ah_test_env/lib/python3.6/site-packages/scipy/stats/stats.py:1713: FutureWarning: Using a non-tuple sequence for multidimensional indexing is deprecated; use `arr[tuple(seq)]` instead of `arr[seq]`. In the future this will be interpreted as an array index, `arr[np.array(seq)]`, which will result either in an error or a different result.\n",
      "  return np.add.reduce(sorted[indexer] * weights, axis=axis) / sumval\n"
     ]
    },
    {
     "name": "stdout",
     "output_type": "stream",
     "text": [
      "There is not linear regression : price must depend from multilinear combination and from other parameters\n"
     ]
    },
    {
     "data": {
      "image/png": "[encoded data removed]",
      "text/plain": [
       "<Figure size 432x288 with 2 Axes>"
      ]
     },
     "metadata": {
      "needs_background": "light"
     },
     "output_type": "display_data"
    }
   ],
   "source": [
    "transitions.groupby(['space_id','price']).agg('size').to_frame().reset_index()\n",
    "print('different prices for each space which means : each price depends also from other parameters such as \\\n",
    "      the time booked and floor size')\n",
    "fig, (ax1, ax2) = plt.subplots(2, 1)\n",
    "sns.regplot(x='time_booked', y=\"price\", data=transitions,ax=ax1)\n",
    "sns.regplot(x='floor_size', y=\"price\", data=transitions,ax=ax2)\n",
    "print('There is not linear regression : price must depend from multilinear combination and from other parameters')"
   ]
  },
  {
   "cell_type": "code",
   "execution_count": 31,
   "metadata": {},
   "outputs": [
    {
     "name": "stdout",
     "output_type": "stream",
     "text": [
      "count    2.049200e+04\n",
      "mean     1.858296e+06\n",
      "std      1.058641e+07\n",
      "min      0.000000e+00\n",
      "25%      9.000000e+04\n",
      "50%      2.800000e+05\n",
      "75%      9.121248e+05\n",
      "max      4.386000e+08\n",
      "Name: price, dtype: float64\n",
      "There is a lot of outliers, even showing percentiles instead of quartiles\n"
     ]
    },
    {
     "data": {
      "image/png": "[encoded data removed]",
      "text/plain": [
       "<Figure size 432x288 with 1 Axes>"
      ]
     },
     "metadata": {
      "needs_background": "light"
     },
     "output_type": "display_data"
    }
   ],
   "source": [
    "# price distribution\n",
    "print(transitions.price.describe())\n",
    "sns.boxplot(x=transitions.price,whis=[10,90])\n",
    "print('There is a lot of outliers, even showing percentiles instead of quartiles')\n",
    "#anomaly price equals 0\n",
    "transitions = transitions[transitions['price']!=0]"
   ]
  },
  {
   "cell_type": "markdown",
   "metadata": {},
   "source": [
    "## city"
   ]
  },
  {
   "cell_type": "markdown",
   "metadata": {},
   "source": [
    "### supress punctuation"
   ]
  },
  {
   "cell_type": "code",
   "execution_count": 32,
   "metadata": {},
   "outputs": [],
   "source": [
    "import re\n",
    "transitions.loc[:,'city_ok'] = transitions.loc[:,'city']\\\n",
    ".apply(lambda x : re.sub(\"\\W\", \" \",x))"
   ]
  },
  {
   "cell_type": "markdown",
   "metadata": {},
   "source": [
    "### gather capital names"
   ]
  },
  {
   "cell_type": "code",
   "execution_count": 33,
   "metadata": {},
   "outputs": [],
   "source": [
    "transitions.loc[:,'city_ok'] = transitions.loc[:,'city_ok'].str.lower().str.strip()\n",
    "\n",
    "transitions.loc[transitions['city_ok']\\\n",
    "               .isin(['new york','nyc','new york city']),'city_ok']\\\n",
    "                     = 'new york'\n",
    "transitions.loc[transitions['city_ok']\\\n",
    "               .str.startswith('paris'),'city_ok']\\\n",
    "                     = 'paris'"
   ]
  },
  {
   "cell_type": "markdown",
   "metadata": {},
   "source": [
    "### add a boolean feature : capital"
   ]
  },
  {
   "cell_type": "code",
   "execution_count": 34,
   "metadata": {},
   "outputs": [
    {
     "name": "stdout",
     "output_type": "stream",
     "text": [
      "3 distinct values for the feature ['country']\n"
     ]
    },
    {
     "data": {
      "text/html": [
       "<div>\n",
       "<style scoped>\n",
       "    .dataframe tbody tr th:only-of-type {\n",
       "        vertical-align: middle;\n",
       "    }\n",
       "\n",
       "    .dataframe tbody tr th {\n",
       "        vertical-align: top;\n",
       "    }\n",
       "\n",
       "    .dataframe thead th {\n",
       "        text-align: right;\n",
       "    }\n",
       "</style>\n",
       "<table border=\"1\" class=\"dataframe\">\n",
       "  <thead>\n",
       "    <tr style=\"text-align: right;\">\n",
       "      <th></th>\n",
       "      <th>country</th>\n",
       "      <th>nb_records</th>\n",
       "      <th>percentage</th>\n",
       "    </tr>\n",
       "  </thead>\n",
       "  <tbody>\n",
       "    <tr>\n",
       "      <th>0</th>\n",
       "      <td>GB</td>\n",
       "      <td>11085</td>\n",
       "      <td>54.14</td>\n",
       "    </tr>\n",
       "    <tr>\n",
       "      <th>1</th>\n",
       "      <td>FR</td>\n",
       "      <td>5787</td>\n",
       "      <td>28.26</td>\n",
       "    </tr>\n",
       "    <tr>\n",
       "      <th>2</th>\n",
       "      <td>US</td>\n",
       "      <td>3603</td>\n",
       "      <td>17.60</td>\n",
       "    </tr>\n",
       "  </tbody>\n",
       "</table>\n",
       "</div>"
      ],
      "text/plain": [
       "  country  nb_records  percentage\n",
       "0      GB       11085       54.14\n",
       "1      FR        5787       28.26\n",
       "2      US        3603       17.60"
      ]
     },
     "execution_count": 34,
     "metadata": {},
     "output_type": "execute_result"
    }
   ],
   "source": [
    "top_champ(transitions,['country'],5)"
   ]
  },
  {
   "cell_type": "code",
   "execution_count": 35,
   "metadata": {},
   "outputs": [
    {
     "name": "stdout",
     "output_type": "stream",
     "text": [
      "84 distinct values for the feature ['city_ok']\n"
     ]
    },
    {
     "data": {
      "text/html": [
       "<div>\n",
       "<style scoped>\n",
       "    .dataframe tbody tr th:only-of-type {\n",
       "        vertical-align: middle;\n",
       "    }\n",
       "\n",
       "    .dataframe tbody tr th {\n",
       "        vertical-align: top;\n",
       "    }\n",
       "\n",
       "    .dataframe thead th {\n",
       "        text-align: right;\n",
       "    }\n",
       "</style>\n",
       "<table border=\"1\" class=\"dataframe\">\n",
       "  <thead>\n",
       "    <tr style=\"text-align: right;\">\n",
       "      <th></th>\n",
       "      <th>city_ok</th>\n",
       "      <th>nb_records</th>\n",
       "      <th>percentage</th>\n",
       "    </tr>\n",
       "  </thead>\n",
       "  <tbody>\n",
       "    <tr>\n",
       "      <th>0</th>\n",
       "      <td>london</td>\n",
       "      <td>9896</td>\n",
       "      <td>48.33</td>\n",
       "    </tr>\n",
       "    <tr>\n",
       "      <th>1</th>\n",
       "      <td>paris</td>\n",
       "      <td>5577</td>\n",
       "      <td>27.24</td>\n",
       "    </tr>\n",
       "    <tr>\n",
       "      <th>2</th>\n",
       "      <td>new york</td>\n",
       "      <td>3251</td>\n",
       "      <td>15.88</td>\n",
       "    </tr>\n",
       "    <tr>\n",
       "      <th>3</th>\n",
       "      <td>manchester</td>\n",
       "      <td>314</td>\n",
       "      <td>1.53</td>\n",
       "    </tr>\n",
       "    <tr>\n",
       "      <th>4</th>\n",
       "      <td>brooklyn</td>\n",
       "      <td>284</td>\n",
       "      <td>1.39</td>\n",
       "    </tr>\n",
       "    <tr>\n",
       "      <th>5</th>\n",
       "      <td>brighton</td>\n",
       "      <td>184</td>\n",
       "      <td>0.90</td>\n",
       "    </tr>\n",
       "    <tr>\n",
       "      <th>6</th>\n",
       "      <td>birmingham</td>\n",
       "      <td>114</td>\n",
       "      <td>0.56</td>\n",
       "    </tr>\n",
       "    <tr>\n",
       "      <th>7</th>\n",
       "      <td>liverpool</td>\n",
       "      <td>73</td>\n",
       "      <td>0.36</td>\n",
       "    </tr>\n",
       "    <tr>\n",
       "      <th>8</th>\n",
       "      <td>lyon</td>\n",
       "      <td>65</td>\n",
       "      <td>0.32</td>\n",
       "    </tr>\n",
       "    <tr>\n",
       "      <th>9</th>\n",
       "      <td>bordeaux</td>\n",
       "      <td>53</td>\n",
       "      <td>0.26</td>\n",
       "    </tr>\n",
       "  </tbody>\n",
       "</table>\n",
       "</div>"
      ],
      "text/plain": [
       "      city_ok  nb_records  percentage\n",
       "0      london        9896       48.33\n",
       "1       paris        5577       27.24\n",
       "2    new york        3251       15.88\n",
       "3  manchester         314        1.53\n",
       "4    brooklyn         284        1.39\n",
       "5    brighton         184        0.90\n",
       "6  birmingham         114        0.56\n",
       "7   liverpool          73        0.36\n",
       "8        lyon          65        0.32\n",
       "9    bordeaux          53        0.26"
      ]
     },
     "execution_count": 35,
     "metadata": {},
     "output_type": "execute_result"
    }
   ],
   "source": [
    "top_champ(transitions,['city_ok'],10)"
   ]
  },
  {
   "cell_type": "code",
   "execution_count": 36,
   "metadata": {},
   "outputs": [],
   "source": [
    "transitions.loc[:,'capital']= 0\n",
    "transitions.loc[transitions['city_ok']\\\n",
    "               .isin(['paris','new york','london']),'capital']\\\n",
    "                     = 1"
   ]
  },
  {
   "cell_type": "markdown",
   "metadata": {},
   "source": [
    "## some booking examples"
   ]
  },
  {
   "cell_type": "code",
   "execution_count": 37,
   "metadata": {},
   "outputs": [],
   "source": [
    "#transitions[transitions['space_id']==6735]\n",
    "#transitions[transitions['idea_id']==105]"
   ]
  },
  {
   "cell_type": "markdown",
   "metadata": {},
   "source": [
    "# total exploration"
   ]
  },
  {
   "cell_type": "markdown",
   "metadata": {},
   "source": [
    "## merge ideas and transitions"
   ]
  },
  {
   "cell_type": "code",
   "execution_count": 38,
   "metadata": {},
   "outputs": [],
   "source": [
    "total = pd.merge(ideas, transitions, how='left', left_on='idea_id',right_on='idea_id')"
   ]
  },
  {
   "cell_type": "code",
   "execution_count": 140,
   "metadata": {},
   "outputs": [
    {
     "data": {
      "text/plain": [
       "created_at               4000\n",
       "category_x                  6\n",
       "idea_id                  4000\n",
       "created_at_year             2\n",
       "created_at_mth             12\n",
       "transition_ts           20475\n",
       "category_y                  6\n",
       "booking_request_id       9676\n",
       "to_state                    4\n",
       "space_id                 2019\n",
       "country                     3\n",
       "city                      110\n",
       "portfolio_type              9\n",
       "floor_size                546\n",
       "floor_size_unit             2\n",
       "start_on                  503\n",
       "end_on                    617\n",
       "price                    3542\n",
       "transition_ts_year          2\n",
       "transition_ts_mth          12\n",
       "start_on_year               3\n",
       "start_on_mth               12\n",
       "end_on_year                 3\n",
       "end_on_month               12\n",
       "time_booked               277\n",
       "to_state_bf                 4\n",
       "to_state_af                 4\n",
       "floor_size_m              304\n",
       "city_ok                    84\n",
       "capital                     2\n",
       "time_create_booking     18002\n",
       "time_create_check_in     4461\n",
       "dtype: int64"
      ]
     },
     "execution_count": 140,
     "metadata": {},
     "output_type": "execute_result"
    }
   ],
   "source": [
    "total.nunique()"
   ]
  },
  {
   "cell_type": "markdown",
   "metadata": {},
   "source": [
    "## add features"
   ]
  },
  {
   "cell_type": "code",
   "execution_count": 52,
   "metadata": {},
   "outputs": [],
   "source": [
    "# time between idea creation and booking transition time\n",
    "total.loc[:,'time_create_booking'] = total.loc[:,'transition_ts']- total.loc[:,'created_at']\n",
    "total.loc[:,'time_create_booking'] = total.loc[:,'time_create_booking']/ np.timedelta64(1, 'D')\n",
    "# time between idea creation and check-in : planification time\n",
    "total.loc[:,'time_create_check_in'] = total.loc[:,'start_on']- total.loc[:,'created_at']\n",
    "total.loc[:,'time_create_check_in'] = total.loc[:,'time_create_check_in']/ np.timedelta64(1, 'D')\n"
   ]
  },
  {
   "cell_type": "markdown",
   "metadata": {},
   "source": [
    "## explore to_state"
   ]
  },
  {
   "cell_type": "code",
   "execution_count": 53,
   "metadata": {},
   "outputs": [
    {
     "name": "stdout",
     "output_type": "stream",
     "text": [
      "4 distinct values for the feature ['to_state']\n"
     ]
    },
    {
     "data": {
      "text/html": [
       "<div>\n",
       "<style scoped>\n",
       "    .dataframe tbody tr th:only-of-type {\n",
       "        vertical-align: middle;\n",
       "    }\n",
       "\n",
       "    .dataframe tbody tr th {\n",
       "        vertical-align: top;\n",
       "    }\n",
       "\n",
       "    .dataframe thead th {\n",
       "        text-align: right;\n",
       "    }\n",
       "</style>\n",
       "<table border=\"1\" class=\"dataframe\">\n",
       "  <thead>\n",
       "    <tr style=\"text-align: right;\">\n",
       "      <th></th>\n",
       "      <th>to_state</th>\n",
       "      <th>nb_records</th>\n",
       "      <th>percentage</th>\n",
       "    </tr>\n",
       "  </thead>\n",
       "  <tbody>\n",
       "    <tr>\n",
       "      <th>0</th>\n",
       "      <td>submitted</td>\n",
       "      <td>2324</td>\n",
       "      <td>58.10</td>\n",
       "    </tr>\n",
       "    <tr>\n",
       "      <th>1</th>\n",
       "      <td>unknown</td>\n",
       "      <td>1379</td>\n",
       "      <td>34.48</td>\n",
       "    </tr>\n",
       "    <tr>\n",
       "      <th>2</th>\n",
       "      <td>declined</td>\n",
       "      <td>296</td>\n",
       "      <td>7.40</td>\n",
       "    </tr>\n",
       "    <tr>\n",
       "      <th>3</th>\n",
       "      <td>booked</td>\n",
       "      <td>1</td>\n",
       "      <td>0.02</td>\n",
       "    </tr>\n",
       "  </tbody>\n",
       "</table>\n",
       "</div>"
      ],
      "text/plain": [
       "    to_state  nb_records  percentage\n",
       "0  submitted        2324       58.10\n",
       "1    unknown        1379       34.48\n",
       "2   declined         296        7.40\n",
       "3     booked           1        0.02"
      ]
     },
     "execution_count": 53,
     "metadata": {},
     "output_type": "execute_result"
    }
   ],
   "source": [
    "# first state \n",
    "total_first = total.drop_duplicates('idea_id')\n",
    "top_champ(total_first,['to_state'],10)"
   ]
  },
  {
   "cell_type": "markdown",
   "metadata": {},
   "source": [
    "## explore time_to_request, time_to_check_in"
   ]
  },
  {
   "cell_type": "code",
   "execution_count": 54,
   "metadata": {},
   "outputs": [
    {
     "name": "stdout",
     "output_type": "stream",
     "text": [
      "count    2.621000e+03\n",
      "mean     8.166390e+00\n",
      "std      2.840558e+01\n",
      "min      6.250000e-07\n",
      "25%      1.099537e-06\n",
      "50%      2.129630e-06\n",
      "75%      1.106576e+00\n",
      "max      3.370219e+02\n",
      "Name: time_create_booking, dtype: float64\n"
     ]
    }
   ],
   "source": [
    "print(total_first.loc[:,'time_create_booking'].describe())"
   ]
  },
  {
   "cell_type": "code",
   "execution_count": 59,
   "metadata": {},
   "outputs": [
    {
     "name": "stdout",
     "output_type": "stream",
     "text": [
      "count    20475.000000\n",
      "mean        78.551081\n",
      "std         69.605163\n",
      "min          0.000000\n",
      "25%         31.251458\n",
      "50%         56.556995\n",
      "75%        106.547399\n",
      "max        671.170989\n",
      "Name: time_create_check_in, dtype: float64\n",
      "There is some negative value, let's check where does it comes from\n"
     ]
    }
   ],
   "source": [
    "print(total.loc[:,'time_create_check_in'].describe())\n",
    "print(\"There is some negative value, let's check where does it comes from\")"
   ]
  },
  {
   "cell_type": "code",
   "execution_count": 60,
   "metadata": {},
   "outputs": [
    {
     "name": "stdout",
     "output_type": "stream",
     "text": [
      "count    20475.000000\n",
      "mean        78.551081\n",
      "std         69.605163\n",
      "min          0.000000\n",
      "25%         31.251458\n",
      "50%         56.556995\n",
      "75%        106.547399\n",
      "max        671.170989\n",
      "Name: time_create_check_in, dtype: float64\n"
     ]
    }
   ],
   "source": [
    "#correct errors\n",
    "# total[total['time_create_check_in']<0 : same day\n",
    "total.loc[total['time_create_check_in']<0,'time_create_check_in']=0\n",
    "print(total.loc[:,'time_create_check_in'].describe())"
   ]
  },
  {
   "cell_type": "markdown",
   "metadata": {},
   "source": [
    "## explore category evolution"
   ]
  },
  {
   "cell_type": "code",
   "execution_count": 61,
   "metadata": {},
   "outputs": [
    {
     "name": "stdout",
     "output_type": "stream",
     "text": [
      "nb of records with evolution of category feature : 1379\n",
      "nb of records with no booking request : 1379\n",
      "nb of ideas without bookings requests 1379\n"
     ]
    }
   ],
   "source": [
    "# booking lines with evolution of category feature (between idea and booking requests)\n",
    "print('nb of records with evolution of category feature : %0.0f' %(total[total['category_x']!=total['category_y']].shape[0]))\n",
    "# booking lines with no booking requests\n",
    "print('nb of records with no booking request : %0.0f' %(total[total['category_y'].isnull()].shape[0]))\n",
    "# nb of ideas without bookings requests\n",
    "idea_id_unknown = total.loc[total['category_y'].isnull(),'idea_id'].unique()\n",
    "print('nb of ideas without bookings requests %0.0f' %len(idea_id_unknown))"
   ]
  },
  {
   "cell_type": "markdown",
   "metadata": {},
   "source": [
    "### ideas without booking requests"
   ]
  },
  {
   "cell_type": "code",
   "execution_count": 62,
   "metadata": {},
   "outputs": [
    {
     "name": "stdout",
     "output_type": "stream",
     "text": [
      "There are 1379 ideas unknown\n",
      "Ideas unknown have been created from 2018-01-01 17:01:01.489000 to 2019-01-21 10:19:35.205000\n"
     ]
    }
   ],
   "source": [
    "min_created_ukn = min(ideas.loc[ideas['idea_id'].isin(idea_id_unknown),'created_at'])\n",
    "max_created_ukn = max(ideas.loc[ideas['idea_id'].isin(idea_id_unknown),'created_at'])\n",
    "print('There are %0.0f ideas unknown' %len(idea_id_unknown))\n",
    "print('Ideas unknown have been created from %s to %s' %(min_created_ukn, max_created_ukn))"
   ]
  },
  {
   "cell_type": "code",
   "execution_count": 63,
   "metadata": {},
   "outputs": [
    {
     "name": "stdout",
     "output_type": "stream",
     "text": [
      "6 distinct values for the feature ['category']\n"
     ]
    },
    {
     "data": {
      "text/html": [
       "<div>\n",
       "<style scoped>\n",
       "    .dataframe tbody tr th:only-of-type {\n",
       "        vertical-align: middle;\n",
       "    }\n",
       "\n",
       "    .dataframe tbody tr th {\n",
       "        vertical-align: top;\n",
       "    }\n",
       "\n",
       "    .dataframe thead th {\n",
       "        text-align: right;\n",
       "    }\n",
       "</style>\n",
       "<table border=\"1\" class=\"dataframe\">\n",
       "  <thead>\n",
       "    <tr style=\"text-align: right;\">\n",
       "      <th></th>\n",
       "      <th>category</th>\n",
       "      <th>nb_records</th>\n",
       "      <th>percentage</th>\n",
       "    </tr>\n",
       "  </thead>\n",
       "  <tbody>\n",
       "    <tr>\n",
       "      <th>0</th>\n",
       "      <td>popup_shop</td>\n",
       "      <td>760</td>\n",
       "      <td>55.11</td>\n",
       "    </tr>\n",
       "    <tr>\n",
       "      <th>1</th>\n",
       "      <td>popup_bar</td>\n",
       "      <td>240</td>\n",
       "      <td>17.40</td>\n",
       "    </tr>\n",
       "    <tr>\n",
       "      <th>2</th>\n",
       "      <td>unique</td>\n",
       "      <td>145</td>\n",
       "      <td>10.51</td>\n",
       "    </tr>\n",
       "    <tr>\n",
       "      <th>3</th>\n",
       "      <td>private_event</td>\n",
       "      <td>134</td>\n",
       "      <td>9.72</td>\n",
       "    </tr>\n",
       "    <tr>\n",
       "      <th>4</th>\n",
       "      <td>gallery</td>\n",
       "      <td>78</td>\n",
       "      <td>5.66</td>\n",
       "    </tr>\n",
       "    <tr>\n",
       "      <th>5</th>\n",
       "      <td>sample_sale</td>\n",
       "      <td>22</td>\n",
       "      <td>1.60</td>\n",
       "    </tr>\n",
       "  </tbody>\n",
       "</table>\n",
       "</div>"
      ],
      "text/plain": [
       "        category  nb_records  percentage\n",
       "0     popup_shop         760       55.11\n",
       "1      popup_bar         240       17.40\n",
       "2         unique         145       10.51\n",
       "3  private_event         134        9.72\n",
       "4        gallery          78        5.66\n",
       "5    sample_sale          22        1.60"
      ]
     },
     "execution_count": 63,
     "metadata": {},
     "output_type": "execute_result"
    }
   ],
   "source": [
    "top_champ(ideas[ideas['idea_id'].isin(idea_id_unknown)],['category'],10)"
   ]
  },
  {
   "cell_type": "markdown",
   "metadata": {},
   "source": [
    "### ideas with booking requests"
   ]
  },
  {
   "cell_type": "code",
   "execution_count": 64,
   "metadata": {},
   "outputs": [
    {
     "name": "stdout",
     "output_type": "stream",
     "text": [
      "There are 2621 ideas with at least one request submitted\n",
      "Ideas with requests have been created from 2018-01-02 15:21:32.044000 to 2019-01-15 14:54:49.719000\n"
     ]
    }
   ],
   "source": [
    "idea_id_known = total.loc[total['category_y'].notnull(),'idea_id'].unique()\n",
    "min_created_ukn = min(ideas.loc[ideas['idea_id'].isin(idea_id_known),'created_at'])\n",
    "max_created_ukn = max(ideas.loc[ideas['idea_id'].isin(idea_id_known),'created_at'])\n",
    "print('There are %0.0f ideas with at least one request submitted' %(len(idea_id_known)))\n",
    "print('Ideas with requests have been created from %s to %s' %(min_created_ukn, max_created_ukn))"
   ]
  },
  {
   "cell_type": "code",
   "execution_count": 65,
   "metadata": {},
   "outputs": [
    {
     "name": "stdout",
     "output_type": "stream",
     "text": [
      "6 distinct values for the feature ['category']\n"
     ]
    },
    {
     "data": {
      "text/html": [
       "<div>\n",
       "<style scoped>\n",
       "    .dataframe tbody tr th:only-of-type {\n",
       "        vertical-align: middle;\n",
       "    }\n",
       "\n",
       "    .dataframe tbody tr th {\n",
       "        vertical-align: top;\n",
       "    }\n",
       "\n",
       "    .dataframe thead th {\n",
       "        text-align: right;\n",
       "    }\n",
       "</style>\n",
       "<table border=\"1\" class=\"dataframe\">\n",
       "  <thead>\n",
       "    <tr style=\"text-align: right;\">\n",
       "      <th></th>\n",
       "      <th>category</th>\n",
       "      <th>nb_records</th>\n",
       "      <th>percentage</th>\n",
       "    </tr>\n",
       "  </thead>\n",
       "  <tbody>\n",
       "    <tr>\n",
       "      <th>0</th>\n",
       "      <td>popup_shop</td>\n",
       "      <td>1414</td>\n",
       "      <td>53.95</td>\n",
       "    </tr>\n",
       "    <tr>\n",
       "      <th>1</th>\n",
       "      <td>private_event</td>\n",
       "      <td>412</td>\n",
       "      <td>15.72</td>\n",
       "    </tr>\n",
       "    <tr>\n",
       "      <th>2</th>\n",
       "      <td>popup_bar</td>\n",
       "      <td>293</td>\n",
       "      <td>11.18</td>\n",
       "    </tr>\n",
       "    <tr>\n",
       "      <th>3</th>\n",
       "      <td>unique</td>\n",
       "      <td>253</td>\n",
       "      <td>9.65</td>\n",
       "    </tr>\n",
       "    <tr>\n",
       "      <th>4</th>\n",
       "      <td>gallery</td>\n",
       "      <td>204</td>\n",
       "      <td>7.78</td>\n",
       "    </tr>\n",
       "    <tr>\n",
       "      <th>5</th>\n",
       "      <td>sample_sale</td>\n",
       "      <td>45</td>\n",
       "      <td>1.72</td>\n",
       "    </tr>\n",
       "  </tbody>\n",
       "</table>\n",
       "</div>"
      ],
      "text/plain": [
       "        category  nb_records  percentage\n",
       "0     popup_shop        1414       53.95\n",
       "1  private_event         412       15.72\n",
       "2      popup_bar         293       11.18\n",
       "3         unique         253        9.65\n",
       "4        gallery         204        7.78\n",
       "5    sample_sale          45        1.72"
      ]
     },
     "execution_count": 65,
     "metadata": {},
     "output_type": "execute_result"
    }
   ],
   "source": [
    "top_champ(ideas[ideas['idea_id'].isin(idea_id_known)],['category'],10)"
   ]
  },
  {
   "cell_type": "markdown",
   "metadata": {},
   "source": [
    "## supress idea without booking requests"
   ]
  },
  {
   "cell_type": "markdown",
   "metadata": {},
   "source": [
    "We don't have enough informations about ideas without booking requests to make interpretation about it\n",
    "It could also be because : booking requests for those ideas are not in this transition dataset but in the real database"
   ]
  },
  {
   "cell_type": "code",
   "execution_count": 194,
   "metadata": {},
   "outputs": [],
   "source": [
    "total_ok = total.loc[total['idea_id'].isin(idea_id_known)]"
   ]
  },
  {
   "cell_type": "markdown",
   "metadata": {},
   "source": [
    "# conversion table"
   ]
  },
  {
   "cell_type": "markdown",
   "metadata": {},
   "source": [
    "Creation of tables showing the different patterns between the first request and the booking or declination of a request"
   ]
  },
  {
   "cell_type": "code",
   "execution_count": 69,
   "metadata": {},
   "outputs": [
    {
     "name": "stdout",
     "output_type": "stream",
     "text": [
      "(9676, 26)\n"
     ]
    },
    {
     "data": {
      "text/plain": [
       "(9676, 26)"
      ]
     },
     "execution_count": 69,
     "metadata": {},
     "output_type": "execute_result"
    }
   ],
   "source": [
    "print(transitions.drop_duplicates(['booking_request_id','city','space_id']).shape)\n",
    "transitions.drop_duplicates(['booking_request_id']).shape"
   ]
  },
  {
   "cell_type": "markdown",
   "metadata": {},
   "source": [
    "## pattern for each booking_id (1space for 1 particular idea)"
   ]
  },
  {
   "cell_type": "code",
   "execution_count": 70,
   "metadata": {},
   "outputs": [],
   "source": [
    "conversion = total_ok.groupby(['idea_id','space_id','booking_request_id'])['to_state'].\\\n",
    "apply(lambda x: \"%s\" % ' / '.join(x)).to_frame().reset_index()\n",
    "#conversion\n",
    "#top_champ(conversion,['to_state'],10)\n",
    "conversion.loc[:,'ending_stage'] = conversion.loc[:,'to_state'].apply(lambda x : x.split(' ')[-1])"
   ]
  },
  {
   "cell_type": "code",
   "execution_count": 71,
   "metadata": {},
   "outputs": [
    {
     "name": "stdout",
     "output_type": "stream",
     "text": [
      "2998 distinct values for the feature ['idea_id', 'ending_stage']\n"
     ]
    },
    {
     "data": {
      "text/html": [
       "<div>\n",
       "<style scoped>\n",
       "    .dataframe tbody tr th:only-of-type {\n",
       "        vertical-align: middle;\n",
       "    }\n",
       "\n",
       "    .dataframe tbody tr th {\n",
       "        vertical-align: top;\n",
       "    }\n",
       "\n",
       "    .dataframe thead th {\n",
       "        text-align: right;\n",
       "    }\n",
       "</style>\n",
       "<table border=\"1\" class=\"dataframe\">\n",
       "  <thead>\n",
       "    <tr style=\"text-align: right;\">\n",
       "      <th></th>\n",
       "      <th>idea_id</th>\n",
       "      <th>ending_stage</th>\n",
       "      <th>nb_records</th>\n",
       "      <th>percentage</th>\n",
       "    </tr>\n",
       "  </thead>\n",
       "  <tbody>\n",
       "    <tr>\n",
       "      <th>3</th>\n",
       "      <td>2988</td>\n",
       "      <td>declined</td>\n",
       "      <td>38</td>\n",
       "      <td>0.39</td>\n",
       "    </tr>\n",
       "    <tr>\n",
       "      <th>4</th>\n",
       "      <td>1229</td>\n",
       "      <td>declined</td>\n",
       "      <td>38</td>\n",
       "      <td>0.39</td>\n",
       "    </tr>\n",
       "    <tr>\n",
       "      <th>2</th>\n",
       "      <td>2364</td>\n",
       "      <td>declined</td>\n",
       "      <td>45</td>\n",
       "      <td>0.47</td>\n",
       "    </tr>\n",
       "    <tr>\n",
       "      <th>1</th>\n",
       "      <td>1255</td>\n",
       "      <td>declined</td>\n",
       "      <td>48</td>\n",
       "      <td>0.50</td>\n",
       "    </tr>\n",
       "    <tr>\n",
       "      <th>0</th>\n",
       "      <td>3650</td>\n",
       "      <td>declined</td>\n",
       "      <td>156</td>\n",
       "      <td>1.61</td>\n",
       "    </tr>\n",
       "  </tbody>\n",
       "</table>\n",
       "</div>"
      ],
      "text/plain": [
       "   idea_id ending_stage  nb_records  percentage\n",
       "3     2988     declined          38        0.39\n",
       "4     1229     declined          38        0.39\n",
       "2     2364     declined          45        0.47\n",
       "1     1255     declined          48        0.50\n",
       "0     3650     declined         156        1.61"
      ]
     },
     "execution_count": 71,
     "metadata": {},
     "output_type": "execute_result"
    }
   ],
   "source": [
    "top_champ(conversion,['idea_id','ending_stage'],5)\\\n",
    ".sort_values(['ending_stage','nb_records'],ascending=True)\n",
    "#conversion"
   ]
  },
  {
   "cell_type": "code",
   "execution_count": 72,
   "metadata": {},
   "outputs": [
    {
     "name": "stdout",
     "output_type": "stream",
     "text": [
      "4 distinct values for the feature ['to_state']\n"
     ]
    },
    {
     "data": {
      "text/html": [
       "<div>\n",
       "<style scoped>\n",
       "    .dataframe tbody tr th:only-of-type {\n",
       "        vertical-align: middle;\n",
       "    }\n",
       "\n",
       "    .dataframe tbody tr th {\n",
       "        vertical-align: top;\n",
       "    }\n",
       "\n",
       "    .dataframe thead th {\n",
       "        text-align: right;\n",
       "    }\n",
       "</style>\n",
       "<table border=\"1\" class=\"dataframe\">\n",
       "  <thead>\n",
       "    <tr style=\"text-align: right;\">\n",
       "      <th></th>\n",
       "      <th>to_state</th>\n",
       "      <th>nb_records</th>\n",
       "      <th>percentage</th>\n",
       "    </tr>\n",
       "  </thead>\n",
       "  <tbody>\n",
       "    <tr>\n",
       "      <th>0</th>\n",
       "      <td>submitted</td>\n",
       "      <td>303</td>\n",
       "      <td>95.58</td>\n",
       "    </tr>\n",
       "    <tr>\n",
       "      <th>1</th>\n",
       "      <td>submitted / submitted</td>\n",
       "      <td>8</td>\n",
       "      <td>2.52</td>\n",
       "    </tr>\n",
       "    <tr>\n",
       "      <th>2</th>\n",
       "      <td>submitted / declined / submitted</td>\n",
       "      <td>5</td>\n",
       "      <td>1.58</td>\n",
       "    </tr>\n",
       "    <tr>\n",
       "      <th>3</th>\n",
       "      <td>submitted / submitted / submitted</td>\n",
       "      <td>1</td>\n",
       "      <td>0.32</td>\n",
       "    </tr>\n",
       "  </tbody>\n",
       "</table>\n",
       "</div>"
      ],
      "text/plain": [
       "                            to_state  nb_records  percentage\n",
       "0                          submitted         303       95.58\n",
       "1              submitted / submitted           8        2.52\n",
       "2   submitted / declined / submitted           5        1.58\n",
       "3  submitted / submitted / submitted           1        0.32"
      ]
     },
     "execution_count": 72,
     "metadata": {},
     "output_type": "execute_result"
    }
   ],
   "source": [
    "top_champ(conversion[conversion.ending_stage=='submitted'],['to_state'],100)"
   ]
  },
  {
   "cell_type": "markdown",
   "metadata": {},
   "source": [
    "## new pattern each time there is a submission"
   ]
  },
  {
   "cell_type": "code",
   "execution_count": 73,
   "metadata": {},
   "outputs": [],
   "source": [
    "conversion_2 = conversion\\\n",
    ".join(conversion['to_state'].str.split(' / s', expand=True)\\\n",
    "      .stack().reset_index(level=1, drop=True).rename('to_state_2'))\n",
    "conversion_2.loc[:,'to_state_2'] = conversion_2['to_state_2'].str.replace('ubmitted','submitted')\n",
    "conversion_2.loc[:,'to_state_2'] = conversion_2['to_state_2'].str.replace('ssubmitted','submitted')\n",
    "conversion_2.loc[:,'ending_stage_2'] = conversion_2.loc[:,'to_state_2'].apply(lambda x : x.split(' ')[-1])\n",
    "\n"
   ]
  },
  {
   "cell_type": "code",
   "execution_count": 74,
   "metadata": {},
   "outputs": [
    {
     "name": "stdout",
     "output_type": "stream",
     "text": [
      "59 distinct values for the feature ['to_state']\n"
     ]
    },
    {
     "data": {
      "text/html": [
       "<div>\n",
       "<style scoped>\n",
       "    .dataframe tbody tr th:only-of-type {\n",
       "        vertical-align: middle;\n",
       "    }\n",
       "\n",
       "    .dataframe tbody tr th {\n",
       "        vertical-align: top;\n",
       "    }\n",
       "\n",
       "    .dataframe thead th {\n",
       "        text-align: right;\n",
       "    }\n",
       "</style>\n",
       "<table border=\"1\" class=\"dataframe\">\n",
       "  <thead>\n",
       "    <tr style=\"text-align: right;\">\n",
       "      <th></th>\n",
       "      <th>to_state</th>\n",
       "      <th>nb_records</th>\n",
       "      <th>percentage</th>\n",
       "    </tr>\n",
       "  </thead>\n",
       "  <tbody>\n",
       "    <tr>\n",
       "      <th>0</th>\n",
       "      <td>submitted / declined</td>\n",
       "      <td>4780</td>\n",
       "      <td>47.07</td>\n",
       "    </tr>\n",
       "    <tr>\n",
       "      <th>1</th>\n",
       "      <td>declined</td>\n",
       "      <td>1827</td>\n",
       "      <td>17.99</td>\n",
       "    </tr>\n",
       "    <tr>\n",
       "      <th>2</th>\n",
       "      <td>submitted / matched / declined</td>\n",
       "      <td>1753</td>\n",
       "      <td>17.26</td>\n",
       "    </tr>\n",
       "    <tr>\n",
       "      <th>3</th>\n",
       "      <td>submitted</td>\n",
       "      <td>303</td>\n",
       "      <td>2.98</td>\n",
       "    </tr>\n",
       "    <tr>\n",
       "      <th>4</th>\n",
       "      <td>submitted / matched / booked</td>\n",
       "      <td>297</td>\n",
       "      <td>2.92</td>\n",
       "    </tr>\n",
       "  </tbody>\n",
       "</table>\n",
       "</div>"
      ],
      "text/plain": [
       "                         to_state  nb_records  percentage\n",
       "0            submitted / declined        4780       47.07\n",
       "1                        declined        1827       17.99\n",
       "2  submitted / matched / declined        1753       17.26\n",
       "3                       submitted         303        2.98\n",
       "4    submitted / matched / booked         297        2.92"
      ]
     },
     "execution_count": 74,
     "metadata": {},
     "output_type": "execute_result"
    }
   ],
   "source": [
    "top_champ(conversion_2,['to_state'],5)"
   ]
  },
  {
   "cell_type": "markdown",
   "metadata": {},
   "source": [
    "# MCA on R bookings ok"
   ]
  },
  {
   "cell_type": "markdown",
   "metadata": {},
   "source": [
    "To make an MCA we need \"factor\" features which means categories.        \n",
    "Hence, we only keep features with categories     \n",
    "**Goal** : explore the relations between features and once the new reduced axis are created, projection of the feature to predict \"ending_stage\""
   ]
  },
  {
   "cell_type": "code",
   "execution_count": 76,
   "metadata": {},
   "outputs": [
    {
     "name": "stdout",
     "output_type": "stream",
     "text": [
      "7 distinct values for the feature ['floor_size_cat']\n"
     ]
    },
    {
     "data": {
      "text/html": [
       "<div>\n",
       "<style scoped>\n",
       "    .dataframe tbody tr th:only-of-type {\n",
       "        vertical-align: middle;\n",
       "    }\n",
       "\n",
       "    .dataframe tbody tr th {\n",
       "        vertical-align: top;\n",
       "    }\n",
       "\n",
       "    .dataframe thead th {\n",
       "        text-align: right;\n",
       "    }\n",
       "</style>\n",
       "<table border=\"1\" class=\"dataframe\">\n",
       "  <thead>\n",
       "    <tr style=\"text-align: right;\">\n",
       "      <th></th>\n",
       "      <th>floor_size_cat</th>\n",
       "      <th>nb_records</th>\n",
       "      <th>percentage</th>\n",
       "    </tr>\n",
       "  </thead>\n",
       "  <tbody>\n",
       "    <tr>\n",
       "      <th>0</th>\n",
       "      <td>100_200</td>\n",
       "      <td>3694</td>\n",
       "      <td>18.04</td>\n",
       "    </tr>\n",
       "    <tr>\n",
       "      <th>1</th>\n",
       "      <td>20_40</td>\n",
       "      <td>3659</td>\n",
       "      <td>17.87</td>\n",
       "    </tr>\n",
       "    <tr>\n",
       "      <th>2</th>\n",
       "      <td>sup_200</td>\n",
       "      <td>3256</td>\n",
       "      <td>15.90</td>\n",
       "    </tr>\n",
       "    <tr>\n",
       "      <th>3</th>\n",
       "      <td>40_60</td>\n",
       "      <td>3049</td>\n",
       "      <td>14.89</td>\n",
       "    </tr>\n",
       "    <tr>\n",
       "      <th>4</th>\n",
       "      <td>inf_20</td>\n",
       "      <td>2814</td>\n",
       "      <td>13.74</td>\n",
       "    </tr>\n",
       "    <tr>\n",
       "      <th>5</th>\n",
       "      <td>60_80</td>\n",
       "      <td>2156</td>\n",
       "      <td>10.53</td>\n",
       "    </tr>\n",
       "    <tr>\n",
       "      <th>6</th>\n",
       "      <td>80_100</td>\n",
       "      <td>1847</td>\n",
       "      <td>9.02</td>\n",
       "    </tr>\n",
       "  </tbody>\n",
       "</table>\n",
       "</div>"
      ],
      "text/plain": [
       "  floor_size_cat  nb_records  percentage\n",
       "0        100_200        3694       18.04\n",
       "1          20_40        3659       17.87\n",
       "2        sup_200        3256       15.90\n",
       "3          40_60        3049       14.89\n",
       "4         inf_20        2814       13.74\n",
       "5          60_80        2156       10.53\n",
       "6         80_100        1847        9.02"
      ]
     },
     "execution_count": 76,
     "metadata": {},
     "output_type": "execute_result"
    }
   ],
   "source": [
    "total_ok.loc[total_ok['floor_size_m']>   200,'floor_size_cat'] = 'sup_200'\n",
    "total_ok.loc[total_ok['floor_size_m']<=  200,'floor_size_cat'] = '100_200'\n",
    "total_ok.loc[total_ok['floor_size_m']<   100,'floor_size_cat'] = '80_100'\n",
    "total_ok.loc[total_ok['floor_size_m']<    80,'floor_size_cat'] = '60_80'\n",
    "total_ok.loc[total_ok['floor_size_m']<    60,'floor_size_cat'] = '40_60'\n",
    "total_ok.loc[total_ok['floor_size_m']<    40,'floor_size_cat'] = '20_40'\n",
    "total_ok.loc[total_ok['floor_size_m']<    20,'floor_size_cat'] = 'inf_20'\n",
    "top_champ(total_ok,['floor_size_cat'],10)"
   ]
  },
  {
   "cell_type": "code",
   "execution_count": 77,
   "metadata": {},
   "outputs": [
    {
     "name": "stdout",
     "output_type": "stream",
     "text": [
      "8 distinct values for the feature ['price_category']\n"
     ]
    },
    {
     "data": {
      "text/html": [
       "<div>\n",
       "<style scoped>\n",
       "    .dataframe tbody tr th:only-of-type {\n",
       "        vertical-align: middle;\n",
       "    }\n",
       "\n",
       "    .dataframe tbody tr th {\n",
       "        vertical-align: top;\n",
       "    }\n",
       "\n",
       "    .dataframe thead th {\n",
       "        text-align: right;\n",
       "    }\n",
       "</style>\n",
       "<table border=\"1\" class=\"dataframe\">\n",
       "  <thead>\n",
       "    <tr style=\"text-align: right;\">\n",
       "      <th></th>\n",
       "      <th>price_category</th>\n",
       "      <th>nb_records</th>\n",
       "      <th>percentage</th>\n",
       "    </tr>\n",
       "  </thead>\n",
       "  <tbody>\n",
       "    <tr>\n",
       "      <th>0</th>\n",
       "      <td>100k_200k</td>\n",
       "      <td>5085</td>\n",
       "      <td>24.84</td>\n",
       "    </tr>\n",
       "    <tr>\n",
       "      <th>1</th>\n",
       "      <td>1_5millions</td>\n",
       "      <td>3685</td>\n",
       "      <td>18.00</td>\n",
       "    </tr>\n",
       "    <tr>\n",
       "      <th>2</th>\n",
       "      <td>500k_1millions</td>\n",
       "      <td>2674</td>\n",
       "      <td>13.06</td>\n",
       "    </tr>\n",
       "    <tr>\n",
       "      <th>3</th>\n",
       "      <td>10k_50k</td>\n",
       "      <td>2651</td>\n",
       "      <td>12.95</td>\n",
       "    </tr>\n",
       "    <tr>\n",
       "      <th>4</th>\n",
       "      <td>200k_500k</td>\n",
       "      <td>2365</td>\n",
       "      <td>11.55</td>\n",
       "    </tr>\n",
       "    <tr>\n",
       "      <th>5</th>\n",
       "      <td>50k_100k</td>\n",
       "      <td>2253</td>\n",
       "      <td>11.00</td>\n",
       "    </tr>\n",
       "    <tr>\n",
       "      <th>6</th>\n",
       "      <td>sup_5millions</td>\n",
       "      <td>1230</td>\n",
       "      <td>6.01</td>\n",
       "    </tr>\n",
       "    <tr>\n",
       "      <th>7</th>\n",
       "      <td>inf_10k</td>\n",
       "      <td>532</td>\n",
       "      <td>2.60</td>\n",
       "    </tr>\n",
       "  </tbody>\n",
       "</table>\n",
       "</div>"
      ],
      "text/plain": [
       "   price_category  nb_records  percentage\n",
       "0       100k_200k        5085       24.84\n",
       "1     1_5millions        3685       18.00\n",
       "2  500k_1millions        2674       13.06\n",
       "3         10k_50k        2651       12.95\n",
       "4       200k_500k        2365       11.55\n",
       "5        50k_100k        2253       11.00\n",
       "6   sup_5millions        1230        6.01\n",
       "7         inf_10k         532        2.60"
      ]
     },
     "execution_count": 77,
     "metadata": {},
     "output_type": "execute_result"
    }
   ],
   "source": [
    "#price categories\n",
    "total_ok.loc[total_ok['price']>   5000000,'price_category'] = 'sup_5millions'\n",
    "total_ok.loc[total_ok['price']<=  5000000,'price_category'] = '1_5millions'\n",
    "total_ok.loc[total_ok['price']<   1000000,'price_category'] = '500k_1millions'\n",
    "total_ok.loc[total_ok['price']<    500000,'price_category'] = '200k_500k'\n",
    "total_ok.loc[total_ok['price']<    300000,'price_category'] = '100k_200k'\n",
    "total_ok.loc[total_ok['price']<    100000,'price_category'] = '50k_100k'\n",
    "total_ok.loc[total_ok['price']<     50000,'price_category'] = '10k_50k'\n",
    "total_ok.loc[total_ok['price']<     10000,'price_category'] = 'inf_10k'\n",
    "\n",
    "top_champ(total_ok,['price_category'],10)"
   ]
  },
  {
   "cell_type": "code",
   "execution_count": 78,
   "metadata": {},
   "outputs": [
    {
     "name": "stdout",
     "output_type": "stream",
     "text": [
      "6 distinct values for the feature ['after_creation']\n"
     ]
    },
    {
     "data": {
      "text/html": [
       "<div>\n",
       "<style scoped>\n",
       "    .dataframe tbody tr th:only-of-type {\n",
       "        vertical-align: middle;\n",
       "    }\n",
       "\n",
       "    .dataframe tbody tr th {\n",
       "        vertical-align: top;\n",
       "    }\n",
       "\n",
       "    .dataframe thead th {\n",
       "        text-align: right;\n",
       "    }\n",
       "</style>\n",
       "<table border=\"1\" class=\"dataframe\">\n",
       "  <thead>\n",
       "    <tr style=\"text-align: right;\">\n",
       "      <th></th>\n",
       "      <th>after_creation</th>\n",
       "      <th>nb_records</th>\n",
       "      <th>percentage</th>\n",
       "    </tr>\n",
       "  </thead>\n",
       "  <tbody>\n",
       "    <tr>\n",
       "      <th>0</th>\n",
       "      <td>less_10s</td>\n",
       "      <td>1521</td>\n",
       "      <td>58.03</td>\n",
       "    </tr>\n",
       "    <tr>\n",
       "      <th>1</th>\n",
       "      <td>sup_15j</td>\n",
       "      <td>282</td>\n",
       "      <td>10.76</td>\n",
       "    </tr>\n",
       "    <tr>\n",
       "      <th>2</th>\n",
       "      <td>3j_15j</td>\n",
       "      <td>274</td>\n",
       "      <td>10.45</td>\n",
       "    </tr>\n",
       "    <tr>\n",
       "      <th>3</th>\n",
       "      <td>10s_1h</td>\n",
       "      <td>231</td>\n",
       "      <td>8.81</td>\n",
       "    </tr>\n",
       "    <tr>\n",
       "      <th>4</th>\n",
       "      <td>1h_1j</td>\n",
       "      <td>200</td>\n",
       "      <td>7.63</td>\n",
       "    </tr>\n",
       "    <tr>\n",
       "      <th>5</th>\n",
       "      <td>1j_3j</td>\n",
       "      <td>113</td>\n",
       "      <td>4.31</td>\n",
       "    </tr>\n",
       "  </tbody>\n",
       "</table>\n",
       "</div>"
      ],
      "text/plain": [
       "  after_creation  nb_records  percentage\n",
       "0       less_10s        1521       58.03\n",
       "1        sup_15j         282       10.76\n",
       "2         3j_15j         274       10.45\n",
       "3         10s_1h         231        8.81\n",
       "4          1h_1j         200        7.63\n",
       "5          1j_3j         113        4.31"
      ]
     },
     "execution_count": 78,
     "metadata": {},
     "output_type": "execute_result"
    }
   ],
   "source": [
    "total_ok.loc[total_ok['time_create_booking']>15,'after_creation'] = 'sup_15j'\n",
    "total_ok.loc[total_ok['time_create_booking']<=15,'after_creation'] = '3j_15j'\n",
    "total_ok.loc[total_ok['time_create_booking']<3,'after_creation'] = '1j_3j'\n",
    "total_ok.loc[total_ok['time_create_booking']<1,'after_creation'] = '1h_1j'\n",
    "total_ok.loc[total_ok['time_create_booking']<0.04,'after_creation'] = '10s_1h'\n",
    "total_ok.loc[total_ok['time_create_booking']<0.0001,'after_creation'] = 'less_10s'\n",
    "top_champ(total_ok.drop_duplicates('idea_id'),['after_creation'],10)\n",
    "# More than an half of the ideas transforms in a request in less than 10 seconds"
   ]
  },
  {
   "cell_type": "code",
   "execution_count": 80,
   "metadata": {},
   "outputs": [],
   "source": [
    "bookings_mca = pd.merge(conversion[['booking_request_id','to_state','ending_stage']],\n",
    "                      total_ok.drop_duplicates('booking_request_id')\\\n",
    "                       [['booking_request_id',\n",
    "                         'country', 'city','city_ok','capital',\n",
    "                         'portfolio_type', 'floor_size_cat','price_category',\n",
    "                         'time_booked', 'time_create_booking', 'after_creation']],\\\n",
    "                       how='inner', on = 'booking_request_id')"
   ]
  },
  {
   "cell_type": "code",
   "execution_count": 81,
   "metadata": {},
   "outputs": [],
   "source": [
    "# reservation more than 1 day (without bug)\n",
    "bookings_mca =bookings_mca[bookings_mca['time_booked']>0]"
   ]
  },
  {
   "cell_type": "code",
   "execution_count": 82,
   "metadata": {},
   "outputs": [
    {
     "data": {
      "text/plain": [
       "count    7841.000000\n",
       "mean       54.971815\n",
       "std       192.477730\n",
       "min         1.000000\n",
       "25%         4.000000\n",
       "50%         8.000000\n",
       "75%        30.000000\n",
       "max      8115.000000\n",
       "Name: time_booked, dtype: float64"
      ]
     },
     "execution_count": 82,
     "metadata": {},
     "output_type": "execute_result"
    }
   ],
   "source": [
    "bookings_mca['time_booked'].describe()"
   ]
  },
  {
   "cell_type": "code",
   "execution_count": 83,
   "metadata": {},
   "outputs": [],
   "source": [
    "bookings_mca.loc[bookings_mca['time_booked']> 30,'times_booked_cat'] = 'sup_30'\n",
    "bookings_mca.loc[bookings_mca['time_booked']<=30,'times_booked_cat'] = '15_30'\n",
    "bookings_mca.loc[bookings_mca['time_booked']< 15,'times_booked_cat'] = '10_15'\n",
    "bookings_mca.loc[bookings_mca['time_booked']< 10,'times_booked_cat'] = '7_10'\n",
    "bookings_mca.loc[bookings_mca['time_booked']< 7,'times_booked_cat'] = '5_7'\n",
    "bookings_mca.loc[bookings_mca['time_booked']< 5,'times_booked_cat'] = '3_5'\n",
    "bookings_mca.loc[bookings_mca['time_booked']< 3,'times_booked_cat'] = 'inf_3'"
   ]
  },
  {
   "cell_type": "code",
   "execution_count": 84,
   "metadata": {},
   "outputs": [
    {
     "name": "stdout",
     "output_type": "stream",
     "text": [
      "7 distinct values for the feature ['times_booked_cat']\n"
     ]
    },
    {
     "data": {
      "text/html": [
       "<div>\n",
       "<style scoped>\n",
       "    .dataframe tbody tr th:only-of-type {\n",
       "        vertical-align: middle;\n",
       "    }\n",
       "\n",
       "    .dataframe tbody tr th {\n",
       "        vertical-align: top;\n",
       "    }\n",
       "\n",
       "    .dataframe thead th {\n",
       "        text-align: right;\n",
       "    }\n",
       "</style>\n",
       "<table border=\"1\" class=\"dataframe\">\n",
       "  <thead>\n",
       "    <tr style=\"text-align: right;\">\n",
       "      <th></th>\n",
       "      <th>times_booked_cat</th>\n",
       "      <th>nb_records</th>\n",
       "      <th>percentage</th>\n",
       "    </tr>\n",
       "  </thead>\n",
       "  <tbody>\n",
       "    <tr>\n",
       "      <th>0</th>\n",
       "      <td>sup_30</td>\n",
       "      <td>1699</td>\n",
       "      <td>21.67</td>\n",
       "    </tr>\n",
       "    <tr>\n",
       "      <th>1</th>\n",
       "      <td>inf_3</td>\n",
       "      <td>1548</td>\n",
       "      <td>19.74</td>\n",
       "    </tr>\n",
       "    <tr>\n",
       "      <th>2</th>\n",
       "      <td>5_7</td>\n",
       "      <td>1269</td>\n",
       "      <td>16.18</td>\n",
       "    </tr>\n",
       "    <tr>\n",
       "      <th>3</th>\n",
       "      <td>15_30</td>\n",
       "      <td>1139</td>\n",
       "      <td>14.53</td>\n",
       "    </tr>\n",
       "    <tr>\n",
       "      <th>4</th>\n",
       "      <td>10_15</td>\n",
       "      <td>867</td>\n",
       "      <td>11.06</td>\n",
       "    </tr>\n",
       "    <tr>\n",
       "      <th>5</th>\n",
       "      <td>3_5</td>\n",
       "      <td>671</td>\n",
       "      <td>8.56</td>\n",
       "    </tr>\n",
       "    <tr>\n",
       "      <th>6</th>\n",
       "      <td>7_10</td>\n",
       "      <td>648</td>\n",
       "      <td>8.26</td>\n",
       "    </tr>\n",
       "  </tbody>\n",
       "</table>\n",
       "</div>"
      ],
      "text/plain": [
       "  times_booked_cat  nb_records  percentage\n",
       "0           sup_30        1699       21.67\n",
       "1            inf_3        1548       19.74\n",
       "2              5_7        1269       16.18\n",
       "3            15_30        1139       14.53\n",
       "4            10_15         867       11.06\n",
       "5              3_5         671        8.56\n",
       "6             7_10         648        8.26"
      ]
     },
     "execution_count": 84,
     "metadata": {},
     "output_type": "execute_result"
    }
   ],
   "source": [
    "top_champ(bookings_mca,['times_booked_cat'],100)"
   ]
  },
  {
   "cell_type": "code",
   "execution_count": 85,
   "metadata": {},
   "outputs": [],
   "source": [
    "bookings_mca.to_csv('bookings_mca.csv') "
   ]
  },
  {
   "cell_type": "code",
   "execution_count": 86,
   "metadata": {},
   "outputs": [],
   "source": [
    "# finished bookings : either declined or booking\n",
    "bookings_mca = bookings_mca[bookings_mca['ending_stage'].isin(['declined','booked'])]"
   ]
  },
  {
   "cell_type": "code",
   "execution_count": 87,
   "metadata": {},
   "outputs": [
    {
     "name": "stdout",
     "output_type": "stream",
     "text": [
      "2 distinct values for the feature ['ending_stage']\n"
     ]
    },
    {
     "data": {
      "text/html": [
       "<div>\n",
       "<style scoped>\n",
       "    .dataframe tbody tr th:only-of-type {\n",
       "        vertical-align: middle;\n",
       "    }\n",
       "\n",
       "    .dataframe tbody tr th {\n",
       "        vertical-align: top;\n",
       "    }\n",
       "\n",
       "    .dataframe thead th {\n",
       "        text-align: right;\n",
       "    }\n",
       "</style>\n",
       "<table border=\"1\" class=\"dataframe\">\n",
       "  <thead>\n",
       "    <tr style=\"text-align: right;\">\n",
       "      <th></th>\n",
       "      <th>ending_stage</th>\n",
       "      <th>nb_records</th>\n",
       "      <th>percentage</th>\n",
       "    </tr>\n",
       "  </thead>\n",
       "  <tbody>\n",
       "    <tr>\n",
       "      <th>0</th>\n",
       "      <td>declined</td>\n",
       "      <td>7254</td>\n",
       "      <td>96.31</td>\n",
       "    </tr>\n",
       "    <tr>\n",
       "      <th>1</th>\n",
       "      <td>booked</td>\n",
       "      <td>278</td>\n",
       "      <td>3.69</td>\n",
       "    </tr>\n",
       "  </tbody>\n",
       "</table>\n",
       "</div>"
      ],
      "text/plain": [
       "  ending_stage  nb_records  percentage\n",
       "0     declined        7254       96.31\n",
       "1       booked         278        3.69"
      ]
     },
     "execution_count": 87,
     "metadata": {},
     "output_type": "execute_result"
    }
   ],
   "source": [
    "top_champ(bookings_mca,['ending_stage'],100)"
   ]
  },
  {
   "cell_type": "code",
   "execution_count": 88,
   "metadata": {},
   "outputs": [
    {
     "data": {
      "text/plain": [
       "Index(['booking_request_id', 'to_state', 'ending_stage', 'country', 'city',\n",
       "       'city_ok', 'capital', 'portfolio_type', 'floor_size_cat',\n",
       "       'price_category', 'time_booked', 'time_create_booking',\n",
       "       'after_creation', 'times_booked_cat'],\n",
       "      dtype='object')"
      ]
     },
     "execution_count": 88,
     "metadata": {},
     "output_type": "execute_result"
    }
   ],
   "source": [
    "bookings_mca.columns"
   ]
  },
  {
   "cell_type": "markdown",
   "metadata": {},
   "source": [
    "# ML "
   ]
  },
  {
   "cell_type": "code",
   "execution_count": 89,
   "metadata": {},
   "outputs": [],
   "source": [
    "#from sklearn.datasets import make_classification\n",
    "from sklearn.model_selection import train_test_split\n",
    "from sklearn.preprocessing import StandardScaler\n",
    "\n",
    "from sklearn.ensemble import RandomForestClassifier\n",
    "from sklearn.decomposition import PCA\n",
    "from sklearn.metrics import classification_report\n",
    "from sklearn.metrics import confusion_matrix\n",
    "from sklearn.metrics import accuracy_score, precision_score, recall_score"
   ]
  },
  {
   "cell_type": "markdown",
   "metadata": {},
   "source": [
    "## Create bookings_ml"
   ]
  },
  {
   "cell_type": "markdown",
   "metadata": {},
   "source": [
    "### Select the feature to predict"
   ]
  },
  {
   "cell_type": "code",
   "execution_count": 90,
   "metadata": {},
   "outputs": [
    {
     "name": "stdout",
     "output_type": "stream",
     "text": [
      "idea_id               2621\n",
      "space_id              2019\n",
      "booking_request_id    9676\n",
      "to_state                59\n",
      "ending_stage             4\n",
      "dtype: int64\n"
     ]
    },
    {
     "data": {
      "text/plain": [
       "(9676, 5)"
      ]
     },
     "execution_count": 90,
     "metadata": {},
     "output_type": "execute_result"
    }
   ],
   "source": [
    "print(conversion.nunique())\n",
    "conversion.shape"
   ]
  },
  {
   "cell_type": "code",
   "execution_count": 92,
   "metadata": {},
   "outputs": [
    {
     "name": "stdout",
     "output_type": "stream",
     "text": [
      "4 distinct values for the feature ['ending_stage']\n"
     ]
    },
    {
     "data": {
      "text/html": [
       "<div>\n",
       "<style scoped>\n",
       "    .dataframe tbody tr th:only-of-type {\n",
       "        vertical-align: middle;\n",
       "    }\n",
       "\n",
       "    .dataframe tbody tr th {\n",
       "        vertical-align: top;\n",
       "    }\n",
       "\n",
       "    .dataframe thead th {\n",
       "        text-align: right;\n",
       "    }\n",
       "</style>\n",
       "<table border=\"1\" class=\"dataframe\">\n",
       "  <thead>\n",
       "    <tr style=\"text-align: right;\">\n",
       "      <th></th>\n",
       "      <th>ending_stage</th>\n",
       "      <th>nb_records</th>\n",
       "      <th>percentage</th>\n",
       "    </tr>\n",
       "  </thead>\n",
       "  <tbody>\n",
       "    <tr>\n",
       "      <th>0</th>\n",
       "      <td>declined</td>\n",
       "      <td>8905</td>\n",
       "      <td>92.03</td>\n",
       "    </tr>\n",
       "    <tr>\n",
       "      <th>1</th>\n",
       "      <td>booked</td>\n",
       "      <td>375</td>\n",
       "      <td>3.88</td>\n",
       "    </tr>\n",
       "    <tr>\n",
       "      <th>2</th>\n",
       "      <td>submitted</td>\n",
       "      <td>317</td>\n",
       "      <td>3.28</td>\n",
       "    </tr>\n",
       "    <tr>\n",
       "      <th>3</th>\n",
       "      <td>matched</td>\n",
       "      <td>79</td>\n",
       "      <td>0.82</td>\n",
       "    </tr>\n",
       "  </tbody>\n",
       "</table>\n",
       "</div>"
      ],
      "text/plain": [
       "  ending_stage  nb_records  percentage\n",
       "0     declined        8905       92.03\n",
       "1       booked         375        3.88\n",
       "2    submitted         317        3.28\n",
       "3      matched          79        0.82"
      ]
     },
     "execution_count": 92,
     "metadata": {},
     "output_type": "execute_result"
    }
   ],
   "source": [
    "top_champ(conversion,['ending_stage'],5)"
   ]
  },
  {
   "cell_type": "markdown",
   "metadata": {},
   "source": [
    "Hence we have four types of ending stage for a booking :\n",
    "- declined : which means the client refused the idea or they weren't any available spaces\n",
    "- booked : which means the client successfully booked a space\n",
    "- matched : which means the space is avalaible and fits the booking request\n",
    "- submitted : which means the client or appear here teams have made a booking request for one space\n",
    "\n",
    "In the case of the ending-stage equals to submitted it means the booking request have just been made and so it is impossible to know wwhether the space fits the request (availability and client ideas) so we cannot make any training prediction or testing prediction on this 3% of the dataset.   \n",
    "regarding the matched ending-stage, it is means that the space is available but does not mean that the client accept it.\n",
    "I could gather this ending_stage with the booked one but I also want to predict whether the client will or won't reserve the space so I prefered to keep only booked ending-stage. Besides, one client idea can have several bookings matching availaibility and still he will select only one among others. It seems interesting to also predict why this space availaible among other spaces available."
   ]
  },
  {
   "cell_type": "markdown",
   "metadata": {},
   "source": [
    "#### select ending_stage declined or booked"
   ]
  },
  {
   "cell_type": "code",
   "execution_count": 241,
   "metadata": {},
   "outputs": [],
   "source": [
    "bookings_ml = total_ok.drop_duplicates('booking_request_id',keep='last')\n",
    "bookings_ml = bookings_ml.loc[bookings_ml['to_state'].isin(['booked','declined'])]"
   ]
  },
  {
   "cell_type": "code",
   "execution_count": 242,
   "metadata": {},
   "outputs": [
    {
     "data": {
      "text/plain": [
       "(9280, 32)"
      ]
     },
     "execution_count": 242,
     "metadata": {},
     "output_type": "execute_result"
    }
   ],
   "source": [
    "bookings_ml.shape"
   ]
  },
  {
   "cell_type": "markdown",
   "metadata": {},
   "source": [
    "#### transform ending_stage in boolean features"
   ]
  },
  {
   "cell_type": "code",
   "execution_count": 243,
   "metadata": {},
   "outputs": [],
   "source": [
    "bookings_ml.loc[bookings_ml['to_state']=='booked','ending_stage'] = 1\n",
    "bookings_ml.loc[bookings_ml['to_state']=='declined','ending_stage'] = 0\n",
    "bookings_ml = bookings_ml.drop(['to_state'])"
   ]
  },
  {
   "cell_type": "code",
   "execution_count": 244,
   "metadata": {},
   "outputs": [
    {
     "name": "stdout",
     "output_type": "stream",
     "text": [
      "2 distinct values for the feature ['ending_stage']\n"
     ]
    },
    {
     "data": {
      "text/html": [
       "<div>\n",
       "<style scoped>\n",
       "    .dataframe tbody tr th:only-of-type {\n",
       "        vertical-align: middle;\n",
       "    }\n",
       "\n",
       "    .dataframe tbody tr th {\n",
       "        vertical-align: top;\n",
       "    }\n",
       "\n",
       "    .dataframe thead th {\n",
       "        text-align: right;\n",
       "    }\n",
       "</style>\n",
       "<table border=\"1\" class=\"dataframe\">\n",
       "  <thead>\n",
       "    <tr style=\"text-align: right;\">\n",
       "      <th></th>\n",
       "      <th>ending_stage</th>\n",
       "      <th>nb_records</th>\n",
       "      <th>percentage</th>\n",
       "    </tr>\n",
       "  </thead>\n",
       "  <tbody>\n",
       "    <tr>\n",
       "      <th>0</th>\n",
       "      <td>0.0</td>\n",
       "      <td>8905</td>\n",
       "      <td>95.96</td>\n",
       "    </tr>\n",
       "    <tr>\n",
       "      <th>1</th>\n",
       "      <td>1.0</td>\n",
       "      <td>375</td>\n",
       "      <td>4.04</td>\n",
       "    </tr>\n",
       "  </tbody>\n",
       "</table>\n",
       "</div>"
      ],
      "text/plain": [
       "   ending_stage  nb_records  percentage\n",
       "0           0.0        8905       95.96\n",
       "1           1.0         375        4.04"
      ]
     },
     "execution_count": 244,
     "metadata": {},
     "output_type": "execute_result"
    }
   ],
   "source": [
    "top_champ(bookings_ml,['ending_stage'],2)"
   ]
  },
  {
   "cell_type": "code",
   "execution_count": 245,
   "metadata": {},
   "outputs": [
    {
     "data": {
      "text/plain": [
       "(9280, 33)"
      ]
     },
     "execution_count": 245,
     "metadata": {},
     "output_type": "execute_result"
    }
   ],
   "source": [
    "bookings_ml.shape"
   ]
  },
  {
   "cell_type": "markdown",
   "metadata": {},
   "source": [
    "### Calculate some other features "
   ]
  },
  {
   "cell_type": "markdown",
   "metadata": {},
   "source": [
    "#### number of booking booked per space"
   ]
  },
  {
   "cell_type": "code",
   "execution_count": 246,
   "metadata": {},
   "outputs": [],
   "source": [
    "space_info = bookings_ml.loc[bookings_ml['ending_stage']==1].groupby('space_id').agg('size').to_frame().reset_index()\n",
    "space_info.columns = ['space_id','nb_space_booked']"
   ]
  },
  {
   "cell_type": "code",
   "execution_count": 247,
   "metadata": {},
   "outputs": [
    {
     "data": {
      "text/plain": [
       "(9280, 33)"
      ]
     },
     "execution_count": 247,
     "metadata": {},
     "output_type": "execute_result"
    }
   ],
   "source": [
    "bookings_ml.shape"
   ]
  },
  {
   "cell_type": "markdown",
   "metadata": {},
   "source": [
    "#### number of bookings booked per idea"
   ]
  },
  {
   "cell_type": "code",
   "execution_count": 248,
   "metadata": {},
   "outputs": [],
   "source": [
    "idea_info = bookings_ml.loc[bookings_ml['ending_stage']==1].groupby('idea_id').agg('size').to_frame().reset_index()\n",
    "idea_info.columns = ['idea_id','nb_booked']"
   ]
  },
  {
   "cell_type": "code",
   "execution_count": 249,
   "metadata": {},
   "outputs": [
    {
     "data": {
      "text/plain": [
       "(9280, 33)"
      ]
     },
     "execution_count": 249,
     "metadata": {},
     "output_type": "execute_result"
    }
   ],
   "source": [
    "bookings_ml.shape"
   ]
  },
  {
   "cell_type": "markdown",
   "metadata": {},
   "source": [
    "#### fidelity of the idea "
   ]
  },
  {
   "cell_type": "markdown",
   "metadata": {},
   "source": [
    "Time between last booking state (= last activity) and the creation of the idea "
   ]
  },
  {
   "cell_type": "code",
   "execution_count": 250,
   "metadata": {},
   "outputs": [],
   "source": [
    "bookings_ml.loc[:,'idea_age'] = bookings_ml.loc[:,'time_create_booking'] \n",
    "#print(idea_old.loc[:,'idea_age'].describe())\n",
    "bookings_ml = bookings_ml.drop(['time_create_booking'],axis=1)\n",
    "#idea_old = idea_old[['idea_id','idea_age']]"
   ]
  },
  {
   "cell_type": "code",
   "execution_count": 251,
   "metadata": {},
   "outputs": [
    {
     "data": {
      "text/plain": [
       "(9280, 33)"
      ]
     },
     "execution_count": 251,
     "metadata": {},
     "output_type": "execute_result"
    }
   ],
   "source": [
    "bookings_ml.shape"
   ]
  },
  {
   "cell_type": "markdown",
   "metadata": {},
   "source": [
    "#### time between idea creation and first booking request"
   ]
  },
  {
   "cell_type": "code",
   "execution_count": 252,
   "metadata": {},
   "outputs": [],
   "source": [
    "time_fst_booking = total_ok.drop_duplicates('booking_request_id',keep='first').copy()\n",
    "time_fst_booking = time_fst_booking[['booking_request_id','time_create_booking']]\n",
    "time_fst_booking.columns = ['booking_request_id','time_fst_booking']\n",
    "#time_fst_booking = time_fst_booking.drop_duplicates('idea_id',keep='first')"
   ]
  },
  {
   "cell_type": "code",
   "execution_count": 253,
   "metadata": {},
   "outputs": [
    {
     "data": {
      "text/plain": [
       "(9280, 33)"
      ]
     },
     "execution_count": 253,
     "metadata": {},
     "output_type": "execute_result"
    }
   ],
   "source": [
    "bookings_ml.shape"
   ]
  },
  {
   "cell_type": "markdown",
   "metadata": {},
   "source": [
    "### merge all and keep useful features"
   ]
  },
  {
   "cell_type": "code",
   "execution_count": 254,
   "metadata": {},
   "outputs": [],
   "source": [
    "bookings_ml = bookings_ml[['booking_request_id', 'ending_stage','time_create_check_in','idea_age',\n",
    "            'idea_id', 'category_x', 'created_at_year','created_at_mth',  \n",
    "            'to_state', 'to_state_bf','transition_ts_year', 'transition_ts_mth',\n",
    "            'space_id', 'country',  'capital', 'portfolio_type','price' , 'floor_size_m', \n",
    "            'start_on_year', 'start_on_mth', 'end_on_year', 'end_on_month', 'time_booked']]          "
   ]
  },
  {
   "cell_type": "code",
   "execution_count": 255,
   "metadata": {},
   "outputs": [
    {
     "data": {
      "text/plain": [
       "(9280, 23)"
      ]
     },
     "execution_count": 255,
     "metadata": {},
     "output_type": "execute_result"
    }
   ],
   "source": [
    "bookings_ml.shape"
   ]
  },
  {
   "cell_type": "code",
   "execution_count": 256,
   "metadata": {},
   "outputs": [
    {
     "name": "stdout",
     "output_type": "stream",
     "text": [
      "(9280, 23)\n",
      "(9280, 24)\n",
      "(9280, 25)\n",
      "(9280, 26)\n"
     ]
    }
   ],
   "source": [
    "print(bookings_ml.shape)\n",
    "bookings_ml = pd.merge(bookings_ml, idea_info, how='left', left_on='idea_id', right_on='idea_id')\n",
    "print(bookings_ml.shape)\n",
    "bookings_ml = pd.merge(bookings_ml, time_fst_booking, how='left', left_on='booking_request_id', right_on='booking_request_id')\n",
    "print(bookings_ml.shape)\n",
    "bookings_ml = pd.merge(bookings_ml, space_info, how='left', left_on='space_id', right_on='space_id')\n",
    "print(bookings_ml.shape)"
   ]
  },
  {
   "cell_type": "code",
   "execution_count": 259,
   "metadata": {},
   "outputs": [
    {
     "data": {
      "text/plain": [
       "Index(['booking_request_id', 'ending_stage', 'time_create_check_in',\n",
       "       'idea_age', 'idea_id', 'category_x', 'created_at_year',\n",
       "       'created_at_mth', 'to_state', 'to_state_bf', 'transition_ts_year',\n",
       "       'transition_ts_mth', 'space_id', 'country', 'capital', 'portfolio_type',\n",
       "       'price', 'floor_size_m', 'start_on_year', 'start_on_mth', 'end_on_year',\n",
       "       'end_on_month', 'time_booked', 'nb_booked', 'time_fst_booking',\n",
       "       'nb_space_booked'],\n",
       "      dtype='object')"
      ]
     },
     "execution_count": 259,
     "metadata": {},
     "output_type": "execute_result"
    }
   ],
   "source": [
    "bookings_ml.columns"
   ]
  },
  {
   "cell_type": "code",
   "execution_count": 260,
   "metadata": {},
   "outputs": [
    {
     "name": "stdout",
     "output_type": "stream",
     "text": [
      "2 distinct values for the feature ['capital']\n"
     ]
    },
    {
     "data": {
      "text/html": [
       "<div>\n",
       "<style scoped>\n",
       "    .dataframe tbody tr th:only-of-type {\n",
       "        vertical-align: middle;\n",
       "    }\n",
       "\n",
       "    .dataframe tbody tr th {\n",
       "        vertical-align: top;\n",
       "    }\n",
       "\n",
       "    .dataframe thead th {\n",
       "        text-align: right;\n",
       "    }\n",
       "</style>\n",
       "<table border=\"1\" class=\"dataframe\">\n",
       "  <thead>\n",
       "    <tr style=\"text-align: right;\">\n",
       "      <th></th>\n",
       "      <th>capital</th>\n",
       "      <th>nb_records</th>\n",
       "      <th>percentage</th>\n",
       "    </tr>\n",
       "  </thead>\n",
       "  <tbody>\n",
       "    <tr>\n",
       "      <th>0</th>\n",
       "      <td>1.0</td>\n",
       "      <td>8552</td>\n",
       "      <td>92.16</td>\n",
       "    </tr>\n",
       "    <tr>\n",
       "      <th>1</th>\n",
       "      <td>0.0</td>\n",
       "      <td>728</td>\n",
       "      <td>7.84</td>\n",
       "    </tr>\n",
       "  </tbody>\n",
       "</table>\n",
       "</div>"
      ],
      "text/plain": [
       "   capital  nb_records  percentage\n",
       "0      1.0        8552       92.16\n",
       "1      0.0         728        7.84"
      ]
     },
     "execution_count": 260,
     "metadata": {},
     "output_type": "execute_result"
    }
   ],
   "source": [
    "top_champ(bookings_ml,['capital'],2)"
   ]
  },
  {
   "cell_type": "markdown",
   "metadata": {},
   "source": [
    "#### change string and nan by integer"
   ]
  },
  {
   "cell_type": "code",
   "execution_count": 262,
   "metadata": {},
   "outputs": [
    {
     "name": "stdout",
     "output_type": "stream",
     "text": [
      "23\n"
     ]
    }
   ],
   "source": [
    "#check nan\n",
    "for i in range(24) : \n",
    "    sum_na = bookings_ml.iloc[:,i].isnull().sum()#.sum()\n",
    "    if sum_na !=0 : print(i)"
   ]
  },
  {
   "cell_type": "code",
   "execution_count": 265,
   "metadata": {},
   "outputs": [],
   "source": [
    "bookings_ml.loc[bookings_ml['nb_booked'].isnull(),'nb_booked']= 0"
   ]
  },
  {
   "cell_type": "code",
   "execution_count": 266,
   "metadata": {},
   "outputs": [],
   "source": [
    "bookings_ml.loc[:,'popupshop']= 0\n",
    "bookings_ml.loc[bookings_ml['category_x']=='popup_shop','popupshop']= 1\n",
    "\n",
    "bookings_ml.loc[:,'private_event']= 0\n",
    "bookings_ml.loc[bookings_ml['category_x']=='private_event','private_event']= 1\n",
    "\n",
    "bookings_ml.loc[:,'unique']= 0\n",
    "bookings_ml.loc[bookings_ml['category_x']=='unique','unique']= 1\n",
    "\n",
    "bookings_ml.loc[:,'popup_bar']= 0\n",
    "bookings_ml.loc[bookings_ml['category_x']=='popup_bar','popup_bar']= 1\n",
    "\n",
    "bookings_ml.loc[:,'gallery']= 0\n",
    "bookings_ml.loc[bookings_ml['category_x']=='gallery','gallery']= 1\n",
    "\n",
    "bookings_ml.loc[:,'sample_sale']= 0\n",
    "bookings_ml.loc[bookings_ml['category_x']=='sample_sale','sample_sale']= 1\n",
    "\n",
    "bookings_ml = bookings_ml.drop(['category_x'],axis=1)"
   ]
  },
  {
   "cell_type": "code",
   "execution_count": 391,
   "metadata": {},
   "outputs": [],
   "source": [
    "bookings_ml.loc[:,'bf_matched']= 0\n",
    "bookings_ml.loc[bookings_ml['to_state_bf']=='matched','bf_matched']= 1\n",
    "\n",
    "bookings_ml.loc[:,'bf_submitted']= 0\n",
    "bookings_ml.loc[bookings_ml['to_state_bf']=='submitted','bf_submitted']= 1\n",
    "\n",
    "bookings_ml.loc[:,'bf_declined']= 0\n",
    "bookings_ml.loc[bookings_ml['to_state_bf']=='declined','bf_declined']= 1\n",
    "\n",
    "bookings_ml.loc[:,'bf_booked']= 0\n",
    "bookings_ml.loc[bookings_ml['to_state_bf']=='booked','bf_booked']= 1\n",
    "\n",
    "bookings_ml = bookings_ml.drop(['to_state_bf'],axis=1)"
   ]
  },
  {
   "cell_type": "code",
   "execution_count": 269,
   "metadata": {},
   "outputs": [
    {
     "ename": "KeyError",
     "evalue": "'country'",
     "output_type": "error",
     "traceback": [
      "\u001b[0;31m---------------------------------------------------------------------------\u001b[0m",
      "\u001b[0;31mKeyError\u001b[0m                                  Traceback (most recent call last)",
      "\u001b[0;32m/anaconda/envs/ah_test_env/lib/python3.6/site-packages/pandas/core/indexes/base.py\u001b[0m in \u001b[0;36mget_loc\u001b[0;34m(self, key, method, tolerance)\u001b[0m\n\u001b[1;32m   3077\u001b[0m             \u001b[0;32mtry\u001b[0m\u001b[0;34m:\u001b[0m\u001b[0;34m\u001b[0m\u001b[0;34m\u001b[0m\u001b[0m\n\u001b[0;32m-> 3078\u001b[0;31m                 \u001b[0;32mreturn\u001b[0m \u001b[0mself\u001b[0m\u001b[0;34m.\u001b[0m\u001b[0m_engine\u001b[0m\u001b[0;34m.\u001b[0m\u001b[0mget_loc\u001b[0m\u001b[0;34m(\u001b[0m\u001b[0mkey\u001b[0m\u001b[0;34m)\u001b[0m\u001b[0;34m\u001b[0m\u001b[0;34m\u001b[0m\u001b[0m\n\u001b[0m\u001b[1;32m   3079\u001b[0m             \u001b[0;32mexcept\u001b[0m \u001b[0mKeyError\u001b[0m\u001b[0;34m:\u001b[0m\u001b[0;34m\u001b[0m\u001b[0;34m\u001b[0m\u001b[0m\n",
      "\u001b[0;32mpandas/_libs/index.pyx\u001b[0m in \u001b[0;36mpandas._libs.index.IndexEngine.get_loc\u001b[0;34m()\u001b[0m\n",
      "\u001b[0;32mpandas/_libs/index.pyx\u001b[0m in \u001b[0;36mpandas._libs.index.IndexEngine.get_loc\u001b[0;34m()\u001b[0m\n",
      "\u001b[0;32mpandas/_libs/hashtable_class_helper.pxi\u001b[0m in \u001b[0;36mpandas._libs.hashtable.PyObjectHashTable.get_item\u001b[0;34m()\u001b[0m\n",
      "\u001b[0;32mpandas/_libs/hashtable_class_helper.pxi\u001b[0m in \u001b[0;36mpandas._libs.hashtable.PyObjectHashTable.get_item\u001b[0;34m()\u001b[0m\n",
      "\u001b[0;31mKeyError\u001b[0m: 'country'",
      "\nDuring handling of the above exception, another exception occurred:\n",
      "\u001b[0;31mKeyError\u001b[0m                                  Traceback (most recent call last)",
      "\u001b[0;32m<ipython-input-269-e7b3cda656ff>\u001b[0m in \u001b[0;36m<module>\u001b[0;34m\u001b[0m\n\u001b[1;32m      1\u001b[0m \u001b[0mbookings_ml\u001b[0m\u001b[0;34m.\u001b[0m\u001b[0mloc\u001b[0m\u001b[0;34m[\u001b[0m\u001b[0;34m:\u001b[0m\u001b[0;34m,\u001b[0m\u001b[0;34m'country_GB'\u001b[0m\u001b[0;34m]\u001b[0m \u001b[0;34m=\u001b[0m \u001b[0;36m0\u001b[0m\u001b[0;34m\u001b[0m\u001b[0;34m\u001b[0m\u001b[0m\n\u001b[0;32m----> 2\u001b[0;31m \u001b[0mbookings_ml\u001b[0m\u001b[0;34m.\u001b[0m\u001b[0mloc\u001b[0m\u001b[0;34m[\u001b[0m\u001b[0mbookings_ml\u001b[0m\u001b[0;34m[\u001b[0m\u001b[0;34m'country'\u001b[0m\u001b[0;34m]\u001b[0m\u001b[0;34m==\u001b[0m\u001b[0;34m'GB'\u001b[0m\u001b[0;34m,\u001b[0m\u001b[0;34m'country_GB'\u001b[0m\u001b[0;34m]\u001b[0m\u001b[0;34m=\u001b[0m \u001b[0;36m1\u001b[0m\u001b[0;34m\u001b[0m\u001b[0;34m\u001b[0m\u001b[0m\n\u001b[0m\u001b[1;32m      3\u001b[0m \u001b[0;34m\u001b[0m\u001b[0m\n\u001b[1;32m      4\u001b[0m \u001b[0mbookings_ml\u001b[0m\u001b[0;34m.\u001b[0m\u001b[0mloc\u001b[0m\u001b[0;34m[\u001b[0m\u001b[0;34m:\u001b[0m\u001b[0;34m,\u001b[0m\u001b[0;34m'country_FR'\u001b[0m\u001b[0;34m]\u001b[0m\u001b[0;34m=\u001b[0m \u001b[0;36m0\u001b[0m\u001b[0;34m\u001b[0m\u001b[0;34m\u001b[0m\u001b[0m\n\u001b[1;32m      5\u001b[0m \u001b[0mbookings_ml\u001b[0m\u001b[0;34m.\u001b[0m\u001b[0mloc\u001b[0m\u001b[0;34m[\u001b[0m\u001b[0mbookings_ml\u001b[0m\u001b[0;34m[\u001b[0m\u001b[0;34m'country'\u001b[0m\u001b[0;34m]\u001b[0m\u001b[0;34m==\u001b[0m\u001b[0;34m'FR'\u001b[0m\u001b[0;34m,\u001b[0m\u001b[0;34m'country_FR'\u001b[0m\u001b[0;34m]\u001b[0m\u001b[0;34m=\u001b[0m \u001b[0;36m1\u001b[0m\u001b[0;34m\u001b[0m\u001b[0;34m\u001b[0m\u001b[0m\n",
      "\u001b[0;32m/anaconda/envs/ah_test_env/lib/python3.6/site-packages/pandas/core/frame.py\u001b[0m in \u001b[0;36m__getitem__\u001b[0;34m(self, key)\u001b[0m\n\u001b[1;32m   2686\u001b[0m             \u001b[0;32mreturn\u001b[0m \u001b[0mself\u001b[0m\u001b[0;34m.\u001b[0m\u001b[0m_getitem_multilevel\u001b[0m\u001b[0;34m(\u001b[0m\u001b[0mkey\u001b[0m\u001b[0;34m)\u001b[0m\u001b[0;34m\u001b[0m\u001b[0;34m\u001b[0m\u001b[0m\n\u001b[1;32m   2687\u001b[0m         \u001b[0;32melse\u001b[0m\u001b[0;34m:\u001b[0m\u001b[0;34m\u001b[0m\u001b[0;34m\u001b[0m\u001b[0m\n\u001b[0;32m-> 2688\u001b[0;31m             \u001b[0;32mreturn\u001b[0m \u001b[0mself\u001b[0m\u001b[0;34m.\u001b[0m\u001b[0m_getitem_column\u001b[0m\u001b[0;34m(\u001b[0m\u001b[0mkey\u001b[0m\u001b[0;34m)\u001b[0m\u001b[0;34m\u001b[0m\u001b[0;34m\u001b[0m\u001b[0m\n\u001b[0m\u001b[1;32m   2689\u001b[0m \u001b[0;34m\u001b[0m\u001b[0m\n\u001b[1;32m   2690\u001b[0m     \u001b[0;32mdef\u001b[0m \u001b[0m_getitem_column\u001b[0m\u001b[0;34m(\u001b[0m\u001b[0mself\u001b[0m\u001b[0;34m,\u001b[0m \u001b[0mkey\u001b[0m\u001b[0;34m)\u001b[0m\u001b[0;34m:\u001b[0m\u001b[0;34m\u001b[0m\u001b[0;34m\u001b[0m\u001b[0m\n",
      "\u001b[0;32m/anaconda/envs/ah_test_env/lib/python3.6/site-packages/pandas/core/frame.py\u001b[0m in \u001b[0;36m_getitem_column\u001b[0;34m(self, key)\u001b[0m\n\u001b[1;32m   2693\u001b[0m         \u001b[0;31m# get column\u001b[0m\u001b[0;34m\u001b[0m\u001b[0;34m\u001b[0m\u001b[0;34m\u001b[0m\u001b[0m\n\u001b[1;32m   2694\u001b[0m         \u001b[0;32mif\u001b[0m \u001b[0mself\u001b[0m\u001b[0;34m.\u001b[0m\u001b[0mcolumns\u001b[0m\u001b[0;34m.\u001b[0m\u001b[0mis_unique\u001b[0m\u001b[0;34m:\u001b[0m\u001b[0;34m\u001b[0m\u001b[0;34m\u001b[0m\u001b[0m\n\u001b[0;32m-> 2695\u001b[0;31m             \u001b[0;32mreturn\u001b[0m \u001b[0mself\u001b[0m\u001b[0;34m.\u001b[0m\u001b[0m_get_item_cache\u001b[0m\u001b[0;34m(\u001b[0m\u001b[0mkey\u001b[0m\u001b[0;34m)\u001b[0m\u001b[0;34m\u001b[0m\u001b[0;34m\u001b[0m\u001b[0m\n\u001b[0m\u001b[1;32m   2696\u001b[0m \u001b[0;34m\u001b[0m\u001b[0m\n\u001b[1;32m   2697\u001b[0m         \u001b[0;31m# duplicate columns & possible reduce dimensionality\u001b[0m\u001b[0;34m\u001b[0m\u001b[0;34m\u001b[0m\u001b[0;34m\u001b[0m\u001b[0m\n",
      "\u001b[0;32m/anaconda/envs/ah_test_env/lib/python3.6/site-packages/pandas/core/generic.py\u001b[0m in \u001b[0;36m_get_item_cache\u001b[0;34m(self, item)\u001b[0m\n\u001b[1;32m   2487\u001b[0m         \u001b[0mres\u001b[0m \u001b[0;34m=\u001b[0m \u001b[0mcache\u001b[0m\u001b[0;34m.\u001b[0m\u001b[0mget\u001b[0m\u001b[0;34m(\u001b[0m\u001b[0mitem\u001b[0m\u001b[0;34m)\u001b[0m\u001b[0;34m\u001b[0m\u001b[0;34m\u001b[0m\u001b[0m\n\u001b[1;32m   2488\u001b[0m         \u001b[0;32mif\u001b[0m \u001b[0mres\u001b[0m \u001b[0;32mis\u001b[0m \u001b[0;32mNone\u001b[0m\u001b[0;34m:\u001b[0m\u001b[0;34m\u001b[0m\u001b[0;34m\u001b[0m\u001b[0m\n\u001b[0;32m-> 2489\u001b[0;31m             \u001b[0mvalues\u001b[0m \u001b[0;34m=\u001b[0m \u001b[0mself\u001b[0m\u001b[0;34m.\u001b[0m\u001b[0m_data\u001b[0m\u001b[0;34m.\u001b[0m\u001b[0mget\u001b[0m\u001b[0;34m(\u001b[0m\u001b[0mitem\u001b[0m\u001b[0;34m)\u001b[0m\u001b[0;34m\u001b[0m\u001b[0;34m\u001b[0m\u001b[0m\n\u001b[0m\u001b[1;32m   2490\u001b[0m             \u001b[0mres\u001b[0m \u001b[0;34m=\u001b[0m \u001b[0mself\u001b[0m\u001b[0;34m.\u001b[0m\u001b[0m_box_item_values\u001b[0m\u001b[0;34m(\u001b[0m\u001b[0mitem\u001b[0m\u001b[0;34m,\u001b[0m \u001b[0mvalues\u001b[0m\u001b[0;34m)\u001b[0m\u001b[0;34m\u001b[0m\u001b[0;34m\u001b[0m\u001b[0m\n\u001b[1;32m   2491\u001b[0m             \u001b[0mcache\u001b[0m\u001b[0;34m[\u001b[0m\u001b[0mitem\u001b[0m\u001b[0;34m]\u001b[0m \u001b[0;34m=\u001b[0m \u001b[0mres\u001b[0m\u001b[0;34m\u001b[0m\u001b[0;34m\u001b[0m\u001b[0m\n",
      "\u001b[0;32m/anaconda/envs/ah_test_env/lib/python3.6/site-packages/pandas/core/internals.py\u001b[0m in \u001b[0;36mget\u001b[0;34m(self, item, fastpath)\u001b[0m\n\u001b[1;32m   4113\u001b[0m \u001b[0;34m\u001b[0m\u001b[0m\n\u001b[1;32m   4114\u001b[0m             \u001b[0;32mif\u001b[0m \u001b[0;32mnot\u001b[0m \u001b[0misna\u001b[0m\u001b[0;34m(\u001b[0m\u001b[0mitem\u001b[0m\u001b[0;34m)\u001b[0m\u001b[0;34m:\u001b[0m\u001b[0;34m\u001b[0m\u001b[0;34m\u001b[0m\u001b[0m\n\u001b[0;32m-> 4115\u001b[0;31m                 \u001b[0mloc\u001b[0m \u001b[0;34m=\u001b[0m \u001b[0mself\u001b[0m\u001b[0;34m.\u001b[0m\u001b[0mitems\u001b[0m\u001b[0;34m.\u001b[0m\u001b[0mget_loc\u001b[0m\u001b[0;34m(\u001b[0m\u001b[0mitem\u001b[0m\u001b[0;34m)\u001b[0m\u001b[0;34m\u001b[0m\u001b[0;34m\u001b[0m\u001b[0m\n\u001b[0m\u001b[1;32m   4116\u001b[0m             \u001b[0;32melse\u001b[0m\u001b[0;34m:\u001b[0m\u001b[0;34m\u001b[0m\u001b[0;34m\u001b[0m\u001b[0m\n\u001b[1;32m   4117\u001b[0m                 \u001b[0mindexer\u001b[0m \u001b[0;34m=\u001b[0m \u001b[0mnp\u001b[0m\u001b[0;34m.\u001b[0m\u001b[0marange\u001b[0m\u001b[0;34m(\u001b[0m\u001b[0mlen\u001b[0m\u001b[0;34m(\u001b[0m\u001b[0mself\u001b[0m\u001b[0;34m.\u001b[0m\u001b[0mitems\u001b[0m\u001b[0;34m)\u001b[0m\u001b[0;34m)\u001b[0m\u001b[0;34m[\u001b[0m\u001b[0misna\u001b[0m\u001b[0;34m(\u001b[0m\u001b[0mself\u001b[0m\u001b[0;34m.\u001b[0m\u001b[0mitems\u001b[0m\u001b[0;34m)\u001b[0m\u001b[0;34m]\u001b[0m\u001b[0;34m\u001b[0m\u001b[0;34m\u001b[0m\u001b[0m\n",
      "\u001b[0;32m/anaconda/envs/ah_test_env/lib/python3.6/site-packages/pandas/core/indexes/base.py\u001b[0m in \u001b[0;36mget_loc\u001b[0;34m(self, key, method, tolerance)\u001b[0m\n\u001b[1;32m   3078\u001b[0m                 \u001b[0;32mreturn\u001b[0m \u001b[0mself\u001b[0m\u001b[0;34m.\u001b[0m\u001b[0m_engine\u001b[0m\u001b[0;34m.\u001b[0m\u001b[0mget_loc\u001b[0m\u001b[0;34m(\u001b[0m\u001b[0mkey\u001b[0m\u001b[0;34m)\u001b[0m\u001b[0;34m\u001b[0m\u001b[0;34m\u001b[0m\u001b[0m\n\u001b[1;32m   3079\u001b[0m             \u001b[0;32mexcept\u001b[0m \u001b[0mKeyError\u001b[0m\u001b[0;34m:\u001b[0m\u001b[0;34m\u001b[0m\u001b[0;34m\u001b[0m\u001b[0m\n\u001b[0;32m-> 3080\u001b[0;31m                 \u001b[0;32mreturn\u001b[0m \u001b[0mself\u001b[0m\u001b[0;34m.\u001b[0m\u001b[0m_engine\u001b[0m\u001b[0;34m.\u001b[0m\u001b[0mget_loc\u001b[0m\u001b[0;34m(\u001b[0m\u001b[0mself\u001b[0m\u001b[0;34m.\u001b[0m\u001b[0m_maybe_cast_indexer\u001b[0m\u001b[0;34m(\u001b[0m\u001b[0mkey\u001b[0m\u001b[0;34m)\u001b[0m\u001b[0;34m)\u001b[0m\u001b[0;34m\u001b[0m\u001b[0;34m\u001b[0m\u001b[0m\n\u001b[0m\u001b[1;32m   3081\u001b[0m \u001b[0;34m\u001b[0m\u001b[0m\n\u001b[1;32m   3082\u001b[0m         \u001b[0mindexer\u001b[0m \u001b[0;34m=\u001b[0m \u001b[0mself\u001b[0m\u001b[0;34m.\u001b[0m\u001b[0mget_indexer\u001b[0m\u001b[0;34m(\u001b[0m\u001b[0;34m[\u001b[0m\u001b[0mkey\u001b[0m\u001b[0;34m]\u001b[0m\u001b[0;34m,\u001b[0m \u001b[0mmethod\u001b[0m\u001b[0;34m=\u001b[0m\u001b[0mmethod\u001b[0m\u001b[0;34m,\u001b[0m \u001b[0mtolerance\u001b[0m\u001b[0;34m=\u001b[0m\u001b[0mtolerance\u001b[0m\u001b[0;34m)\u001b[0m\u001b[0;34m\u001b[0m\u001b[0;34m\u001b[0m\u001b[0m\n",
      "\u001b[0;32mpandas/_libs/index.pyx\u001b[0m in \u001b[0;36mpandas._libs.index.IndexEngine.get_loc\u001b[0;34m()\u001b[0m\n",
      "\u001b[0;32mpandas/_libs/index.pyx\u001b[0m in \u001b[0;36mpandas._libs.index.IndexEngine.get_loc\u001b[0;34m()\u001b[0m\n",
      "\u001b[0;32mpandas/_libs/hashtable_class_helper.pxi\u001b[0m in \u001b[0;36mpandas._libs.hashtable.PyObjectHashTable.get_item\u001b[0;34m()\u001b[0m\n",
      "\u001b[0;32mpandas/_libs/hashtable_class_helper.pxi\u001b[0m in \u001b[0;36mpandas._libs.hashtable.PyObjectHashTable.get_item\u001b[0;34m()\u001b[0m\n",
      "\u001b[0;31mKeyError\u001b[0m: 'country'"
     ]
    }
   ],
   "source": [
    "bookings_ml.loc[:,'country_GB'] = 0\n",
    "bookings_ml.loc[bookings_ml['country']=='GB','country_GB']= 1\n",
    "\n",
    "bookings_ml.loc[:,'country_FR']= 0\n",
    "bookings_ml.loc[bookings_ml['country']=='FR','country_FR']= 1\n",
    "\n",
    "bookings_ml.loc[:,'country_US']= 0\n",
    "bookings_ml.loc[bookings_ml['country']=='US','country_US']= 1\n",
    "\n",
    "#bookings_ml = bookings_ml.drop(['country'],axis=1)\n",
    "#bookings_ml = bookings_ml.drop(['city_ok'],axis=1)"
   ]
  },
  {
   "cell_type": "code",
   "execution_count": 277,
   "metadata": {},
   "outputs": [
    {
     "data": {
      "text/plain": [
       "Index(['booking_request_id', 'ending_stage', 'time_create_check_in',\n",
       "       'idea_age', 'idea_id', 'created_at_year', 'created_at_mth', 'to_state',\n",
       "       'to_state_bf', 'transition_ts_year', 'transition_ts_mth', 'space_id',\n",
       "       'capital', 'portfolio_type', 'price', 'floor_size_m', 'start_on_year',\n",
       "       'start_on_mth', 'end_on_year', 'end_on_month', 'time_booked',\n",
       "       'nb_booked', 'time_fst_booking', 'nb_space_booked', 'popupshop',\n",
       "       'private_event', 'unique', 'popup_bar', 'gallery', 'sample_sale',\n",
       "       'country_GB', 'country_FR', 'country_US'],\n",
       "      dtype='object')"
      ]
     },
     "execution_count": 277,
     "metadata": {},
     "output_type": "execute_result"
    }
   ],
   "source": [
    "bookings_ml.columns"
   ]
  },
  {
   "cell_type": "markdown",
   "metadata": {},
   "source": [
    "## correlations"
   ]
  },
  {
   "cell_type": "code",
   "execution_count": 270,
   "metadata": {},
   "outputs": [
    {
     "data": {
      "text/plain": [
       "Text(0.5, 1.0, 'Represents the correlations betweeen features')"
      ]
     },
     "execution_count": 270,
     "metadata": {},
     "output_type": "execute_result"
    },
    {
     "data": {
      "image/png": "[encoded data removed]",
      "text/plain": [
       "<Figure size 1296x1296 with 2 Axes>"
      ]
     },
     "metadata": {
      "needs_background": "light"
     },
     "output_type": "display_data"
    }
   ],
   "source": [
    "tab_corr = bookings_ml.corr()\n",
    "plt.figure(figsize=(18, 18))\n",
    "sns.heatmap(tab_corr, vmax=1, square=True,annot=True,cmap='viridis')\n",
    "plt.title('Represents the correlations betweeen features')"
   ]
  },
  {
   "cell_type": "markdown",
   "metadata": {},
   "source": [
    "There are a few highly correlated variable.\n",
    "- idea_age and time_to_request\n",
    "- transition_mth and booking_request_id \n",
    "- created_at_mth and booking_request_id \n",
    "- transition_mth and created_at_month \n",
    "We keep them as we are going to use the PCA for randomforest and logistic regression which are algorithms robust to correlations"
   ]
  },
  {
   "cell_type": "markdown",
   "metadata": {},
   "source": [
    "## imbalanced data"
   ]
  },
  {
   "cell_type": "code",
   "execution_count": 271,
   "metadata": {},
   "outputs": [
    {
     "name": "stdout",
     "output_type": "stream",
     "text": [
      "2 distinct values for the feature ['ending_stage']\n"
     ]
    },
    {
     "data": {
      "text/html": [
       "<div>\n",
       "<style scoped>\n",
       "    .dataframe tbody tr th:only-of-type {\n",
       "        vertical-align: middle;\n",
       "    }\n",
       "\n",
       "    .dataframe tbody tr th {\n",
       "        vertical-align: top;\n",
       "    }\n",
       "\n",
       "    .dataframe thead th {\n",
       "        text-align: right;\n",
       "    }\n",
       "</style>\n",
       "<table border=\"1\" class=\"dataframe\">\n",
       "  <thead>\n",
       "    <tr style=\"text-align: right;\">\n",
       "      <th></th>\n",
       "      <th>ending_stage</th>\n",
       "      <th>nb_records</th>\n",
       "      <th>percentage</th>\n",
       "    </tr>\n",
       "  </thead>\n",
       "  <tbody>\n",
       "    <tr>\n",
       "      <th>0</th>\n",
       "      <td>0.0</td>\n",
       "      <td>8905</td>\n",
       "      <td>95.96</td>\n",
       "    </tr>\n",
       "    <tr>\n",
       "      <th>1</th>\n",
       "      <td>1.0</td>\n",
       "      <td>375</td>\n",
       "      <td>4.04</td>\n",
       "    </tr>\n",
       "  </tbody>\n",
       "</table>\n",
       "</div>"
      ],
      "text/plain": [
       "   ending_stage  nb_records  percentage\n",
       "0           0.0        8905       95.96\n",
       "1           1.0         375        4.04"
      ]
     },
     "execution_count": 271,
     "metadata": {},
     "output_type": "execute_result"
    }
   ],
   "source": [
    "#top_champ(booking_ml,['ending_stage','to_state'],100)\n",
    "#booking_ml = booking_ml.drop(['to_state'],axis=1)\n",
    "top_champ(bookings_ml,['ending_stage'],100)"
   ]
  },
  {
   "cell_type": "markdown",
   "metadata": {},
   "source": [
    "It is impossible to make a good prediction with such imbalanced data : 95% compare to 4%.   \n",
    "Hence, we need an equal chance to predict the booking booked and the booking declined. \n",
    "So we randomly choose 375 recors among the 8905 declined examples."
   ]
  },
  {
   "cell_type": "code",
   "execution_count": 272,
   "metadata": {},
   "outputs": [
    {
     "name": "stdout",
     "output_type": "stream",
     "text": [
      "Percentage of bookings booked 0.5\n",
      "Percentage of bookings declined 0.5\n",
      "Number of records for bookings_ml_ok 750\n"
     ]
    }
   ],
   "source": [
    "bookings_ml = bookings_ml.reset_index(drop=True)\n",
    "bk_ml_sample = bookings_ml[bookings_ml['ending_stage']==1]\n",
    "\n",
    "declined_index = bookings_ml[bookings_ml['ending_stage']==0].index\n",
    "random_dc_index = np.random.choice(declined_index,int(sum(bookings_ml['ending_stage'])),replace=False)\n",
    "dc_ml_sample = bookings_ml.loc[random_dc_index]\n",
    "\n",
    "bookings_ml_ok = pd.concat([bk_ml_sample,dc_ml_sample],axis=0)\n",
    "print('Percentage of bookings booked %0.1f' %(len(bookings_ml_ok[bookings_ml_ok['ending_stage']==1])/len(bookings_ml_ok)))\n",
    "print('Percentage of bookings declined %0.1f' %(len(bookings_ml_ok[bookings_ml_ok['ending_stage']==0])/len(bookings_ml_ok)))\n",
    "print('Number of records for bookings_ml_ok %0.0f' %(len(bookings_ml_ok)))"
   ]
  },
  {
   "cell_type": "markdown",
   "metadata": {},
   "source": [
    "Now, the data are well balanced and the prediction won't be biased "
   ]
  },
  {
   "cell_type": "code",
   "execution_count": 273,
   "metadata": {},
   "outputs": [
    {
     "name": "stdout",
     "output_type": "stream",
     "text": [
      "2 distinct values for the feature ['ending_stage']\n"
     ]
    },
    {
     "data": {
      "text/html": [
       "<div>\n",
       "<style scoped>\n",
       "    .dataframe tbody tr th:only-of-type {\n",
       "        vertical-align: middle;\n",
       "    }\n",
       "\n",
       "    .dataframe tbody tr th {\n",
       "        vertical-align: top;\n",
       "    }\n",
       "\n",
       "    .dataframe thead th {\n",
       "        text-align: right;\n",
       "    }\n",
       "</style>\n",
       "<table border=\"1\" class=\"dataframe\">\n",
       "  <thead>\n",
       "    <tr style=\"text-align: right;\">\n",
       "      <th></th>\n",
       "      <th>ending_stage</th>\n",
       "      <th>nb_records</th>\n",
       "      <th>percentage</th>\n",
       "    </tr>\n",
       "  </thead>\n",
       "  <tbody>\n",
       "    <tr>\n",
       "      <th>0</th>\n",
       "      <td>1.0</td>\n",
       "      <td>375</td>\n",
       "      <td>50.0</td>\n",
       "    </tr>\n",
       "    <tr>\n",
       "      <th>1</th>\n",
       "      <td>0.0</td>\n",
       "      <td>375</td>\n",
       "      <td>50.0</td>\n",
       "    </tr>\n",
       "  </tbody>\n",
       "</table>\n",
       "</div>"
      ],
      "text/plain": [
       "   ending_stage  nb_records  percentage\n",
       "0           1.0         375        50.0\n",
       "1           0.0         375        50.0"
      ]
     },
     "execution_count": 273,
     "metadata": {},
     "output_type": "execute_result"
    }
   ],
   "source": [
    "top_champ(bookings_ml_ok,['ending_stage'],100)"
   ]
  },
  {
   "cell_type": "markdown",
   "metadata": {},
   "source": [
    "#### shuffle"
   ]
  },
  {
   "cell_type": "code",
   "execution_count": 274,
   "metadata": {},
   "outputs": [],
   "source": [
    "bookings_ml_ok\n",
    "bookings_ml_ok = bookings_ml_ok.loc[np.random.permutation(bookings_ml_ok.index)]"
   ]
  },
  {
   "cell_type": "markdown",
   "metadata": {},
   "source": [
    "Now the data is well shuflled and booked and declined are permuted randomly in the dataset"
   ]
  },
  {
   "cell_type": "markdown",
   "metadata": {},
   "source": [
    "#### X, y"
   ]
  },
  {
   "cell_type": "code",
   "execution_count": 275,
   "metadata": {},
   "outputs": [],
   "source": [
    "# features parameters\n",
    "X = bookings_ml_ok.loc[:, bookings_ml_ok.columns != 'ending_stage']\n",
    "# feature to predict\n",
    "y = bookings_ml_ok.loc[:, bookings_ml_ok.columns == 'ending_stage']"
   ]
  },
  {
   "cell_type": "markdown",
   "metadata": {},
   "source": [
    "## Random forest"
   ]
  },
  {
   "cell_type": "markdown",
   "metadata": {},
   "source": [
    "### split train, test"
   ]
  },
  {
   "cell_type": "code",
   "execution_count": 276,
   "metadata": {},
   "outputs": [
    {
     "ename": "ValueError",
     "evalue": "could not convert string to float: 'declined'",
     "output_type": "error",
     "traceback": [
      "\u001b[0;31m---------------------------------------------------------------------------\u001b[0m",
      "\u001b[0;31mValueError\u001b[0m                                Traceback (most recent call last)",
      "\u001b[0;32m<ipython-input-276-756c948458b4>\u001b[0m in \u001b[0;36m<module>\u001b[0;34m\u001b[0m\n\u001b[1;32m      1\u001b[0m \u001b[0mscaler\u001b[0m \u001b[0;34m=\u001b[0m \u001b[0mStandardScaler\u001b[0m\u001b[0;34m(\u001b[0m\u001b[0;34m)\u001b[0m\u001b[0;34m\u001b[0m\u001b[0;34m\u001b[0m\u001b[0m\n\u001b[0;32m----> 2\u001b[0;31m \u001b[0mX\u001b[0m \u001b[0;34m=\u001b[0m \u001b[0mscaler\u001b[0m\u001b[0;34m.\u001b[0m\u001b[0mfit_transform\u001b[0m\u001b[0;34m(\u001b[0m\u001b[0mX\u001b[0m\u001b[0;34m)\u001b[0m\u001b[0;34m\u001b[0m\u001b[0;34m\u001b[0m\u001b[0m\n\u001b[0m",
      "\u001b[0;32m/anaconda/envs/ah_test_env/lib/python3.6/site-packages/sklearn/base.py\u001b[0m in \u001b[0;36mfit_transform\u001b[0;34m(self, X, y, **fit_params)\u001b[0m\n\u001b[1;32m    460\u001b[0m         \u001b[0;32mif\u001b[0m \u001b[0my\u001b[0m \u001b[0;32mis\u001b[0m \u001b[0;32mNone\u001b[0m\u001b[0;34m:\u001b[0m\u001b[0;34m\u001b[0m\u001b[0;34m\u001b[0m\u001b[0m\n\u001b[1;32m    461\u001b[0m             \u001b[0;31m# fit method of arity 1 (unsupervised transformation)\u001b[0m\u001b[0;34m\u001b[0m\u001b[0;34m\u001b[0m\u001b[0;34m\u001b[0m\u001b[0m\n\u001b[0;32m--> 462\u001b[0;31m             \u001b[0;32mreturn\u001b[0m \u001b[0mself\u001b[0m\u001b[0;34m.\u001b[0m\u001b[0mfit\u001b[0m\u001b[0;34m(\u001b[0m\u001b[0mX\u001b[0m\u001b[0;34m,\u001b[0m \u001b[0;34m**\u001b[0m\u001b[0mfit_params\u001b[0m\u001b[0;34m)\u001b[0m\u001b[0;34m.\u001b[0m\u001b[0mtransform\u001b[0m\u001b[0;34m(\u001b[0m\u001b[0mX\u001b[0m\u001b[0;34m)\u001b[0m\u001b[0;34m\u001b[0m\u001b[0;34m\u001b[0m\u001b[0m\n\u001b[0m\u001b[1;32m    463\u001b[0m         \u001b[0;32melse\u001b[0m\u001b[0;34m:\u001b[0m\u001b[0;34m\u001b[0m\u001b[0;34m\u001b[0m\u001b[0m\n\u001b[1;32m    464\u001b[0m             \u001b[0;31m# fit method of arity 2 (supervised transformation)\u001b[0m\u001b[0;34m\u001b[0m\u001b[0;34m\u001b[0m\u001b[0;34m\u001b[0m\u001b[0m\n",
      "\u001b[0;32m/anaconda/envs/ah_test_env/lib/python3.6/site-packages/sklearn/preprocessing/data.py\u001b[0m in \u001b[0;36mfit\u001b[0;34m(self, X, y)\u001b[0m\n\u001b[1;32m    623\u001b[0m         \u001b[0;31m# Reset internal state before fitting\u001b[0m\u001b[0;34m\u001b[0m\u001b[0;34m\u001b[0m\u001b[0;34m\u001b[0m\u001b[0m\n\u001b[1;32m    624\u001b[0m         \u001b[0mself\u001b[0m\u001b[0;34m.\u001b[0m\u001b[0m_reset\u001b[0m\u001b[0;34m(\u001b[0m\u001b[0;34m)\u001b[0m\u001b[0;34m\u001b[0m\u001b[0;34m\u001b[0m\u001b[0m\n\u001b[0;32m--> 625\u001b[0;31m         \u001b[0;32mreturn\u001b[0m \u001b[0mself\u001b[0m\u001b[0;34m.\u001b[0m\u001b[0mpartial_fit\u001b[0m\u001b[0;34m(\u001b[0m\u001b[0mX\u001b[0m\u001b[0;34m,\u001b[0m \u001b[0my\u001b[0m\u001b[0;34m)\u001b[0m\u001b[0;34m\u001b[0m\u001b[0;34m\u001b[0m\u001b[0m\n\u001b[0m\u001b[1;32m    626\u001b[0m \u001b[0;34m\u001b[0m\u001b[0m\n\u001b[1;32m    627\u001b[0m     \u001b[0;32mdef\u001b[0m \u001b[0mpartial_fit\u001b[0m\u001b[0;34m(\u001b[0m\u001b[0mself\u001b[0m\u001b[0;34m,\u001b[0m \u001b[0mX\u001b[0m\u001b[0;34m,\u001b[0m \u001b[0my\u001b[0m\u001b[0;34m=\u001b[0m\u001b[0;32mNone\u001b[0m\u001b[0;34m)\u001b[0m\u001b[0;34m:\u001b[0m\u001b[0;34m\u001b[0m\u001b[0;34m\u001b[0m\u001b[0m\n",
      "\u001b[0;32m/anaconda/envs/ah_test_env/lib/python3.6/site-packages/sklearn/preprocessing/data.py\u001b[0m in \u001b[0;36mpartial_fit\u001b[0;34m(self, X, y)\u001b[0m\n\u001b[1;32m    647\u001b[0m         X = check_array(X, accept_sparse=('csr', 'csc'), copy=self.copy,\n\u001b[1;32m    648\u001b[0m                         \u001b[0mwarn_on_dtype\u001b[0m\u001b[0;34m=\u001b[0m\u001b[0;32mTrue\u001b[0m\u001b[0;34m,\u001b[0m \u001b[0mestimator\u001b[0m\u001b[0;34m=\u001b[0m\u001b[0mself\u001b[0m\u001b[0;34m,\u001b[0m \u001b[0mdtype\u001b[0m\u001b[0;34m=\u001b[0m\u001b[0mFLOAT_DTYPES\u001b[0m\u001b[0;34m,\u001b[0m\u001b[0;34m\u001b[0m\u001b[0;34m\u001b[0m\u001b[0m\n\u001b[0;32m--> 649\u001b[0;31m                         force_all_finite='allow-nan')\n\u001b[0m\u001b[1;32m    650\u001b[0m \u001b[0;34m\u001b[0m\u001b[0m\n\u001b[1;32m    651\u001b[0m         \u001b[0;31m# Even in the case of `with_mean=False`, we update the mean anyway\u001b[0m\u001b[0;34m\u001b[0m\u001b[0;34m\u001b[0m\u001b[0;34m\u001b[0m\u001b[0m\n",
      "\u001b[0;32m/anaconda/envs/ah_test_env/lib/python3.6/site-packages/sklearn/utils/validation.py\u001b[0m in \u001b[0;36mcheck_array\u001b[0;34m(array, accept_sparse, accept_large_sparse, dtype, order, copy, force_all_finite, ensure_2d, allow_nd, ensure_min_samples, ensure_min_features, warn_on_dtype, estimator)\u001b[0m\n\u001b[1;32m    525\u001b[0m             \u001b[0;32mtry\u001b[0m\u001b[0;34m:\u001b[0m\u001b[0;34m\u001b[0m\u001b[0;34m\u001b[0m\u001b[0m\n\u001b[1;32m    526\u001b[0m                 \u001b[0mwarnings\u001b[0m\u001b[0;34m.\u001b[0m\u001b[0msimplefilter\u001b[0m\u001b[0;34m(\u001b[0m\u001b[0;34m'error'\u001b[0m\u001b[0;34m,\u001b[0m \u001b[0mComplexWarning\u001b[0m\u001b[0;34m)\u001b[0m\u001b[0;34m\u001b[0m\u001b[0;34m\u001b[0m\u001b[0m\n\u001b[0;32m--> 527\u001b[0;31m                 \u001b[0marray\u001b[0m \u001b[0;34m=\u001b[0m \u001b[0mnp\u001b[0m\u001b[0;34m.\u001b[0m\u001b[0masarray\u001b[0m\u001b[0;34m(\u001b[0m\u001b[0marray\u001b[0m\u001b[0;34m,\u001b[0m \u001b[0mdtype\u001b[0m\u001b[0;34m=\u001b[0m\u001b[0mdtype\u001b[0m\u001b[0;34m,\u001b[0m \u001b[0morder\u001b[0m\u001b[0;34m=\u001b[0m\u001b[0morder\u001b[0m\u001b[0;34m)\u001b[0m\u001b[0;34m\u001b[0m\u001b[0;34m\u001b[0m\u001b[0m\n\u001b[0m\u001b[1;32m    528\u001b[0m             \u001b[0;32mexcept\u001b[0m \u001b[0mComplexWarning\u001b[0m\u001b[0;34m:\u001b[0m\u001b[0;34m\u001b[0m\u001b[0;34m\u001b[0m\u001b[0m\n\u001b[1;32m    529\u001b[0m                 raise ValueError(\"Complex data not supported\\n\"\n",
      "\u001b[0;32m/anaconda/envs/ah_test_env/lib/python3.6/site-packages/numpy/core/numeric.py\u001b[0m in \u001b[0;36masarray\u001b[0;34m(a, dtype, order)\u001b[0m\n\u001b[1;32m    499\u001b[0m \u001b[0;34m\u001b[0m\u001b[0m\n\u001b[1;32m    500\u001b[0m     \"\"\"\n\u001b[0;32m--> 501\u001b[0;31m     \u001b[0;32mreturn\u001b[0m \u001b[0marray\u001b[0m\u001b[0;34m(\u001b[0m\u001b[0ma\u001b[0m\u001b[0;34m,\u001b[0m \u001b[0mdtype\u001b[0m\u001b[0;34m,\u001b[0m \u001b[0mcopy\u001b[0m\u001b[0;34m=\u001b[0m\u001b[0;32mFalse\u001b[0m\u001b[0;34m,\u001b[0m \u001b[0morder\u001b[0m\u001b[0;34m=\u001b[0m\u001b[0morder\u001b[0m\u001b[0;34m)\u001b[0m\u001b[0;34m\u001b[0m\u001b[0;34m\u001b[0m\u001b[0m\n\u001b[0m\u001b[1;32m    502\u001b[0m \u001b[0;34m\u001b[0m\u001b[0m\n\u001b[1;32m    503\u001b[0m \u001b[0;34m\u001b[0m\u001b[0m\n",
      "\u001b[0;31mValueError\u001b[0m: could not convert string to float: 'declined'"
     ]
    }
   ],
   "source": [
    "scaler = StandardScaler()\n",
    "X = scaler.fit_transform(X)"
   ]
  },
  {
   "cell_type": "code",
   "execution_count": 396,
   "metadata": {},
   "outputs": [
    {
     "data": {
      "text/plain": [
       "PCA(copy=True, iterated_power='auto', n_components=23, random_state=None,\n",
       "  svd_solver='auto', tol=0.0, whiten=False)"
      ]
     },
     "execution_count": 396,
     "metadata": {},
     "output_type": "execute_result"
    }
   ],
   "source": [
    "pca = PCA(n_components=23)\n",
    "pca.fit(X)"
   ]
  },
  {
   "cell_type": "code",
   "execution_count": 397,
   "metadata": {},
   "outputs": [
    {
     "data": {
      "text/plain": [
       "array([12.2, 22.4, 30.4, 36.6, 42.6, 47.8, 52.8, 57.1, 61. , 64.8, 68.4,\n",
       "       71.7, 74.9, 78. , 81.1, 84. , 86.7, 89.1, 91.2, 93.1, 94.9, 96.5,\n",
       "       97.9])"
      ]
     },
     "execution_count": 397,
     "metadata": {},
     "output_type": "execute_result"
    }
   ],
   "source": [
    "var = np.cumsum(np.round(pca.explained_variance_ratio_,decimals=3)*100)\n",
    "var"
   ]
  },
  {
   "cell_type": "code",
   "execution_count": 398,
   "metadata": {},
   "outputs": [
    {
     "data": {
      "text/plain": [
       "[<matplotlib.lines.Line2D at 0x1a26602b38>]"
      ]
     },
     "execution_count": 398,
     "metadata": {},
     "output_type": "execute_result"
    },
    {
     "data": {
      "image/png": "[encoded data removed]",
      "text/plain": [
       "<Figure size 432x288 with 1 Axes>"
      ]
     },
     "metadata": {
      "needs_background": "light"
     },
     "output_type": "display_data"
    }
   ],
   "source": [
    "plt.plot(var)"
   ]
  },
  {
   "cell_type": "markdown",
   "metadata": {},
   "source": [
    "## random forest"
   ]
  },
  {
   "cell_type": "code",
   "execution_count": 399,
   "metadata": {},
   "outputs": [],
   "source": [
    "X_train, X_test, y_train, y_test = train_test_split(X, y, test_size=0.3, random_state=0)  "
   ]
  },
  {
   "cell_type": "code",
   "execution_count": 400,
   "metadata": {},
   "outputs": [
    {
     "name": "stderr",
     "output_type": "stream",
     "text": [
      "/anaconda/envs/ah_test_env/lib/python3.6/site-packages/sklearn/ensemble/forest.py:246: FutureWarning: The default value of n_estimators will change from 10 in version 0.20 to 100 in 0.22.\n",
      "  \"10 in version 0.20 to 100 in 0.22.\", FutureWarning)\n",
      "/anaconda/envs/ah_test_env/lib/python3.6/site-packages/ipykernel_launcher.py:2: DataConversionWarning: A column-vector y was passed when a 1d array was expected. Please change the shape of y to (n_samples,), for example using ravel().\n",
      "  \n"
     ]
    },
    {
     "data": {
      "text/plain": [
       "RandomForestClassifier(bootstrap=True, class_weight=None, criterion='gini',\n",
       "            max_depth=2, max_features='auto', max_leaf_nodes=None,\n",
       "            min_impurity_decrease=0.0, min_impurity_split=None,\n",
       "            min_samples_leaf=1, min_samples_split=2,\n",
       "            min_weight_fraction_leaf=0.0, n_estimators=10, n_jobs=None,\n",
       "            oob_score=False, random_state=0, verbose=0, warm_start=False)"
      ]
     },
     "execution_count": 400,
     "metadata": {},
     "output_type": "execute_result"
    }
   ],
   "source": [
    "classifier = RandomForestClassifier(max_depth=2,random_state=0)\n",
    "classifier.fit(X_train, y_train)"
   ]
  },
  {
   "cell_type": "code",
   "execution_count": 401,
   "metadata": {},
   "outputs": [
    {
     "name": "stdout",
     "output_type": "stream",
     "text": [
      "[[ 87  17]\n",
      " [ 19 102]]\n",
      "0.84\n"
     ]
    }
   ],
   "source": [
    "y_pred = classifier.predict(X_test)\n",
    "\n",
    "cm = confusion_matrix(y_test,y_pred)\n",
    "print(cm)\n",
    "print(accuracy_score(y_test,y_pred))\n"
   ]
  },
  {
   "cell_type": "code",
   "execution_count": null,
   "metadata": {},
   "outputs": [],
   "source": [
    "print(precision_score(y_test,y_pred))\n",
    "print(recall_score(y_test,y_pred))"
   ]
  },
  {
   "cell_type": "markdown",
   "metadata": {},
   "source": [
    "## Logistic regression"
   ]
  },
  {
   "cell_type": "code",
   "execution_count": 402,
   "metadata": {},
   "outputs": [
    {
     "name": "stdout",
     "output_type": "stream",
     "text": [
      "[[ 87  17]\n",
      " [ 19 102]]\n",
      "0.7866666666666666\n"
     ]
    },
    {
     "name": "stderr",
     "output_type": "stream",
     "text": [
      "/anaconda/envs/ah_test_env/lib/python3.6/site-packages/sklearn/linear_model/logistic.py:433: FutureWarning: Default solver will be changed to 'lbfgs' in 0.22. Specify a solver to silence this warning.\n",
      "  FutureWarning)\n",
      "/anaconda/envs/ah_test_env/lib/python3.6/site-packages/sklearn/utils/validation.py:761: DataConversionWarning: A column-vector y was passed when a 1d array was expected. Please change the shape of y to (n_samples, ), for example using ravel().\n",
      "  y = column_or_1d(y, warn=True)\n"
     ]
    }
   ],
   "source": [
    "from sklearn.linear_model import LogisticRegression\n",
    "from sklearn.pipeline import Pipeline\n",
    "\n",
    "logReg=LogisticRegression()\n",
    "\n",
    "logReg.fit(X_train,y_train)\n",
    "y_pred_2 = logReg.predict(X_test)\n",
    "\n",
    "cm_2 = confusion_matrix(y_test,y_pred)\n",
    "print(cm_2)\n",
    "print(accuracy_score(y_test,y_pred_2))\n"
   ]
  },
  {
   "cell_type": "markdown",
   "metadata": {},
   "source": [
    "### improve hyper parameters"
   ]
  },
  {
   "cell_type": "code",
   "execution_count": 348,
   "metadata": {},
   "outputs": [
    {
     "data": {
      "text/plain": [
       "0.49142857142857144"
      ]
     },
     "execution_count": 348,
     "metadata": {},
     "output_type": "execute_result"
    }
   ],
   "source": [
    "np.mean(y_train)[0]"
   ]
  },
  {
   "cell_type": "code",
   "execution_count": null,
   "metadata": {},
   "outputs": [],
   "source": []
  }
 ],
 "metadata": {
  "kernelspec": {
   "display_name": "Python 3",
   "language": "python",
   "name": "python3"
  },
  "language_info": {
   "codemirror_mode": {
    "name": "ipython",
    "version": 3
   },
   "file_extension": ".py",
   "mimetype": "text/x-python",
   "name": "python",
   "nbconvert_exporter": "python",
   "pygments_lexer": "ipython3",
   "version": "3.6.6"
  },
  "toc-autonumbering": true
 },
 "nbformat": 4,
 "nbformat_minor": 2
}
