{
 "cells": [
  {
   "cell_type": "markdown",
   "metadata": {},
   "source": [
    "# Appear Here Test\n",
    "\n",
    "Pauline Guilmin\n",
    "\n",
    "January 2019"
   ]
  },
  {
   "cell_type": "markdown",
   "metadata": {},
   "source": [
    "# import libraries"
   ]
  },
  {
   "cell_type": "code",
   "execution_count": 323,
   "metadata": {},
   "outputs": [],
   "source": [
    "import numpy as np \n",
    "import pandas as pd\n",
    "pd.options.display.max_colwidth = 800"
   ]
  },
  {
   "cell_type": "code",
   "execution_count": 324,
   "metadata": {},
   "outputs": [
    {
     "name": "stdout",
     "output_type": "stream",
     "text": [
      "/Users/paguilmin/Documents/AppearHere_Test/analysis\n"
     ]
    }
   ],
   "source": [
    "!pwd"
   ]
  },
  {
   "cell_type": "markdown",
   "metadata": {},
   "source": [
    "# Charge data"
   ]
  },
  {
   "cell_type": "code",
   "execution_count": 325,
   "metadata": {},
   "outputs": [],
   "source": [
    "path = '../data/'\n",
    "ideas = pd.read_csv(path+'ideas.csv',sep=',')\n",
    "transitions = pd.read_csv(path+'transitions.csv',sep=',')"
   ]
  },
  {
   "cell_type": "markdown",
   "metadata": {},
   "source": [
    "## cleaning"
   ]
  },
  {
   "cell_type": "code",
   "execution_count": 326,
   "metadata": {},
   "outputs": [],
   "source": [
    "ideas = ideas.drop(['Unnamed: 0'],axis=1)\n",
    "transitions.columns\n",
    "transitions = transitions.drop(['Unnamed: 0'],axis=1)"
   ]
  },
  {
   "cell_type": "code",
   "execution_count": 327,
   "metadata": {},
   "outputs": [],
   "source": [
    "total.loc[total['start_on'].str.startswith('2')==False,['created_at','start_on','end_on']]\n",
    "#'|'.join(['2018','2019','2020']\n",
    "\n",
    "transitions.loc[transitions['start_on'].str.startswith('2')==False,'start_on'] = \\\n",
    "transitions.loc[transitions['start_on'].str.startswith('2')==False,'start_on'].str.replace('0019','2019')\n",
    "transitions.loc[transitions['end_on'].str.startswith('2')==False,'end_on'] = \\\n",
    "transitions.loc[transitions['end_on'].str.startswith('2')==False,'end_on'].str.replace('0020','2020')\n",
    "transitions.loc[transitions['end_on'].str.startswith('2')==False,'end_on'] = \\\n",
    "transitions.loc[transitions['end_on'].str.startswith('2')==False,'end_on'].str.replace('0019','2019')"
   ]
  },
  {
   "cell_type": "code",
   "execution_count": 328,
   "metadata": {},
   "outputs": [],
   "source": [
    "transitions.loc[:,'transition_ts'] = pd.to_datetime(transitions.loc[:,'transition_ts'])\n",
    "transitions.loc[:,'start_on'] = pd.to_datetime(transitions.loc[:,'start_on'])\n",
    "transitions.loc[:,'end_on'] = pd.to_datetime(transitions.loc[:,'end_on'])\n",
    "\n",
    "ideas.loc[:,'created_at'] = pd.to_datetime(ideas.loc[:,'created_at'])"
   ]
  },
  {
   "cell_type": "markdown",
   "metadata": {},
   "source": [
    "# useful fonctions"
   ]
  },
  {
   "cell_type": "code",
   "execution_count": 329,
   "metadata": {},
   "outputs": [],
   "source": [
    "def top_champ(df,feature,number) :\n",
    "    df_ok = df.copy()\n",
    "    df_ok[feature] = df_ok[feature].fillna('unknown')\n",
    "    top_10 = df_ok.groupby(feature).agg('size').sort_values(ascending=False).to_frame().reset_index()\n",
    "    top_10.columns=[str(x) for x in feature]+['nb_records']\n",
    "    top_10['percentage']=(100.* (top_10['nb_records'] / top_10['nb_records'].sum())).round(2)\n",
    "    print('%0.0f distinct values for the feature %s' %(top_10.shape[0],feature))\n",
    "    return top_10.head(number)"
   ]
  },
  {
   "cell_type": "markdown",
   "metadata": {},
   "source": [
    "# ideas exploration"
   ]
  },
  {
   "cell_type": "code",
   "execution_count": 330,
   "metadata": {},
   "outputs": [
    {
     "data": {
      "text/plain": [
       "created_at    4000\n",
       "category         6\n",
       "idea_id       4000\n",
       "dtype: int64"
      ]
     },
     "execution_count": 330,
     "metadata": {},
     "output_type": "execute_result"
    }
   ],
   "source": [
    "ideas.nunique()"
   ]
  },
  {
   "cell_type": "code",
   "execution_count": 331,
   "metadata": {},
   "outputs": [
    {
     "name": "stdout",
     "output_type": "stream",
     "text": [
      "6 distinct values for the feature ['category']\n"
     ]
    },
    {
     "data": {
      "text/html": [
       "<div>\n",
       "<style scoped>\n",
       "    .dataframe tbody tr th:only-of-type {\n",
       "        vertical-align: middle;\n",
       "    }\n",
       "\n",
       "    .dataframe tbody tr th {\n",
       "        vertical-align: top;\n",
       "    }\n",
       "\n",
       "    .dataframe thead th {\n",
       "        text-align: right;\n",
       "    }\n",
       "</style>\n",
       "<table border=\"1\" class=\"dataframe\">\n",
       "  <thead>\n",
       "    <tr style=\"text-align: right;\">\n",
       "      <th></th>\n",
       "      <th>category</th>\n",
       "      <th>nb_records</th>\n",
       "      <th>percentage</th>\n",
       "    </tr>\n",
       "  </thead>\n",
       "  <tbody>\n",
       "    <tr>\n",
       "      <th>0</th>\n",
       "      <td>popup_shop</td>\n",
       "      <td>2174</td>\n",
       "      <td>54.35</td>\n",
       "    </tr>\n",
       "    <tr>\n",
       "      <th>1</th>\n",
       "      <td>private_event</td>\n",
       "      <td>546</td>\n",
       "      <td>13.65</td>\n",
       "    </tr>\n",
       "    <tr>\n",
       "      <th>2</th>\n",
       "      <td>popup_bar</td>\n",
       "      <td>533</td>\n",
       "      <td>13.32</td>\n",
       "    </tr>\n",
       "    <tr>\n",
       "      <th>3</th>\n",
       "      <td>unique</td>\n",
       "      <td>398</td>\n",
       "      <td>9.95</td>\n",
       "    </tr>\n",
       "    <tr>\n",
       "      <th>4</th>\n",
       "      <td>gallery</td>\n",
       "      <td>282</td>\n",
       "      <td>7.05</td>\n",
       "    </tr>\n",
       "    <tr>\n",
       "      <th>5</th>\n",
       "      <td>sample_sale</td>\n",
       "      <td>67</td>\n",
       "      <td>1.68</td>\n",
       "    </tr>\n",
       "  </tbody>\n",
       "</table>\n",
       "</div>"
      ],
      "text/plain": [
       "        category  nb_records  percentage\n",
       "0     popup_shop        2174       54.35\n",
       "1  private_event         546       13.65\n",
       "2      popup_bar         533       13.32\n",
       "3         unique         398        9.95\n",
       "4        gallery         282        7.05\n",
       "5    sample_sale          67        1.68"
      ]
     },
     "execution_count": 331,
     "metadata": {},
     "output_type": "execute_result"
    }
   ],
   "source": [
    "top_champ(ideas,['category'],10)"
   ]
  },
  {
   "cell_type": "code",
   "execution_count": 332,
   "metadata": {},
   "outputs": [
    {
     "name": "stdout",
     "output_type": "stream",
     "text": [
      "Ideas have been created from 2018-01-01 17:01:01.489000 to 2019-01-21 10:19:35.205000\n"
     ]
    }
   ],
   "source": [
    "min_created = min(ideas['created_at'])\n",
    "max_created = max(ideas['created_at'])\n",
    "print('Ideas have been created from %s to %s' %(min_created, max_created))"
   ]
  },
  {
   "cell_type": "markdown",
   "metadata": {},
   "source": [
    "# transitions exploration"
   ]
  },
  {
   "cell_type": "code",
   "execution_count": 333,
   "metadata": {},
   "outputs": [
    {
     "data": {
      "text/plain": [
       "transition_ts         21062\n",
       "category                  6\n",
       "idea_id                2677\n",
       "booking_request_id     9942\n",
       "to_state                  4\n",
       "space_id               2065\n",
       "country                   3\n",
       "city                    110\n",
       "portfolio_type            9\n",
       "floor_size              548\n",
       "floor_size_unit           2\n",
       "start_on                503\n",
       "end_on                  618\n",
       "price                  3593\n",
       "dtype: int64"
      ]
     },
     "execution_count": 333,
     "metadata": {},
     "output_type": "execute_result"
    }
   ],
   "source": [
    "transitions.nunique()"
   ]
  },
  {
   "cell_type": "code",
   "execution_count": 334,
   "metadata": {},
   "outputs": [],
   "source": [
    "transitions = transitions.sort_values(['idea_id','space_id','transition_ts'])"
   ]
  },
  {
   "cell_type": "code",
   "execution_count": 335,
   "metadata": {},
   "outputs": [],
   "source": [
    "transitions['to_state_bf']= transitions['to_state'].shift(1)\n",
    "transitions['to_state_af']= transitions['to_state'].shift(-1)\n",
    "transitions['time_booked'] = transitions.loc[:,'end_on']- transitions.loc[:,'start_on']\n",
    "transitions.loc[:,'time_booked'] = transitions.loc[:,'time_booked']/ np.timedelta64(1, 'D')"
   ]
  },
  {
   "cell_type": "code",
   "execution_count": 336,
   "metadata": {},
   "outputs": [],
   "source": [
    "id_bk_notime = transitions.loc[transitions['time_booked']==0,'booking_request_id'].unique()"
   ]
  },
  {
   "cell_type": "code",
   "execution_count": 361,
   "metadata": {},
   "outputs": [
    {
     "data": {
      "text/plain": [
       "False"
      ]
     },
     "execution_count": 361,
     "metadata": {},
     "output_type": "execute_result"
    }
   ],
   "source": [
    "168132 in id_bk_notime"
   ]
  },
  {
   "cell_type": "code",
   "execution_count": 360,
   "metadata": {},
   "outputs": [
    {
     "data": {
      "text/html": [
       "<div>\n",
       "<style scoped>\n",
       "    .dataframe tbody tr th:only-of-type {\n",
       "        vertical-align: middle;\n",
       "    }\n",
       "\n",
       "    .dataframe tbody tr th {\n",
       "        vertical-align: top;\n",
       "    }\n",
       "\n",
       "    .dataframe thead th {\n",
       "        text-align: right;\n",
       "    }\n",
       "</style>\n",
       "<table border=\"1\" class=\"dataframe\">\n",
       "  <thead>\n",
       "    <tr style=\"text-align: right;\">\n",
       "      <th></th>\n",
       "      <th>transition_ts</th>\n",
       "      <th>category</th>\n",
       "      <th>idea_id</th>\n",
       "      <th>booking_request_id</th>\n",
       "      <th>to_state</th>\n",
       "      <th>space_id</th>\n",
       "      <th>country</th>\n",
       "      <th>city</th>\n",
       "      <th>portfolio_type</th>\n",
       "      <th>floor_size</th>\n",
       "      <th>floor_size_unit</th>\n",
       "      <th>start_on</th>\n",
       "      <th>end_on</th>\n",
       "      <th>price</th>\n",
       "      <th>to_state_bf</th>\n",
       "      <th>to_state_af</th>\n",
       "      <th>time_booked</th>\n",
       "    </tr>\n",
       "  </thead>\n",
       "  <tbody>\n",
       "    <tr>\n",
       "      <th>463</th>\n",
       "      <td>2018-10-24 13:51:03.343</td>\n",
       "      <td>popup_shop</td>\n",
       "      <td>105</td>\n",
       "      <td>168132</td>\n",
       "      <td>booked</td>\n",
       "      <td>5562</td>\n",
       "      <td>GB</td>\n",
       "      <td>London</td>\n",
       "      <td>4.0</td>\n",
       "      <td>10</td>\n",
       "      <td>0</td>\n",
       "      <td>2018-12-07</td>\n",
       "      <td>2018-12-14</td>\n",
       "      <td>12000</td>\n",
       "      <td>declined</td>\n",
       "      <td>booked</td>\n",
       "      <td>7.0</td>\n",
       "    </tr>\n",
       "  </tbody>\n",
       "</table>\n",
       "</div>"
      ],
      "text/plain": [
       "              transition_ts    category  idea_id  booking_request_id to_state  \\\n",
       "463 2018-10-24 13:51:03.343  popup_shop      105              168132   booked   \n",
       "\n",
       "     space_id country    city  portfolio_type  floor_size  floor_size_unit  \\\n",
       "463      5562      GB  London             4.0          10                0   \n",
       "\n",
       "      start_on     end_on  price to_state_bf to_state_af  time_booked  \n",
       "463 2018-12-07 2018-12-14  12000    declined      booked          7.0  "
      ]
     },
     "execution_count": 360,
     "metadata": {},
     "output_type": "execute_result"
    }
   ],
   "source": [
    "transitions[transitions['booking_request_id']==168132.0]"
   ]
  },
  {
   "cell_type": "code",
   "execution_count": 337,
   "metadata": {},
   "outputs": [
    {
     "name": "stdout",
     "output_type": "stream",
     "text": [
      "Above 4000 ideas 328 ideas have been booked at least one time\n"
     ]
    }
   ],
   "source": [
    "states_ideas = transitions.groupby(['idea_id','to_state']).agg('size').to_frame().reset_index()\n",
    "idea_id_booked = states_ideas.loc[states_ideas['to_state']=='booked','idea_id'].unique()\n",
    "print('Above 4000 ideas %0.0f ideas have been booked at least one time' %len(idea_id_booked))\n",
    "#states_ideas[states_ideas['idea_id'].isin(idea_id_booked)]\n"
   ]
  },
  {
   "cell_type": "code",
   "execution_count": 340,
   "metadata": {},
   "outputs": [
    {
     "name": "stdout",
     "output_type": "stream",
     "text": [
      "4 distinct values for the feature ['to_state_af']\n"
     ]
    },
    {
     "data": {
      "text/html": [
       "<div>\n",
       "<style scoped>\n",
       "    .dataframe tbody tr th:only-of-type {\n",
       "        vertical-align: middle;\n",
       "    }\n",
       "\n",
       "    .dataframe tbody tr th {\n",
       "        vertical-align: top;\n",
       "    }\n",
       "\n",
       "    .dataframe thead th {\n",
       "        text-align: right;\n",
       "    }\n",
       "</style>\n",
       "<table border=\"1\" class=\"dataframe\">\n",
       "  <thead>\n",
       "    <tr style=\"text-align: right;\">\n",
       "      <th></th>\n",
       "      <th>to_state_af</th>\n",
       "      <th>nb_records</th>\n",
       "      <th>percentage</th>\n",
       "    </tr>\n",
       "  </thead>\n",
       "  <tbody>\n",
       "    <tr>\n",
       "      <th>0</th>\n",
       "      <td>declined</td>\n",
       "      <td>2125</td>\n",
       "      <td>78.88</td>\n",
       "    </tr>\n",
       "    <tr>\n",
       "      <th>1</th>\n",
       "      <td>booked</td>\n",
       "      <td>388</td>\n",
       "      <td>14.40</td>\n",
       "    </tr>\n",
       "    <tr>\n",
       "      <th>2</th>\n",
       "      <td>submitted</td>\n",
       "      <td>117</td>\n",
       "      <td>4.34</td>\n",
       "    </tr>\n",
       "    <tr>\n",
       "      <th>3</th>\n",
       "      <td>matched</td>\n",
       "      <td>64</td>\n",
       "      <td>2.38</td>\n",
       "    </tr>\n",
       "  </tbody>\n",
       "</table>\n",
       "</div>"
      ],
      "text/plain": [
       "  to_state_af  nb_records  percentage\n",
       "0    declined        2125       78.88\n",
       "1      booked         388       14.40\n",
       "2   submitted         117        4.34\n",
       "3     matched          64        2.38"
      ]
     },
     "execution_count": 340,
     "metadata": {},
     "output_type": "execute_result"
    }
   ],
   "source": [
    "top_champ(transitions[transitions['to_state']=='matched'],['to_state_af'],10)"
   ]
  },
  {
   "cell_type": "code",
   "execution_count": 341,
   "metadata": {},
   "outputs": [
    {
     "data": {
      "text/plain": [
       "array([ 105,  230,  245,  323,  430,  449,  451,  834,  902,  917, 1094,\n",
       "       1154, 1335, 1535, 1692, 1698, 1794, 1919, 2161, 2214, 2789, 2846,\n",
       "       3034, 3183, 3329, 3510, 3791, 3861, 3896, 3926])"
      ]
     },
     "execution_count": 341,
     "metadata": {},
     "output_type": "execute_result"
    }
   ],
   "source": [
    "transitions.loc[(transitions['to_state']=='booked') &\n",
    "           (transitions['to_state_bf']=='declined'),'idea_id'].unique()"
   ]
  },
  {
   "cell_type": "code",
   "execution_count": 342,
   "metadata": {},
   "outputs": [],
   "source": [
    "#transitions[transitions['space_id']==6735]\n",
    "#transitions[transitions['idea_id']==105]"
   ]
  },
  {
   "cell_type": "markdown",
   "metadata": {},
   "source": [
    "# total exploration"
   ]
  },
  {
   "cell_type": "code",
   "execution_count": 343,
   "metadata": {},
   "outputs": [],
   "source": [
    "total = pd.merge(ideas, transitions, how='left', left_on='idea_id',right_on='idea_id')"
   ]
  },
  {
   "cell_type": "code",
   "execution_count": 344,
   "metadata": {},
   "outputs": [
    {
     "name": "stdout",
     "output_type": "stream",
     "text": [
      "4 distinct values for the feature ['to_state']\n"
     ]
    },
    {
     "data": {
      "text/html": [
       "<div>\n",
       "<style scoped>\n",
       "    .dataframe tbody tr th:only-of-type {\n",
       "        vertical-align: middle;\n",
       "    }\n",
       "\n",
       "    .dataframe tbody tr th {\n",
       "        vertical-align: top;\n",
       "    }\n",
       "\n",
       "    .dataframe thead th {\n",
       "        text-align: right;\n",
       "    }\n",
       "</style>\n",
       "<table border=\"1\" class=\"dataframe\">\n",
       "  <thead>\n",
       "    <tr style=\"text-align: right;\">\n",
       "      <th></th>\n",
       "      <th>to_state</th>\n",
       "      <th>nb_records</th>\n",
       "      <th>percentage</th>\n",
       "    </tr>\n",
       "  </thead>\n",
       "  <tbody>\n",
       "    <tr>\n",
       "      <th>0</th>\n",
       "      <td>submitted</td>\n",
       "      <td>2377</td>\n",
       "      <td>59.42</td>\n",
       "    </tr>\n",
       "    <tr>\n",
       "      <th>1</th>\n",
       "      <td>unknown</td>\n",
       "      <td>1323</td>\n",
       "      <td>33.07</td>\n",
       "    </tr>\n",
       "    <tr>\n",
       "      <th>2</th>\n",
       "      <td>declined</td>\n",
       "      <td>295</td>\n",
       "      <td>7.38</td>\n",
       "    </tr>\n",
       "    <tr>\n",
       "      <th>3</th>\n",
       "      <td>booked</td>\n",
       "      <td>5</td>\n",
       "      <td>0.12</td>\n",
       "    </tr>\n",
       "  </tbody>\n",
       "</table>\n",
       "</div>"
      ],
      "text/plain": [
       "    to_state  nb_records  percentage\n",
       "0  submitted        2377       59.42\n",
       "1    unknown        1323       33.07\n",
       "2   declined         295        7.38\n",
       "3     booked           5        0.12"
      ]
     },
     "execution_count": 344,
     "metadata": {},
     "output_type": "execute_result"
    }
   ],
   "source": [
    "total.loc[:,'time_after_creation'] = total.loc[:,'transition_ts']- total.loc[:,'created_at']\n",
    "total.loc[:,'time_after_creation'] = total.loc[:,'time_after_creation']/ np.timedelta64(1, 'D')\n",
    "total_first = total.drop_duplicates('idea_id')\n",
    "top_champ(total_first,['to_state'],10)"
   ]
  },
  {
   "cell_type": "code",
   "execution_count": 345,
   "metadata": {},
   "outputs": [
    {
     "name": "stdout",
     "output_type": "stream",
     "text": [
      "(1323, 20)\n",
      "(1323, 20)\n"
     ]
    }
   ],
   "source": [
    "total_first.loc[:,'time_after_creation'].describe()\n",
    "print(total[total['category_x']!=total['category_y']].shape)\n",
    "print(total[total['category_y'].isnull()].shape)\n",
    "#idem\n",
    "# 1323 ideas without "
   ]
  },
  {
   "cell_type": "code",
   "execution_count": 346,
   "metadata": {},
   "outputs": [
    {
     "name": "stdout",
     "output_type": "stream",
     "text": [
      "There are 1323 ideas unknown\n",
      "Ideas unknown have been created from 2018-01-01 17:01:01.489000 to 2019-01-21 10:19:35.205000\n",
      "There are 2677 ideas with at least one request submitted\n",
      "Ideas with requests have been created from 2018-01-02 15:21:32.044000 to 2019-01-15 14:54:49.719000\n"
     ]
    }
   ],
   "source": [
    "idea_id_unknown = total.loc[total['category_y'].isnull(),'idea_id'].unique()\n",
    "min_created_ukn = min(ideas.loc[ideas['idea_id'].isin(idea_id_unknown),'created_at'])\n",
    "max_created_ukn = max(ideas.loc[ideas['idea_id'].isin(idea_id_unknown),'created_at'])\n",
    "print('There are %0.0f ideas unknown' %len(idea_id_unknown))\n",
    "print('Ideas unknown have been created from %s to %s' %(min_created_ukn, max_created_ukn))\n",
    "idea_id_known = total.loc[total['category_y'].notnull(),'idea_id'].unique()\n",
    "min_created_ukn = min(ideas.loc[ideas['idea_id'].isin(idea_id_known),'created_at'])\n",
    "max_created_ukn = max(ideas.loc[ideas['idea_id'].isin(idea_id_known),'created_at'])\n",
    "print('There are %0.0f ideas with at least one request submitted' %(len(idea_id_known)))\n",
    "print('Ideas with requests have been created from %s to %s' %(min_created_ukn, max_created_ukn))"
   ]
  },
  {
   "cell_type": "code",
   "execution_count": 347,
   "metadata": {},
   "outputs": [
    {
     "name": "stdout",
     "output_type": "stream",
     "text": [
      "6 distinct values for the feature ['category']\n"
     ]
    },
    {
     "data": {
      "text/html": [
       "<div>\n",
       "<style scoped>\n",
       "    .dataframe tbody tr th:only-of-type {\n",
       "        vertical-align: middle;\n",
       "    }\n",
       "\n",
       "    .dataframe tbody tr th {\n",
       "        vertical-align: top;\n",
       "    }\n",
       "\n",
       "    .dataframe thead th {\n",
       "        text-align: right;\n",
       "    }\n",
       "</style>\n",
       "<table border=\"1\" class=\"dataframe\">\n",
       "  <thead>\n",
       "    <tr style=\"text-align: right;\">\n",
       "      <th></th>\n",
       "      <th>category</th>\n",
       "      <th>nb_records</th>\n",
       "      <th>percentage</th>\n",
       "    </tr>\n",
       "  </thead>\n",
       "  <tbody>\n",
       "    <tr>\n",
       "      <th>0</th>\n",
       "      <td>popup_shop</td>\n",
       "      <td>715</td>\n",
       "      <td>54.04</td>\n",
       "    </tr>\n",
       "    <tr>\n",
       "      <th>1</th>\n",
       "      <td>popup_bar</td>\n",
       "      <td>234</td>\n",
       "      <td>17.69</td>\n",
       "    </tr>\n",
       "    <tr>\n",
       "      <th>2</th>\n",
       "      <td>unique</td>\n",
       "      <td>142</td>\n",
       "      <td>10.73</td>\n",
       "    </tr>\n",
       "    <tr>\n",
       "      <th>3</th>\n",
       "      <td>private_event</td>\n",
       "      <td>134</td>\n",
       "      <td>10.13</td>\n",
       "    </tr>\n",
       "    <tr>\n",
       "      <th>4</th>\n",
       "      <td>gallery</td>\n",
       "      <td>76</td>\n",
       "      <td>5.74</td>\n",
       "    </tr>\n",
       "    <tr>\n",
       "      <th>5</th>\n",
       "      <td>sample_sale</td>\n",
       "      <td>22</td>\n",
       "      <td>1.66</td>\n",
       "    </tr>\n",
       "  </tbody>\n",
       "</table>\n",
       "</div>"
      ],
      "text/plain": [
       "        category  nb_records  percentage\n",
       "0     popup_shop         715       54.04\n",
       "1      popup_bar         234       17.69\n",
       "2         unique         142       10.73\n",
       "3  private_event         134       10.13\n",
       "4        gallery          76        5.74\n",
       "5    sample_sale          22        1.66"
      ]
     },
     "execution_count": 347,
     "metadata": {},
     "output_type": "execute_result"
    }
   ],
   "source": [
    "top_champ(ideas[ideas['idea_id'].isin(idea_id_unknown)],['category'],10)"
   ]
  },
  {
   "cell_type": "code",
   "execution_count": 348,
   "metadata": {},
   "outputs": [
    {
     "name": "stdout",
     "output_type": "stream",
     "text": [
      "6 distinct values for the feature ['category']\n"
     ]
    },
    {
     "data": {
      "text/html": [
       "<div>\n",
       "<style scoped>\n",
       "    .dataframe tbody tr th:only-of-type {\n",
       "        vertical-align: middle;\n",
       "    }\n",
       "\n",
       "    .dataframe tbody tr th {\n",
       "        vertical-align: top;\n",
       "    }\n",
       "\n",
       "    .dataframe thead th {\n",
       "        text-align: right;\n",
       "    }\n",
       "</style>\n",
       "<table border=\"1\" class=\"dataframe\">\n",
       "  <thead>\n",
       "    <tr style=\"text-align: right;\">\n",
       "      <th></th>\n",
       "      <th>category</th>\n",
       "      <th>nb_records</th>\n",
       "      <th>percentage</th>\n",
       "    </tr>\n",
       "  </thead>\n",
       "  <tbody>\n",
       "    <tr>\n",
       "      <th>0</th>\n",
       "      <td>popup_shop</td>\n",
       "      <td>1459</td>\n",
       "      <td>54.50</td>\n",
       "    </tr>\n",
       "    <tr>\n",
       "      <th>1</th>\n",
       "      <td>private_event</td>\n",
       "      <td>412</td>\n",
       "      <td>15.39</td>\n",
       "    </tr>\n",
       "    <tr>\n",
       "      <th>2</th>\n",
       "      <td>popup_bar</td>\n",
       "      <td>299</td>\n",
       "      <td>11.17</td>\n",
       "    </tr>\n",
       "    <tr>\n",
       "      <th>3</th>\n",
       "      <td>unique</td>\n",
       "      <td>256</td>\n",
       "      <td>9.56</td>\n",
       "    </tr>\n",
       "    <tr>\n",
       "      <th>4</th>\n",
       "      <td>gallery</td>\n",
       "      <td>206</td>\n",
       "      <td>7.70</td>\n",
       "    </tr>\n",
       "    <tr>\n",
       "      <th>5</th>\n",
       "      <td>sample_sale</td>\n",
       "      <td>45</td>\n",
       "      <td>1.68</td>\n",
       "    </tr>\n",
       "  </tbody>\n",
       "</table>\n",
       "</div>"
      ],
      "text/plain": [
       "        category  nb_records  percentage\n",
       "0     popup_shop        1459       54.50\n",
       "1  private_event         412       15.39\n",
       "2      popup_bar         299       11.17\n",
       "3         unique         256        9.56\n",
       "4        gallery         206        7.70\n",
       "5    sample_sale          45        1.68"
      ]
     },
     "execution_count": 348,
     "metadata": {},
     "output_type": "execute_result"
    }
   ],
   "source": [
    "top_champ(ideas[ideas['idea_id'].isin(idea_id_known)],['category'],10)"
   ]
  },
  {
   "cell_type": "code",
   "execution_count": 349,
   "metadata": {},
   "outputs": [],
   "source": [
    "total_ok = total.loc[total['idea_id'].isin(idea_id_known)]"
   ]
  },
  {
   "cell_type": "code",
   "execution_count": 350,
   "metadata": {},
   "outputs": [
    {
     "data": {
      "text/plain": [
       "count    2.106200e+04\n",
       "mean     2.365659e+01\n",
       "std      4.890799e+01\n",
       "min      6.250000e-07\n",
       "25%      1.163474e-01\n",
       "50%      4.105958e+00\n",
       "75%      2.042294e+01\n",
       "max      3.599833e+02\n",
       "Name: time_after_creation, dtype: float64"
      ]
     },
     "execution_count": 350,
     "metadata": {},
     "output_type": "execute_result"
    }
   ],
   "source": [
    "total_ok['time_after_creation'].describe()"
   ]
  },
  {
   "cell_type": "code",
   "execution_count": 351,
   "metadata": {},
   "outputs": [],
   "source": [
    "total_ok.loc[total_ok['time_after_creation']>15,'after_creation']='sup_15j'\n",
    "total_ok.loc[total_ok['time_after_creation']<=15,'after_creation']='3j_15j'\n",
    "total_ok.loc[total_ok['time_after_creation']<3,'after_creation']='1j_3j'\n",
    "total_ok.loc[total_ok['time_after_creation']<1,'after_creation']='1h_1j'\n",
    "total_ok.loc[total_ok['time_after_creation']<0.04,'after_creation']='10s_1h'\n",
    "total_ok.loc[total_ok['time_after_creation']<0.0001,'after_creation']='less_10s'"
   ]
  },
  {
   "cell_type": "code",
   "execution_count": 352,
   "metadata": {},
   "outputs": [
    {
     "name": "stdout",
     "output_type": "stream",
     "text": [
      "6 distinct values for the feature ['after_creation']\n"
     ]
    },
    {
     "data": {
      "text/html": [
       "<div>\n",
       "<style scoped>\n",
       "    .dataframe tbody tr th:only-of-type {\n",
       "        vertical-align: middle;\n",
       "    }\n",
       "\n",
       "    .dataframe tbody tr th {\n",
       "        vertical-align: top;\n",
       "    }\n",
       "\n",
       "    .dataframe thead th {\n",
       "        text-align: right;\n",
       "    }\n",
       "</style>\n",
       "<table border=\"1\" class=\"dataframe\">\n",
       "  <thead>\n",
       "    <tr style=\"text-align: right;\">\n",
       "      <th></th>\n",
       "      <th>after_creation</th>\n",
       "      <th>nb_records</th>\n",
       "      <th>percentage</th>\n",
       "    </tr>\n",
       "  </thead>\n",
       "  <tbody>\n",
       "    <tr>\n",
       "      <th>0</th>\n",
       "      <td>less_10s</td>\n",
       "      <td>1556</td>\n",
       "      <td>58.12</td>\n",
       "    </tr>\n",
       "    <tr>\n",
       "      <th>1</th>\n",
       "      <td>sup_15j</td>\n",
       "      <td>282</td>\n",
       "      <td>10.53</td>\n",
       "    </tr>\n",
       "    <tr>\n",
       "      <th>2</th>\n",
       "      <td>3j_15j</td>\n",
       "      <td>280</td>\n",
       "      <td>10.46</td>\n",
       "    </tr>\n",
       "    <tr>\n",
       "      <th>3</th>\n",
       "      <td>10s_1h</td>\n",
       "      <td>240</td>\n",
       "      <td>8.97</td>\n",
       "    </tr>\n",
       "    <tr>\n",
       "      <th>4</th>\n",
       "      <td>1h_1j</td>\n",
       "      <td>202</td>\n",
       "      <td>7.55</td>\n",
       "    </tr>\n",
       "    <tr>\n",
       "      <th>5</th>\n",
       "      <td>1j_3j</td>\n",
       "      <td>117</td>\n",
       "      <td>4.37</td>\n",
       "    </tr>\n",
       "  </tbody>\n",
       "</table>\n",
       "</div>"
      ],
      "text/plain": [
       "  after_creation  nb_records  percentage\n",
       "0       less_10s        1556       58.12\n",
       "1        sup_15j         282       10.53\n",
       "2         3j_15j         280       10.46\n",
       "3         10s_1h         240        8.97\n",
       "4          1h_1j         202        7.55\n",
       "5          1j_3j         117        4.37"
      ]
     },
     "execution_count": 352,
     "metadata": {},
     "output_type": "execute_result"
    }
   ],
   "source": [
    "top_champ(total_ok.drop_duplicates('idea_id'),['after_creation'],10)\n",
    "# More than an half of the ideas transforms in a request in less than 10 seconds"
   ]
  },
  {
   "cell_type": "code",
   "execution_count": 354,
   "metadata": {},
   "outputs": [
    {
     "data": {
      "text/html": [
       "<div>\n",
       "<style scoped>\n",
       "    .dataframe tbody tr th:only-of-type {\n",
       "        vertical-align: middle;\n",
       "    }\n",
       "\n",
       "    .dataframe tbody tr th {\n",
       "        vertical-align: top;\n",
       "    }\n",
       "\n",
       "    .dataframe thead th {\n",
       "        text-align: right;\n",
       "    }\n",
       "</style>\n",
       "<table border=\"1\" class=\"dataframe\">\n",
       "  <thead>\n",
       "    <tr style=\"text-align: right;\">\n",
       "      <th></th>\n",
       "      <th>transition_ts</th>\n",
       "      <th>idea_id</th>\n",
       "      <th>space_id</th>\n",
       "      <th>to_state</th>\n",
       "    </tr>\n",
       "  </thead>\n",
       "  <tbody>\n",
       "    <tr>\n",
       "      <th>2</th>\n",
       "      <td>2018-10-08 19:38:18.153</td>\n",
       "      <td>2</td>\n",
       "      <td>366.0</td>\n",
       "      <td>submitted</td>\n",
       "    </tr>\n",
       "    <tr>\n",
       "      <th>3</th>\n",
       "      <td>2018-10-10 12:19:26.197</td>\n",
       "      <td>2</td>\n",
       "      <td>366.0</td>\n",
       "      <td>declined</td>\n",
       "    </tr>\n",
       "    <tr>\n",
       "      <th>5</th>\n",
       "      <td>2018-06-10 16:05:47.226</td>\n",
       "      <td>4</td>\n",
       "      <td>5844.0</td>\n",
       "      <td>submitted</td>\n",
       "    </tr>\n",
       "    <tr>\n",
       "      <th>6</th>\n",
       "      <td>2018-06-26 15:55:27.471</td>\n",
       "      <td>4</td>\n",
       "      <td>5844.0</td>\n",
       "      <td>declined</td>\n",
       "    </tr>\n",
       "    <tr>\n",
       "      <th>7</th>\n",
       "      <td>2018-11-27 17:06:18.287</td>\n",
       "      <td>5</td>\n",
       "      <td>5241.0</td>\n",
       "      <td>submitted</td>\n",
       "    </tr>\n",
       "    <tr>\n",
       "      <th>8</th>\n",
       "      <td>2018-11-28 16:46:10.694</td>\n",
       "      <td>5</td>\n",
       "      <td>5241.0</td>\n",
       "      <td>matched</td>\n",
       "    </tr>\n",
       "    <tr>\n",
       "      <th>9</th>\n",
       "      <td>2018-12-01 01:03:33.476</td>\n",
       "      <td>5</td>\n",
       "      <td>5241.0</td>\n",
       "      <td>booked</td>\n",
       "    </tr>\n",
       "    <tr>\n",
       "      <th>10</th>\n",
       "      <td>2018-03-27 14:46:16.156</td>\n",
       "      <td>6</td>\n",
       "      <td>4035.0</td>\n",
       "      <td>submitted</td>\n",
       "    </tr>\n",
       "    <tr>\n",
       "      <th>11</th>\n",
       "      <td>2018-04-10 17:27:06.135</td>\n",
       "      <td>6</td>\n",
       "      <td>4035.0</td>\n",
       "      <td>declined</td>\n",
       "    </tr>\n",
       "    <tr>\n",
       "      <th>12</th>\n",
       "      <td>2018-03-27 14:46:16.313</td>\n",
       "      <td>6</td>\n",
       "      <td>5438.0</td>\n",
       "      <td>submitted</td>\n",
       "    </tr>\n",
       "  </tbody>\n",
       "</table>\n",
       "</div>"
      ],
      "text/plain": [
       "             transition_ts  idea_id  space_id   to_state\n",
       "2  2018-10-08 19:38:18.153        2     366.0  submitted\n",
       "3  2018-10-10 12:19:26.197        2     366.0   declined\n",
       "5  2018-06-10 16:05:47.226        4    5844.0  submitted\n",
       "6  2018-06-26 15:55:27.471        4    5844.0   declined\n",
       "7  2018-11-27 17:06:18.287        5    5241.0  submitted\n",
       "8  2018-11-28 16:46:10.694        5    5241.0    matched\n",
       "9  2018-12-01 01:03:33.476        5    5241.0     booked\n",
       "10 2018-03-27 14:46:16.156        6    4035.0  submitted\n",
       "11 2018-04-10 17:27:06.135        6    4035.0   declined\n",
       "12 2018-03-27 14:46:16.313        6    5438.0  submitted"
      ]
     },
     "execution_count": 354,
     "metadata": {},
     "output_type": "execute_result"
    }
   ],
   "source": [
    "total_ok[['transition_ts','idea_id','space_id','to_state']][0:10]"
   ]
  },
  {
   "cell_type": "code",
   "execution_count": 447,
   "metadata": {},
   "outputs": [],
   "source": [
    "conversion = total_ok.groupby(['idea_id','space_id','booking_request_id'])['to_state'].\\\n",
    "apply(lambda x: \"%s\" % ' / '.join(x)).to_frame().reset_index()\n",
    "#conversion\n",
    "#top_champ(conversion,['to_state'],10)\n",
    "conversion.loc[:,'ending_stage'] = conversion.loc[:,'to_state'].apply(lambda x : x.split(' ')[-1])\n",
    "\n",
    "conversion_2 = conversion\\\n",
    ".join(conversion['to_state'].str.split(' / s', expand=True)\\\n",
    "      .stack().reset_index(level=1, drop=True).rename('to_state_2'))\n",
    "conversion_2.loc[:,'to_state_2'] = conversion_2['to_state_2'].str.replace('ubmitted','submitted')\n",
    "conversion_2.loc[:,'to_state_2'] = conversion_2['to_state_2'].str.replace('ssubmitted','submitted')\n",
    "conversion_2.loc[:,'ending_stage_2'] = conversion_2.loc[:,'to_state_2'].apply(lambda x : x.split(' ')[-1])\n",
    "\n"
   ]
  },
  {
   "cell_type": "code",
   "execution_count": 451,
   "metadata": {},
   "outputs": [
    {
     "name": "stdout",
     "output_type": "stream",
     "text": [
      "4 distinct values for the feature ['ending_stage']\n"
     ]
    },
    {
     "data": {
      "text/html": [
       "<div>\n",
       "<style scoped>\n",
       "    .dataframe tbody tr th:only-of-type {\n",
       "        vertical-align: middle;\n",
       "    }\n",
       "\n",
       "    .dataframe tbody tr th {\n",
       "        vertical-align: top;\n",
       "    }\n",
       "\n",
       "    .dataframe thead th {\n",
       "        text-align: right;\n",
       "    }\n",
       "</style>\n",
       "<table border=\"1\" class=\"dataframe\">\n",
       "  <thead>\n",
       "    <tr style=\"text-align: right;\">\n",
       "      <th></th>\n",
       "      <th>ending_stage</th>\n",
       "      <th>nb_records</th>\n",
       "      <th>percentage</th>\n",
       "    </tr>\n",
       "  </thead>\n",
       "  <tbody>\n",
       "    <tr>\n",
       "      <th>0</th>\n",
       "      <td>declined</td>\n",
       "      <td>9074</td>\n",
       "      <td>91.27</td>\n",
       "    </tr>\n",
       "    <tr>\n",
       "      <th>1</th>\n",
       "      <td>booked</td>\n",
       "      <td>456</td>\n",
       "      <td>4.59</td>\n",
       "    </tr>\n",
       "    <tr>\n",
       "      <th>2</th>\n",
       "      <td>submitted</td>\n",
       "      <td>329</td>\n",
       "      <td>3.31</td>\n",
       "    </tr>\n",
       "    <tr>\n",
       "      <th>3</th>\n",
       "      <td>matched</td>\n",
       "      <td>83</td>\n",
       "      <td>0.83</td>\n",
       "    </tr>\n",
       "  </tbody>\n",
       "</table>\n",
       "</div>"
      ],
      "text/plain": [
       "  ending_stage  nb_records  percentage\n",
       "0     declined        9074       91.27\n",
       "1       booked         456        4.59\n",
       "2    submitted         329        3.31\n",
       "3      matched          83        0.83"
      ]
     },
     "execution_count": 451,
     "metadata": {},
     "output_type": "execute_result"
    }
   ],
   "source": [
    "top_champ(conversion,['ending_stage'],100)"
   ]
  },
  {
   "cell_type": "code",
   "execution_count": 471,
   "metadata": {},
   "outputs": [],
   "source": [
    "from operator import itemgetter\n",
    "from itertools import groupby\n"
   ]
  },
  {
   "cell_type": "code",
   "execution_count": 476,
   "metadata": {},
   "outputs": [],
   "source": [
    "#conversion['to_state_simpl'] = conversion['to_state'].str.split(' / ').apply(lambda x : list(map(itemgetter(0), groupby(x))))\n",
    "#conversion['to_state_simpl']"
   ]
  },
  {
   "cell_type": "code",
   "execution_count": 479,
   "metadata": {},
   "outputs": [
    {
     "name": "stdout",
     "output_type": "stream",
     "text": [
      "4 distinct values for the feature ['to_state']\n"
     ]
    },
    {
     "data": {
      "text/html": [
       "<div>\n",
       "<style scoped>\n",
       "    .dataframe tbody tr th:only-of-type {\n",
       "        vertical-align: middle;\n",
       "    }\n",
       "\n",
       "    .dataframe tbody tr th {\n",
       "        vertical-align: top;\n",
       "    }\n",
       "\n",
       "    .dataframe thead th {\n",
       "        text-align: right;\n",
       "    }\n",
       "</style>\n",
       "<table border=\"1\" class=\"dataframe\">\n",
       "  <thead>\n",
       "    <tr style=\"text-align: right;\">\n",
       "      <th></th>\n",
       "      <th>to_state</th>\n",
       "      <th>nb_records</th>\n",
       "      <th>percentage</th>\n",
       "    </tr>\n",
       "  </thead>\n",
       "  <tbody>\n",
       "    <tr>\n",
       "      <th>0</th>\n",
       "      <td>submitted</td>\n",
       "      <td>315</td>\n",
       "      <td>95.74</td>\n",
       "    </tr>\n",
       "    <tr>\n",
       "      <th>1</th>\n",
       "      <td>submitted / submitted</td>\n",
       "      <td>8</td>\n",
       "      <td>2.43</td>\n",
       "    </tr>\n",
       "    <tr>\n",
       "      <th>2</th>\n",
       "      <td>submitted / declined / submitted</td>\n",
       "      <td>5</td>\n",
       "      <td>1.52</td>\n",
       "    </tr>\n",
       "    <tr>\n",
       "      <th>3</th>\n",
       "      <td>submitted / submitted / submitted</td>\n",
       "      <td>1</td>\n",
       "      <td>0.30</td>\n",
       "    </tr>\n",
       "  </tbody>\n",
       "</table>\n",
       "</div>"
      ],
      "text/plain": [
       "                            to_state  nb_records  percentage\n",
       "0                          submitted         315       95.74\n",
       "1              submitted / submitted           8        2.43\n",
       "2   submitted / declined / submitted           5        1.52\n",
       "3  submitted / submitted / submitted           1        0.30"
      ]
     },
     "execution_count": 479,
     "metadata": {},
     "output_type": "execute_result"
    }
   ],
   "source": [
    "top_champ(conversion[conversion.ending_stage=='submitted'],['to_state'],100)"
   ]
  },
  {
   "cell_type": "code",
   "execution_count": 500,
   "metadata": {},
   "outputs": [],
   "source": [
    "#conversion[(conversion['to_state']=='submitted / declined / submitted / declined')]\n",
    "#conversion[conversion['idea_id']==30]"
   ]
  },
  {
   "cell_type": "code",
   "execution_count": 444,
   "metadata": {},
   "outputs": [
    {
     "name": "stdout",
     "output_type": "stream",
     "text": [
      "(9942, 17)\n"
     ]
    },
    {
     "data": {
      "text/plain": [
       "(9942, 17)"
      ]
     },
     "execution_count": 444,
     "metadata": {},
     "output_type": "execute_result"
    }
   ],
   "source": [
    "print(transitions.drop_duplicates(['booking_request_id','city','space_id']).shape)\n",
    "transitions.drop_duplicates(['booking_request_id']).shape"
   ]
  },
  {
   "cell_type": "code",
   "execution_count": 460,
   "metadata": {},
   "outputs": [
    {
     "data": {
      "text/html": [
       "<div>\n",
       "<style scoped>\n",
       "    .dataframe tbody tr th:only-of-type {\n",
       "        vertical-align: middle;\n",
       "    }\n",
       "\n",
       "    .dataframe tbody tr th {\n",
       "        vertical-align: top;\n",
       "    }\n",
       "\n",
       "    .dataframe thead th {\n",
       "        text-align: right;\n",
       "    }\n",
       "</style>\n",
       "<table border=\"1\" class=\"dataframe\">\n",
       "  <thead>\n",
       "    <tr style=\"text-align: right;\">\n",
       "      <th></th>\n",
       "      <th>portfolio_type</th>\n",
       "      <th>floor_size</th>\n",
       "      <th>floor_size_unit</th>\n",
       "      <th>start_on</th>\n",
       "      <th>end_on</th>\n",
       "      <th>price</th>\n",
       "      <th>to_state_bf</th>\n",
       "      <th>to_state_af</th>\n",
       "      <th>time_booked</th>\n",
       "      <th>time_after_creation</th>\n",
       "    </tr>\n",
       "  </thead>\n",
       "  <tbody>\n",
       "    <tr>\n",
       "      <th>232</th>\n",
       "      <td>3.0</td>\n",
       "      <td>1000.0</td>\n",
       "      <td>0.0</td>\n",
       "      <td>2018-06-11</td>\n",
       "      <td>2018-06-17</td>\n",
       "      <td>500000.0</td>\n",
       "      <td>declined</td>\n",
       "      <td>declined</td>\n",
       "      <td>6.0</td>\n",
       "      <td>20.862976</td>\n",
       "    </tr>\n",
       "    <tr>\n",
       "      <th>233</th>\n",
       "      <td>3.0</td>\n",
       "      <td>1000.0</td>\n",
       "      <td>0.0</td>\n",
       "      <td>2018-06-11</td>\n",
       "      <td>2018-06-17</td>\n",
       "      <td>500000.0</td>\n",
       "      <td>submitted</td>\n",
       "      <td>submitted</td>\n",
       "      <td>6.0</td>\n",
       "      <td>20.993371</td>\n",
       "    </tr>\n",
       "    <tr>\n",
       "      <th>234</th>\n",
       "      <td>3.0</td>\n",
       "      <td>1000.0</td>\n",
       "      <td>0.0</td>\n",
       "      <td>2018-06-11</td>\n",
       "      <td>2018-06-17</td>\n",
       "      <td>500000.0</td>\n",
       "      <td>declined</td>\n",
       "      <td>declined</td>\n",
       "      <td>6.0</td>\n",
       "      <td>21.760294</td>\n",
       "    </tr>\n",
       "    <tr>\n",
       "      <th>235</th>\n",
       "      <td>3.0</td>\n",
       "      <td>1000.0</td>\n",
       "      <td>0.0</td>\n",
       "      <td>2018-06-11</td>\n",
       "      <td>2018-06-17</td>\n",
       "      <td>500000.0</td>\n",
       "      <td>submitted</td>\n",
       "      <td>declined</td>\n",
       "      <td>6.0</td>\n",
       "      <td>43.741980</td>\n",
       "    </tr>\n",
       "  </tbody>\n",
       "</table>\n",
       "</div>"
      ],
      "text/plain": [
       "     portfolio_type  floor_size  floor_size_unit   start_on     end_on  \\\n",
       "232             3.0      1000.0              0.0 2018-06-11 2018-06-17   \n",
       "233             3.0      1000.0              0.0 2018-06-11 2018-06-17   \n",
       "234             3.0      1000.0              0.0 2018-06-11 2018-06-17   \n",
       "235             3.0      1000.0              0.0 2018-06-11 2018-06-17   \n",
       "\n",
       "        price to_state_bf to_state_af  time_booked  time_after_creation  \n",
       "232  500000.0    declined    declined          6.0            20.862976  \n",
       "233  500000.0   submitted   submitted          6.0            20.993371  \n",
       "234  500000.0    declined    declined          6.0            21.760294  \n",
       "235  500000.0   submitted    declined          6.0            43.741980  "
      ]
     },
     "execution_count": 460,
     "metadata": {},
     "output_type": "execute_result"
    }
   ],
   "source": [
    "test = total_ok[(total_ok['booking_request_id']==114598.0)]\n",
    "test.iloc[:,10:20]\\\n",
    "#[['created_at','transition_ts','booking_request_id','space_id','to_state','start_on','end_on','time_booked']]"
   ]
  },
  {
   "cell_type": "code",
   "execution_count": 401,
   "metadata": {},
   "outputs": [
    {
     "data": {
      "text/html": [
       "<div>\n",
       "<style scoped>\n",
       "    .dataframe tbody tr th:only-of-type {\n",
       "        vertical-align: middle;\n",
       "    }\n",
       "\n",
       "    .dataframe tbody tr th {\n",
       "        vertical-align: top;\n",
       "    }\n",
       "\n",
       "    .dataframe thead th {\n",
       "        text-align: right;\n",
       "    }\n",
       "</style>\n",
       "<table border=\"1\" class=\"dataframe\">\n",
       "  <thead>\n",
       "    <tr style=\"text-align: right;\">\n",
       "      <th></th>\n",
       "      <th>portfolio_type</th>\n",
       "      <th>floor_size</th>\n",
       "      <th>floor_size_unit</th>\n",
       "      <th>start_on</th>\n",
       "      <th>end_on</th>\n",
       "      <th>price</th>\n",
       "      <th>to_state_bf</th>\n",
       "      <th>to_state_af</th>\n",
       "      <th>time_booked</th>\n",
       "      <th>time_after_creation</th>\n",
       "    </tr>\n",
       "  </thead>\n",
       "  <tbody>\n",
       "    <tr>\n",
       "      <th>130</th>\n",
       "      <td>8.0</td>\n",
       "      <td>600.0</td>\n",
       "      <td>0.0</td>\n",
       "      <td>2018-09-28</td>\n",
       "      <td>2018-10-01</td>\n",
       "      <td>57140.0</td>\n",
       "      <td>declined</td>\n",
       "      <td>submitted</td>\n",
       "      <td>3.0</td>\n",
       "      <td>0.000001</td>\n",
       "    </tr>\n",
       "    <tr>\n",
       "      <th>131</th>\n",
       "      <td>8.0</td>\n",
       "      <td>600.0</td>\n",
       "      <td>0.0</td>\n",
       "      <td>2018-09-28</td>\n",
       "      <td>2018-10-01</td>\n",
       "      <td>57140.0</td>\n",
       "      <td>submitted</td>\n",
       "      <td>declined</td>\n",
       "      <td>3.0</td>\n",
       "      <td>0.968679</td>\n",
       "    </tr>\n",
       "    <tr>\n",
       "      <th>132</th>\n",
       "      <td>8.0</td>\n",
       "      <td>600.0</td>\n",
       "      <td>0.0</td>\n",
       "      <td>2018-09-28</td>\n",
       "      <td>2018-10-01</td>\n",
       "      <td>57140.0</td>\n",
       "      <td>submitted</td>\n",
       "      <td>declined</td>\n",
       "      <td>3.0</td>\n",
       "      <td>5.098823</td>\n",
       "    </tr>\n",
       "  </tbody>\n",
       "</table>\n",
       "</div>"
      ],
      "text/plain": [
       "     portfolio_type  floor_size  floor_size_unit   start_on     end_on  \\\n",
       "130             8.0       600.0              0.0 2018-09-28 2018-10-01   \n",
       "131             8.0       600.0              0.0 2018-09-28 2018-10-01   \n",
       "132             8.0       600.0              0.0 2018-09-28 2018-10-01   \n",
       "\n",
       "       price to_state_bf to_state_af  time_booked  time_after_creation  \n",
       "130  57140.0    declined   submitted          3.0             0.000001  \n",
       "131  57140.0   submitted    declined          3.0             0.968679  \n",
       "132  57140.0   submitted    declined          3.0             5.098823  "
      ]
     },
     "execution_count": 401,
     "metadata": {},
     "output_type": "execute_result"
    }
   ],
   "source": [
    "test = total_ok[(total_ok['booking_request_id']==146438.0)]\n",
    "test.iloc[:,10:20]"
   ]
  },
  {
   "cell_type": "code",
   "execution_count": 400,
   "metadata": {},
   "outputs": [
    {
     "data": {
      "text/html": [
       "<div>\n",
       "<style scoped>\n",
       "    .dataframe tbody tr th:only-of-type {\n",
       "        vertical-align: middle;\n",
       "    }\n",
       "\n",
       "    .dataframe tbody tr th {\n",
       "        vertical-align: top;\n",
       "    }\n",
       "\n",
       "    .dataframe thead th {\n",
       "        text-align: right;\n",
       "    }\n",
       "</style>\n",
       "<table border=\"1\" class=\"dataframe\">\n",
       "  <thead>\n",
       "    <tr style=\"text-align: right;\">\n",
       "      <th></th>\n",
       "      <th>portfolio_type</th>\n",
       "      <th>floor_size</th>\n",
       "      <th>floor_size_unit</th>\n",
       "      <th>start_on</th>\n",
       "      <th>end_on</th>\n",
       "      <th>price</th>\n",
       "      <th>to_state_bf</th>\n",
       "      <th>to_state_af</th>\n",
       "      <th>time_booked</th>\n",
       "      <th>time_after_creation</th>\n",
       "    </tr>\n",
       "  </thead>\n",
       "  <tbody>\n",
       "    <tr>\n",
       "      <th>130</th>\n",
       "      <td>8.0</td>\n",
       "      <td>600.0</td>\n",
       "      <td>0.0</td>\n",
       "      <td>2018-09-28</td>\n",
       "      <td>2018-10-01</td>\n",
       "      <td>57140.0</td>\n",
       "      <td>declined</td>\n",
       "      <td>submitted</td>\n",
       "      <td>3.0</td>\n",
       "      <td>0.000001</td>\n",
       "    </tr>\n",
       "    <tr>\n",
       "      <th>131</th>\n",
       "      <td>8.0</td>\n",
       "      <td>600.0</td>\n",
       "      <td>0.0</td>\n",
       "      <td>2018-09-28</td>\n",
       "      <td>2018-10-01</td>\n",
       "      <td>57140.0</td>\n",
       "      <td>submitted</td>\n",
       "      <td>declined</td>\n",
       "      <td>3.0</td>\n",
       "      <td>0.968679</td>\n",
       "    </tr>\n",
       "    <tr>\n",
       "      <th>132</th>\n",
       "      <td>8.0</td>\n",
       "      <td>600.0</td>\n",
       "      <td>0.0</td>\n",
       "      <td>2018-09-28</td>\n",
       "      <td>2018-10-01</td>\n",
       "      <td>57140.0</td>\n",
       "      <td>submitted</td>\n",
       "      <td>declined</td>\n",
       "      <td>3.0</td>\n",
       "      <td>5.098823</td>\n",
       "    </tr>\n",
       "  </tbody>\n",
       "</table>\n",
       "</div>"
      ],
      "text/plain": [
       "     portfolio_type  floor_size  floor_size_unit   start_on     end_on  \\\n",
       "130             8.0       600.0              0.0 2018-09-28 2018-10-01   \n",
       "131             8.0       600.0              0.0 2018-09-28 2018-10-01   \n",
       "132             8.0       600.0              0.0 2018-09-28 2018-10-01   \n",
       "\n",
       "       price to_state_bf to_state_af  time_booked  time_after_creation  \n",
       "130  57140.0    declined   submitted          3.0             0.000001  \n",
       "131  57140.0   submitted    declined          3.0             0.968679  \n",
       "132  57140.0   submitted    declined          3.0             5.098823  "
      ]
     },
     "execution_count": 400,
     "metadata": {},
     "output_type": "execute_result"
    }
   ],
   "source": []
  },
  {
   "cell_type": "code",
   "execution_count": 255,
   "metadata": {},
   "outputs": [
    {
     "data": {
      "text/plain": [
       "(9942, 4)"
      ]
     },
     "execution_count": 255,
     "metadata": {},
     "output_type": "execute_result"
    }
   ],
   "source": [
    "test = total_ok.groupby(['idea_id','space_id','booking_request_id']).agg('size').to_frame().reset_index()\n",
    "test.shape"
   ]
  },
  {
   "cell_type": "code",
   "execution_count": 257,
   "metadata": {},
   "outputs": [
    {
     "data": {
      "text/plain": [
       "idea_id               2677\n",
       "space_id              2065\n",
       "booking_request_id    9942\n",
       "0                        7\n",
       "dtype: int64"
      ]
     },
     "execution_count": 257,
     "metadata": {},
     "output_type": "execute_result"
    }
   ],
   "source": [
    "test.nunique()"
   ]
  },
  {
   "cell_type": "markdown",
   "metadata": {},
   "source": [
    "# studies of bookings ok"
   ]
  },
  {
   "cell_type": "code",
   "execution_count": 502,
   "metadata": {},
   "outputs": [],
   "source": [
    "bookings_ok = pd.merge(conversion[['booking_request_id','to_state','ending_stage']],\n",
    "                      total_ok.drop_duplicates('booking_request_id')[['idea_id','booking_request_id','space_id','country', 'city',\n",
    "       'portfolio_type', 'floor_size', 'floor_size_unit','time_booked',\n",
    "       'time_after_creation', 'after_creation']],how='inner', on = 'booking_request_id')\n"
   ]
  },
  {
   "cell_type": "code",
   "execution_count": 503,
   "metadata": {},
   "outputs": [],
   "source": [
    "# reservation more than 1 day (without bug)\n",
    "bookings_ok =bookings_ok[bookings_ok['time_booked']>0]"
   ]
  },
  {
   "cell_type": "code",
   "execution_count": 504,
   "metadata": {},
   "outputs": [],
   "source": [
    "# finished bookings : either declined or booking\n",
    "bookings_ok = bookings_ok[bookings_ok['ending_stage'].isin(['declined','booked'])]"
   ]
  },
  {
   "cell_type": "code",
   "execution_count": 505,
   "metadata": {},
   "outputs": [
    {
     "name": "stdout",
     "output_type": "stream",
     "text": [
      "2 distinct values for the feature ['ending_stage']\n"
     ]
    },
    {
     "data": {
      "text/html": [
       "<div>\n",
       "<style scoped>\n",
       "    .dataframe tbody tr th:only-of-type {\n",
       "        vertical-align: middle;\n",
       "    }\n",
       "\n",
       "    .dataframe tbody tr th {\n",
       "        vertical-align: top;\n",
       "    }\n",
       "\n",
       "    .dataframe thead th {\n",
       "        text-align: right;\n",
       "    }\n",
       "</style>\n",
       "<table border=\"1\" class=\"dataframe\">\n",
       "  <thead>\n",
       "    <tr style=\"text-align: right;\">\n",
       "      <th></th>\n",
       "      <th>ending_stage</th>\n",
       "      <th>nb_records</th>\n",
       "      <th>percentage</th>\n",
       "    </tr>\n",
       "  </thead>\n",
       "  <tbody>\n",
       "    <tr>\n",
       "      <th>0</th>\n",
       "      <td>declined</td>\n",
       "      <td>7354</td>\n",
       "      <td>95.79</td>\n",
       "    </tr>\n",
       "    <tr>\n",
       "      <th>1</th>\n",
       "      <td>booked</td>\n",
       "      <td>323</td>\n",
       "      <td>4.21</td>\n",
       "    </tr>\n",
       "  </tbody>\n",
       "</table>\n",
       "</div>"
      ],
      "text/plain": [
       "  ending_stage  nb_records  percentage\n",
       "0     declined        7354       95.79\n",
       "1       booked         323        4.21"
      ]
     },
     "execution_count": 505,
     "metadata": {},
     "output_type": "execute_result"
    }
   ],
   "source": [
    "top_champ(bookings_ok,['ending_stage'],100)"
   ]
  },
  {
   "cell_type": "code",
   "execution_count": null,
   "metadata": {},
   "outputs": [],
   "source": [
    "from sklearn.decomposition import PCA\n",
    "pca = PCA(n_components=2)\n",
    "principalComponents = pca.fit_transform(x)\n",
    "principalDf = pd.DataFrame(data = principalComponents\n",
    "             , columns = ['principal component 1', 'principal component 2'])"
   ]
  },
  {
   "cell_type": "code",
   "execution_count": null,
   "metadata": {},
   "outputs": [],
   "source": []
  },
  {
   "cell_type": "code",
   "execution_count": null,
   "metadata": {},
   "outputs": [],
   "source": []
  },
  {
   "cell_type": "code",
   "execution_count": null,
   "metadata": {},
   "outputs": [],
   "source": []
  },
  {
   "cell_type": "code",
   "execution_count": null,
   "metadata": {},
   "outputs": [],
   "source": []
  }
 ],
 "metadata": {
  "kernelspec": {
   "display_name": "Python 3",
   "language": "python",
   "name": "python3"
  },
  "language_info": {
   "codemirror_mode": {
    "name": "ipython",
    "version": 3
   },
   "file_extension": ".py",
   "mimetype": "text/x-python",
   "name": "python",
   "nbconvert_exporter": "python",
   "pygments_lexer": "ipython3",
   "version": "3.6.8"
  }
 },
 "nbformat": 4,
 "nbformat_minor": 2
}
