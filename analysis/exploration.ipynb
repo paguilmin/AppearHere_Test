{
 "cells": [
  {
   "cell_type": "markdown",
   "metadata": {},
   "source": [
    "# Appear Here Test\n",
    "\n",
    "Pauline Guilmin\n",
    "\n",
    "January 2019"
   ]
  },
  {
   "cell_type": "markdown",
   "metadata": {},
   "source": [
    "# import libraries"
   ]
  },
  {
   "cell_type": "code",
   "execution_count": 541,
   "metadata": {},
   "outputs": [],
   "source": [
    "import numpy as np \n",
    "import pandas as pd\n",
    "pd.options.display.max_colwidth = 500\n",
    "import matplotlib.pyplot as plt\n",
    "import seaborn as sns"
   ]
  },
  {
   "cell_type": "code",
   "execution_count": 324,
   "metadata": {},
   "outputs": [
    {
     "name": "stdout",
     "output_type": "stream",
     "text": [
      "/Users/paguilmin/Documents/AppearHere_Test/analysis\n"
     ]
    }
   ],
   "source": [
    "!pwd"
   ]
  },
  {
   "cell_type": "markdown",
   "metadata": {},
   "source": [
    "# Charge data"
   ]
  },
  {
   "cell_type": "code",
   "execution_count": 675,
   "metadata": {},
   "outputs": [],
   "source": [
    "path = '../data/'\n",
    "ideas = pd.read_csv(path+'ideas.csv',sep=',')\n",
    "transitions = pd.read_csv(path+'transitions.csv',sep=',')"
   ]
  },
  {
   "cell_type": "markdown",
   "metadata": {},
   "source": [
    "## cleaning"
   ]
  },
  {
   "cell_type": "code",
   "execution_count": 676,
   "metadata": {},
   "outputs": [],
   "source": [
    "ideas = ideas.drop(['Unnamed: 0'],axis=1)\n",
    "transitions.columns\n",
    "transitions = transitions.drop(['Unnamed: 0'],axis=1)"
   ]
  },
  {
   "cell_type": "code",
   "execution_count": 680,
   "metadata": {},
   "outputs": [],
   "source": [
    "# some dates are not rigth written : 0019 instead of 2019 and 0020 instead of 2020\n",
    "transitions.loc[transitions['start_on'].str.startswith('2')==False,'start_on'] = \\\n",
    "transitions.loc[transitions['start_on'].str.startswith('2')==False,'start_on'].str.replace('0019','2019')\n",
    "transitions.loc[transitions['end_on'].str.startswith('2')==False,'end_on'] = \\\n",
    "transitions.loc[transitions['end_on'].str.startswith('2')==False,'end_on'].str.replace('0020','2020')\n",
    "transitions.loc[transitions['end_on'].str.startswith('2')==False,'end_on'] = \\\n",
    "transitions.loc[transitions['end_on'].str.startswith('2')==False,'end_on'].str.replace('0019','2019')"
   ]
  },
  {
   "cell_type": "markdown",
   "metadata": {},
   "source": [
    "## datetimes"
   ]
  },
  {
   "cell_type": "code",
   "execution_count": 681,
   "metadata": {},
   "outputs": [],
   "source": [
    "transitions.loc[:,'transition_ts'] = pd.to_datetime(transitions.loc[:,'transition_ts'])\n",
    "transitions.loc[:,'start_on'] = pd.to_datetime(transitions.loc[:,'start_on'])\n",
    "transitions.loc[:,'end_on'] = pd.to_datetime(transitions.loc[:,'end_on'])\n",
    "\n",
    "ideas.loc[:,'created_at'] = pd.to_datetime(ideas.loc[:,'created_at'])"
   ]
  },
  {
   "cell_type": "markdown",
   "metadata": {},
   "source": [
    "## sort"
   ]
  },
  {
   "cell_type": "code",
   "execution_count": 682,
   "metadata": {},
   "outputs": [],
   "source": [
    "transitions = transitions.sort_values(['idea_id','space_id','transition_ts'])"
   ]
  },
  {
   "cell_type": "markdown",
   "metadata": {},
   "source": [
    "# useful fonctions"
   ]
  },
  {
   "cell_type": "code",
   "execution_count": 683,
   "metadata": {},
   "outputs": [],
   "source": [
    "def top_champ(df,feature,number) :\n",
    "    df_ok = df.copy()\n",
    "    df_ok[feature] = df_ok[feature].fillna('unknown')\n",
    "    top_10 = df_ok.groupby(feature).agg('size').sort_values(ascending=False).to_frame().reset_index()\n",
    "    top_10.columns=[str(x) for x in feature]+['nb_records']\n",
    "    top_10['percentage']=(100.* (top_10['nb_records'] / top_10['nb_records'].sum())).round(2)\n",
    "    print('%0.0f distinct values for the feature %s' %(top_10.shape[0],feature))\n",
    "    return top_10.head(number)"
   ]
  },
  {
   "cell_type": "markdown",
   "metadata": {},
   "source": [
    "# ideas exploration"
   ]
  },
  {
   "cell_type": "code",
   "execution_count": 684,
   "metadata": {},
   "outputs": [
    {
     "name": "stdout",
     "output_type": "stream",
     "text": [
      "ideas csv contains 4000 rows and 3 columns\n"
     ]
    },
    {
     "data": {
      "text/plain": [
       "created_at    4000\n",
       "category         6\n",
       "idea_id       4000\n",
       "dtype: int64"
      ]
     },
     "execution_count": 684,
     "metadata": {},
     "output_type": "execute_result"
    }
   ],
   "source": [
    "print('ideas csv contains %0.0f rows and %0.0f columns' %(ideas.shape[0],ideas.shape[1]))\n",
    "ideas.nunique()"
   ]
  },
  {
   "cell_type": "code",
   "execution_count": 331,
   "metadata": {},
   "outputs": [
    {
     "name": "stdout",
     "output_type": "stream",
     "text": [
      "6 distinct values for the feature ['category']\n"
     ]
    },
    {
     "data": {
      "text/html": [
       "<div>\n",
       "<style scoped>\n",
       "    .dataframe tbody tr th:only-of-type {\n",
       "        vertical-align: middle;\n",
       "    }\n",
       "\n",
       "    .dataframe tbody tr th {\n",
       "        vertical-align: top;\n",
       "    }\n",
       "\n",
       "    .dataframe thead th {\n",
       "        text-align: right;\n",
       "    }\n",
       "</style>\n",
       "<table border=\"1\" class=\"dataframe\">\n",
       "  <thead>\n",
       "    <tr style=\"text-align: right;\">\n",
       "      <th></th>\n",
       "      <th>category</th>\n",
       "      <th>nb_records</th>\n",
       "      <th>percentage</th>\n",
       "    </tr>\n",
       "  </thead>\n",
       "  <tbody>\n",
       "    <tr>\n",
       "      <th>0</th>\n",
       "      <td>popup_shop</td>\n",
       "      <td>2174</td>\n",
       "      <td>54.35</td>\n",
       "    </tr>\n",
       "    <tr>\n",
       "      <th>1</th>\n",
       "      <td>private_event</td>\n",
       "      <td>546</td>\n",
       "      <td>13.65</td>\n",
       "    </tr>\n",
       "    <tr>\n",
       "      <th>2</th>\n",
       "      <td>popup_bar</td>\n",
       "      <td>533</td>\n",
       "      <td>13.32</td>\n",
       "    </tr>\n",
       "    <tr>\n",
       "      <th>3</th>\n",
       "      <td>unique</td>\n",
       "      <td>398</td>\n",
       "      <td>9.95</td>\n",
       "    </tr>\n",
       "    <tr>\n",
       "      <th>4</th>\n",
       "      <td>gallery</td>\n",
       "      <td>282</td>\n",
       "      <td>7.05</td>\n",
       "    </tr>\n",
       "    <tr>\n",
       "      <th>5</th>\n",
       "      <td>sample_sale</td>\n",
       "      <td>67</td>\n",
       "      <td>1.68</td>\n",
       "    </tr>\n",
       "  </tbody>\n",
       "</table>\n",
       "</div>"
      ],
      "text/plain": [
       "        category  nb_records  percentage\n",
       "0     popup_shop        2174       54.35\n",
       "1  private_event         546       13.65\n",
       "2      popup_bar         533       13.32\n",
       "3         unique         398        9.95\n",
       "4        gallery         282        7.05\n",
       "5    sample_sale          67        1.68"
      ]
     },
     "execution_count": 331,
     "metadata": {},
     "output_type": "execute_result"
    }
   ],
   "source": [
    "top_champ(ideas,['category'],10)"
   ]
  },
  {
   "cell_type": "code",
   "execution_count": 332,
   "metadata": {},
   "outputs": [
    {
     "name": "stdout",
     "output_type": "stream",
     "text": [
      "Ideas have been created from 2018-01-01 17:01:01.489000 to 2019-01-21 10:19:35.205000\n"
     ]
    }
   ],
   "source": [
    "min_created = min(ideas['created_at'])\n",
    "max_created = max(ideas['created_at'])\n",
    "print('Ideas have been created from %s to %s' %(min_created, max_created))"
   ]
  },
  {
   "cell_type": "markdown",
   "metadata": {},
   "source": [
    "# transitions exploration"
   ]
  },
  {
   "cell_type": "code",
   "execution_count": 539,
   "metadata": {},
   "outputs": [
    {
     "name": "stdout",
     "output_type": "stream",
     "text": [
      "transitions csv contains 21062 rows and 17 columns\n"
     ]
    },
    {
     "data": {
      "text/plain": [
       "transition_ts         21062\n",
       "category                  6\n",
       "idea_id                2677\n",
       "booking_request_id     9942\n",
       "to_state                  4\n",
       "space_id               2065\n",
       "country                   3\n",
       "city                    110\n",
       "portfolio_type            9\n",
       "floor_size              548\n",
       "floor_size_unit           2\n",
       "start_on                503\n",
       "end_on                  618\n",
       "price                  3593\n",
       "to_state_bf               4\n",
       "to_state_af               4\n",
       "time_booked             279\n",
       "dtype: int64"
      ]
     },
     "execution_count": 539,
     "metadata": {},
     "output_type": "execute_result"
    }
   ],
   "source": [
    "print('transitions csv contains %0.0f rows and %0.0f columns' %(transitions.shape[0],transitions.shape[1]))\n",
    "transitions.nunique()"
   ]
  },
  {
   "cell_type": "code",
   "execution_count": 335,
   "metadata": {},
   "outputs": [],
   "source": [
    "transitions['to_state_bf']= transitions['to_state'].shift(1)\n",
    "transitions['to_state_af']= transitions['to_state'].shift(-1)\n",
    "transitions['time_booked'] = transitions.loc[:,'end_on']- transitions.loc[:,'start_on']\n",
    "transitions.loc[:,'time_booked'] = transitions.loc[:,'time_booked']/ np.timedelta64(1, 'D')"
   ]
  },
  {
   "cell_type": "code",
   "execution_count": 336,
   "metadata": {},
   "outputs": [],
   "source": [
    "id_bk_notime = transitions.loc[transitions['time_booked']==0,'booking_request_id'].unique()"
   ]
  },
  {
   "cell_type": "code",
   "execution_count": 337,
   "metadata": {},
   "outputs": [
    {
     "name": "stdout",
     "output_type": "stream",
     "text": [
      "Above 4000 ideas 328 ideas have been booked at least one time\n"
     ]
    }
   ],
   "source": [
    "states_ideas = transitions.groupby(['idea_id','to_state']).agg('size').to_frame().reset_index()\n",
    "idea_id_booked = states_ideas.loc[states_ideas['to_state']=='booked','idea_id'].unique()\n",
    "print('Above 4000 ideas %0.0f ideas have been booked at least one time' %len(idea_id_booked))\n",
    "#states_ideas[states_ideas['idea_id'].isin(idea_id_booked)]\n"
   ]
  },
  {
   "cell_type": "code",
   "execution_count": 340,
   "metadata": {},
   "outputs": [
    {
     "name": "stdout",
     "output_type": "stream",
     "text": [
      "4 distinct values for the feature ['to_state_af']\n"
     ]
    },
    {
     "data": {
      "text/html": [
       "<div>\n",
       "<style scoped>\n",
       "    .dataframe tbody tr th:only-of-type {\n",
       "        vertical-align: middle;\n",
       "    }\n",
       "\n",
       "    .dataframe tbody tr th {\n",
       "        vertical-align: top;\n",
       "    }\n",
       "\n",
       "    .dataframe thead th {\n",
       "        text-align: right;\n",
       "    }\n",
       "</style>\n",
       "<table border=\"1\" class=\"dataframe\">\n",
       "  <thead>\n",
       "    <tr style=\"text-align: right;\">\n",
       "      <th></th>\n",
       "      <th>to_state_af</th>\n",
       "      <th>nb_records</th>\n",
       "      <th>percentage</th>\n",
       "    </tr>\n",
       "  </thead>\n",
       "  <tbody>\n",
       "    <tr>\n",
       "      <th>0</th>\n",
       "      <td>declined</td>\n",
       "      <td>2125</td>\n",
       "      <td>78.88</td>\n",
       "    </tr>\n",
       "    <tr>\n",
       "      <th>1</th>\n",
       "      <td>booked</td>\n",
       "      <td>388</td>\n",
       "      <td>14.40</td>\n",
       "    </tr>\n",
       "    <tr>\n",
       "      <th>2</th>\n",
       "      <td>submitted</td>\n",
       "      <td>117</td>\n",
       "      <td>4.34</td>\n",
       "    </tr>\n",
       "    <tr>\n",
       "      <th>3</th>\n",
       "      <td>matched</td>\n",
       "      <td>64</td>\n",
       "      <td>2.38</td>\n",
       "    </tr>\n",
       "  </tbody>\n",
       "</table>\n",
       "</div>"
      ],
      "text/plain": [
       "  to_state_af  nb_records  percentage\n",
       "0    declined        2125       78.88\n",
       "1      booked         388       14.40\n",
       "2   submitted         117        4.34\n",
       "3     matched          64        2.38"
      ]
     },
     "execution_count": 340,
     "metadata": {},
     "output_type": "execute_result"
    }
   ],
   "source": [
    "top_champ(transitions[transitions['to_state']=='matched'],['to_state_af'],10)"
   ]
  },
  {
   "cell_type": "code",
   "execution_count": 341,
   "metadata": {},
   "outputs": [
    {
     "data": {
      "text/plain": [
       "array([ 105,  230,  245,  323,  430,  449,  451,  834,  902,  917, 1094,\n",
       "       1154, 1335, 1535, 1692, 1698, 1794, 1919, 2161, 2214, 2789, 2846,\n",
       "       3034, 3183, 3329, 3510, 3791, 3861, 3896, 3926])"
      ]
     },
     "execution_count": 341,
     "metadata": {},
     "output_type": "execute_result"
    }
   ],
   "source": [
    "transitions.loc[(transitions['to_state']=='booked') &\n",
    "           (transitions['to_state_bf']=='declined'),'idea_id'].unique()"
   ]
  },
  {
   "cell_type": "code",
   "execution_count": 342,
   "metadata": {},
   "outputs": [],
   "source": [
    "#transitions[transitions['space_id']==6735]\n",
    "#transitions[transitions['idea_id']==105]"
   ]
  },
  {
   "cell_type": "markdown",
   "metadata": {},
   "source": [
    "## floor size"
   ]
  },
  {
   "cell_type": "code",
   "execution_count": 685,
   "metadata": {},
   "outputs": [
    {
     "name": "stdout",
     "output_type": "stream",
     "text": [
      "Floor size unit : 0\n",
      "count    15269.000000\n",
      "mean      1477.198572\n",
      "std       2955.878932\n",
      "min          1.000000\n",
      "25%        300.000000\n",
      "50%        750.000000\n",
      "75%       1700.000000\n",
      "max      50000.000000\n",
      "Name: floor_size, dtype: float64\n",
      "Floor size unit : 1\n",
      "\n",
      "count    5793.000000\n",
      "mean      109.032971\n",
      "std       218.851472\n",
      "min         2.000000\n",
      "25%        33.000000\n",
      "50%        55.000000\n",
      "75%       110.000000\n",
      "max      4700.000000\n",
      "Name: floor_size, dtype: float64\n",
      "\n",
      "Boxplot depending floor size unit\n",
      "\n",
      "It seems to be 0 for sq feets and 1 for sq meters as  : 1 feet^2 = 0.09 m^2\n"
     ]
    },
    {
     "data": {
      "image/png": "[encoded data removed]",
      "text/plain": [
       "<Figure size 432x288 with 1 Axes>"
      ]
     },
     "metadata": {
      "needs_background": "light"
     },
     "output_type": "display_data"
    }
   ],
   "source": [
    "# Let's check the difference between floor size unit 0 and 1 \n",
    "print('Floor size unit : 0')\n",
    "print(transitions.loc[transitions['floor_size_unit']==0,'floor_size'].describe())\n",
    "print('Floor size unit : 1\\n')\n",
    "print(transitions.loc[transitions['floor_size_unit']==1,'floor_size'].describe())\n",
    "\n",
    "print('\\nBoxplot depending floor size unit')\n",
    "sns.boxplot(x=transitions.floor_size, y=transitions.floor_size_unit,orient=\"h\")\n",
    "print('\\nIt seems to be 0 for sq feets and 1 for sq meters as  : 1 feet^2 = 0.09 m^2')"
   ]
  },
  {
   "cell_type": "code",
   "execution_count": 686,
   "metadata": {},
   "outputs": [
    {
     "data": {
      "text/plain": [
       "country  floor_size_unit\n",
       "FR       1                   5787\n",
       "GB       0                  11664\n",
       "         1                      6\n",
       "US       0                   3605\n",
       "dtype: int64"
      ]
     },
     "execution_count": 686,
     "metadata": {},
     "output_type": "execute_result"
    }
   ],
   "source": [
    "#verification ok \n",
    "transitions.groupby(['country','floor_size_unit']).agg('size')"
   ]
  },
  {
   "cell_type": "code",
   "execution_count": 687,
   "metadata": {},
   "outputs": [
    {
     "name": "stdout",
     "output_type": "stream",
     "text": [
      "count    21062.000000\n",
      "mean      1100.891321\n",
      "std       2592.375283\n",
      "min          1.000000\n",
      "25%         65.000000\n",
      "50%        400.000000\n",
      "75%       1175.000000\n",
      "max      50000.000000\n",
      "Name: floor_size_m, dtype: float64\n",
      "count    21062.000000\n",
      "mean       126.362928\n",
      "std        254.152606\n",
      "min          0.000000\n",
      "25%         29.000000\n",
      "50%         63.000000\n",
      "75%        140.000000\n",
      "max       4700.000000\n",
      "Name: floor_size_m, dtype: float64\n"
     ]
    }
   ],
   "source": [
    "# put all in sq meters \n",
    "transitions.loc[:,'floor_size_m']=transitions.loc[:,'floor_size']\n",
    "print(transitions.loc[:,'floor_size_m'].describe())\n",
    "transitions.loc[transitions['floor_size_unit']==0,'floor_size_m']=round(transitions.loc[:,'floor_size_m']*0.09)\n",
    "print(transitions.loc[:,'floor_size_m'].describe())\n",
    "#anomaly sq meters below 1 \n",
    "transitions = transitions.loc[transitions['floor_size_m']>1]"
   ]
  },
  {
   "cell_type": "code",
   "execution_count": 688,
   "metadata": {},
   "outputs": [],
   "source": [
    "transitions.loc[transitions['floor_size_m']>   200,'floor_size_cat'] = 'sup_200'\n",
    "transitions.loc[transitions['floor_size_m']<=  200,'floor_size_cat'] = '100_200'\n",
    "transitions.loc[transitions['floor_size_m']<   100,'floor_size_cat'] = '80_100'\n",
    "transitions.loc[transitions['floor_size_m']<    80,'floor_size_cat'] = '60_80'\n",
    "transitions.loc[transitions['floor_size_m']<    60,'floor_size_cat'] = '40_60'\n",
    "transitions.loc[transitions['floor_size_m']<    40,'floor_size_cat'] = '20_40'\n",
    "transitions.loc[transitions['floor_size_m']<    20,'floor_size_cat'] = 'inf_20'"
   ]
  },
  {
   "cell_type": "code",
   "execution_count": 689,
   "metadata": {},
   "outputs": [
    {
     "name": "stdout",
     "output_type": "stream",
     "text": [
      "7 distinct values for the feature ['floor_size_cat']\n"
     ]
    },
    {
     "data": {
      "text/html": [
       "<div>\n",
       "<style scoped>\n",
       "    .dataframe tbody tr th:only-of-type {\n",
       "        vertical-align: middle;\n",
       "    }\n",
       "\n",
       "    .dataframe tbody tr th {\n",
       "        vertical-align: top;\n",
       "    }\n",
       "\n",
       "    .dataframe thead th {\n",
       "        text-align: right;\n",
       "    }\n",
       "</style>\n",
       "<table border=\"1\" class=\"dataframe\">\n",
       "  <thead>\n",
       "    <tr style=\"text-align: right;\">\n",
       "      <th></th>\n",
       "      <th>floor_size_cat</th>\n",
       "      <th>nb_records</th>\n",
       "      <th>percentage</th>\n",
       "    </tr>\n",
       "  </thead>\n",
       "  <tbody>\n",
       "    <tr>\n",
       "      <th>0</th>\n",
       "      <td>100_200</td>\n",
       "      <td>3711</td>\n",
       "      <td>18.11</td>\n",
       "    </tr>\n",
       "    <tr>\n",
       "      <th>1</th>\n",
       "      <td>20_40</td>\n",
       "      <td>3659</td>\n",
       "      <td>17.86</td>\n",
       "    </tr>\n",
       "    <tr>\n",
       "      <th>2</th>\n",
       "      <td>sup_200</td>\n",
       "      <td>3256</td>\n",
       "      <td>15.89</td>\n",
       "    </tr>\n",
       "    <tr>\n",
       "      <th>3</th>\n",
       "      <td>40_60</td>\n",
       "      <td>3049</td>\n",
       "      <td>14.88</td>\n",
       "    </tr>\n",
       "    <tr>\n",
       "      <th>4</th>\n",
       "      <td>inf_20</td>\n",
       "      <td>2814</td>\n",
       "      <td>13.73</td>\n",
       "    </tr>\n",
       "    <tr>\n",
       "      <th>5</th>\n",
       "      <td>60_80</td>\n",
       "      <td>2156</td>\n",
       "      <td>10.52</td>\n",
       "    </tr>\n",
       "    <tr>\n",
       "      <th>6</th>\n",
       "      <td>80_100</td>\n",
       "      <td>1847</td>\n",
       "      <td>9.01</td>\n",
       "    </tr>\n",
       "  </tbody>\n",
       "</table>\n",
       "</div>"
      ],
      "text/plain": [
       "  floor_size_cat  nb_records  percentage\n",
       "0        100_200        3711       18.11\n",
       "1          20_40        3659       17.86\n",
       "2        sup_200        3256       15.89\n",
       "3          40_60        3049       14.88\n",
       "4         inf_20        2814       13.73\n",
       "5          60_80        2156       10.52\n",
       "6         80_100        1847        9.01"
      ]
     },
     "execution_count": 689,
     "metadata": {},
     "output_type": "execute_result"
    }
   ],
   "source": [
    "top_champ(transitions,['floor_size_cat'],10)"
   ]
  },
  {
   "cell_type": "markdown",
   "metadata": {},
   "source": [
    "## prices"
   ]
  },
  {
   "cell_type": "code",
   "execution_count": 690,
   "metadata": {},
   "outputs": [
    {
     "name": "stdout",
     "output_type": "stream",
     "text": [
      "different prices for each space which means : each price depends also from other parameters such as       the time booked and floor size\n"
     ]
    },
    {
     "ename": "KeyError",
     "evalue": "'time_booked'",
     "output_type": "error",
     "traceback": [
      "\u001b[0;31m----------------------------------------------------------------------\u001b[0m",
      "\u001b[0;31mKeyError\u001b[0m                             Traceback (most recent call last)",
      "\u001b[0;32m/anaconda/envs/ah_test_env/lib/python3.6/site-packages/pandas/core/indexes/base.py\u001b[0m in \u001b[0;36mget_loc\u001b[0;34m(self, key, method, tolerance)\u001b[0m\n\u001b[1;32m   3077\u001b[0m             \u001b[0;32mtry\u001b[0m\u001b[0;34m:\u001b[0m\u001b[0;34m\u001b[0m\u001b[0;34m\u001b[0m\u001b[0m\n\u001b[0;32m-> 3078\u001b[0;31m                 \u001b[0;32mreturn\u001b[0m \u001b[0mself\u001b[0m\u001b[0;34m.\u001b[0m\u001b[0m_engine\u001b[0m\u001b[0;34m.\u001b[0m\u001b[0mget_loc\u001b[0m\u001b[0;34m(\u001b[0m\u001b[0mkey\u001b[0m\u001b[0;34m)\u001b[0m\u001b[0;34m\u001b[0m\u001b[0;34m\u001b[0m\u001b[0m\n\u001b[0m\u001b[1;32m   3079\u001b[0m             \u001b[0;32mexcept\u001b[0m \u001b[0mKeyError\u001b[0m\u001b[0;34m:\u001b[0m\u001b[0;34m\u001b[0m\u001b[0;34m\u001b[0m\u001b[0m\n",
      "\u001b[0;32mpandas/_libs/index.pyx\u001b[0m in \u001b[0;36mpandas._libs.index.IndexEngine.get_loc\u001b[0;34m()\u001b[0m\n",
      "\u001b[0;32mpandas/_libs/index.pyx\u001b[0m in \u001b[0;36mpandas._libs.index.IndexEngine.get_loc\u001b[0;34m()\u001b[0m\n",
      "\u001b[0;32mpandas/_libs/hashtable_class_helper.pxi\u001b[0m in \u001b[0;36mpandas._libs.hashtable.PyObjectHashTable.get_item\u001b[0;34m()\u001b[0m\n",
      "\u001b[0;32mpandas/_libs/hashtable_class_helper.pxi\u001b[0m in \u001b[0;36mpandas._libs.hashtable.PyObjectHashTable.get_item\u001b[0;34m()\u001b[0m\n",
      "\u001b[0;31mKeyError\u001b[0m: 'time_booked'",
      "\nDuring handling of the above exception, another exception occurred:\n",
      "\u001b[0;31mKeyError\u001b[0m                             Traceback (most recent call last)",
      "\u001b[0;32m<ipython-input-690-cba86153de3a>\u001b[0m in \u001b[0;36m<module>\u001b[0;34m\u001b[0m\n\u001b[1;32m      3\u001b[0m       the time booked and floor size')\n\u001b[1;32m      4\u001b[0m \u001b[0mf\u001b[0m\u001b[0;34m,\u001b[0m \u001b[0;34m(\u001b[0m\u001b[0max1\u001b[0m\u001b[0;34m,\u001b[0m \u001b[0max2\u001b[0m\u001b[0;34m)\u001b[0m \u001b[0;34m=\u001b[0m \u001b[0mplt\u001b[0m\u001b[0;34m.\u001b[0m\u001b[0msubplots\u001b[0m\u001b[0;34m(\u001b[0m\u001b[0;36m2\u001b[0m\u001b[0;34m,\u001b[0m \u001b[0;36m1\u001b[0m\u001b[0;34m)\u001b[0m\u001b[0;34m\u001b[0m\u001b[0;34m\u001b[0m\u001b[0m\n\u001b[0;32m----> 5\u001b[0;31m \u001b[0msns\u001b[0m\u001b[0;34m.\u001b[0m\u001b[0mregplot\u001b[0m\u001b[0;34m(\u001b[0m\u001b[0mx\u001b[0m\u001b[0;34m=\u001b[0m\u001b[0;34m'time_booked'\u001b[0m\u001b[0;34m,\u001b[0m \u001b[0my\u001b[0m\u001b[0;34m=\u001b[0m\u001b[0;34m\"price\"\u001b[0m\u001b[0;34m,\u001b[0m \u001b[0mdata\u001b[0m\u001b[0;34m=\u001b[0m\u001b[0mtransitions\u001b[0m\u001b[0;34m,\u001b[0m\u001b[0max\u001b[0m\u001b[0;34m=\u001b[0m\u001b[0max1\u001b[0m\u001b[0;34m)\u001b[0m\u001b[0;34m\u001b[0m\u001b[0;34m\u001b[0m\u001b[0m\n\u001b[0m\u001b[1;32m      6\u001b[0m \u001b[0msns\u001b[0m\u001b[0;34m.\u001b[0m\u001b[0mregplot\u001b[0m\u001b[0;34m(\u001b[0m\u001b[0mx\u001b[0m\u001b[0;34m=\u001b[0m\u001b[0;34m'floor_size'\u001b[0m\u001b[0;34m,\u001b[0m \u001b[0my\u001b[0m\u001b[0;34m=\u001b[0m\u001b[0;34m\"price\"\u001b[0m\u001b[0;34m,\u001b[0m \u001b[0mdata\u001b[0m\u001b[0;34m=\u001b[0m\u001b[0mtransitions\u001b[0m\u001b[0;34m,\u001b[0m\u001b[0max\u001b[0m\u001b[0;34m=\u001b[0m\u001b[0max2\u001b[0m\u001b[0;34m)\u001b[0m\u001b[0;34m\u001b[0m\u001b[0;34m\u001b[0m\u001b[0m\n",
      "\u001b[0;32m/anaconda/envs/ah_test_env/lib/python3.6/site-packages/seaborn/regression.py\u001b[0m in \u001b[0;36mregplot\u001b[0;34m(x, y, data, x_estimator, x_bins, x_ci, scatter, fit_reg, ci, n_boot, units, order, logistic, lowess, robust, logx, x_partial, y_partial, truncate, dropna, x_jitter, y_jitter, label, color, marker, scatter_kws, line_kws, ax)\u001b[0m\n\u001b[1;32m    779\u001b[0m                                  \u001b[0morder\u001b[0m\u001b[0;34m,\u001b[0m \u001b[0mlogistic\u001b[0m\u001b[0;34m,\u001b[0m \u001b[0mlowess\u001b[0m\u001b[0;34m,\u001b[0m \u001b[0mrobust\u001b[0m\u001b[0;34m,\u001b[0m \u001b[0mlogx\u001b[0m\u001b[0;34m,\u001b[0m\u001b[0;34m\u001b[0m\u001b[0;34m\u001b[0m\u001b[0m\n\u001b[1;32m    780\u001b[0m                                  \u001b[0mx_partial\u001b[0m\u001b[0;34m,\u001b[0m \u001b[0my_partial\u001b[0m\u001b[0;34m,\u001b[0m \u001b[0mtruncate\u001b[0m\u001b[0;34m,\u001b[0m \u001b[0mdropna\u001b[0m\u001b[0;34m,\u001b[0m\u001b[0;34m\u001b[0m\u001b[0;34m\u001b[0m\u001b[0m\n\u001b[0;32m--> 781\u001b[0;31m                                  x_jitter, y_jitter, color, label)\n\u001b[0m\u001b[1;32m    782\u001b[0m \u001b[0;34m\u001b[0m\u001b[0m\n\u001b[1;32m    783\u001b[0m     \u001b[0;32mif\u001b[0m \u001b[0max\u001b[0m \u001b[0;32mis\u001b[0m \u001b[0;32mNone\u001b[0m\u001b[0;34m:\u001b[0m\u001b[0;34m\u001b[0m\u001b[0;34m\u001b[0m\u001b[0m\n",
      "\u001b[0;32m/anaconda/envs/ah_test_env/lib/python3.6/site-packages/seaborn/regression.py\u001b[0m in \u001b[0;36m__init__\u001b[0;34m(self, x, y, data, x_estimator, x_bins, x_ci, scatter, fit_reg, ci, n_boot, units, order, logistic, lowess, robust, logx, x_partial, y_partial, truncate, dropna, x_jitter, y_jitter, color, label)\u001b[0m\n\u001b[1;32m    103\u001b[0m         \u001b[0;31m# Extract the data vals from the arguments or passed dataframe\u001b[0m\u001b[0;34m\u001b[0m\u001b[0;34m\u001b[0m\u001b[0;34m\u001b[0m\u001b[0m\n\u001b[1;32m    104\u001b[0m         self.establish_variables(data, x=x, y=y, units=units,\n\u001b[0;32m--> 105\u001b[0;31m                                  x_partial=x_partial, y_partial=y_partial)\n\u001b[0m\u001b[1;32m    106\u001b[0m \u001b[0;34m\u001b[0m\u001b[0m\n\u001b[1;32m    107\u001b[0m         \u001b[0;31m# Drop null observations\u001b[0m\u001b[0;34m\u001b[0m\u001b[0;34m\u001b[0m\u001b[0;34m\u001b[0m\u001b[0m\n",
      "\u001b[0;32m/anaconda/envs/ah_test_env/lib/python3.6/site-packages/seaborn/regression.py\u001b[0m in \u001b[0;36mestablish_variables\u001b[0;34m(self, data, **kws)\u001b[0m\n\u001b[1;32m     46\u001b[0m         \u001b[0;32mfor\u001b[0m \u001b[0mvar\u001b[0m\u001b[0;34m,\u001b[0m \u001b[0mval\u001b[0m \u001b[0;32min\u001b[0m \u001b[0mkws\u001b[0m\u001b[0;34m.\u001b[0m\u001b[0mitems\u001b[0m\u001b[0;34m(\u001b[0m\u001b[0;34m)\u001b[0m\u001b[0;34m:\u001b[0m\u001b[0;34m\u001b[0m\u001b[0;34m\u001b[0m\u001b[0m\n\u001b[1;32m     47\u001b[0m             \u001b[0;32mif\u001b[0m \u001b[0misinstance\u001b[0m\u001b[0;34m(\u001b[0m\u001b[0mval\u001b[0m\u001b[0;34m,\u001b[0m \u001b[0mstring_types\u001b[0m\u001b[0;34m)\u001b[0m\u001b[0;34m:\u001b[0m\u001b[0;34m\u001b[0m\u001b[0;34m\u001b[0m\u001b[0m\n\u001b[0;32m---> 48\u001b[0;31m                 \u001b[0msetattr\u001b[0m\u001b[0;34m(\u001b[0m\u001b[0mself\u001b[0m\u001b[0;34m,\u001b[0m \u001b[0mvar\u001b[0m\u001b[0;34m,\u001b[0m \u001b[0mdata\u001b[0m\u001b[0;34m[\u001b[0m\u001b[0mval\u001b[0m\u001b[0;34m]\u001b[0m\u001b[0;34m)\u001b[0m\u001b[0;34m\u001b[0m\u001b[0;34m\u001b[0m\u001b[0m\n\u001b[0m\u001b[1;32m     49\u001b[0m             \u001b[0;32melif\u001b[0m \u001b[0misinstance\u001b[0m\u001b[0;34m(\u001b[0m\u001b[0mval\u001b[0m\u001b[0;34m,\u001b[0m \u001b[0mlist\u001b[0m\u001b[0;34m)\u001b[0m\u001b[0;34m:\u001b[0m\u001b[0;34m\u001b[0m\u001b[0;34m\u001b[0m\u001b[0m\n\u001b[1;32m     50\u001b[0m                 \u001b[0msetattr\u001b[0m\u001b[0;34m(\u001b[0m\u001b[0mself\u001b[0m\u001b[0;34m,\u001b[0m \u001b[0mvar\u001b[0m\u001b[0;34m,\u001b[0m \u001b[0mnp\u001b[0m\u001b[0;34m.\u001b[0m\u001b[0masarray\u001b[0m\u001b[0;34m(\u001b[0m\u001b[0mval\u001b[0m\u001b[0;34m)\u001b[0m\u001b[0;34m)\u001b[0m\u001b[0;34m\u001b[0m\u001b[0;34m\u001b[0m\u001b[0m\n",
      "\u001b[0;32m/anaconda/envs/ah_test_env/lib/python3.6/site-packages/pandas/core/frame.py\u001b[0m in \u001b[0;36m__getitem__\u001b[0;34m(self, key)\u001b[0m\n\u001b[1;32m   2686\u001b[0m             \u001b[0;32mreturn\u001b[0m \u001b[0mself\u001b[0m\u001b[0;34m.\u001b[0m\u001b[0m_getitem_multilevel\u001b[0m\u001b[0;34m(\u001b[0m\u001b[0mkey\u001b[0m\u001b[0;34m)\u001b[0m\u001b[0;34m\u001b[0m\u001b[0;34m\u001b[0m\u001b[0m\n\u001b[1;32m   2687\u001b[0m         \u001b[0;32melse\u001b[0m\u001b[0;34m:\u001b[0m\u001b[0;34m\u001b[0m\u001b[0;34m\u001b[0m\u001b[0m\n\u001b[0;32m-> 2688\u001b[0;31m             \u001b[0;32mreturn\u001b[0m \u001b[0mself\u001b[0m\u001b[0;34m.\u001b[0m\u001b[0m_getitem_column\u001b[0m\u001b[0;34m(\u001b[0m\u001b[0mkey\u001b[0m\u001b[0;34m)\u001b[0m\u001b[0;34m\u001b[0m\u001b[0;34m\u001b[0m\u001b[0m\n\u001b[0m\u001b[1;32m   2689\u001b[0m \u001b[0;34m\u001b[0m\u001b[0m\n\u001b[1;32m   2690\u001b[0m     \u001b[0;32mdef\u001b[0m \u001b[0m_getitem_column\u001b[0m\u001b[0;34m(\u001b[0m\u001b[0mself\u001b[0m\u001b[0;34m,\u001b[0m \u001b[0mkey\u001b[0m\u001b[0;34m)\u001b[0m\u001b[0;34m:\u001b[0m\u001b[0;34m\u001b[0m\u001b[0;34m\u001b[0m\u001b[0m\n",
      "\u001b[0;32m/anaconda/envs/ah_test_env/lib/python3.6/site-packages/pandas/core/frame.py\u001b[0m in \u001b[0;36m_getitem_column\u001b[0;34m(self, key)\u001b[0m\n\u001b[1;32m   2693\u001b[0m         \u001b[0;31m# get column\u001b[0m\u001b[0;34m\u001b[0m\u001b[0;34m\u001b[0m\u001b[0;34m\u001b[0m\u001b[0m\n\u001b[1;32m   2694\u001b[0m         \u001b[0;32mif\u001b[0m \u001b[0mself\u001b[0m\u001b[0;34m.\u001b[0m\u001b[0mcolumns\u001b[0m\u001b[0;34m.\u001b[0m\u001b[0mis_unique\u001b[0m\u001b[0;34m:\u001b[0m\u001b[0;34m\u001b[0m\u001b[0;34m\u001b[0m\u001b[0m\n\u001b[0;32m-> 2695\u001b[0;31m             \u001b[0;32mreturn\u001b[0m \u001b[0mself\u001b[0m\u001b[0;34m.\u001b[0m\u001b[0m_get_item_cache\u001b[0m\u001b[0;34m(\u001b[0m\u001b[0mkey\u001b[0m\u001b[0;34m)\u001b[0m\u001b[0;34m\u001b[0m\u001b[0;34m\u001b[0m\u001b[0m\n\u001b[0m\u001b[1;32m   2696\u001b[0m \u001b[0;34m\u001b[0m\u001b[0m\n\u001b[1;32m   2697\u001b[0m         \u001b[0;31m# duplicate columns & possible reduce dimensionality\u001b[0m\u001b[0;34m\u001b[0m\u001b[0;34m\u001b[0m\u001b[0;34m\u001b[0m\u001b[0m\n",
      "\u001b[0;32m/anaconda/envs/ah_test_env/lib/python3.6/site-packages/pandas/core/generic.py\u001b[0m in \u001b[0;36m_get_item_cache\u001b[0;34m(self, item)\u001b[0m\n\u001b[1;32m   2487\u001b[0m         \u001b[0mres\u001b[0m \u001b[0;34m=\u001b[0m \u001b[0mcache\u001b[0m\u001b[0;34m.\u001b[0m\u001b[0mget\u001b[0m\u001b[0;34m(\u001b[0m\u001b[0mitem\u001b[0m\u001b[0;34m)\u001b[0m\u001b[0;34m\u001b[0m\u001b[0;34m\u001b[0m\u001b[0m\n\u001b[1;32m   2488\u001b[0m         \u001b[0;32mif\u001b[0m \u001b[0mres\u001b[0m \u001b[0;32mis\u001b[0m \u001b[0;32mNone\u001b[0m\u001b[0;34m:\u001b[0m\u001b[0;34m\u001b[0m\u001b[0;34m\u001b[0m\u001b[0m\n\u001b[0;32m-> 2489\u001b[0;31m             \u001b[0mvalues\u001b[0m \u001b[0;34m=\u001b[0m \u001b[0mself\u001b[0m\u001b[0;34m.\u001b[0m\u001b[0m_data\u001b[0m\u001b[0;34m.\u001b[0m\u001b[0mget\u001b[0m\u001b[0;34m(\u001b[0m\u001b[0mitem\u001b[0m\u001b[0;34m)\u001b[0m\u001b[0;34m\u001b[0m\u001b[0;34m\u001b[0m\u001b[0m\n\u001b[0m\u001b[1;32m   2490\u001b[0m             \u001b[0mres\u001b[0m \u001b[0;34m=\u001b[0m \u001b[0mself\u001b[0m\u001b[0;34m.\u001b[0m\u001b[0m_box_item_values\u001b[0m\u001b[0;34m(\u001b[0m\u001b[0mitem\u001b[0m\u001b[0;34m,\u001b[0m \u001b[0mvalues\u001b[0m\u001b[0;34m)\u001b[0m\u001b[0;34m\u001b[0m\u001b[0;34m\u001b[0m\u001b[0m\n\u001b[1;32m   2491\u001b[0m             \u001b[0mcache\u001b[0m\u001b[0;34m[\u001b[0m\u001b[0mitem\u001b[0m\u001b[0;34m]\u001b[0m \u001b[0;34m=\u001b[0m \u001b[0mres\u001b[0m\u001b[0;34m\u001b[0m\u001b[0;34m\u001b[0m\u001b[0m\n",
      "\u001b[0;32m/anaconda/envs/ah_test_env/lib/python3.6/site-packages/pandas/core/internals.py\u001b[0m in \u001b[0;36mget\u001b[0;34m(self, item, fastpath)\u001b[0m\n\u001b[1;32m   4113\u001b[0m \u001b[0;34m\u001b[0m\u001b[0m\n\u001b[1;32m   4114\u001b[0m             \u001b[0;32mif\u001b[0m \u001b[0;32mnot\u001b[0m \u001b[0misna\u001b[0m\u001b[0;34m(\u001b[0m\u001b[0mitem\u001b[0m\u001b[0;34m)\u001b[0m\u001b[0;34m:\u001b[0m\u001b[0;34m\u001b[0m\u001b[0;34m\u001b[0m\u001b[0m\n\u001b[0;32m-> 4115\u001b[0;31m                 \u001b[0mloc\u001b[0m \u001b[0;34m=\u001b[0m \u001b[0mself\u001b[0m\u001b[0;34m.\u001b[0m\u001b[0mitems\u001b[0m\u001b[0;34m.\u001b[0m\u001b[0mget_loc\u001b[0m\u001b[0;34m(\u001b[0m\u001b[0mitem\u001b[0m\u001b[0;34m)\u001b[0m\u001b[0;34m\u001b[0m\u001b[0;34m\u001b[0m\u001b[0m\n\u001b[0m\u001b[1;32m   4116\u001b[0m             \u001b[0;32melse\u001b[0m\u001b[0;34m:\u001b[0m\u001b[0;34m\u001b[0m\u001b[0;34m\u001b[0m\u001b[0m\n\u001b[1;32m   4117\u001b[0m                 \u001b[0mindexer\u001b[0m \u001b[0;34m=\u001b[0m \u001b[0mnp\u001b[0m\u001b[0;34m.\u001b[0m\u001b[0marange\u001b[0m\u001b[0;34m(\u001b[0m\u001b[0mlen\u001b[0m\u001b[0;34m(\u001b[0m\u001b[0mself\u001b[0m\u001b[0;34m.\u001b[0m\u001b[0mitems\u001b[0m\u001b[0;34m)\u001b[0m\u001b[0;34m)\u001b[0m\u001b[0;34m[\u001b[0m\u001b[0misna\u001b[0m\u001b[0;34m(\u001b[0m\u001b[0mself\u001b[0m\u001b[0;34m.\u001b[0m\u001b[0mitems\u001b[0m\u001b[0;34m)\u001b[0m\u001b[0;34m]\u001b[0m\u001b[0;34m\u001b[0m\u001b[0;34m\u001b[0m\u001b[0m\n",
      "\u001b[0;32m/anaconda/envs/ah_test_env/lib/python3.6/site-packages/pandas/core/indexes/base.py\u001b[0m in \u001b[0;36mget_loc\u001b[0;34m(self, key, method, tolerance)\u001b[0m\n\u001b[1;32m   3078\u001b[0m                 \u001b[0;32mreturn\u001b[0m \u001b[0mself\u001b[0m\u001b[0;34m.\u001b[0m\u001b[0m_engine\u001b[0m\u001b[0;34m.\u001b[0m\u001b[0mget_loc\u001b[0m\u001b[0;34m(\u001b[0m\u001b[0mkey\u001b[0m\u001b[0;34m)\u001b[0m\u001b[0;34m\u001b[0m\u001b[0;34m\u001b[0m\u001b[0m\n\u001b[1;32m   3079\u001b[0m             \u001b[0;32mexcept\u001b[0m \u001b[0mKeyError\u001b[0m\u001b[0;34m:\u001b[0m\u001b[0;34m\u001b[0m\u001b[0;34m\u001b[0m\u001b[0m\n\u001b[0;32m-> 3080\u001b[0;31m                 \u001b[0;32mreturn\u001b[0m \u001b[0mself\u001b[0m\u001b[0;34m.\u001b[0m\u001b[0m_engine\u001b[0m\u001b[0;34m.\u001b[0m\u001b[0mget_loc\u001b[0m\u001b[0;34m(\u001b[0m\u001b[0mself\u001b[0m\u001b[0;34m.\u001b[0m\u001b[0m_maybe_cast_indexer\u001b[0m\u001b[0;34m(\u001b[0m\u001b[0mkey\u001b[0m\u001b[0;34m)\u001b[0m\u001b[0;34m)\u001b[0m\u001b[0;34m\u001b[0m\u001b[0;34m\u001b[0m\u001b[0m\n\u001b[0m\u001b[1;32m   3081\u001b[0m \u001b[0;34m\u001b[0m\u001b[0m\n\u001b[1;32m   3082\u001b[0m         \u001b[0mindexer\u001b[0m \u001b[0;34m=\u001b[0m \u001b[0mself\u001b[0m\u001b[0;34m.\u001b[0m\u001b[0mget_indexer\u001b[0m\u001b[0;34m(\u001b[0m\u001b[0;34m[\u001b[0m\u001b[0mkey\u001b[0m\u001b[0;34m]\u001b[0m\u001b[0;34m,\u001b[0m \u001b[0mmethod\u001b[0m\u001b[0;34m=\u001b[0m\u001b[0mmethod\u001b[0m\u001b[0;34m,\u001b[0m \u001b[0mtolerance\u001b[0m\u001b[0;34m=\u001b[0m\u001b[0mtolerance\u001b[0m\u001b[0;34m)\u001b[0m\u001b[0;34m\u001b[0m\u001b[0;34m\u001b[0m\u001b[0m\n",
      "\u001b[0;32mpandas/_libs/index.pyx\u001b[0m in \u001b[0;36mpandas._libs.index.IndexEngine.get_loc\u001b[0;34m()\u001b[0m\n",
      "\u001b[0;32mpandas/_libs/index.pyx\u001b[0m in \u001b[0;36mpandas._libs.index.IndexEngine.get_loc\u001b[0;34m()\u001b[0m\n",
      "\u001b[0;32mpandas/_libs/hashtable_class_helper.pxi\u001b[0m in \u001b[0;36mpandas._libs.hashtable.PyObjectHashTable.get_item\u001b[0;34m()\u001b[0m\n",
      "\u001b[0;32mpandas/_libs/hashtable_class_helper.pxi\u001b[0m in \u001b[0;36mpandas._libs.hashtable.PyObjectHashTable.get_item\u001b[0;34m()\u001b[0m\n",
      "\u001b[0;31mKeyError\u001b[0m: 'time_booked'"
     ]
    },
    {
     "data": {
      "image/png": "[encoded data removed]",
      "text/plain": [
       "<Figure size 432x288 with 2 Axes>"
      ]
     },
     "metadata": {
      "needs_background": "light"
     },
     "output_type": "display_data"
    }
   ],
   "source": [
    "transitions.groupby(['space_id','price']).agg('size').to_frame().reset_index()\n",
    "print('different prices for each space which means : each price depends also from other parameters such as \\\n",
    "      the time booked and floor size')\n",
    "f, (ax1, ax2) = plt.subplots(2, 1)\n",
    "sns.regplot(x='time_booked', y=\"price\", data=transitions,ax=ax1)\n",
    "sns.regplot(x='floor_size', y=\"price\", data=transitions,ax=ax2)"
   ]
  },
  {
   "cell_type": "code",
   "execution_count": null,
   "metadata": {},
   "outputs": [],
   "source": [
    "# Let's check the difference between floor size unit 0 and 1 \n",
    "print(transitions.price.describe())\n",
    "sns.boxplot(x=transitions.price)\n",
    "# It seems to be 0 for sq meters and 1 for sq feets as  : 1 feet^2 = 0.09 m^2\n",
    "#anomaly price equals 0\n",
    "transitions = transitions[transitions['price']!=0]\n",
    "transitions.loc[transitions['price']>   5000000,'price_category'] = 'sup_5millions'\n",
    "transitions.loc[transitions['price']<=  5000000,'price_category'] = '1_5millions'\n",
    "transitions.loc[transitions['price']<   1000000,'price_category'] = '500k_1millions'\n",
    "transitions.loc[transitions['price']<    500000,'price_category'] = '200k_500k'\n",
    "transitions.loc[transitions['price']<    300000,'price_category'] = '100k_200k'\n",
    "transitions.loc[transitions['price']<    100000,'price_category'] = '50k_100k'\n",
    "transitions.loc[transitions['price']<     50000,'price_category'] = '10k_50k'\n",
    "transitions.loc[transitions['price']<     10000,'price_category'] = 'inf_10k'"
   ]
  },
  {
   "cell_type": "code",
   "execution_count": null,
   "metadata": {},
   "outputs": [],
   "source": [
    "top_champ(transitions,['price_category'],10)"
   ]
  },
  {
   "cell_type": "markdown",
   "metadata": {},
   "source": [
    "## city"
   ]
  },
  {
   "cell_type": "code",
   "execution_count": 713,
   "metadata": {},
   "outputs": [],
   "source": [
    "import re\n",
    "transitions.loc[:,'city_ok'] = transitions.loc[:,'city']\\\n",
    ".apply(lambda x : re.sub(\"\\W\", \" \",x))"
   ]
  },
  {
   "cell_type": "code",
   "execution_count": 714,
   "metadata": {},
   "outputs": [],
   "source": [
    "transitions.loc[:,'city_ok'] = transitions.loc[:,'city_ok'].str.lower().str.strip()\n",
    "\n",
    "transitions.loc[transitions['city_ok']\\\n",
    "               .isin(['new york','nyc','new york city']),'city_ok']\\\n",
    "                     = 'new york'\n",
    "transitions.loc[transitions['city_ok']\\\n",
    "               .str.startswith('paris'),'city_ok']\\\n",
    "                     = 'paris'"
   ]
  },
  {
   "cell_type": "code",
   "execution_count": 739,
   "metadata": {},
   "outputs": [],
   "source": [
    "#top_champ(transitions,['city_ok'],100)"
   ]
  },
  {
   "cell_type": "markdown",
   "metadata": {},
   "source": [
    "# total exploration"
   ]
  },
  {
   "cell_type": "code",
   "execution_count": 740,
   "metadata": {},
   "outputs": [],
   "source": [
    "total = pd.merge(ideas, transitions, how='left', left_on='idea_id',right_on='idea_id')"
   ]
  },
  {
   "cell_type": "code",
   "execution_count": 741,
   "metadata": {},
   "outputs": [
    {
     "name": "stdout",
     "output_type": "stream",
     "text": [
      "4 distinct values for the feature ['to_state']\n"
     ]
    },
    {
     "data": {
      "text/html": [
       "<div>\n",
       "<style scoped>\n",
       "    .dataframe tbody tr th:only-of-type {\n",
       "        vertical-align: middle;\n",
       "    }\n",
       "\n",
       "    .dataframe tbody tr th {\n",
       "        vertical-align: top;\n",
       "    }\n",
       "\n",
       "    .dataframe thead th {\n",
       "        text-align: right;\n",
       "    }\n",
       "</style>\n",
       "<table border=\"1\" class=\"dataframe\">\n",
       "  <thead>\n",
       "    <tr style=\"text-align: right;\">\n",
       "      <th></th>\n",
       "      <th>to_state</th>\n",
       "      <th>nb_records</th>\n",
       "      <th>percentage</th>\n",
       "    </tr>\n",
       "  </thead>\n",
       "  <tbody>\n",
       "    <tr>\n",
       "      <th>0</th>\n",
       "      <td>submitted</td>\n",
       "      <td>2331</td>\n",
       "      <td>58.28</td>\n",
       "    </tr>\n",
       "    <tr>\n",
       "      <th>1</th>\n",
       "      <td>unknown</td>\n",
       "      <td>1372</td>\n",
       "      <td>34.30</td>\n",
       "    </tr>\n",
       "    <tr>\n",
       "      <th>2</th>\n",
       "      <td>declined</td>\n",
       "      <td>296</td>\n",
       "      <td>7.40</td>\n",
       "    </tr>\n",
       "    <tr>\n",
       "      <th>3</th>\n",
       "      <td>booked</td>\n",
       "      <td>1</td>\n",
       "      <td>0.02</td>\n",
       "    </tr>\n",
       "  </tbody>\n",
       "</table>\n",
       "</div>"
      ],
      "text/plain": [
       "    to_state  nb_records  percentage\n",
       "0  submitted        2331       58.28\n",
       "1    unknown        1372       34.30\n",
       "2   declined         296        7.40\n",
       "3     booked           1        0.02"
      ]
     },
     "execution_count": 741,
     "metadata": {},
     "output_type": "execute_result"
    }
   ],
   "source": [
    "total.loc[:,'time_after_creation'] = total.loc[:,'transition_ts']- total.loc[:,'created_at']\n",
    "total.loc[:,'time_after_creation'] = total.loc[:,'time_after_creation']/ np.timedelta64(1, 'D')\n",
    "total_first = total.drop_duplicates('idea_id')\n",
    "top_champ(total_first,['to_state'],10)"
   ]
  },
  {
   "cell_type": "code",
   "execution_count": 742,
   "metadata": {},
   "outputs": [
    {
     "name": "stdout",
     "output_type": "stream",
     "text": [
      "(1372, 20)\n",
      "(1372, 20)\n"
     ]
    }
   ],
   "source": [
    "total_first.loc[:,'time_after_creation'].describe()\n",
    "print(total[total['category_x']!=total['category_y']].shape)\n",
    "print(total[total['category_y'].isnull()].shape)\n",
    "#idem\n",
    "# 1323 ideas without "
   ]
  },
  {
   "cell_type": "code",
   "execution_count": 743,
   "metadata": {},
   "outputs": [
    {
     "name": "stdout",
     "output_type": "stream",
     "text": [
      "There are 1372 ideas unknown\n",
      "Ideas unknown have been created from 2018-01-01 17:01:01.489000 to 2019-01-21 10:19:35.205000\n",
      "There are 2628 ideas with at least one request submitted\n",
      "Ideas with requests have been created from 2018-01-02 15:21:32.044000 to 2019-01-15 14:54:49.719000\n"
     ]
    }
   ],
   "source": [
    "idea_id_unknown = total.loc[total['category_y'].isnull(),'idea_id'].unique()\n",
    "min_created_ukn = min(ideas.loc[ideas['idea_id'].isin(idea_id_unknown),'created_at'])\n",
    "max_created_ukn = max(ideas.loc[ideas['idea_id'].isin(idea_id_unknown),'created_at'])\n",
    "print('There are %0.0f ideas unknown' %len(idea_id_unknown))\n",
    "print('Ideas unknown have been created from %s to %s' %(min_created_ukn, max_created_ukn))\n",
    "idea_id_known = total.loc[total['category_y'].notnull(),'idea_id'].unique()\n",
    "min_created_ukn = min(ideas.loc[ideas['idea_id'].isin(idea_id_known),'created_at'])\n",
    "max_created_ukn = max(ideas.loc[ideas['idea_id'].isin(idea_id_known),'created_at'])\n",
    "print('There are %0.0f ideas with at least one request submitted' %(len(idea_id_known)))\n",
    "print('Ideas with requests have been created from %s to %s' %(min_created_ukn, max_created_ukn))"
   ]
  },
  {
   "cell_type": "code",
   "execution_count": 744,
   "metadata": {},
   "outputs": [
    {
     "name": "stdout",
     "output_type": "stream",
     "text": [
      "6 distinct values for the feature ['category']\n"
     ]
    },
    {
     "data": {
      "text/html": [
       "<div>\n",
       "<style scoped>\n",
       "    .dataframe tbody tr th:only-of-type {\n",
       "        vertical-align: middle;\n",
       "    }\n",
       "\n",
       "    .dataframe tbody tr th {\n",
       "        vertical-align: top;\n",
       "    }\n",
       "\n",
       "    .dataframe thead th {\n",
       "        text-align: right;\n",
       "    }\n",
       "</style>\n",
       "<table border=\"1\" class=\"dataframe\">\n",
       "  <thead>\n",
       "    <tr style=\"text-align: right;\">\n",
       "      <th></th>\n",
       "      <th>category</th>\n",
       "      <th>nb_records</th>\n",
       "      <th>percentage</th>\n",
       "    </tr>\n",
       "  </thead>\n",
       "  <tbody>\n",
       "    <tr>\n",
       "      <th>0</th>\n",
       "      <td>popup_shop</td>\n",
       "      <td>753</td>\n",
       "      <td>54.88</td>\n",
       "    </tr>\n",
       "    <tr>\n",
       "      <th>1</th>\n",
       "      <td>popup_bar</td>\n",
       "      <td>240</td>\n",
       "      <td>17.49</td>\n",
       "    </tr>\n",
       "    <tr>\n",
       "      <th>2</th>\n",
       "      <td>unique</td>\n",
       "      <td>145</td>\n",
       "      <td>10.57</td>\n",
       "    </tr>\n",
       "    <tr>\n",
       "      <th>3</th>\n",
       "      <td>private_event</td>\n",
       "      <td>134</td>\n",
       "      <td>9.77</td>\n",
       "    </tr>\n",
       "    <tr>\n",
       "      <th>4</th>\n",
       "      <td>gallery</td>\n",
       "      <td>78</td>\n",
       "      <td>5.69</td>\n",
       "    </tr>\n",
       "    <tr>\n",
       "      <th>5</th>\n",
       "      <td>sample_sale</td>\n",
       "      <td>22</td>\n",
       "      <td>1.60</td>\n",
       "    </tr>\n",
       "  </tbody>\n",
       "</table>\n",
       "</div>"
      ],
      "text/plain": [
       "        category  nb_records  percentage\n",
       "0     popup_shop         753       54.88\n",
       "1      popup_bar         240       17.49\n",
       "2         unique         145       10.57\n",
       "3  private_event         134        9.77\n",
       "4        gallery          78        5.69\n",
       "5    sample_sale          22        1.60"
      ]
     },
     "execution_count": 744,
     "metadata": {},
     "output_type": "execute_result"
    }
   ],
   "source": [
    "top_champ(ideas[ideas['idea_id'].isin(idea_id_unknown)],['category'],10)"
   ]
  },
  {
   "cell_type": "code",
   "execution_count": 745,
   "metadata": {},
   "outputs": [
    {
     "name": "stdout",
     "output_type": "stream",
     "text": [
      "6 distinct values for the feature ['category']\n"
     ]
    },
    {
     "data": {
      "text/html": [
       "<div>\n",
       "<style scoped>\n",
       "    .dataframe tbody tr th:only-of-type {\n",
       "        vertical-align: middle;\n",
       "    }\n",
       "\n",
       "    .dataframe tbody tr th {\n",
       "        vertical-align: top;\n",
       "    }\n",
       "\n",
       "    .dataframe thead th {\n",
       "        text-align: right;\n",
       "    }\n",
       "</style>\n",
       "<table border=\"1\" class=\"dataframe\">\n",
       "  <thead>\n",
       "    <tr style=\"text-align: right;\">\n",
       "      <th></th>\n",
       "      <th>category</th>\n",
       "      <th>nb_records</th>\n",
       "      <th>percentage</th>\n",
       "    </tr>\n",
       "  </thead>\n",
       "  <tbody>\n",
       "    <tr>\n",
       "      <th>0</th>\n",
       "      <td>popup_shop</td>\n",
       "      <td>1421</td>\n",
       "      <td>54.07</td>\n",
       "    </tr>\n",
       "    <tr>\n",
       "      <th>1</th>\n",
       "      <td>private_event</td>\n",
       "      <td>412</td>\n",
       "      <td>15.68</td>\n",
       "    </tr>\n",
       "    <tr>\n",
       "      <th>2</th>\n",
       "      <td>popup_bar</td>\n",
       "      <td>293</td>\n",
       "      <td>11.15</td>\n",
       "    </tr>\n",
       "    <tr>\n",
       "      <th>3</th>\n",
       "      <td>unique</td>\n",
       "      <td>253</td>\n",
       "      <td>9.63</td>\n",
       "    </tr>\n",
       "    <tr>\n",
       "      <th>4</th>\n",
       "      <td>gallery</td>\n",
       "      <td>204</td>\n",
       "      <td>7.76</td>\n",
       "    </tr>\n",
       "    <tr>\n",
       "      <th>5</th>\n",
       "      <td>sample_sale</td>\n",
       "      <td>45</td>\n",
       "      <td>1.71</td>\n",
       "    </tr>\n",
       "  </tbody>\n",
       "</table>\n",
       "</div>"
      ],
      "text/plain": [
       "        category  nb_records  percentage\n",
       "0     popup_shop        1421       54.07\n",
       "1  private_event         412       15.68\n",
       "2      popup_bar         293       11.15\n",
       "3         unique         253        9.63\n",
       "4        gallery         204        7.76\n",
       "5    sample_sale          45        1.71"
      ]
     },
     "execution_count": 745,
     "metadata": {},
     "output_type": "execute_result"
    }
   ],
   "source": [
    "top_champ(ideas[ideas['idea_id'].isin(idea_id_known)],['category'],10)"
   ]
  },
  {
   "cell_type": "code",
   "execution_count": 624,
   "metadata": {},
   "outputs": [],
   "source": [
    "total_ok = total.loc[total['idea_id'].isin(idea_id_known)]"
   ]
  },
  {
   "cell_type": "code",
   "execution_count": 625,
   "metadata": {},
   "outputs": [
    {
     "data": {
      "text/plain": [
       "count    1.839200e+04\n",
       "mean     2.347758e+01\n",
       "std      4.920738e+01\n",
       "min      6.250000e-07\n",
       "25%      1.254715e-01\n",
       "50%      4.039018e+00\n",
       "75%      1.982489e+01\n",
       "max      3.599833e+02\n",
       "Name: time_after_creation, dtype: float64"
      ]
     },
     "execution_count": 625,
     "metadata": {},
     "output_type": "execute_result"
    }
   ],
   "source": [
    "total_ok['time_after_creation'].describe()"
   ]
  },
  {
   "cell_type": "code",
   "execution_count": 626,
   "metadata": {},
   "outputs": [
    {
     "name": "stderr",
     "output_type": "stream",
     "text": [
      "/anaconda/envs/ah_test_env/lib/python3.6/site-packages/pandas/core/indexing.py:362: SettingWithCopyWarning: \n",
      "A value is trying to be set on a copy of a slice from a DataFrame.\n",
      "Try using .loc[row_indexer,col_indexer] = value instead\n",
      "\n",
      "See the caveats in the documentation: http://pandas.pydata.org/pandas-docs/stable/indexing.html#indexing-view-versus-copy\n",
      "  self.obj[key] = _infer_fill_value(value)\n"
     ]
    }
   ],
   "source": [
    "total_ok.loc[total_ok['time_after_creation']>15,'after_creation']='sup_15j'\n",
    "total_ok.loc[total_ok['time_after_creation']<=15,'after_creation']='3j_15j'\n",
    "total_ok.loc[total_ok['time_after_creation']<3,'after_creation']='1j_3j'\n",
    "total_ok.loc[total_ok['time_after_creation']<1,'after_creation']='1h_1j'\n",
    "total_ok.loc[total_ok['time_after_creation']<0.04,'after_creation']='10s_1h'\n",
    "total_ok.loc[total_ok['time_after_creation']<0.0001,'after_creation']='less_10s'"
   ]
  },
  {
   "cell_type": "code",
   "execution_count": 627,
   "metadata": {},
   "outputs": [
    {
     "name": "stdout",
     "output_type": "stream",
     "text": [
      "6 distinct values for the feature ['after_creation']\n"
     ]
    },
    {
     "data": {
      "text/html": [
       "<div>\n",
       "<style scoped>\n",
       "    .dataframe tbody tr th:only-of-type {\n",
       "        vertical-align: middle;\n",
       "    }\n",
       "\n",
       "    .dataframe tbody tr th {\n",
       "        vertical-align: top;\n",
       "    }\n",
       "\n",
       "    .dataframe thead th {\n",
       "        text-align: right;\n",
       "    }\n",
       "</style>\n",
       "<table border=\"1\" class=\"dataframe\">\n",
       "  <thead>\n",
       "    <tr style=\"text-align: right;\">\n",
       "      <th></th>\n",
       "      <th>after_creation</th>\n",
       "      <th>nb_records</th>\n",
       "      <th>percentage</th>\n",
       "    </tr>\n",
       "  </thead>\n",
       "  <tbody>\n",
       "    <tr>\n",
       "      <th>0</th>\n",
       "      <td>less_10s</td>\n",
       "      <td>1277</td>\n",
       "      <td>56.16</td>\n",
       "    </tr>\n",
       "    <tr>\n",
       "      <th>1</th>\n",
       "      <td>sup_15j</td>\n",
       "      <td>255</td>\n",
       "      <td>11.21</td>\n",
       "    </tr>\n",
       "    <tr>\n",
       "      <th>2</th>\n",
       "      <td>3j_15j</td>\n",
       "      <td>250</td>\n",
       "      <td>10.99</td>\n",
       "    </tr>\n",
       "    <tr>\n",
       "      <th>3</th>\n",
       "      <td>10s_1h</td>\n",
       "      <td>203</td>\n",
       "      <td>8.93</td>\n",
       "    </tr>\n",
       "    <tr>\n",
       "      <th>4</th>\n",
       "      <td>1h_1j</td>\n",
       "      <td>186</td>\n",
       "      <td>8.18</td>\n",
       "    </tr>\n",
       "    <tr>\n",
       "      <th>5</th>\n",
       "      <td>1j_3j</td>\n",
       "      <td>103</td>\n",
       "      <td>4.53</td>\n",
       "    </tr>\n",
       "  </tbody>\n",
       "</table>\n",
       "</div>"
      ],
      "text/plain": [
       "  after_creation  nb_records  percentage\n",
       "0       less_10s        1277       56.16\n",
       "1        sup_15j         255       11.21\n",
       "2         3j_15j         250       10.99\n",
       "3         10s_1h         203        8.93\n",
       "4          1h_1j         186        8.18\n",
       "5          1j_3j         103        4.53"
      ]
     },
     "execution_count": 627,
     "metadata": {},
     "output_type": "execute_result"
    }
   ],
   "source": [
    "top_champ(total_ok.drop_duplicates('idea_id'),['after_creation'],10)\n",
    "# More than an half of the ideas transforms in a request in less than 10 seconds"
   ]
  },
  {
   "cell_type": "code",
   "execution_count": 628,
   "metadata": {},
   "outputs": [
    {
     "data": {
      "text/html": [
       "<div>\n",
       "<style scoped>\n",
       "    .dataframe tbody tr th:only-of-type {\n",
       "        vertical-align: middle;\n",
       "    }\n",
       "\n",
       "    .dataframe tbody tr th {\n",
       "        vertical-align: top;\n",
       "    }\n",
       "\n",
       "    .dataframe thead th {\n",
       "        text-align: right;\n",
       "    }\n",
       "</style>\n",
       "<table border=\"1\" class=\"dataframe\">\n",
       "  <thead>\n",
       "    <tr style=\"text-align: right;\">\n",
       "      <th></th>\n",
       "      <th>transition_ts</th>\n",
       "      <th>idea_id</th>\n",
       "      <th>space_id</th>\n",
       "      <th>to_state</th>\n",
       "    </tr>\n",
       "  </thead>\n",
       "  <tbody>\n",
       "    <tr>\n",
       "      <th>2</th>\n",
       "      <td>2018-10-08 19:38:18.153</td>\n",
       "      <td>2</td>\n",
       "      <td>366.0</td>\n",
       "      <td>submitted</td>\n",
       "    </tr>\n",
       "    <tr>\n",
       "      <th>3</th>\n",
       "      <td>2018-10-10 12:19:26.197</td>\n",
       "      <td>2</td>\n",
       "      <td>366.0</td>\n",
       "      <td>declined</td>\n",
       "    </tr>\n",
       "    <tr>\n",
       "      <th>5</th>\n",
       "      <td>2018-06-10 16:05:47.226</td>\n",
       "      <td>4</td>\n",
       "      <td>5844.0</td>\n",
       "      <td>submitted</td>\n",
       "    </tr>\n",
       "    <tr>\n",
       "      <th>6</th>\n",
       "      <td>2018-06-26 15:55:27.471</td>\n",
       "      <td>4</td>\n",
       "      <td>5844.0</td>\n",
       "      <td>declined</td>\n",
       "    </tr>\n",
       "    <tr>\n",
       "      <th>7</th>\n",
       "      <td>2018-11-27 17:06:18.287</td>\n",
       "      <td>5</td>\n",
       "      <td>5241.0</td>\n",
       "      <td>submitted</td>\n",
       "    </tr>\n",
       "    <tr>\n",
       "      <th>8</th>\n",
       "      <td>2018-11-28 16:46:10.694</td>\n",
       "      <td>5</td>\n",
       "      <td>5241.0</td>\n",
       "      <td>matched</td>\n",
       "    </tr>\n",
       "    <tr>\n",
       "      <th>9</th>\n",
       "      <td>2018-12-01 01:03:33.476</td>\n",
       "      <td>5</td>\n",
       "      <td>5241.0</td>\n",
       "      <td>booked</td>\n",
       "    </tr>\n",
       "    <tr>\n",
       "      <th>10</th>\n",
       "      <td>2018-03-27 14:46:16.156</td>\n",
       "      <td>6</td>\n",
       "      <td>4035.0</td>\n",
       "      <td>submitted</td>\n",
       "    </tr>\n",
       "    <tr>\n",
       "      <th>11</th>\n",
       "      <td>2018-04-10 17:27:06.135</td>\n",
       "      <td>6</td>\n",
       "      <td>4035.0</td>\n",
       "      <td>declined</td>\n",
       "    </tr>\n",
       "    <tr>\n",
       "      <th>12</th>\n",
       "      <td>2018-03-27 14:46:16.313</td>\n",
       "      <td>6</td>\n",
       "      <td>5438.0</td>\n",
       "      <td>submitted</td>\n",
       "    </tr>\n",
       "  </tbody>\n",
       "</table>\n",
       "</div>"
      ],
      "text/plain": [
       "             transition_ts  idea_id  space_id   to_state\n",
       "2  2018-10-08 19:38:18.153        2     366.0  submitted\n",
       "3  2018-10-10 12:19:26.197        2     366.0   declined\n",
       "5  2018-06-10 16:05:47.226        4    5844.0  submitted\n",
       "6  2018-06-26 15:55:27.471        4    5844.0   declined\n",
       "7  2018-11-27 17:06:18.287        5    5241.0  submitted\n",
       "8  2018-11-28 16:46:10.694        5    5241.0    matched\n",
       "9  2018-12-01 01:03:33.476        5    5241.0     booked\n",
       "10 2018-03-27 14:46:16.156        6    4035.0  submitted\n",
       "11 2018-04-10 17:27:06.135        6    4035.0   declined\n",
       "12 2018-03-27 14:46:16.313        6    5438.0  submitted"
      ]
     },
     "execution_count": 628,
     "metadata": {},
     "output_type": "execute_result"
    }
   ],
   "source": [
    "total_ok[['transition_ts','idea_id','space_id','to_state']][0:10]"
   ]
  },
  {
   "cell_type": "code",
   "execution_count": 629,
   "metadata": {},
   "outputs": [],
   "source": [
    "conversion = total_ok.groupby(['idea_id','space_id','booking_request_id'])['to_state'].\\\n",
    "apply(lambda x: \"%s\" % ' / '.join(x)).to_frame().reset_index()\n",
    "#conversion\n",
    "#top_champ(conversion,['to_state'],10)\n",
    "conversion.loc[:,'ending_stage'] = conversion.loc[:,'to_state'].apply(lambda x : x.split(' ')[-1])\n",
    "\n",
    "conversion_2 = conversion\\\n",
    ".join(conversion['to_state'].str.split(' / s', expand=True)\\\n",
    "      .stack().reset_index(level=1, drop=True).rename('to_state_2'))\n",
    "conversion_2.loc[:,'to_state_2'] = conversion_2['to_state_2'].str.replace('ubmitted','submitted')\n",
    "conversion_2.loc[:,'to_state_2'] = conversion_2['to_state_2'].str.replace('ssubmitted','submitted')\n",
    "conversion_2.loc[:,'ending_stage_2'] = conversion_2.loc[:,'to_state_2'].apply(lambda x : x.split(' ')[-1])\n",
    "\n"
   ]
  },
  {
   "cell_type": "code",
   "execution_count": 630,
   "metadata": {},
   "outputs": [
    {
     "name": "stdout",
     "output_type": "stream",
     "text": [
      "4 distinct values for the feature ['ending_stage']\n"
     ]
    },
    {
     "data": {
      "text/html": [
       "<div>\n",
       "<style scoped>\n",
       "    .dataframe tbody tr th:only-of-type {\n",
       "        vertical-align: middle;\n",
       "    }\n",
       "\n",
       "    .dataframe tbody tr th {\n",
       "        vertical-align: top;\n",
       "    }\n",
       "\n",
       "    .dataframe thead th {\n",
       "        text-align: right;\n",
       "    }\n",
       "</style>\n",
       "<table border=\"1\" class=\"dataframe\">\n",
       "  <thead>\n",
       "    <tr style=\"text-align: right;\">\n",
       "      <th></th>\n",
       "      <th>ending_stage</th>\n",
       "      <th>nb_records</th>\n",
       "      <th>percentage</th>\n",
       "    </tr>\n",
       "  </thead>\n",
       "  <tbody>\n",
       "    <tr>\n",
       "      <th>0</th>\n",
       "      <td>declined</td>\n",
       "      <td>8114</td>\n",
       "      <td>93.02</td>\n",
       "    </tr>\n",
       "    <tr>\n",
       "      <th>1</th>\n",
       "      <td>submitted</td>\n",
       "      <td>275</td>\n",
       "      <td>3.15</td>\n",
       "    </tr>\n",
       "    <tr>\n",
       "      <th>2</th>\n",
       "      <td>booked</td>\n",
       "      <td>264</td>\n",
       "      <td>3.03</td>\n",
       "    </tr>\n",
       "    <tr>\n",
       "      <th>3</th>\n",
       "      <td>matched</td>\n",
       "      <td>70</td>\n",
       "      <td>0.80</td>\n",
       "    </tr>\n",
       "  </tbody>\n",
       "</table>\n",
       "</div>"
      ],
      "text/plain": [
       "  ending_stage  nb_records  percentage\n",
       "0     declined        8114       93.02\n",
       "1    submitted         275        3.15\n",
       "2       booked         264        3.03\n",
       "3      matched          70        0.80"
      ]
     },
     "execution_count": 630,
     "metadata": {},
     "output_type": "execute_result"
    }
   ],
   "source": [
    "top_champ(conversion,['ending_stage'],100)"
   ]
  },
  {
   "cell_type": "code",
   "execution_count": 635,
   "metadata": {},
   "outputs": [],
   "source": [
    "#conversion['to_state_simpl'] = conversion['to_state'].str.split(' / ').apply(lambda x : list(map(itemgetter(0), groupby(x))))\n",
    "#conversion['to_state_simpl']"
   ]
  },
  {
   "cell_type": "code",
   "execution_count": 636,
   "metadata": {},
   "outputs": [
    {
     "name": "stdout",
     "output_type": "stream",
     "text": [
      "4 distinct values for the feature ['to_state']\n"
     ]
    },
    {
     "data": {
      "text/html": [
       "<div>\n",
       "<style scoped>\n",
       "    .dataframe tbody tr th:only-of-type {\n",
       "        vertical-align: middle;\n",
       "    }\n",
       "\n",
       "    .dataframe tbody tr th {\n",
       "        vertical-align: top;\n",
       "    }\n",
       "\n",
       "    .dataframe thead th {\n",
       "        text-align: right;\n",
       "    }\n",
       "</style>\n",
       "<table border=\"1\" class=\"dataframe\">\n",
       "  <thead>\n",
       "    <tr style=\"text-align: right;\">\n",
       "      <th></th>\n",
       "      <th>to_state</th>\n",
       "      <th>nb_records</th>\n",
       "      <th>percentage</th>\n",
       "    </tr>\n",
       "  </thead>\n",
       "  <tbody>\n",
       "    <tr>\n",
       "      <th>0</th>\n",
       "      <td>submitted</td>\n",
       "      <td>264</td>\n",
       "      <td>96.00</td>\n",
       "    </tr>\n",
       "    <tr>\n",
       "      <th>1</th>\n",
       "      <td>submitted / submitted</td>\n",
       "      <td>7</td>\n",
       "      <td>2.55</td>\n",
       "    </tr>\n",
       "    <tr>\n",
       "      <th>2</th>\n",
       "      <td>submitted / declined / submitted</td>\n",
       "      <td>3</td>\n",
       "      <td>1.09</td>\n",
       "    </tr>\n",
       "    <tr>\n",
       "      <th>3</th>\n",
       "      <td>submitted / submitted / submitted</td>\n",
       "      <td>1</td>\n",
       "      <td>0.36</td>\n",
       "    </tr>\n",
       "  </tbody>\n",
       "</table>\n",
       "</div>"
      ],
      "text/plain": [
       "                            to_state  nb_records  percentage\n",
       "0                          submitted         264       96.00\n",
       "1              submitted / submitted           7        2.55\n",
       "2   submitted / declined / submitted           3        1.09\n",
       "3  submitted / submitted / submitted           1        0.36"
      ]
     },
     "execution_count": 636,
     "metadata": {},
     "output_type": "execute_result"
    }
   ],
   "source": [
    "top_champ(conversion[conversion.ending_stage=='submitted'],['to_state'],100)"
   ]
  },
  {
   "cell_type": "code",
   "execution_count": 637,
   "metadata": {},
   "outputs": [],
   "source": [
    "#conversion[(conversion['to_state']=='submitted / declined / submitted / declined')]\n",
    "#conversion[conversion['idea_id']==30]"
   ]
  },
  {
   "cell_type": "code",
   "execution_count": 746,
   "metadata": {},
   "outputs": [
    {
     "name": "stdout",
     "output_type": "stream",
     "text": [
      "58 distinct values for the feature ['to_state']\n"
     ]
    },
    {
     "data": {
      "text/html": [
       "<div>\n",
       "<style scoped>\n",
       "    .dataframe tbody tr th:only-of-type {\n",
       "        vertical-align: middle;\n",
       "    }\n",
       "\n",
       "    .dataframe tbody tr th {\n",
       "        vertical-align: top;\n",
       "    }\n",
       "\n",
       "    .dataframe thead th {\n",
       "        text-align: right;\n",
       "    }\n",
       "</style>\n",
       "<table border=\"1\" class=\"dataframe\">\n",
       "  <thead>\n",
       "    <tr style=\"text-align: right;\">\n",
       "      <th></th>\n",
       "      <th>to_state</th>\n",
       "      <th>nb_records</th>\n",
       "      <th>percentage</th>\n",
       "    </tr>\n",
       "  </thead>\n",
       "  <tbody>\n",
       "    <tr>\n",
       "      <th>0</th>\n",
       "      <td>submitted / declined</td>\n",
       "      <td>4277</td>\n",
       "      <td>46.78</td>\n",
       "    </tr>\n",
       "    <tr>\n",
       "      <th>1</th>\n",
       "      <td>declined</td>\n",
       "      <td>1707</td>\n",
       "      <td>18.67</td>\n",
       "    </tr>\n",
       "    <tr>\n",
       "      <th>2</th>\n",
       "      <td>submitted / matched / declined</td>\n",
       "      <td>1634</td>\n",
       "      <td>17.87</td>\n",
       "    </tr>\n",
       "    <tr>\n",
       "      <th>3</th>\n",
       "      <td>submitted</td>\n",
       "      <td>264</td>\n",
       "      <td>2.89</td>\n",
       "    </tr>\n",
       "    <tr>\n",
       "      <th>4</th>\n",
       "      <td>submitted / submitted / declined</td>\n",
       "      <td>244</td>\n",
       "      <td>2.67</td>\n",
       "    </tr>\n",
       "    <tr>\n",
       "      <th>5</th>\n",
       "      <td>submitted / submitted / matched / declined</td>\n",
       "      <td>214</td>\n",
       "      <td>2.34</td>\n",
       "    </tr>\n",
       "    <tr>\n",
       "      <th>6</th>\n",
       "      <td>submitted / matched / booked</td>\n",
       "      <td>207</td>\n",
       "      <td>2.26</td>\n",
       "    </tr>\n",
       "    <tr>\n",
       "      <th>7</th>\n",
       "      <td>submitted / declined / submitted / declined</td>\n",
       "      <td>116</td>\n",
       "      <td>1.27</td>\n",
       "    </tr>\n",
       "    <tr>\n",
       "      <th>8</th>\n",
       "      <td>submitted / declined / submitted / matched / declined</td>\n",
       "      <td>64</td>\n",
       "      <td>0.70</td>\n",
       "    </tr>\n",
       "    <tr>\n",
       "      <th>9</th>\n",
       "      <td>submitted / matched</td>\n",
       "      <td>58</td>\n",
       "      <td>0.63</td>\n",
       "    </tr>\n",
       "    <tr>\n",
       "      <th>10</th>\n",
       "      <td>submitted / matched / matched / declined</td>\n",
       "      <td>34</td>\n",
       "      <td>0.37</td>\n",
       "    </tr>\n",
       "    <tr>\n",
       "      <th>11</th>\n",
       "      <td>submitted / declined / matched / declined</td>\n",
       "      <td>28</td>\n",
       "      <td>0.31</td>\n",
       "    </tr>\n",
       "    <tr>\n",
       "      <th>12</th>\n",
       "      <td>submitted / submitted / submitted / declined</td>\n",
       "      <td>27</td>\n",
       "      <td>0.30</td>\n",
       "    </tr>\n",
       "    <tr>\n",
       "      <th>13</th>\n",
       "      <td>submitted / submitted / matched / booked</td>\n",
       "      <td>26</td>\n",
       "      <td>0.28</td>\n",
       "    </tr>\n",
       "    <tr>\n",
       "      <th>14</th>\n",
       "      <td>submitted / matched / declined / matched / declined</td>\n",
       "      <td>23</td>\n",
       "      <td>0.25</td>\n",
       "    </tr>\n",
       "    <tr>\n",
       "      <th>15</th>\n",
       "      <td>submitted / matched / declined / declined</td>\n",
       "      <td>22</td>\n",
       "      <td>0.24</td>\n",
       "    </tr>\n",
       "    <tr>\n",
       "      <th>16</th>\n",
       "      <td>submitted / declined / declined</td>\n",
       "      <td>21</td>\n",
       "      <td>0.23</td>\n",
       "    </tr>\n",
       "    <tr>\n",
       "      <th>17</th>\n",
       "      <td>submitted / submitted / matched</td>\n",
       "      <td>18</td>\n",
       "      <td>0.20</td>\n",
       "    </tr>\n",
       "    <tr>\n",
       "      <th>18</th>\n",
       "      <td>declined / submitted / declined</td>\n",
       "      <td>16</td>\n",
       "      <td>0.17</td>\n",
       "    </tr>\n",
       "    <tr>\n",
       "      <th>19</th>\n",
       "      <td>submitted / submitted</td>\n",
       "      <td>14</td>\n",
       "      <td>0.15</td>\n",
       "    </tr>\n",
       "    <tr>\n",
       "      <th>20</th>\n",
       "      <td>submitted / declined / submitted / matched / booked</td>\n",
       "      <td>12</td>\n",
       "      <td>0.13</td>\n",
       "    </tr>\n",
       "    <tr>\n",
       "      <th>21</th>\n",
       "      <td>declined / submitted / matched / declined</td>\n",
       "      <td>12</td>\n",
       "      <td>0.13</td>\n",
       "    </tr>\n",
       "    <tr>\n",
       "      <th>22</th>\n",
       "      <td>submitted / matched / declined / booked</td>\n",
       "      <td>9</td>\n",
       "      <td>0.10</td>\n",
       "    </tr>\n",
       "    <tr>\n",
       "      <th>23</th>\n",
       "      <td>submitted / submitted / declined / declined</td>\n",
       "      <td>8</td>\n",
       "      <td>0.09</td>\n",
       "    </tr>\n",
       "    <tr>\n",
       "      <th>24</th>\n",
       "      <td>submitted / submitted / submitted / matched / declined</td>\n",
       "      <td>6</td>\n",
       "      <td>0.07</td>\n",
       "    </tr>\n",
       "    <tr>\n",
       "      <th>25</th>\n",
       "      <td>submitted / declined / matched / booked</td>\n",
       "      <td>6</td>\n",
       "      <td>0.07</td>\n",
       "    </tr>\n",
       "    <tr>\n",
       "      <th>26</th>\n",
       "      <td>submitted / submitted / declined / matched / declined</td>\n",
       "      <td>6</td>\n",
       "      <td>0.07</td>\n",
       "    </tr>\n",
       "    <tr>\n",
       "      <th>27</th>\n",
       "      <td>submitted / matched / declined / matched / booked</td>\n",
       "      <td>6</td>\n",
       "      <td>0.07</td>\n",
       "    </tr>\n",
       "    <tr>\n",
       "      <th>28</th>\n",
       "      <td>submitted / declined / submitted</td>\n",
       "      <td>6</td>\n",
       "      <td>0.07</td>\n",
       "    </tr>\n",
       "    <tr>\n",
       "      <th>29</th>\n",
       "      <td>submitted / declined / submitted / submitted / declined</td>\n",
       "      <td>6</td>\n",
       "      <td>0.07</td>\n",
       "    </tr>\n",
       "    <tr>\n",
       "      <th>30</th>\n",
       "      <td>submitted / submitted / matched / matched / declined</td>\n",
       "      <td>4</td>\n",
       "      <td>0.04</td>\n",
       "    </tr>\n",
       "    <tr>\n",
       "      <th>31</th>\n",
       "      <td>submitted / matched / matched / booked</td>\n",
       "      <td>4</td>\n",
       "      <td>0.04</td>\n",
       "    </tr>\n",
       "    <tr>\n",
       "      <th>32</th>\n",
       "      <td>submitted / submitted / matched / declined / booked</td>\n",
       "      <td>4</td>\n",
       "      <td>0.04</td>\n",
       "    </tr>\n",
       "    <tr>\n",
       "      <th>33</th>\n",
       "      <td>submitted / submitted / submitted</td>\n",
       "      <td>3</td>\n",
       "      <td>0.03</td>\n",
       "    </tr>\n",
       "    <tr>\n",
       "      <th>34</th>\n",
       "      <td>submitted / submitted / submitted / matched</td>\n",
       "      <td>3</td>\n",
       "      <td>0.03</td>\n",
       "    </tr>\n",
       "    <tr>\n",
       "      <th>35</th>\n",
       "      <td>declined / submitted / matched / booked</td>\n",
       "      <td>2</td>\n",
       "      <td>0.02</td>\n",
       "    </tr>\n",
       "    <tr>\n",
       "      <th>36</th>\n",
       "      <td>submitted / declined / declined / declined</td>\n",
       "      <td>2</td>\n",
       "      <td>0.02</td>\n",
       "    </tr>\n",
       "    <tr>\n",
       "      <th>37</th>\n",
       "      <td>submitted / declined / submitted / matched</td>\n",
       "      <td>2</td>\n",
       "      <td>0.02</td>\n",
       "    </tr>\n",
       "    <tr>\n",
       "      <th>38</th>\n",
       "      <td>booked</td>\n",
       "      <td>2</td>\n",
       "      <td>0.02</td>\n",
       "    </tr>\n",
       "    <tr>\n",
       "      <th>39</th>\n",
       "      <td>submitted / declined / submitted / matched / declined / matched / declined</td>\n",
       "      <td>2</td>\n",
       "      <td>0.02</td>\n",
       "    </tr>\n",
       "    <tr>\n",
       "      <th>40</th>\n",
       "      <td>submitted / declined / submitted / matched / matched / booked</td>\n",
       "      <td>2</td>\n",
       "      <td>0.02</td>\n",
       "    </tr>\n",
       "    <tr>\n",
       "      <th>41</th>\n",
       "      <td>submitted / submitted / matched / matched / booked</td>\n",
       "      <td>2</td>\n",
       "      <td>0.02</td>\n",
       "    </tr>\n",
       "    <tr>\n",
       "      <th>42</th>\n",
       "      <td>submitted / submitted / matched / declined / matched / declined</td>\n",
       "      <td>2</td>\n",
       "      <td>0.02</td>\n",
       "    </tr>\n",
       "    <tr>\n",
       "      <th>43</th>\n",
       "      <td>submitted / submitted / matched / declined / matched / booked</td>\n",
       "      <td>2</td>\n",
       "      <td>0.02</td>\n",
       "    </tr>\n",
       "    <tr>\n",
       "      <th>44</th>\n",
       "      <td>submitted / submitted / matched / declined / declined</td>\n",
       "      <td>2</td>\n",
       "      <td>0.02</td>\n",
       "    </tr>\n",
       "    <tr>\n",
       "      <th>45</th>\n",
       "      <td>submitted / matched / declined / matched / matched / booked</td>\n",
       "      <td>2</td>\n",
       "      <td>0.02</td>\n",
       "    </tr>\n",
       "    <tr>\n",
       "      <th>46</th>\n",
       "      <td>submitted / matched / declined / matched / declined / matched / declined</td>\n",
       "      <td>1</td>\n",
       "      <td>0.01</td>\n",
       "    </tr>\n",
       "    <tr>\n",
       "      <th>47</th>\n",
       "      <td>submitted / declined / declined / matched / declined</td>\n",
       "      <td>1</td>\n",
       "      <td>0.01</td>\n",
       "    </tr>\n",
       "    <tr>\n",
       "      <th>48</th>\n",
       "      <td>submitted / matched / declined / matched / declined / matched / booked</td>\n",
       "      <td>1</td>\n",
       "      <td>0.01</td>\n",
       "    </tr>\n",
       "    <tr>\n",
       "      <th>49</th>\n",
       "      <td>submitted / matched / declined / matched / matched / declined</td>\n",
       "      <td>1</td>\n",
       "      <td>0.01</td>\n",
       "    </tr>\n",
       "    <tr>\n",
       "      <th>50</th>\n",
       "      <td>submitted / matched / matched / declined / booked</td>\n",
       "      <td>1</td>\n",
       "      <td>0.01</td>\n",
       "    </tr>\n",
       "    <tr>\n",
       "      <th>51</th>\n",
       "      <td>submitted / matched / matched / declined / matched / declined</td>\n",
       "      <td>1</td>\n",
       "      <td>0.01</td>\n",
       "    </tr>\n",
       "    <tr>\n",
       "      <th>52</th>\n",
       "      <td>submitted / declined / matched / declined / declined</td>\n",
       "      <td>1</td>\n",
       "      <td>0.01</td>\n",
       "    </tr>\n",
       "    <tr>\n",
       "      <th>53</th>\n",
       "      <td>submitted / declined / matched / matched / declined</td>\n",
       "      <td>1</td>\n",
       "      <td>0.01</td>\n",
       "    </tr>\n",
       "    <tr>\n",
       "      <th>54</th>\n",
       "      <td>submitted / matched / declined / matched</td>\n",
       "      <td>1</td>\n",
       "      <td>0.01</td>\n",
       "    </tr>\n",
       "    <tr>\n",
       "      <th>55</th>\n",
       "      <td>declined / declined</td>\n",
       "      <td>1</td>\n",
       "      <td>0.01</td>\n",
       "    </tr>\n",
       "    <tr>\n",
       "      <th>56</th>\n",
       "      <td>submitted / matched / declined / declined / declined / booked</td>\n",
       "      <td>1</td>\n",
       "      <td>0.01</td>\n",
       "    </tr>\n",
       "    <tr>\n",
       "      <th>57</th>\n",
       "      <td>submitted / matched / declined / declined / declined</td>\n",
       "      <td>1</td>\n",
       "      <td>0.01</td>\n",
       "    </tr>\n",
       "  </tbody>\n",
       "</table>\n",
       "</div>"
      ],
      "text/plain": [
       "                                                                      to_state  \\\n",
       "0                                                         submitted / declined   \n",
       "1                                                                     declined   \n",
       "2                                               submitted / matched / declined   \n",
       "3                                                                    submitted   \n",
       "4                                             submitted / submitted / declined   \n",
       "5                                   submitted / submitted / matched / declined   \n",
       "6                                                 submitted / matched / booked   \n",
       "7                                  submitted / declined / submitted / declined   \n",
       "8                        submitted / declined / submitted / matched / declined   \n",
       "9                                                          submitted / matched   \n",
       "10                                    submitted / matched / matched / declined   \n",
       "11                                   submitted / declined / matched / declined   \n",
       "12                                submitted / submitted / submitted / declined   \n",
       "13                                    submitted / submitted / matched / booked   \n",
       "14                         submitted / matched / declined / matched / declined   \n",
       "15                                   submitted / matched / declined / declined   \n",
       "16                                             submitted / declined / declined   \n",
       "17                                             submitted / submitted / matched   \n",
       "18                                             declined / submitted / declined   \n",
       "19                                                       submitted / submitted   \n",
       "20                         submitted / declined / submitted / matched / booked   \n",
       "21                                   declined / submitted / matched / declined   \n",
       "22                                     submitted / matched / declined / booked   \n",
       "23                                 submitted / submitted / declined / declined   \n",
       "24                      submitted / submitted / submitted / matched / declined   \n",
       "25                                     submitted / declined / matched / booked   \n",
       "26                       submitted / submitted / declined / matched / declined   \n",
       "27                           submitted / matched / declined / matched / booked   \n",
       "28                                            submitted / declined / submitted   \n",
       "29                     submitted / declined / submitted / submitted / declined   \n",
       "30                        submitted / submitted / matched / matched / declined   \n",
       "31                                      submitted / matched / matched / booked   \n",
       "32                         submitted / submitted / matched / declined / booked   \n",
       "33                                           submitted / submitted / submitted   \n",
       "34                                 submitted / submitted / submitted / matched   \n",
       "35                                     declined / submitted / matched / booked   \n",
       "36                                  submitted / declined / declined / declined   \n",
       "37                                  submitted / declined / submitted / matched   \n",
       "38                                                                      booked   \n",
       "39  submitted / declined / submitted / matched / declined / matched / declined   \n",
       "40               submitted / declined / submitted / matched / matched / booked   \n",
       "41                          submitted / submitted / matched / matched / booked   \n",
       "42             submitted / submitted / matched / declined / matched / declined   \n",
       "43               submitted / submitted / matched / declined / matched / booked   \n",
       "44                       submitted / submitted / matched / declined / declined   \n",
       "45                 submitted / matched / declined / matched / matched / booked   \n",
       "46    submitted / matched / declined / matched / declined / matched / declined   \n",
       "47                        submitted / declined / declined / matched / declined   \n",
       "48      submitted / matched / declined / matched / declined / matched / booked   \n",
       "49               submitted / matched / declined / matched / matched / declined   \n",
       "50                           submitted / matched / matched / declined / booked   \n",
       "51               submitted / matched / matched / declined / matched / declined   \n",
       "52                        submitted / declined / matched / declined / declined   \n",
       "53                         submitted / declined / matched / matched / declined   \n",
       "54                                    submitted / matched / declined / matched   \n",
       "55                                                         declined / declined   \n",
       "56               submitted / matched / declined / declined / declined / booked   \n",
       "57                        submitted / matched / declined / declined / declined   \n",
       "\n",
       "    nb_records  percentage  \n",
       "0         4277       46.78  \n",
       "1         1707       18.67  \n",
       "2         1634       17.87  \n",
       "3          264        2.89  \n",
       "4          244        2.67  \n",
       "5          214        2.34  \n",
       "6          207        2.26  \n",
       "7          116        1.27  \n",
       "8           64        0.70  \n",
       "9           58        0.63  \n",
       "10          34        0.37  \n",
       "11          28        0.31  \n",
       "12          27        0.30  \n",
       "13          26        0.28  \n",
       "14          23        0.25  \n",
       "15          22        0.24  \n",
       "16          21        0.23  \n",
       "17          18        0.20  \n",
       "18          16        0.17  \n",
       "19          14        0.15  \n",
       "20          12        0.13  \n",
       "21          12        0.13  \n",
       "22           9        0.10  \n",
       "23           8        0.09  \n",
       "24           6        0.07  \n",
       "25           6        0.07  \n",
       "26           6        0.07  \n",
       "27           6        0.07  \n",
       "28           6        0.07  \n",
       "29           6        0.07  \n",
       "30           4        0.04  \n",
       "31           4        0.04  \n",
       "32           4        0.04  \n",
       "33           3        0.03  \n",
       "34           3        0.03  \n",
       "35           2        0.02  \n",
       "36           2        0.02  \n",
       "37           2        0.02  \n",
       "38           2        0.02  \n",
       "39           2        0.02  \n",
       "40           2        0.02  \n",
       "41           2        0.02  \n",
       "42           2        0.02  \n",
       "43           2        0.02  \n",
       "44           2        0.02  \n",
       "45           2        0.02  \n",
       "46           1        0.01  \n",
       "47           1        0.01  \n",
       "48           1        0.01  \n",
       "49           1        0.01  \n",
       "50           1        0.01  \n",
       "51           1        0.01  \n",
       "52           1        0.01  \n",
       "53           1        0.01  \n",
       "54           1        0.01  \n",
       "55           1        0.01  \n",
       "56           1        0.01  \n",
       "57           1        0.01  "
      ]
     },
     "execution_count": 746,
     "metadata": {},
     "output_type": "execute_result"
    }
   ],
   "source": [
    "top_champ(conversion_2,['to_state'],100)"
   ]
  },
  {
   "cell_type": "code",
   "execution_count": 638,
   "metadata": {},
   "outputs": [
    {
     "name": "stdout",
     "output_type": "stream",
     "text": [
      "(8723, 21)\n"
     ]
    },
    {
     "data": {
      "text/plain": [
       "(8723, 21)"
      ]
     },
     "execution_count": 638,
     "metadata": {},
     "output_type": "execute_result"
    }
   ],
   "source": [
    "print(transitions.drop_duplicates(['booking_request_id','city','space_id']).shape)\n",
    "transitions.drop_duplicates(['booking_request_id']).shape"
   ]
  },
  {
   "cell_type": "code",
   "execution_count": 639,
   "metadata": {},
   "outputs": [
    {
     "data": {
      "text/html": [
       "<div>\n",
       "<style scoped>\n",
       "    .dataframe tbody tr th:only-of-type {\n",
       "        vertical-align: middle;\n",
       "    }\n",
       "\n",
       "    .dataframe tbody tr th {\n",
       "        vertical-align: top;\n",
       "    }\n",
       "\n",
       "    .dataframe thead th {\n",
       "        text-align: right;\n",
       "    }\n",
       "</style>\n",
       "<table border=\"1\" class=\"dataframe\">\n",
       "  <thead>\n",
       "    <tr style=\"text-align: right;\">\n",
       "      <th></th>\n",
       "      <th>portfolio_type</th>\n",
       "      <th>floor_size</th>\n",
       "      <th>floor_size_unit</th>\n",
       "      <th>start_on</th>\n",
       "      <th>end_on</th>\n",
       "      <th>price</th>\n",
       "      <th>to_state_bf</th>\n",
       "      <th>to_state_af</th>\n",
       "      <th>time_booked</th>\n",
       "      <th>price_category</th>\n",
       "    </tr>\n",
       "  </thead>\n",
       "  <tbody>\n",
       "    <tr>\n",
       "      <th>191</th>\n",
       "      <td>3.0</td>\n",
       "      <td>1000.0</td>\n",
       "      <td>0.0</td>\n",
       "      <td>2018-06-11</td>\n",
       "      <td>2018-06-17</td>\n",
       "      <td>500000.0</td>\n",
       "      <td>declined</td>\n",
       "      <td>declined</td>\n",
       "      <td>6.0</td>\n",
       "      <td>500k_1millions</td>\n",
       "    </tr>\n",
       "    <tr>\n",
       "      <th>192</th>\n",
       "      <td>3.0</td>\n",
       "      <td>1000.0</td>\n",
       "      <td>0.0</td>\n",
       "      <td>2018-06-11</td>\n",
       "      <td>2018-06-17</td>\n",
       "      <td>500000.0</td>\n",
       "      <td>submitted</td>\n",
       "      <td>submitted</td>\n",
       "      <td>6.0</td>\n",
       "      <td>500k_1millions</td>\n",
       "    </tr>\n",
       "    <tr>\n",
       "      <th>193</th>\n",
       "      <td>3.0</td>\n",
       "      <td>1000.0</td>\n",
       "      <td>0.0</td>\n",
       "      <td>2018-06-11</td>\n",
       "      <td>2018-06-17</td>\n",
       "      <td>500000.0</td>\n",
       "      <td>declined</td>\n",
       "      <td>declined</td>\n",
       "      <td>6.0</td>\n",
       "      <td>500k_1millions</td>\n",
       "    </tr>\n",
       "    <tr>\n",
       "      <th>194</th>\n",
       "      <td>3.0</td>\n",
       "      <td>1000.0</td>\n",
       "      <td>0.0</td>\n",
       "      <td>2018-06-11</td>\n",
       "      <td>2018-06-17</td>\n",
       "      <td>500000.0</td>\n",
       "      <td>submitted</td>\n",
       "      <td>declined</td>\n",
       "      <td>6.0</td>\n",
       "      <td>500k_1millions</td>\n",
       "    </tr>\n",
       "  </tbody>\n",
       "</table>\n",
       "</div>"
      ],
      "text/plain": [
       "     portfolio_type  floor_size  floor_size_unit   start_on     end_on  \\\n",
       "191             3.0      1000.0              0.0 2018-06-11 2018-06-17   \n",
       "192             3.0      1000.0              0.0 2018-06-11 2018-06-17   \n",
       "193             3.0      1000.0              0.0 2018-06-11 2018-06-17   \n",
       "194             3.0      1000.0              0.0 2018-06-11 2018-06-17   \n",
       "\n",
       "        price to_state_bf to_state_af  time_booked  price_category  \n",
       "191  500000.0    declined    declined          6.0  500k_1millions  \n",
       "192  500000.0   submitted   submitted          6.0  500k_1millions  \n",
       "193  500000.0    declined    declined          6.0  500k_1millions  \n",
       "194  500000.0   submitted    declined          6.0  500k_1millions  "
      ]
     },
     "execution_count": 639,
     "metadata": {},
     "output_type": "execute_result"
    }
   ],
   "source": [
    "test = total_ok[(total_ok['booking_request_id']==114598.0)]\n",
    "test.iloc[:,10:20]\\\n",
    "#[['created_at','transition_ts','booking_request_id','space_id','to_state','start_on','end_on','time_booked']]"
   ]
  },
  {
   "cell_type": "markdown",
   "metadata": {},
   "source": [
    "# studies of bookings ok"
   ]
  },
  {
   "cell_type": "code",
   "execution_count": 646,
   "metadata": {},
   "outputs": [],
   "source": [
    "bookings_ok = pd.merge(conversion[['booking_request_id','to_state','ending_stage']],\n",
    "                      total_ok.drop_duplicates('booking_request_id')\\\n",
    "                       [['idea_id','booking_request_id',\n",
    "                         'space_id','country', 'city',\n",
    "       'portfolio_type', 'floor_size', 'floor_size_unit','floor_size_cat',\n",
    "                         'price','price_category',\n",
    "       'time_booked', 'time_after_creation', 'after_creation']],\\\n",
    "                       how='inner', on = 'booking_request_id')\n"
   ]
  },
  {
   "cell_type": "code",
   "execution_count": 649,
   "metadata": {},
   "outputs": [],
   "source": [
    "# reservation more than 1 day (without bug)\n",
    "bookings_ok =bookings_ok[bookings_ok['time_booked']>0]"
   ]
  },
  {
   "cell_type": "code",
   "execution_count": 650,
   "metadata": {},
   "outputs": [
    {
     "data": {
      "text/plain": [
       "count    7082.000000\n",
       "mean       56.174386\n",
       "std       200.278176\n",
       "min         1.000000\n",
       "25%         4.000000\n",
       "50%         7.000000\n",
       "75%        29.000000\n",
       "max      8115.000000\n",
       "Name: time_booked, dtype: float64"
      ]
     },
     "execution_count": 650,
     "metadata": {},
     "output_type": "execute_result"
    }
   ],
   "source": [
    "bookings_ok['time_booked'].describe()"
   ]
  },
  {
   "cell_type": "code",
   "execution_count": 652,
   "metadata": {},
   "outputs": [],
   "source": [
    "bookings_ok.loc[bookings_ok['time_booked']> 30,'times_booked_cat'] = 'sup_30'\n",
    "bookings_ok.loc[bookings_ok['time_booked']<=30,'times_booked_cat'] = '15_30'\n",
    "bookings_ok.loc[bookings_ok['time_booked']< 15,'times_booked_cat'] = '10_15'\n",
    "bookings_ok.loc[bookings_ok['time_booked']< 10,'times_booked_cat'] = '7_10'\n",
    "bookings_ok.loc[bookings_ok['time_booked']< 7,'times_booked_cat'] = '5_7'\n",
    "bookings_ok.loc[bookings_ok['time_booked']< 5,'times_booked_cat'] = '3_5'\n",
    "bookings_ok.loc[bookings_ok['time_booked']< 3,'times_booked_cat'] = 'inf_3'"
   ]
  },
  {
   "cell_type": "code",
   "execution_count": 653,
   "metadata": {},
   "outputs": [
    {
     "name": "stdout",
     "output_type": "stream",
     "text": [
      "7 distinct values for the feature ['times_booked_cat']\n"
     ]
    },
    {
     "data": {
      "text/html": [
       "<div>\n",
       "<style scoped>\n",
       "    .dataframe tbody tr th:only-of-type {\n",
       "        vertical-align: middle;\n",
       "    }\n",
       "\n",
       "    .dataframe tbody tr th {\n",
       "        vertical-align: top;\n",
       "    }\n",
       "\n",
       "    .dataframe thead th {\n",
       "        text-align: right;\n",
       "    }\n",
       "</style>\n",
       "<table border=\"1\" class=\"dataframe\">\n",
       "  <thead>\n",
       "    <tr style=\"text-align: right;\">\n",
       "      <th></th>\n",
       "      <th>times_booked_cat</th>\n",
       "      <th>nb_records</th>\n",
       "      <th>percentage</th>\n",
       "    </tr>\n",
       "  </thead>\n",
       "  <tbody>\n",
       "    <tr>\n",
       "      <th>0</th>\n",
       "      <td>sup_30</td>\n",
       "      <td>1507</td>\n",
       "      <td>21.28</td>\n",
       "    </tr>\n",
       "    <tr>\n",
       "      <th>1</th>\n",
       "      <td>inf_3</td>\n",
       "      <td>1415</td>\n",
       "      <td>19.98</td>\n",
       "    </tr>\n",
       "    <tr>\n",
       "      <th>2</th>\n",
       "      <td>5_7</td>\n",
       "      <td>1166</td>\n",
       "      <td>16.46</td>\n",
       "    </tr>\n",
       "    <tr>\n",
       "      <th>3</th>\n",
       "      <td>15_30</td>\n",
       "      <td>987</td>\n",
       "      <td>13.94</td>\n",
       "    </tr>\n",
       "    <tr>\n",
       "      <th>4</th>\n",
       "      <td>10_15</td>\n",
       "      <td>754</td>\n",
       "      <td>10.65</td>\n",
       "    </tr>\n",
       "    <tr>\n",
       "      <th>5</th>\n",
       "      <td>3_5</td>\n",
       "      <td>628</td>\n",
       "      <td>8.87</td>\n",
       "    </tr>\n",
       "    <tr>\n",
       "      <th>6</th>\n",
       "      <td>7_10</td>\n",
       "      <td>625</td>\n",
       "      <td>8.83</td>\n",
       "    </tr>\n",
       "  </tbody>\n",
       "</table>\n",
       "</div>"
      ],
      "text/plain": [
       "  times_booked_cat  nb_records  percentage\n",
       "0           sup_30        1507       21.28\n",
       "1            inf_3        1415       19.98\n",
       "2              5_7        1166       16.46\n",
       "3            15_30         987       13.94\n",
       "4            10_15         754       10.65\n",
       "5              3_5         628        8.87\n",
       "6             7_10         625        8.83"
      ]
     },
     "execution_count": 653,
     "metadata": {},
     "output_type": "execute_result"
    }
   ],
   "source": [
    "top_champ(bookings_ok,['times_booked_cat'],100)"
   ]
  },
  {
   "cell_type": "code",
   "execution_count": 654,
   "metadata": {},
   "outputs": [],
   "source": [
    "bookings_ok.to_csv('bookings_ok.csv') "
   ]
  },
  {
   "cell_type": "code",
   "execution_count": 526,
   "metadata": {},
   "outputs": [],
   "source": [
    "# finished bookings : either declined or booking\n",
    "bookings_ok = bookings_ok[bookings_ok['ending_stage'].isin(['declined','booked'])]"
   ]
  },
  {
   "cell_type": "code",
   "execution_count": 527,
   "metadata": {},
   "outputs": [
    {
     "name": "stdout",
     "output_type": "stream",
     "text": [
      "2 distinct values for the feature ['ending_stage']\n"
     ]
    },
    {
     "data": {
      "text/html": [
       "<div>\n",
       "<style scoped>\n",
       "    .dataframe tbody tr th:only-of-type {\n",
       "        vertical-align: middle;\n",
       "    }\n",
       "\n",
       "    .dataframe tbody tr th {\n",
       "        vertical-align: top;\n",
       "    }\n",
       "\n",
       "    .dataframe thead th {\n",
       "        text-align: right;\n",
       "    }\n",
       "</style>\n",
       "<table border=\"1\" class=\"dataframe\">\n",
       "  <thead>\n",
       "    <tr style=\"text-align: right;\">\n",
       "      <th></th>\n",
       "      <th>ending_stage</th>\n",
       "      <th>nb_records</th>\n",
       "      <th>percentage</th>\n",
       "    </tr>\n",
       "  </thead>\n",
       "  <tbody>\n",
       "    <tr>\n",
       "      <th>0</th>\n",
       "      <td>declined</td>\n",
       "      <td>7354</td>\n",
       "      <td>95.79</td>\n",
       "    </tr>\n",
       "    <tr>\n",
       "      <th>1</th>\n",
       "      <td>booked</td>\n",
       "      <td>323</td>\n",
       "      <td>4.21</td>\n",
       "    </tr>\n",
       "  </tbody>\n",
       "</table>\n",
       "</div>"
      ],
      "text/plain": [
       "  ending_stage  nb_records  percentage\n",
       "0     declined        7354       95.79\n",
       "1       booked         323        4.21"
      ]
     },
     "execution_count": 527,
     "metadata": {},
     "output_type": "execute_result"
    }
   ],
   "source": [
    "top_champ(bookings_ok,['ending_stage'],100)"
   ]
  },
  {
   "cell_type": "code",
   "execution_count": 533,
   "metadata": {},
   "outputs": [
    {
     "data": {
      "text/plain": [
       "count    2397.000000\n",
       "mean      102.333333\n",
       "std       198.349074\n",
       "min         2.000000\n",
       "25%        31.000000\n",
       "50%        50.000000\n",
       "75%       108.000000\n",
       "max      4700.000000\n",
       "Name: floor_size, dtype: float64"
      ]
     },
     "execution_count": 533,
     "metadata": {},
     "output_type": "execute_result"
    }
   ],
   "source": [
    "bookings_ok = bookings_ok[['ending_stage','country','city','portfolio_type','floor_size','floor_size_unit','time_booked','after_creation']]\n",
    "\n",
    "bookings_ok.loc[bookings_ok['floor_size_unit']==1,'floor_size'].describe()\n",
    "#bookings_ok.loc[bookings_ok['floor_size']>1000,'floor_size_ok'] = \n",
    "\n"
   ]
  },
  {
   "cell_type": "code",
   "execution_count": 529,
   "metadata": {},
   "outputs": [
    {
     "data": {
      "text/plain": [
       "Index(['booking_request_id', 'to_state', 'ending_stage', 'idea_id', 'space_id',\n",
       "       'country', 'city', 'portfolio_type', 'floor_size', 'floor_size_unit',\n",
       "       'time_booked', 'price', 'time_after_creation', 'after_creation'],\n",
       "      dtype='object')"
      ]
     },
     "execution_count": 529,
     "metadata": {},
     "output_type": "execute_result"
    }
   ],
   "source": [
    "bookings_ok.columns"
   ]
  },
  {
   "cell_type": "code",
   "execution_count": 515,
   "metadata": {},
   "outputs": [
    {
     "name": "stdout",
     "output_type": "stream",
     "text": [
      "9 distinct values for the feature ['portfolio_type']\n"
     ]
    },
    {
     "data": {
      "text/html": [
       "<div>\n",
       "<style scoped>\n",
       "    .dataframe tbody tr th:only-of-type {\n",
       "        vertical-align: middle;\n",
       "    }\n",
       "\n",
       "    .dataframe tbody tr th {\n",
       "        vertical-align: top;\n",
       "    }\n",
       "\n",
       "    .dataframe thead th {\n",
       "        text-align: right;\n",
       "    }\n",
       "</style>\n",
       "<table border=\"1\" class=\"dataframe\">\n",
       "  <thead>\n",
       "    <tr style=\"text-align: right;\">\n",
       "      <th></th>\n",
       "      <th>portfolio_type</th>\n",
       "      <th>nb_records</th>\n",
       "      <th>percentage</th>\n",
       "    </tr>\n",
       "  </thead>\n",
       "  <tbody>\n",
       "    <tr>\n",
       "      <th>0</th>\n",
       "      <td>3.0</td>\n",
       "      <td>4254</td>\n",
       "      <td>55.41</td>\n",
       "    </tr>\n",
       "    <tr>\n",
       "      <th>1</th>\n",
       "      <td>8.0</td>\n",
       "      <td>1517</td>\n",
       "      <td>19.76</td>\n",
       "    </tr>\n",
       "    <tr>\n",
       "      <th>2</th>\n",
       "      <td>7.0</td>\n",
       "      <td>479</td>\n",
       "      <td>6.24</td>\n",
       "    </tr>\n",
       "    <tr>\n",
       "      <th>3</th>\n",
       "      <td>4.0</td>\n",
       "      <td>328</td>\n",
       "      <td>4.27</td>\n",
       "    </tr>\n",
       "    <tr>\n",
       "      <th>4</th>\n",
       "      <td>5.0</td>\n",
       "      <td>320</td>\n",
       "      <td>4.17</td>\n",
       "    </tr>\n",
       "    <tr>\n",
       "      <th>5</th>\n",
       "      <td>1.0</td>\n",
       "      <td>270</td>\n",
       "      <td>3.52</td>\n",
       "    </tr>\n",
       "    <tr>\n",
       "      <th>6</th>\n",
       "      <td>6.0</td>\n",
       "      <td>243</td>\n",
       "      <td>3.17</td>\n",
       "    </tr>\n",
       "    <tr>\n",
       "      <th>7</th>\n",
       "      <td>2.0</td>\n",
       "      <td>162</td>\n",
       "      <td>2.11</td>\n",
       "    </tr>\n",
       "    <tr>\n",
       "      <th>8</th>\n",
       "      <td>0.0</td>\n",
       "      <td>104</td>\n",
       "      <td>1.35</td>\n",
       "    </tr>\n",
       "  </tbody>\n",
       "</table>\n",
       "</div>"
      ],
      "text/plain": [
       "   portfolio_type  nb_records  percentage\n",
       "0             3.0        4254       55.41\n",
       "1             8.0        1517       19.76\n",
       "2             7.0         479        6.24\n",
       "3             4.0         328        4.27\n",
       "4             5.0         320        4.17\n",
       "5             1.0         270        3.52\n",
       "6             6.0         243        3.17\n",
       "7             2.0         162        2.11\n",
       "8             0.0         104        1.35"
      ]
     },
     "execution_count": 515,
     "metadata": {},
     "output_type": "execute_result"
    }
   ],
   "source": [
    "top_champ(bookings_ok,['portfolio_type'],10)"
   ]
  },
  {
   "cell_type": "code",
   "execution_count": null,
   "metadata": {},
   "outputs": [],
   "source": []
  },
  {
   "cell_type": "code",
   "execution_count": null,
   "metadata": {},
   "outputs": [],
   "source": []
  },
  {
   "cell_type": "code",
   "execution_count": null,
   "metadata": {},
   "outputs": [],
   "source": []
  },
  {
   "cell_type": "code",
   "execution_count": null,
   "metadata": {},
   "outputs": [],
   "source": []
  },
  {
   "cell_type": "code",
   "execution_count": null,
   "metadata": {},
   "outputs": [],
   "source": []
  },
  {
   "cell_type": "code",
   "execution_count": null,
   "metadata": {},
   "outputs": [],
   "source": []
  },
  {
   "cell_type": "code",
   "execution_count": null,
   "metadata": {},
   "outputs": [],
   "source": [
    "from sklearn.decomposition import PCA\n",
    "from sklearn.decomposition import FactorAnalysis\n",
    "\n",
    "pca = PCA(n_components=2)\n",
    "principalComponents = pca.fit_transform(x)\n",
    "principalDf = pd.DataFrame(data = principalComponents\n",
    "             , columns = ['principal component 1', 'principal component 2'])"
   ]
  },
  {
   "cell_type": "code",
   "execution_count": null,
   "metadata": {},
   "outputs": [],
   "source": [
    "X = bookings.iloc[:,0:4].values\n",
    "y = df.iloc[:,4].values"
   ]
  },
  {
   "cell_type": "code",
   "execution_count": null,
   "metadata": {},
   "outputs": [],
   "source": []
  }
 ],
 "metadata": {
  "kernelspec": {
   "display_name": "Python 3",
   "language": "python",
   "name": "python3"
  },
  "language_info": {
   "codemirror_mode": {
    "name": "ipython",
    "version": 3
   },
   "file_extension": ".py",
   "mimetype": "text/x-python",
   "name": "python",
   "nbconvert_exporter": "python",
   "pygments_lexer": "ipython3",
   "version": "3.6.8"
  }
 },
 "nbformat": 4,
 "nbformat_minor": 2
}
